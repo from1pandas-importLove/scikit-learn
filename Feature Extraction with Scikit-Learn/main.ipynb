{
 "cells": [
  {
   "metadata": {},
   "cell_type": "markdown",
   "source": "# Introduction",
   "id": "dffc24b7384fbc11"
  },
  {
   "metadata": {},
   "cell_type": "markdown",
   "source": [
    "In this lab, we will learn how to perform feature extraction using the scikit-learn library. Feature extraction is the process of transforming raw data into numerical features that can be used by machine learning algorithms. It involves extracting relevant information from different types of data such as text and images.\n",
    "\n"
   ],
   "id": "12127b7367db6117"
  },
  {
   "metadata": {},
   "cell_type": "markdown",
   "source": "# Loading features from dicts",
   "id": "6a54a36692822b05"
  },
  {
   "metadata": {},
   "cell_type": "markdown",
   "source": "In this step, we will learn how to load features from dictionaries using the **DictVectorizer** class in scikit-learn.",
   "id": "aa9f9ca25dc98d32"
  },
  {
   "cell_type": "code",
   "id": "initial_id",
   "metadata": {
    "collapsed": true,
    "ExecuteTime": {
     "end_time": "2025-10-08T20:43:39.426822Z",
     "start_time": "2025-10-08T20:43:38.039006Z"
    }
   },
   "source": [
    "from sklearn.feature_extraction import DictVectorizer\n",
    "\n",
    "measurements = [\n",
    "    {'city': 'Dubai', 'temperature': 33.},\n",
    "    {'city': 'London', 'temperature': 12.},\n",
    "    {'city': 'San Francisco', 'temperature': 18.},\n",
    "]\n",
    "\n",
    "vec = DictVectorizer()\n",
    "features = vec.fit_transform(measurements).toarray()\n",
    "feature_names = vec.get_feature_names_out()\n",
    "\n",
    "print(features)\n",
    "print(feature_names)"
   ],
   "outputs": [
    {
     "name": "stdout",
     "output_type": "stream",
     "text": [
      "[[ 1.  0.  0. 33.]\n",
      " [ 0.  1.  0. 12.]\n",
      " [ 0.  0.  1. 18.]]\n",
      "['city=Dubai' 'city=London' 'city=San Francisco' 'temperature']\n"
     ]
    }
   ],
   "execution_count": 1
  },
  {
   "metadata": {},
   "cell_type": "markdown",
   "source": "# Feature hashing",
   "id": "c0253d888b2823a9"
  },
  {
   "metadata": {},
   "cell_type": "markdown",
   "source": "In this step, we will learn how to perform feature hashing using the **FeatureHasher** class in scikit-learn. Feature hashing is a technique that maps features to a fixed-length vector using a hash function.",
   "id": "955d90fc6287ac0"
  },
  {
   "metadata": {
    "ExecuteTime": {
     "end_time": "2025-10-08T20:45:13.587734Z",
     "start_time": "2025-10-08T20:45:13.561854Z"
    }
   },
   "cell_type": "code",
   "source": [
    "from sklearn.feature_extraction import FeatureHasher\n",
    "\n",
    "movies = [\n",
    "    {'category': ['thriller', 'drama'], 'year': 2003},\n",
    "    {'category': ['animation', 'family'], 'year': 2011},\n",
    "    {'year': 1974},\n",
    "]\n",
    "\n",
    "hasher = FeatureHasher(input_type='string')\n",
    "hashed_features = hasher.transform(movies).toarray()\n",
    "\n",
    "print(hashed_features)"
   ],
   "id": "d557b71c20f24f19",
   "outputs": [
    {
     "name": "stdout",
     "output_type": "stream",
     "text": [
      "[[0. 0. 0. ... 0. 0. 0.]\n",
      " [0. 0. 0. ... 0. 0. 0.]\n",
      " [0. 0. 0. ... 0. 0. 0.]]\n"
     ]
    }
   ],
   "execution_count": 2
  },
  {
   "metadata": {},
   "cell_type": "markdown",
   "source": "# Text feature extraction",
   "id": "b31784148b8c1397"
  },
  {
   "metadata": {},
   "cell_type": "markdown",
   "source": "In this step, we will learn how to perform text feature extraction using the **CountVectorizer** and **TfidfVectorizer** classes in scikit-learn. These classes can be used to convert text data into numerical features.",
   "id": "838733c2c4907a1d"
  },
  {
   "metadata": {
    "ExecuteTime": {
     "end_time": "2025-10-08T20:45:58.635473Z",
     "start_time": "2025-10-08T20:45:58.622472Z"
    }
   },
   "cell_type": "code",
   "source": [
    "from sklearn.feature_extraction.text import CountVectorizer\n",
    "\n",
    "corpus = [\n",
    "    'This is the first document.',\n",
    "    'This is the second second document.',\n",
    "    'And the third one.',\n",
    "    'Is this the first document?',\n",
    "]\n",
    "\n",
    "vectorizer = CountVectorizer()\n",
    "features = vectorizer.fit_transform(corpus).toarray()\n",
    "feature_names = vectorizer.get_feature_names_out()\n",
    "\n",
    "print(features)\n",
    "print(feature_names)"
   ],
   "id": "726541d21af0e8ef",
   "outputs": [
    {
     "name": "stdout",
     "output_type": "stream",
     "text": [
      "[[0 1 1 1 0 0 1 0 1]\n",
      " [0 1 0 1 0 2 1 0 1]\n",
      " [1 0 0 0 1 0 1 1 0]\n",
      " [0 1 1 1 0 0 1 0 1]]\n",
      "['and' 'document' 'first' 'is' 'one' 'second' 'the' 'third' 'this']\n"
     ]
    }
   ],
   "execution_count": 3
  },
  {
   "metadata": {},
   "cell_type": "markdown",
   "source": "# Customizing the vectorizer classes",
   "id": "99c7f279a8a7833f"
  },
  {
   "metadata": {},
   "cell_type": "markdown",
   "source": "In this step, we will learn how to customize the behavior of vectorizer classes by passing callable functions to them.",
   "id": "543b53b875bd1892"
  },
  {
   "metadata": {
    "ExecuteTime": {
     "end_time": "2025-10-08T20:46:36.271545Z",
     "start_time": "2025-10-08T20:46:36.253449Z"
    }
   },
   "cell_type": "code",
   "source": [
    "def my_tokenizer(s):\n",
    "    return s.split()\n",
    "\n",
    "vectorizer = CountVectorizer(tokenizer=my_tokenizer)\n",
    "features = vectorizer.fit_transform(corpus).toarray()\n",
    "\n",
    "print(features)"
   ],
   "id": "78d3471035bb49cf",
   "outputs": [
    {
     "name": "stdout",
     "output_type": "stream",
     "text": [
      "[[0 1 0 1 1 0 0 1 0 1]\n",
      " [0 1 0 0 1 0 2 1 0 1]\n",
      " [1 0 0 0 0 1 0 1 1 0]\n",
      " [0 0 1 1 1 0 0 1 0 1]]\n"
     ]
    },
    {
     "name": "stderr",
     "output_type": "stream",
     "text": [
      "/Library/Frameworks/Python.framework/Versions/3.12/lib/python3.12/site-packages/sklearn/feature_extraction/text.py:517: UserWarning: The parameter 'token_pattern' will not be used since 'tokenizer' is not None'\n",
      "  warnings.warn(\n"
     ]
    }
   ],
   "execution_count": 4
  },
  {
   "metadata": {},
   "cell_type": "markdown",
   "source": "# Summary",
   "id": "4897de4aec99510b"
  },
  {
   "metadata": {},
   "cell_type": "markdown",
   "source": "In this lab, we learned how to perform feature extraction using the scikit-learn library. We explored various techniques such as loading features from dicts, feature hashing, and text feature extraction. We also learned how to customize the behavior of vectorizer classes to suit our specific needs. Feature extraction is an important step in machine learning as it helps transform raw data into a format that can be used by algorithms to make predictions or classify data.",
   "id": "748c85ee21d7c966"
  },
  {
   "metadata": {},
   "cell_type": "code",
   "outputs": [],
   "execution_count": null,
   "source": "",
   "id": "a781b891c904f922"
  }
 ],
 "metadata": {
  "kernelspec": {
   "display_name": "Python 3",
   "language": "python",
   "name": "python3"
  },
  "language_info": {
   "codemirror_mode": {
    "name": "ipython",
    "version": 2
   },
   "file_extension": ".py",
   "mimetype": "text/x-python",
   "name": "python",
   "nbconvert_exporter": "python",
   "pygments_lexer": "ipython2",
   "version": "2.7.6"
  }
 },
 "nbformat": 4,
 "nbformat_minor": 5
}
