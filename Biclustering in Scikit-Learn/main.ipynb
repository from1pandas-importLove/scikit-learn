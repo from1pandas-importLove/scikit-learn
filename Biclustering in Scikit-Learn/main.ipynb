{
 "cells": [
  {
   "metadata": {},
   "cell_type": "markdown",
   "source": "# Introduction",
   "id": "9a58e14656012234"
  },
  {
   "metadata": {},
   "cell_type": "markdown",
   "source": [
    "Biclustering is a method that simultaneously clusters rows and columns of a data matrix. This allows us to identify submatrices within the data matrix that have specific properties. Biclustering is useful in various domains, including data analysis, image processing, and bioinformatics.\n",
    "\n",
    "In this lab, we will learn how to perform biclustering using the **sklearn.cluster.bicluster** module in scikit-learn. We will explore two common biclustering algorithms: Spectral Co-Clustering and Spectral Biclustering. These algorithms differ in how they define and assign rows and columns to biclusters."
   ],
   "id": "2e98d96272475b04"
  },
  {
   "metadata": {},
   "cell_type": "markdown",
   "source": "# Import necessary libraries and dataset",
   "id": "b098fc821df14857"
  },
  {
   "metadata": {},
   "cell_type": "markdown",
   "source": "First, let's import the necessary libraries and load a sample dataset that we will use for biclustering.",
   "id": "59e26749b38e633"
  },
  {
   "cell_type": "code",
   "id": "initial_id",
   "metadata": {
    "collapsed": true,
    "ExecuteTime": {
     "end_time": "2025-10-10T21:08:08.391748Z",
     "start_time": "2025-10-10T21:08:06.609978Z"
    }
   },
   "source": [
    "import numpy as np\n",
    "from sklearn.cluster import SpectralCoclustering, SpectralBiclustering\n",
    "\n",
    "# Load sample data\n",
    "data = np.arange(100).reshape(10, 10)"
   ],
   "outputs": [],
   "execution_count": 1
  },
  {
   "metadata": {},
   "cell_type": "markdown",
   "source": "# Perform Spectral Co-Clustering",
   "id": "bd6c49631f6b4a5e"
  },
  {
   "metadata": {},
   "cell_type": "markdown",
   "source": "Now, let's perform biclustering using the Spectral Co-Clustering algorithm. This algorithm finds biclusters with higher values compared to other rows and columns.",
   "id": "2a69b067132d9a1c"
  },
  {
   "metadata": {
    "ExecuteTime": {
     "end_time": "2025-10-10T21:09:27.128697Z",
     "start_time": "2025-10-10T21:09:26.857810Z"
    }
   },
   "cell_type": "code",
   "source": [
    "# Initialize and fit the Spectral Co-Clustering model\n",
    "model_co = SpectralCoclustering(n_clusters=3, random_state=0)\n",
    "model_co.fit(data)\n",
    "\n",
    "# Get row and column cluster membership\n",
    "row_clusters_co = model_co.row_labels_\n",
    "column_clusters_co = model_co.column_labels_"
   ],
   "id": "2ba4ab7165fa339",
   "outputs": [],
   "execution_count": 2
  },
  {
   "metadata": {},
   "cell_type": "markdown",
   "source": "# Perform Spectral Biclustering",
   "id": "f14010424d46ef5e"
  },
  {
   "metadata": {},
   "cell_type": "markdown",
   "source": "Next, let's perform biclustering using the Spectral Biclustering algorithm. This algorithm assumes that the data matrix has a hidden checkerboard structure.",
   "id": "8274a737a9653278"
  },
  {
   "metadata": {
    "ExecuteTime": {
     "end_time": "2025-10-10T21:10:10.699732Z",
     "start_time": "2025-10-10T21:10:10.592501Z"
    }
   },
   "cell_type": "code",
   "source": [
    "# Initialize and fit the Spectral Biclustering model\n",
    "model_bi = SpectralBiclustering(n_clusters=(2, 3), random_state=0)\n",
    "model_bi.fit(data)\n",
    "\n",
    "# Get row and column cluster membership\n",
    "row_clusters_bi = model_bi.row_labels_\n",
    "column_clusters_bi = model_bi.column_labels_"
   ],
   "id": "1e8d80d515d654e",
   "outputs": [],
   "execution_count": 3
  },
  {
   "metadata": {},
   "cell_type": "markdown",
   "source": "# Visualize the results",
   "id": "621f2dfac077b9cc"
  },
  {
   "metadata": {},
   "cell_type": "markdown",
   "source": "Finally, let's visualize the bicluster structures obtained from the Spectral Co-Clustering and Spectral Biclustering algorithms.",
   "id": "57a3c6558f0289d7"
  },
  {
   "metadata": {
    "ExecuteTime": {
     "end_time": "2025-10-10T21:10:33.611320Z",
     "start_time": "2025-10-10T21:10:33.603635Z"
    }
   },
   "cell_type": "code",
   "source": [
    "# Visualization for Spectral Co-Clustering\n",
    "print(\"Spectral Co-Clustering:\")\n",
    "print(\"Row clusters:\")\n",
    "print(row_clusters_co)\n",
    "print(\"Column clusters:\")\n",
    "print(column_clusters_co)\n",
    "\n",
    "# Visualization for Spectral Biclustering\n",
    "print(\"\\nSpectral Biclustering:\")\n",
    "print(\"Row clusters:\")\n",
    "print(row_clusters_bi)\n",
    "print(\"Column clusters:\")\n",
    "print(column_clusters_bi)"
   ],
   "id": "e41fe31a0a025fed",
   "outputs": [
    {
     "name": "stdout",
     "output_type": "stream",
     "text": [
      "Spectral Co-Clustering:\n",
      "Row clusters:\n",
      "[1 2 2 2 2 2 2 0 2 0]\n",
      "Column clusters:\n",
      "[0 2 0 0 0 2 2 2 2 2]\n",
      "\n",
      "Spectral Biclustering:\n",
      "Row clusters:\n",
      "[0 0 0 0 0 1 1 1 1 1]\n",
      "Column clusters:\n",
      "[0 0 0 2 2 2 2 1 1 1]\n"
     ]
    }
   ],
   "execution_count": 4
  },
  {
   "metadata": {},
   "cell_type": "markdown",
   "source": "# Summary",
   "id": "4ca67d242b03a32f"
  },
  {
   "metadata": {},
   "cell_type": "markdown",
   "source": "In this lab, we learned how to perform biclustering using the Spectral Co-Clustering and Spectral Biclustering algorithms in scikit-learn. Biclustering allows us to simultaneously cluster rows and columns of a data matrix to identify submatrices with specific properties. Biclustering can be useful in various data analysis tasks, such as identifying patterns in gene expression data or finding structure in image datasets.",
   "id": "ae727d49ee64ed46"
  },
  {
   "metadata": {},
   "cell_type": "code",
   "outputs": [],
   "execution_count": null,
   "source": "",
   "id": "3ef47f4e4e989713"
  }
 ],
 "metadata": {
  "kernelspec": {
   "display_name": "Python 3",
   "language": "python",
   "name": "python3"
  },
  "language_info": {
   "codemirror_mode": {
    "name": "ipython",
    "version": 2
   },
   "file_extension": ".py",
   "mimetype": "text/x-python",
   "name": "python",
   "nbconvert_exporter": "python",
   "pygments_lexer": "ipython2",
   "version": "2.7.6"
  }
 },
 "nbformat": 4,
 "nbformat_minor": 5
}
