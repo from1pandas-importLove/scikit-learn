{
 "cells": [
  {
   "metadata": {},
   "cell_type": "markdown",
   "source": "# Introduction",
   "id": "46bd920046fec07c"
  },
  {
   "metadata": {},
   "cell_type": "markdown",
   "source": "In this lab, we will demonstrate how to use L1-based regression models to deal with high-dimensional and sparse signals. In particular, we will compare three popular L1-based models: Lasso, Automatic Relevance Determination (ARD), and ElasticNet. We will use a synthetic dataset to illustrate the performance of these models in terms of fitting time, R2 score, and sparsity of estimated coefficients.",
   "id": "846e78eb030ec77e"
  },
  {
   "metadata": {},
   "cell_type": "markdown",
   "source": "# Generate Synthetic Dataset",
   "id": "22ce7ea5fb8d2027"
  },
  {
   "metadata": {},
   "cell_type": "markdown",
   "source": "First, we generate a dataset where the number of samples is lower than the total number of features. This leads to an underdetermined system, i.e., the solution is not unique, and we cannot apply an ordinary least squares by itself. Regularization introduces a penalty term to the objective function, which modifies the optimization problem and can help alleviate the underdetermined nature of the system. We will generate a target **y** that is a linear combination with alternating signs of sinusoidal signals. Only the 10 lowest out of the 100 frequencies in **X** are used to generate **y**, while the rest of the features are not informative. This results in a high dimensional sparse feature space, where some degree of L1-penalization is necessary.",
   "id": "d9cf3a3ae7c305"
  },
  {
   "metadata": {
    "ExecuteTime": {
     "end_time": "2025-09-22T01:37:12.723184Z",
     "start_time": "2025-09-22T01:37:11.284992Z"
    }
   },
   "cell_type": "code",
   "source": [
    "import numpy as np\n",
    "\n",
    "rng = np.random.RandomState(0)\n",
    "n_samples, n_features, n_informative = 50, 100, 10\n",
    "time_step = np.linspace(-2, 2, n_samples)\n",
    "freqs = 2 * np.pi * np.sort(rng.rand(n_features)) / 0.01\n",
    "X = np.zeros((n_samples, n_features))\n",
    "\n",
    "for i in range(n_features):\n",
    "    X[:, i] = np.sin(freqs[i] * time_step)\n",
    "\n",
    "idx = np.arange(n_features)\n",
    "true_coef = (-1) ** idx * np.exp(-idx / 10)\n",
    "true_coef[n_informative:] = 0  # sparsify coef\n",
    "y = np.dot(X, true_coef)\n",
    "\n",
    "# introduce random phase using numpy.random.random_sample\n",
    "# add some gaussian noise using numpy.random.normal\n",
    "for i in range(n_features):\n",
    "    X[:, i] = np.sin(freqs[i] * time_step + 2 * (rng.random_sample() - 0.5))\n",
    "    X[:, i] += 0.2 * rng.normal(0, 1, n_samples)\n",
    "\n",
    "y += 0.2 * rng.normal(0, 1, n_samples)\n",
    "\n",
    "# split the data into train and test sets using train_test_split from sklearn\n",
    "from sklearn.model_selection import train_test_split\n",
    "X_train, X_test, y_train, y_test = train_test_split(X, y, test_size=0.5, shuffle=False)"
   ],
   "id": "70f789a8045fa984",
   "outputs": [],
   "execution_count": 2
  },
  {
   "metadata": {},
   "cell_type": "markdown",
   "source": "# Lasso",
   "id": "86a9b984108179fd"
  },
  {
   "metadata": {},
   "cell_type": "markdown",
   "source": "In this step, we will demonstrate how to use Lasso regression model to estimate the sparse coefficients of the dataset. We will use a fixed value of the regularization parameter **alpha**. In practice, the optimal parameter **alpha** should be selected by passing a **TimeSeriesSplit** cross-validation strategy to a **LassoCV**. To keep the example simple and fast to execute, we directly set the optimal value for alpha here.",
   "id": "380212a371566c09"
  },
  {
   "metadata": {
    "ExecuteTime": {
     "end_time": "2025-09-22T01:46:28.043449Z",
     "start_time": "2025-09-22T01:46:27.887101Z"
    }
   },
   "cell_type": "code",
   "source": [
    "from sklearn.linear_model import Lasso\n",
    "from sklearn.metrics import r2_score\n",
    "from time import time\n",
    "\n",
    "t0 = time()\n",
    "lasso = Lasso(alpha=0.14).fit(X_train, y_train)\n",
    "print(f\"Lasso fit done in {(time() - t0):.3f}s\")\n",
    "\n",
    "y_pred_lasso = lasso.predict(X_test)\n",
    "r2_score_lasso = r2_score(y_test, y_pred_lasso)\n",
    "print(f\"Lasso r^2 on test data : {r2_score_lasso:.3f}\")"
   ],
   "id": "48e3c7e15c9e1605",
   "outputs": [
    {
     "name": "stdout",
     "output_type": "stream",
     "text": [
      "Lasso fit done in 0.010s\n",
      "Lasso r^2 on test data : 0.480\n"
     ]
    }
   ],
   "execution_count": 3
  },
  {
   "metadata": {},
   "cell_type": "markdown",
   "source": "# Automatic Relevance Determination (ARD)",
   "id": "acc92ec30fabcede"
  },
  {
   "metadata": {},
   "cell_type": "markdown",
   "source": "An ARD regression is the Bayesian version of the Lasso. It can produce interval estimates for all of the parameters, including the error variance, if required. It is a suitable option when the signals have Gaussian noise.",
   "id": "508f3091bb679b37"
  },
  {
   "metadata": {
    "ExecuteTime": {
     "end_time": "2025-09-22T01:47:14.339233Z",
     "start_time": "2025-09-22T01:47:14.263439Z"
    }
   },
   "cell_type": "code",
   "source": [
    "from sklearn.linear_model import ARDRegression\n",
    "\n",
    "t0 = time()\n",
    "ard = ARDRegression().fit(X_train, y_train)\n",
    "print(f\"ARD fit done in {(time() - t0):.3f}s\")\n",
    "\n",
    "y_pred_ard = ard.predict(X_test)\n",
    "r2_score_ard = r2_score(y_test, y_pred_ard)\n",
    "print(f\"ARD r^2 on test data : {r2_score_ard:.3f}\")"
   ],
   "id": "3d1dc31384ecd239",
   "outputs": [
    {
     "name": "stdout",
     "output_type": "stream",
     "text": [
      "ARD fit done in 0.065s\n",
      "ARD r^2 on test data : 0.541\n"
     ]
    }
   ],
   "execution_count": 4
  },
  {
   "metadata": {},
   "cell_type": "markdown",
   "source": "# ElasticNet",
   "id": "78402fddc67e56f4"
  },
  {
   "metadata": {},
   "cell_type": "markdown",
   "source": "ElasticNet is a middle ground between Lasso and Ridge regression, as it combines an L1 and an L2-penalty. The amount of regularization is controlled by the two hyperparameters **l1_ratio** and **alpha**. For **l1_ratio = 0** the penalty is pure L2 and the model is equivalent to a Ridge regression. Similarly, **l1_ratio = 1** is a pure L1 penalty and the model is equivalent to a Lasso regression. For **0 < l1_ratio < 1**, the penalty is a combination of L1 and L2.",
   "id": "aecb2f0411a78306"
  },
  {
   "metadata": {
    "ExecuteTime": {
     "end_time": "2025-09-22T01:49:18.103320Z",
     "start_time": "2025-09-22T01:49:18.071381Z"
    }
   },
   "cell_type": "code",
   "source": [
    "from sklearn.linear_model import ElasticNet\n",
    "\n",
    "t0 = time()\n",
    "enet = ElasticNet(alpha=0.08, l1_ratio=0.5).fit(X_train, y_train)\n",
    "print(f\"ElasticNet fit done in {(time() - t0):.3f}s\")\n",
    "\n",
    "y_pred_enet = enet.predict(X_test)\n",
    "r2_score_enet = r2_score(y_test, y_pred_enet)\n",
    "print(f\"ElasticNet r^2 on test data : {r2_score_enet:.3f}\")"
   ],
   "id": "93e3942d8e3512a9",
   "outputs": [
    {
     "name": "stdout",
     "output_type": "stream",
     "text": [
      "ElasticNet fit done in 0.020s\n",
      "ElasticNet r^2 on test data : 0.636\n"
     ]
    }
   ],
   "execution_count": 5
  },
  {
   "metadata": {},
   "cell_type": "markdown",
   "source": "# Plot and Analysis of the Results",
   "id": "8a04af0e218547e9"
  },
  {
   "metadata": {},
   "cell_type": "markdown",
   "source": "In this step, we use a heatmap to visualize the sparsity of the true and estimated coefficients of the respective linear models.",
   "id": "b44d7557e20ad540"
  },
  {
   "metadata": {
    "ExecuteTime": {
     "end_time": "2025-09-22T01:50:41.837008Z",
     "start_time": "2025-09-22T01:50:40.993425Z"
    }
   },
   "cell_type": "code",
   "source": [
    "import matplotlib.pyplot as plt\n",
    "import seaborn as sns\n",
    "import pandas as pd\n",
    "from matplotlib.colors import SymLogNorm\n",
    "\n",
    "df = pd.DataFrame(\n",
    "    {\n",
    "        \"True coefficients\": true_coef,\n",
    "        \"Lasso\": lasso.coef_,\n",
    "        \"ARDRegression\": ard.coef_,\n",
    "        \"ElasticNet\": enet.coef_,\n",
    "    }\n",
    ")\n",
    "\n",
    "plt.figure(figsize=(10, 6))\n",
    "ax = sns.heatmap(\n",
    "    df.T,\n",
    "    norm=SymLogNorm(linthresh=10e-4, vmin=-1, vmax=1),\n",
    "    cbar_kws={\"label\": \"coefficients' values\"},\n",
    "    cmap=\"seismic_r\",\n",
    ")\n",
    "plt.ylabel(\"linear model\")\n",
    "plt.xlabel(\"coefficients\")\n",
    "plt.title(\n",
    "    f\"Models' coefficients\\nLasso $R^2$: {r2_score_lasso:.3f}, \"\n",
    "    f\"ARD $R^2$: {r2_score_ard:.3f}, \"\n",
    "    f\"ElasticNet $R^2$: {r2_score_enet:.3f}\"\n",
    ")\n",
    "plt.tight_layout()"
   ],
   "id": "c562de5246684f73",
   "outputs": [
    {
     "data": {
      "text/plain": [
       "<Figure size 1000x600 with 2 Axes>"
      ],
      "image/png": "[encoded data removed]"
     },
     "metadata": {},
     "output_type": "display_data"
    }
   ],
   "execution_count": 6
  },
  {
   "metadata": {},
   "cell_type": "markdown",
   "source": "# Summary",
   "id": "26b4877a81423313"
  },
  {
   "metadata": {},
   "cell_type": "markdown",
   "source": [
    "Lasso is known to recover sparse data effectively but does not perform well with highly correlated features. Indeed, if several correlated features contribute to the target, Lasso would end up selecting a single one of them. In the case of sparse yet non-correlated features, a Lasso model would be more suitable.\n",
    "\n",
    "ElasticNet introduces some sparsity on the coefficients and shrinks their values to zero. Thus, in the presence of correlated features that contribute to the target, the model is still able to reduce their weights without setting them exactly to zero. This results in a less sparse model than a pure Lasso and may capture non-predictive features as well.\n",
    "\n",
    "ARDRegression is better when handling Gaussian noise, but is still unable to handle correlated features and requires a larger amount of time due to fitting a prior."
   ],
   "id": "dbbf657064e0fa38"
  },
  {
   "metadata": {},
   "cell_type": "code",
   "outputs": [],
   "execution_count": null,
   "source": "",
   "id": "3e725085de733d70"
  }
 ],
 "metadata": {
  "kernelspec": {
   "display_name": "Python 3",
   "language": "python",
   "name": "python3"
  },
  "language_info": {
   "codemirror_mode": {
    "name": "ipython",
    "version": 2
   },
   "file_extension": ".py",
   "mimetype": "text/x-python",
   "name": "python",
   "nbconvert_exporter": "python",
   "pygments_lexer": "ipython2",
   "version": "2.7.6"
  }
 },
 "nbformat": 4,
 "nbformat_minor": 5
}
