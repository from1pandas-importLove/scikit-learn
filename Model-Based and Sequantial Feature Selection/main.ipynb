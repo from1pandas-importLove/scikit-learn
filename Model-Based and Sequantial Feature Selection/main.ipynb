{
 "cells": [
  {
   "metadata": {},
   "cell_type": "markdown",
   "source": "# Introduction",
   "id": "a6f2939ebc5868ec"
  },
  {
   "metadata": {},
   "cell_type": "markdown",
   "source": "This lab demonstrates two approaches for feature selection: model-based and sequential feature selection. The goal is to select the most important features from a given dataset. We use the Diabetes dataset, consisting of 10 features collected from 442 diabetes patients.",
   "id": "a73b5aefc20b8ee9"
  },
  {
   "metadata": {},
   "cell_type": "markdown",
   "source": "# Loading the Data",
   "id": "b52c74fed8e17440"
  },
  {
   "metadata": {},
   "cell_type": "markdown",
   "source": "We load the Diabetes dataset from scikit-learn and print its description.",
   "id": "efb81c623268f3c0"
  },
  {
   "cell_type": "code",
   "id": "initial_id",
   "metadata": {
    "collapsed": true,
    "ExecuteTime": {
     "end_time": "2025-09-07T02:44:00.289464Z",
     "start_time": "2025-09-07T02:44:00.048564Z"
    }
   },
   "source": [
    "from sklearn.datasets import load_diabetes\n",
    "import numpy as np\n",
    "import matplotlib.pyplot as plt\n",
    "\n",
    "diabetes = load_diabetes()\n",
    "X, y = diabetes.data, diabetes.target\n",
    "print(diabetes.DESCR)"
   ],
   "outputs": [
    {
     "name": "stdout",
     "output_type": "stream",
     "text": [
      ".. _diabetes_dataset:\n",
      "\n",
      "Diabetes dataset\n",
      "----------------\n",
      "\n",
      "Ten baseline variables, age, sex, body mass index, average blood\n",
      "pressure, and six blood serum measurements were obtained for each of n =\n",
      "442 diabetes patients, as well as the response of interest, a\n",
      "quantitative measure of disease progression one year after baseline.\n",
      "\n",
      "**Data Set Characteristics:**\n",
      "\n",
      ":Number of Instances: 442\n",
      "\n",
      ":Number of Attributes: First 10 columns are numeric predictive values\n",
      "\n",
      ":Target: Column 11 is a quantitative measure of disease progression one year after baseline\n",
      "\n",
      ":Attribute Information:\n",
      "    - age     age in years\n",
      "    - sex\n",
      "    - bmi     body mass index\n",
      "    - bp      average blood pressure\n",
      "    - s1      tc, total serum cholesterol\n",
      "    - s2      ldl, low-density lipoproteins\n",
      "    - s3      hdl, high-density lipoproteins\n",
      "    - s4      tch, total cholesterol / HDL\n",
      "    - s5      ltg, possibly log of serum triglycerides level\n",
      "    - s6      glu, blood sugar level\n",
      "\n",
      "Note: Each of these 10 feature variables have been mean centered and scaled by the standard deviation times the square root of `n_samples` (i.e. the sum of squares of each column totals 1).\n",
      "\n",
      "Source URL:\n",
      "https://www4.stat.ncsu.edu/~boos/var.select/diabetes.html\n",
      "\n",
      "For more information see:\n",
      "Bradley Efron, Trevor Hastie, Iain Johnstone and Robert Tibshirani (2004) \"Least Angle Regression,\" Annals of Statistics (with discussion), 407-499.\n",
      "(https://web.stanford.edu/~hastie/Papers/LARS/LeastAngle_2002.pdf)\n",
      "\n"
     ]
    }
   ],
   "execution_count": 4
  },
  {
   "metadata": {},
   "cell_type": "markdown",
   "source": "# Feature Importance from Coefficients",
   "id": "7b683f2d86359603"
  },
  {
   "metadata": {},
   "cell_type": "markdown",
   "source": "To get an idea of the importance of the features, we use the RidgeCV estimator. The features with the highest absolute **coef_** value are considered the most important.",
   "id": "66318c94c5ab7aa"
  },
  {
   "metadata": {
    "ExecuteTime": {
     "end_time": "2025-09-07T02:45:01.981226Z",
     "start_time": "2025-09-07T02:45:01.902595Z"
    }
   },
   "cell_type": "code",
   "source": [
    "from sklearn.linear_model import RidgeCV\n",
    "\n",
    "ridge = RidgeCV(alphas=np.logspace(-6, 6, num=5)).fit(X, y)\n",
    "importance = np.abs(ridge.coef_)\n",
    "feature_names = np.array(diabetes.feature_names)\n",
    "plt.bar(height=importance, x=feature_names)\n",
    "plt.title('Feature importances via coefficients')\n",
    "plt.show()"
   ],
   "id": "b362c4b9f6833bf5",
   "outputs": [
    {
     "data": {
      "text/plain": [
       "<Figure size 640x480 with 1 Axes>"
      ],
      "image/png": "[encoded data removed]"
     },
     "metadata": {},
     "output_type": "display_data"
    }
   ],
   "execution_count": 5
  },
  {
   "metadata": {},
   "cell_type": "markdown",
   "source": "# Selecting Features Based on Importance",
   "id": "5be56aed99f7046"
  },
  {
   "metadata": {},
   "cell_type": "markdown",
   "source": "We select the two features which are the most important according to the coefficients using **SelectFromModel**. **SelectFromModel** accepts a **threshold** parameter and will select the features whose importance (defined by the coefficients) are above this threshold.",
   "id": "159c60045e50e364"
  },
  {
   "metadata": {
    "ExecuteTime": {
     "end_time": "2025-09-07T02:46:55.774324Z",
     "start_time": "2025-09-07T02:46:55.630662Z"
    }
   },
   "cell_type": "code",
   "source": [
    "from sklearn.feature_selection import SelectFromModel\n",
    "\n",
    "threshold = np.sort(importance)[-3] + 0.01\n",
    "\n",
    "sfm = SelectFromModel(ridge, threshold=threshold).fit(X, y)\n",
    "print(f\"Features selected by SelectFromModel: {feature_names[sfm.get_support()]}\")"
   ],
   "id": "2c8be8cf1c279f31",
   "outputs": [
    {
     "name": "stdout",
     "output_type": "stream",
     "text": [
      "Features selected by SelectFromModel: ['s1' 's5']\n"
     ]
    }
   ],
   "execution_count": 6
  },
  {
   "metadata": {},
   "cell_type": "markdown",
   "source": "# Selecting Features with Sequential Feature Selection",
   "id": "32b7239a39826a75"
  },
  {
   "metadata": {},
   "cell_type": "markdown",
   "source": "We use Sequential Feature Selector (SFS) to select features. SFS is a greedy procedure where, at each iteration, we choose the best new feature to add to our selected features based on a cross-validation score. We can also go in the reverse direction (backward SFS), i.e. start with all the features and greedily choose features to remove one by one.",
   "id": "9192de80fb41e656"
  },
  {
   "metadata": {
    "ExecuteTime": {
     "end_time": "2025-09-07T02:47:52.502043Z",
     "start_time": "2025-09-07T02:47:52.244721Z"
    }
   },
   "cell_type": "code",
   "source": [
    "from sklearn.feature_selection import SequentialFeatureSelector\n",
    "\n",
    "sfs_forward = SequentialFeatureSelector(ridge, n_features_to_select=2, direction=\"forward\").fit(X, y)\n",
    "sfs_backward = SequentialFeatureSelector(ridge, n_features_to_select=2, direction=\"backward\").fit(X, y)\n",
    "\n",
    "print(f\"Features selected by forward sequential selection: {feature_names[sfs_forward.get_support()]}\")\n",
    "print(f\"Features selected by backward sequential selection: {feature_names[sfs_backward.get_support()]}\")"
   ],
   "id": "5f5ec2a4595c2476",
   "outputs": [
    {
     "name": "stdout",
     "output_type": "stream",
     "text": [
      "Features selected by forward sequential selection: ['bmi' 's5']\n",
      "Features selected by backward sequential selection: ['bmi' 's5']\n"
     ]
    }
   ],
   "execution_count": 7
  },
  {
   "metadata": {},
   "cell_type": "markdown",
   "source": "# Summary",
   "id": "f4da4f1013f19431"
  },
  {
   "metadata": {},
   "cell_type": "markdown",
   "source": "This lab demonstrated two approaches to feature selection: model-based and sequential feature selection. We used RidgeCV estimator to get the importance of features and SelectFromModel to select features based on importance. Sequential Feature Selector is a greedy procedure where, at each iteration, we choose the best new feature to add to our selected features based on a cross-validation score.",
   "id": "bb5670a5b23421ed"
  },
  {
   "metadata": {},
   "cell_type": "code",
   "outputs": [],
   "execution_count": null,
   "source": "",
   "id": "2468a85507775c8a"
  }
 ],
 "metadata": {
  "kernelspec": {
   "display_name": "Python 3",
   "language": "python",
   "name": "python3"
  },
  "language_info": {
   "codemirror_mode": {
    "name": "ipython",
    "version": 2
   },
   "file_extension": ".py",
   "mimetype": "text/x-python",
   "name": "python",
   "nbconvert_exporter": "python",
   "pygments_lexer": "ipython2",
   "version": "2.7.6"
  }
 },
 "nbformat": 4,
 "nbformat_minor": 5
}
