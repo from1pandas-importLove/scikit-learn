{
 "cells": [
  {
   "metadata": {},
   "cell_type": "markdown",
   "source": "# Introduction",
   "id": "5e3152f32a1b7ce1"
  },
  {
   "metadata": {},
   "cell_type": "markdown",
   "source": "The scikit-learn library provides tools for text feature extraction and evaluation. In this lab, we will use the 20newsgroups dataset to demonstrate how to extract features from text data, build a pipeline, and evaluate the performance of the model using hyperparameter tuning.",
   "id": "560968b5b84b08be"
  },
  {
   "metadata": {},
   "cell_type": "markdown",
   "source": "# Load Data",
   "id": "998988491722228a"
  },
  {
   "metadata": {},
   "cell_type": "markdown",
   "source": "We will load the 20newsgroup document is a collection of approximately 20000 newsgroup documents across 20 different categories. For this lab, we will focus on two categories: alt.atheism, and talk.religion.misc",
   "id": "6b3f48a7f9641262"
  },
  {
   "cell_type": "code",
   "id": "initial_id",
   "metadata": {
    "collapsed": true,
    "ExecuteTime": {
     "end_time": "2025-06-22T00:35:09.321760Z",
     "start_time": "2025-06-22T00:35:07.351303Z"
    }
   },
   "source": [
    "from sklearn.datasets import fetch_20newsgroups\n",
    "\n",
    "categories = [\n",
    "    'alt.atheism',\n",
    "    'talk.religion.misc',\n",
    "]\n",
    "\n",
    "data_train = fetch_20newsgroups(\n",
    "    subset='train',\n",
    "    categories=categories,\n",
    "    shuffle=True,\n",
    "    random_state=42,\n",
    "    remove=('headers', 'footers', 'quotes'),\n",
    ")\n",
    "\n",
    "data_test = fetch_20newsgroups(\n",
    "    subset='test',\n",
    "    categories=categories,\n",
    "    shuffle=True,\n",
    "    random_state=42,\n",
    "    remove=('headers', 'footers', 'quotes'),\n",
    ")\n",
    "\n",
    "print(f'Loading 20 newsgroups dataset for {len(data_train.target_names)} categories')\n",
    "print(data_train.target_names)\n",
    "print(f'{len(data_train.data)} documents')"
   ],
   "outputs": [
    {
     "name": "stdout",
     "output_type": "stream",
     "text": [
      "Loading 20 newsgroups dataset for 2 categories\n",
      "['alt.atheism', 'talk.religion.misc']\n",
      "857 documents\n"
     ]
    }
   ],
   "execution_count": 1
  },
  {
   "metadata": {},
   "cell_type": "markdown",
   "source": "# Define Pipeline with Hyperparameter Tuning",
   "id": "9c2ba1ba4b323094"
  },
  {
   "metadata": {},
   "cell_type": "markdown",
   "source": "We define a pipeline that combines a text feature vectorizer with a simple classifier for text classification. We will use Complement Naive Bayes as the classifier and TfidfVectorizer for feature extraction.",
   "id": "645db52650740c60"
  },
  {
   "metadata": {
    "ExecuteTime": {
     "end_time": "2025-06-22T00:44:05.207447Z",
     "start_time": "2025-06-22T00:44:05.201005Z"
    }
   },
   "cell_type": "code",
   "source": [
    "from sklearn.feature_extraction.text import TfidfVectorizer\n",
    "from sklearn.naive_bayes import ComplementNB\n",
    "from sklearn.pipeline import Pipeline\n",
    "import numpy as np\n",
    "\n",
    "pipeline = Pipeline(\n",
    "    [\n",
    "        (\"vect\", TfidfVectorizer()),\n",
    "        (\"clf\", ComplementNB()),\n",
    "    ]\n",
    ")\n",
    "\n",
    "parameter_grid = {\n",
    "    \"vect__max_df\": (0.2, 0.4, 0.6, 0.8, 1.0),\n",
    "    \"vect__min_df\": (1, 3, 5, 10),\n",
    "    \"vect__ngram_range\": ((1, 1), (1, 2)),  # unigrams or bigrams\n",
    "    \"vect__norm\": (\"l1\", \"l2\"),\n",
    "    \"clf__alpha\": np.logspace(-6, 6, 13),\n",
    "}"
   ],
   "id": "db6e517ce85d00fd",
   "outputs": [],
   "execution_count": 5
  },
  {
   "metadata": {},
   "cell_type": "markdown",
   "source": "# Hyperparameter Tuning",
   "id": "c7dd0667d52716f2"
  },
  {
   "metadata": {},
   "cell_type": "markdown",
   "source": "We use RandomizedSearchCV to explore the grid of hyperparameters and find the best combination of hyperparameters for the pipeline. In this case, we set n_iter=40 to limit the search space. We can increase n_iter to get a more informative analysis, but it will increase the computation time.",
   "id": "636d7118977576f"
  },
  {
   "metadata": {
    "ExecuteTime": {
     "end_time": "2025-06-22T00:44:19.338114Z",
     "start_time": "2025-06-22T00:44:07.109767Z"
    }
   },
   "cell_type": "code",
   "source": [
    "from pprint import pprint\n",
    "from sklearn.model_selection import RandomizedSearchCV\n",
    "\n",
    "random_search = RandomizedSearchCV(\n",
    "    estimator=pipeline,\n",
    "    param_distributions=parameter_grid,\n",
    "    n_iter=40,\n",
    "    random_state=0,\n",
    "    n_jobs=2,\n",
    "    verbose=1,\n",
    ")\n",
    "\n",
    "print(\"Performing grid search...\")\n",
    "print(\"Hyperparameters to be evaluated:\")\n",
    "pprint(parameter_grid)\n",
    "\n",
    "random_search.fit(data_train.data, data_train.target)\n",
    "\n",
    "test_accuracy = random_search.score(data_test.data, data_test.target)"
   ],
   "id": "7f2b40ab0ef65d5d",
   "outputs": [
    {
     "name": "stdout",
     "output_type": "stream",
     "text": [
      "Performing grid search...\n",
      "Hyperparameters to be evaluated:\n",
      "{'clf__alpha': array([1.e-06, 1.e-05, 1.e-04, 1.e-03, 1.e-02, 1.e-01, 1.e+00, 1.e+01,\n",
      "       1.e+02, 1.e+03, 1.e+04, 1.e+05, 1.e+06]),\n",
      " 'vect__max_df': (0.2, 0.4, 0.6, 0.8, 1.0),\n",
      " 'vect__min_df': (1, 3, 5, 10),\n",
      " 'vect__ngram_range': ((1, 1), (1, 2)),\n",
      " 'vect__norm': ('l1', 'l2')}\n",
      "Fitting 5 folds for each of 40 candidates, totalling 200 fits\n"
     ]
    }
   ],
   "execution_count": 6
  },
  {
   "metadata": {},
   "cell_type": "markdown",
   "source": "# Results Visualization",
   "id": "9fac7811125a43b9"
  },
  {
   "metadata": {},
   "cell_type": "markdown",
   "source": "We can visualize the results of the hyperparameter tuning using plotly.express. We use a scatter plot to visualize the trade-off between scoring time and mean test score. We can also use parallel coordinates to further visualize the mean test score as a function of the tuned hyperparameters.",
   "id": "2e2b990ee7d9fce4"
  },
  {
   "metadata": {
    "ExecuteTime": {
     "end_time": "2025-06-22T00:46:44.845448Z",
     "start_time": "2025-06-22T00:46:44.072007Z"
    }
   },
   "cell_type": "code",
   "source": [
    "import pandas as pd\n",
    "import plotly.express as px\n",
    "import math\n",
    "\n",
    "def shorten_param(param_name):\n",
    "    \"\"\"Remove components' prefixes in param_name.\"\"\"\n",
    "    if \"__\" in param_name:\n",
    "        return param_name.rsplit(\"__\", 1)[1]\n",
    "    return param_name\n",
    "\n",
    "cv_results = pd.DataFrame(random_search.cv_results_)\n",
    "cv_results = cv_results.rename(shorten_param, axis=1)\n",
    "\n",
    "param_names = [shorten_param(name) for name in parameter_grid.keys()]\n",
    "labels = {\n",
    "    \"mean_score_time\": \"CV Score time (s)\",\n",
    "    \"mean_test_score\": \"CV score (accuracy)\",\n",
    "}\n",
    "fig = px.scatter(\n",
    "    cv_results,\n",
    "    x=\"mean_score_time\",\n",
    "    y=\"mean_test_score\",\n",
    "    error_x=\"std_score_time\",\n",
    "    error_y=\"std_test_score\",\n",
    "    hover_data=param_names,\n",
    "    labels=labels,\n",
    ")\n",
    "\n",
    "fig.update_layout(\n",
    "    title={\n",
    "        \"text\": \"trade-off between scoring time and mean test score\",\n",
    "        \"y\": 0.95,\n",
    "        \"x\": 0.5,\n",
    "        \"xanchor\": \"center\",\n",
    "        \"yanchor\": \"top\",\n",
    "    }\n",
    ")\n",
    "\n",
    "column_results = param_names + [\"mean_test_score\", \"mean_score_time\"]\n",
    "\n",
    "transform_funcs = dict.fromkeys(column_results, lambda x: x)\n",
    "# Using a logarithmic scale for alpha\n",
    "transform_funcs[\"alpha\"] = math.log10\n",
    "# L1 norms are mapped to index 1, and L2 norms to index 2\n",
    "transform_funcs[\"norm\"] = lambda x: 2 if x == \"l2\" else 1\n",
    "# Unigrams are mapped to index 1 and bigrams to index 2\n",
    "transform_funcs[\"ngram_range\"] = lambda x: x[1]\n",
    "\n",
    "fig = px.parallel_coordinates(\n",
    "    cv_results[column_results].apply(transform_funcs),\n",
    "    color=\"mean_test_score\",\n",
    "    color_continuous_scale=px.colors.sequential.Viridis_r,\n",
    "    labels=labels,\n",
    ")\n",
    "fig.update_layout(\n",
    "    title={\n",
    "        \"text\": \"Parallel coordinates plot of text classifier pipeline\",\n",
    "        \"y\": 0.99,\n",
    "        \"x\": 0.5,\n",
    "        \"xanchor\": \"center\",\n",
    "        \"yanchor\": \"top\",\n",
    "    }\n",
    "\n",
    ")"
   ],
   "id": "afc29b262e957513",
   "outputs": [
    {
     "data": {
      "application/vnd.plotly.v1+json": {
       "data": [
        {
         "dimensions": [
          {
           "label": "max_df",
           "values": {
            "dtype": "f8",
            "bdata": "AAAAAAAA8D8zMzMzMzPjPzMzMzMzM+M/AAAAAAAA8D+amZmZmZnJP5qZmZmZmck/mpmZmZmZyT8AAAAAAADwP5qZmZmZmck/mpmZmZmZ2T8AAAAAAADwP5qZmZmZmdk/MzMzMzMz4z+amZmZmZnJPzMzMzMzM+M/mpmZmZmZ6T+amZmZmZnpP5qZmZmZmek/mpmZmZmZ2T+amZmZmZnpP5qZmZmZmck/mpmZmZmZ2T+amZmZmZnpP5qZmZmZmdk/MzMzMzMz4z8AAAAAAADwP5qZmZmZmck/mpmZmZmZ6T+amZmZmZnpPwAAAAAAAPA/mpmZmZmZyT+amZmZmZnpP5qZmZmZmdk/MzMzMzMz4z+amZmZmZnJPwAAAAAAAPA/MzMzMzMz4z+amZmZmZnpP5qZmZmZmek/mpmZmZmZyT8="
           }
          },
          {
           "label": "min_df",
           "values": {
            "dtype": "i1",
            "bdata": "AwMKCgMBAQUFCgUKAwEKAwUBBQEBBQEKAQEBAQoFBQoBAwUBAwMDAQ=="
           }
          },
          {
           "label": "ngram_range",
           "values": {
            "dtype": "i1",
            "bdata": "AgIBAgICAgICAgICAgECAgEBAgIBAgICAQICAgEBAgICAgEBAgICAg=="
           }
          },
          {
           "label": "norm",
           "values": {
            "dtype": "i1",
            "bdata": "AgIBAgICAgECAQICAQECAQECAQECAgICAgEBAgEBAgIBAQICAQICAg=="
           }
          },
          {
           "label": "alpha",
           "values": {
            "dtype": "f8",
            "bdata": "AAAAAAAA8D8AAAAAAAAAQAAAAAAAAADAAAAAAAAACMAAAAAAAAAAAAAAAAAAAAhAAAAAAAAAAAAAAAAAAAAUQAAAAAAAAAjAAAAAAAAACMAAAAAAAAAYwAAAAAAAAABAAAAAAAAAAEAAAAAAAAAAwAAAAAAAAADAAAAAAAAACMAAAAAAAAAQQAAAAAAAAABAAAAAAAAAAAAAAAAAAAAAAAAAAAAAABjAAAAAAAAAGMAAAAAAAAAAAAAAAAAAABjAAAAAAAAAAAAAAAAAAAAAAAAAAAAAABhAAAAAAAAAEEAAAAAAAAAAwAAAAAAAAAjAAAAAAAAAAMAAAAAAAAAUQAAAAAAAABjAAAAAAAAAFEAAAAAAAAAQQAAAAAAAABBAAAAAAAAAAAAAAAAAAAAYQAAAAAAAAAjAAAAAAAAA8L8="
           }
          },
          {
           "label": "CV score (accuracy)",
           "values": {
            "dtype": "f8",
            "bdata": "1h5EHVlq4z8KuVoXnpDjP8asb6Jg0uc/NnFhzk2i5z962QC+PcHoP4IPce9RXeY/a2/LYI+F5z+EwhWHmHviPx44CeRvt+g/mT7KR4Jy5z/lboc+3JroPzZGAZ3cIeU/z1MsCgcx4z8j3RpGnBnqP8YQwzpdj+c/qnwF3Dp36T+w+GEScFXiP373/XNGQuI/EdjSGG9R5T/CvfzjYr7iP59/iBGyF+k/4tXU4sCH6D+mQkyY0HflP1pG3fafX+c/KQcscZ9m5j/u80hvOpjiPzsRGbAuW+U/hMIVh5h74j/DFrdSLe/nPxVz5ejt3eg/UDltgpnK6D+79d7c+LTiP+5CBExX8+k/z1MsCgcx4z/23McVaEznPw6UZdRt/+E/GEyQMVrT4z/j+cWwmWjiPxR23/TVDek/XaOi30cG6j8="
           }
          },
          {
           "label": "CV Score time (s)",
           "values": {
            "dtype": "f8",
            "bdata": "MzMzM0PXkz9mZmZmJsORP5qZmZm5oIE/AAAAAFA8kj/NzMzMfAmRP83MzMxM0pQ/ZmZmZqZXmz8AAAAAYK+QP83MzMyc1ZA/zczMzHxTkD8zMzMzs66QP83MzMxMK5A/mpmZmYklkT9mZmZmxjWBPwAAAADgW5A/MzMzM3MakT8AAAAAwL6APwAAAACAEoE/MzMzM3PMkD8AAAAAoMmUP2ZmZmbmgYE/mpmZmekEkT9mZmZmVmWVP2ZmZmbGYJA/MzMzM1NTgT/NzMzMDLyVPzMzMzNzn5U/AAAAAGD/lD/NzMzMDKWAPwAAAAAAvIA/mpmZmTnPkD9mZmZmxsGQPwAAAADw/5Q/mpmZmQmXmT8zMzMzE3SCPwAAAACAuIE/ZmZmZsZ1lD/NzMzM3OGQP2ZmZmZ2OJI/ZmZmZrZqlT8="
           }
          }
         ],
         "domain": {
          "x": [
           0.0,
           1.0
          ],
          "y": [
           0.0,
           1.0
          ]
         },
         "line": {
          "color": {
           "dtype": "f8",
           "bdata": "1h5EHVlq4z8KuVoXnpDjP8asb6Jg0uc/NnFhzk2i5z962QC+PcHoP4IPce9RXeY/a2/LYI+F5z+EwhWHmHviPx44CeRvt+g/mT7KR4Jy5z/lboc+3JroPzZGAZ3cIeU/z1MsCgcx4z8j3RpGnBnqP8YQwzpdj+c/qnwF3Dp36T+w+GEScFXiP373/XNGQuI/EdjSGG9R5T/CvfzjYr7iP59/iBGyF+k/4tXU4sCH6D+mQkyY0HflP1pG3fafX+c/KQcscZ9m5j/u80hvOpjiPzsRGbAuW+U/hMIVh5h74j/DFrdSLe/nPxVz5ejt3eg/UDltgpnK6D+79d7c+LTiP+5CBExX8+k/z1MsCgcx4z/23McVaEznPw6UZdRt/+E/GEyQMVrT4z/j+cWwmWjiPxR23/TVDek/XaOi30cG6j8="
          },
          "coloraxis": "coloraxis"
         },
         "name": "",
         "type": "parcoords"
        }
       ],
       "layout": {
        "template": {
         "data": {
          "histogram2dcontour": [
           {
            "type": "histogram2dcontour",
            "colorbar": {
             "outlinewidth": 0,
             "ticks": ""
            },
            "colorscale": [
             [
              0.0,
              "#0d0887"
             ],
             [
              0.1111111111111111,
              "#46039f"
             ],
             [
              0.2222222222222222,
              "#7201a8"
             ],
             [
              0.3333333333333333,
              "#9c179e"
             ],
             [
              0.4444444444444444,
              "#bd3786"
             ],
             [
              0.5555555555555556,
              "#d8576b"
             ],
             [
              0.6666666666666666,
              "#ed7953"
             ],
             [
              0.7777777777777778,
              "#fb9f3a"
             ],
             [
              0.8888888888888888,
              "#fdca26"
             ],
             [
              1.0,
              "#f0f921"
             ]
            ]
           }
          ],
          "choropleth": [
           {
            "type": "choropleth",
            "colorbar": {
             "outlinewidth": 0,
             "ticks": ""
            }
           }
          ],
          "histogram2d": [
           {
            "type": "histogram2d",
            "colorbar": {
             "outlinewidth": 0,
             "ticks": ""
            },
            "colorscale": [
             [
              0.0,
              "#0d0887"
             ],
             [
              0.1111111111111111,
              "#46039f"
             ],
             [
              0.2222222222222222,
              "#7201a8"
             ],
             [
              0.3333333333333333,
              "#9c179e"
             ],
             [
              0.4444444444444444,
              "#bd3786"
             ],
             [
              0.5555555555555556,
              "#d8576b"
             ],
             [
              0.6666666666666666,
              "#ed7953"
             ],
             [
              0.7777777777777778,
              "#fb9f3a"
             ],
             [
              0.8888888888888888,
              "#fdca26"
             ],
             [
              1.0,
              "#f0f921"
             ]
            ]
           }
          ],
          "heatmap": [
           {
            "type": "heatmap",
            "colorbar": {
             "outlinewidth": 0,
             "ticks": ""
            },
            "colorscale": [
             [
              0.0,
              "#0d0887"
             ],
             [
              0.1111111111111111,
              "#46039f"
             ],
             [
              0.2222222222222222,
              "#7201a8"
             ],
             [
              0.3333333333333333,
              "#9c179e"
             ],
             [
              0.4444444444444444,
              "#bd3786"
             ],
             [
              0.5555555555555556,
              "#d8576b"
             ],
             [
              0.6666666666666666,
              "#ed7953"
             ],
             [
              0.7777777777777778,
              "#fb9f3a"
             ],
             [
              0.8888888888888888,
              "#fdca26"
             ],
             [
              1.0,
              "#f0f921"
             ]
            ]
           }
          ],
          "contourcarpet": [
           {
            "type": "contourcarpet",
            "colorbar": {
             "outlinewidth": 0,
             "ticks": ""
            }
           }
          ],
          "contour": [
           {
            "type": "contour",
            "colorbar": {
             "outlinewidth": 0,
             "ticks": ""
            },
            "colorscale": [
             [
              0.0,
              "#0d0887"
             ],
             [
              0.1111111111111111,
              "#46039f"
             ],
             [
              0.2222222222222222,
              "#7201a8"
             ],
             [
              0.3333333333333333,
              "#9c179e"
             ],
             [
              0.4444444444444444,
              "#bd3786"
             ],
             [
              0.5555555555555556,
              "#d8576b"
             ],
             [
              0.6666666666666666,
              "#ed7953"
             ],
             [
              0.7777777777777778,
              "#fb9f3a"
             ],
             [
              0.8888888888888888,
              "#fdca26"
             ],
             [
              1.0,
              "#f0f921"
             ]
            ]
           }
          ],
          "surface": [
           {
            "type": "surface",
            "colorbar": {
             "outlinewidth": 0,
             "ticks": ""
            },
            "colorscale": [
             [
              0.0,
              "#0d0887"
             ],
             [
              0.1111111111111111,
              "#46039f"
             ],
             [
              0.2222222222222222,
              "#7201a8"
             ],
             [
              0.3333333333333333,
              "#9c179e"
             ],
             [
              0.4444444444444444,
              "#bd3786"
             ],
             [
              0.5555555555555556,
              "#d8576b"
             ],
             [
              0.6666666666666666,
              "#ed7953"
             ],
             [
              0.7777777777777778,
              "#fb9f3a"
             ],
             [
              0.8888888888888888,
              "#fdca26"
             ],
             [
              1.0,
              "#f0f921"
             ]
            ]
           }
          ],
          "mesh3d": [
           {
            "type": "mesh3d",
            "colorbar": {
             "outlinewidth": 0,
             "ticks": ""
            }
           }
          ],
          "scatter": [
           {
            "fillpattern": {
             "fillmode": "overlay",
             "size": 10,
             "solidity": 0.2
            },
            "type": "scatter"
           }
          ],
          "parcoords": [
           {
            "type": "parcoords",
            "line": {
             "colorbar": {
              "outlinewidth": 0,
              "ticks": ""
             }
            }
           }
          ],
          "scatterpolargl": [
           {
            "type": "scatterpolargl",
            "marker": {
             "colorbar": {
              "outlinewidth": 0,
              "ticks": ""
             }
            }
           }
          ],
          "bar": [
           {
            "error_x": {
             "color": "#2a3f5f"
            },
            "error_y": {
             "color": "#2a3f5f"
            },
            "marker": {
             "line": {
              "color": "#E5ECF6",
              "width": 0.5
             },
             "pattern": {
              "fillmode": "overlay",
              "size": 10,
              "solidity": 0.2
             }
            },
            "type": "bar"
           }
          ],
          "scattergeo": [
           {
            "type": "scattergeo",
            "marker": {
             "colorbar": {
              "outlinewidth": 0,
              "ticks": ""
             }
            }
           }
          ],
          "scatterpolar": [
           {
            "type": "scatterpolar",
            "marker": {
             "colorbar": {
              "outlinewidth": 0,
              "ticks": ""
             }
            }
           }
          ],
          "histogram": [
           {
            "marker": {
             "pattern": {
              "fillmode": "overlay",
              "size": 10,
              "solidity": 0.2
             }
            },
            "type": "histogram"
           }
          ],
          "scattergl": [
           {
            "type": "scattergl",
            "marker": {
             "colorbar": {
              "outlinewidth": 0,
              "ticks": ""
             }
            }
           }
          ],
          "scatter3d": [
           {
            "type": "scatter3d",
            "line": {
             "colorbar": {
              "outlinewidth": 0,
              "ticks": ""
             }
            },
            "marker": {
             "colorbar": {
              "outlinewidth": 0,
              "ticks": ""
             }
            }
           }
          ],
          "scattermap": [
           {
            "type": "scattermap",
            "marker": {
             "colorbar": {
              "outlinewidth": 0,
              "ticks": ""
             }
            }
           }
          ],
          "scattermapbox": [
           {
            "type": "scattermapbox",
            "marker": {
             "colorbar": {
              "outlinewidth": 0,
              "ticks": ""
             }
            }
           }
          ],
          "scatterternary": [
           {
            "type": "scatterternary",
            "marker": {
             "colorbar": {
              "outlinewidth": 0,
              "ticks": ""
             }
            }
           }
          ],
          "scattercarpet": [
           {
            "type": "scattercarpet",
            "marker": {
             "colorbar": {
              "outlinewidth": 0,
              "ticks": ""
             }
            }
           }
          ],
          "carpet": [
           {
            "aaxis": {
             "endlinecolor": "#2a3f5f",
             "gridcolor": "white",
             "linecolor": "white",
             "minorgridcolor": "white",
             "startlinecolor": "#2a3f5f"
            },
            "baxis": {
             "endlinecolor": "#2a3f5f",
             "gridcolor": "white",
             "linecolor": "white",
             "minorgridcolor": "white",
             "startlinecolor": "#2a3f5f"
            },
            "type": "carpet"
           }
          ],
          "table": [
           {
            "cells": {
             "fill": {
              "color": "#EBF0F8"
             },
             "line": {
              "color": "white"
             }
            },
            "header": {
             "fill": {
              "color": "#C8D4E3"
             },
             "line": {
              "color": "white"
             }
            },
            "type": "table"
           }
          ],
          "barpolar": [
           {
            "marker": {
             "line": {
              "color": "#E5ECF6",
              "width": 0.5
             },
             "pattern": {
              "fillmode": "overlay",
              "size": 10,
              "solidity": 0.2
             }
            },
            "type": "barpolar"
           }
          ],
          "pie": [
           {
            "automargin": true,
            "type": "pie"
           }
          ]
         },
         "layout": {
          "autotypenumbers": "strict",
          "colorway": [
           "#636efa",
           "#EF553B",
           "#00cc96",
           "#ab63fa",
           "#FFA15A",
           "#19d3f3",
           "#FF6692",
           "#B6E880",
           "#FF97FF",
           "#FECB52"
          ],
          "font": {
           "color": "#2a3f5f"
          },
          "hovermode": "closest",
          "hoverlabel": {
           "align": "left"
          },
          "paper_bgcolor": "white",
          "plot_bgcolor": "#E5ECF6",
          "polar": {
           "bgcolor": "#E5ECF6",
           "angularaxis": {
            "gridcolor": "white",
            "linecolor": "white",
            "ticks": ""
           },
           "radialaxis": {
            "gridcolor": "white",
            "linecolor": "white",
            "ticks": ""
           }
          },
          "ternary": {
           "bgcolor": "#E5ECF6",
           "aaxis": {
            "gridcolor": "white",
            "linecolor": "white",
            "ticks": ""
           },
           "baxis": {
            "gridcolor": "white",
            "linecolor": "white",
            "ticks": ""
           },
           "caxis": {
            "gridcolor": "white",
            "linecolor": "white",
            "ticks": ""
           }
          },
          "coloraxis": {
           "colorbar": {
            "outlinewidth": 0,
            "ticks": ""
           }
          },
          "colorscale": {
           "sequential": [
            [
             0.0,
             "#0d0887"
            ],
            [
             0.1111111111111111,
             "#46039f"
            ],
            [
             0.2222222222222222,
             "#7201a8"
            ],
            [
             0.3333333333333333,
             "#9c179e"
            ],
            [
             0.4444444444444444,
             "#bd3786"
            ],
            [
             0.5555555555555556,
             "#d8576b"
            ],
            [
             0.6666666666666666,
             "#ed7953"
            ],
            [
             0.7777777777777778,
             "#fb9f3a"
            ],
            [
             0.8888888888888888,
             "#fdca26"
            ],
            [
             1.0,
             "#f0f921"
            ]
           ],
           "sequentialminus": [
            [
             0.0,
             "#0d0887"
            ],
            [
             0.1111111111111111,
             "#46039f"
            ],
            [
             0.2222222222222222,
             "#7201a8"
            ],
            [
             0.3333333333333333,
             "#9c179e"
            ],
            [
             0.4444444444444444,
             "#bd3786"
            ],
            [
             0.5555555555555556,
             "#d8576b"
            ],
            [
             0.6666666666666666,
             "#ed7953"
            ],
            [
             0.7777777777777778,
             "#fb9f3a"
            ],
            [
             0.8888888888888888,
             "#fdca26"
            ],
            [
             1.0,
             "#f0f921"
            ]
           ],
           "diverging": [
            [
             0,
             "#8e0152"
            ],
            [
             0.1,
             "#c51b7d"
            ],
            [
             0.2,
             "#de77ae"
            ],
            [
             0.3,
             "#f1b6da"
            ],
            [
             0.4,
             "#fde0ef"
            ],
            [
             0.5,
             "#f7f7f7"
            ],
            [
             0.6,
             "#e6f5d0"
            ],
            [
             0.7,
             "#b8e186"
            ],
            [
             0.8,
             "#7fbc41"
            ],
            [
             0.9,
             "#4d9221"
            ],
            [
             1,
             "#276419"
            ]
           ]
          },
          "xaxis": {
           "gridcolor": "white",
           "linecolor": "white",
           "ticks": "",
           "title": {
            "standoff": 15
           },
           "zerolinecolor": "white",
           "automargin": true,
           "zerolinewidth": 2
          },
          "yaxis": {
           "gridcolor": "white",
           "linecolor": "white",
           "ticks": "",
           "title": {
            "standoff": 15
           },
           "zerolinecolor": "white",
           "automargin": true,
           "zerolinewidth": 2
          },
          "scene": {
           "xaxis": {
            "backgroundcolor": "#E5ECF6",
            "gridcolor": "white",
            "linecolor": "white",
            "showbackground": true,
            "ticks": "",
            "zerolinecolor": "white",
            "gridwidth": 2
           },
           "yaxis": {
            "backgroundcolor": "#E5ECF6",
            "gridcolor": "white",
            "linecolor": "white",
            "showbackground": true,
            "ticks": "",
            "zerolinecolor": "white",
            "gridwidth": 2
           },
           "zaxis": {
            "backgroundcolor": "#E5ECF6",
            "gridcolor": "white",
            "linecolor": "white",
            "showbackground": true,
            "ticks": "",
            "zerolinecolor": "white",
            "gridwidth": 2
           }
          },
          "shapedefaults": {
           "line": {
            "color": "#2a3f5f"
           }
          },
          "annotationdefaults": {
           "arrowcolor": "#2a3f5f",
           "arrowhead": 0,
           "arrowwidth": 1
          },
          "geo": {
           "bgcolor": "white",
           "landcolor": "#E5ECF6",
           "subunitcolor": "white",
           "showland": true,
           "showlakes": true,
           "lakecolor": "white"
          },
          "title": {
           "x": 0.05
          },
          "mapbox": {
           "style": "light"
          }
         }
        },
        "coloraxis": {
         "colorbar": {
          "title": {
           "text": "CV score (accuracy)"
          }
         },
         "colorscale": [
          [
           0.0,
           "#fde725"
          ],
          [
           0.1111111111111111,
           "#b5de2b"
          ],
          [
           0.2222222222222222,
           "#6ece58"
          ],
          [
           0.3333333333333333,
           "#35b779"
          ],
          [
           0.4444444444444444,
           "#1f9e89"
          ],
          [
           0.5555555555555556,
           "#26828e"
          ],
          [
           0.6666666666666666,
           "#31688e"
          ],
          [
           0.7777777777777778,
           "#3e4989"
          ],
          [
           0.8888888888888888,
           "#482878"
          ],
          [
           1.0,
           "#440154"
          ]
         ]
        },
        "legend": {
         "tracegroupgap": 0
        },
        "margin": {
         "t": 60
        },
        "title": {
         "text": "Parallel coordinates plot of text classifier pipeline",
         "y": 0.99,
         "x": 0.5,
         "xanchor": "center",
         "yanchor": "top"
        }
       },
       "config": {
        "plotlyServerURL": "https://plot.ly"
       }
      }
     },
     "metadata": {},
     "output_type": "display_data"
    }
   ],
   "execution_count": 8
  },
  {
   "metadata": {},
   "cell_type": "markdown",
   "source": "# Summary",
   "id": "47f045e024be4b09"
  },
  {
   "metadata": {},
   "cell_type": "markdown",
   "source": "In this lab, we demonstrated how to extract features from text data, build a pipeline, and evaluate the performance of the model using hyperparameter tuning. We used the 20newsgroups dataset to show how to use RandomizedSearchCV to find the best combination of hyperparameters for the pipeline and visualize the results using plotly.express.",
   "id": "980e8243c0dcd32c"
  },
  {
   "metadata": {},
   "cell_type": "code",
   "outputs": [],
   "execution_count": null,
   "source": "",
   "id": "c977c8824560c949"
  }
 ],
 "metadata": {
  "kernelspec": {
   "display_name": "Python 3",
   "language": "python",
   "name": "python3"
  },
  "language_info": {
   "codemirror_mode": {
    "name": "ipython",
    "version": 2
   },
   "file_extension": ".py",
   "mimetype": "text/x-python",
   "name": "python",
   "nbconvert_exporter": "python",
   "pygments_lexer": "ipython2",
   "version": "2.7.6"
  }
 },
 "nbformat": 4,
 "nbformat_minor": 5
}
