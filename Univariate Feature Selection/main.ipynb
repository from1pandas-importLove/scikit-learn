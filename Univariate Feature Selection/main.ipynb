{
 "cells": [
  {
   "metadata": {},
   "cell_type": "markdown",
   "source": "# Introduction",
   "id": "b16dbe1cb56685ed"
  },
  {
   "metadata": {},
   "cell_type": "markdown",
   "source": "This lab demonstrates how to use univariate feature selection to improve classification accuracy on a noisy dataset. Support vector machine (SVM) is used to classify the dataset both before and after applying univariate feature selection. For each feature, we plot the p-values for the univariate feature selection and the corresponding weights of SVMs. With this, we will compare model accuracy and examine the impact of univariate feature selection on model weights.",
   "id": "97eb7fdf8dab6c0a"
  },
  {
   "metadata": {},
   "cell_type": "markdown",
   "source": "# Generate Sample Data",
   "id": "8afcb05efd3d7b88"
  },
  {
   "metadata": {},
   "cell_type": "markdown",
   "source": "First, we will generate some sample data for the demonstration. We will use the iris dataset and add some noisy data to it that is not correlated.",
   "id": "5b02e8399230c7f4"
  },
  {
   "cell_type": "code",
   "id": "initial_id",
   "metadata": {
    "collapsed": true,
    "ExecuteTime": {
     "end_time": "2025-06-12T01:57:30.894417Z",
     "start_time": "2025-06-12T01:57:22.823275Z"
    }
   },
   "source": [
    "import numpy as np\n",
    "from sklearn.datasets import load_iris\n",
    "from sklearn.model_selection import train_test_split\n",
    "\n",
    "X, y = load_iris(return_X_y=True)\n",
    "\n",
    "# some noisy data not correlated\n",
    "E = np.random.RandomState(42).uniform(0, 0.1, size=(X.shape[0], 20))\n",
    "\n",
    "# add the noisy data to the informative features\n",
    "X = np.hstack((X, E))\n",
    "\n",
    "X_train, X_test, y_train, y_test = train_test_split(X, y, test_size=0.2, random_state=42)"
   ],
   "outputs": [],
   "execution_count": 1
  },
  {
   "metadata": {},
   "cell_type": "markdown",
   "source": "# Univariate Feature Selection",
   "id": "a78f11f575f386e7"
  },
  {
   "metadata": {},
   "cell_type": "markdown",
   "source": "Next, we will perform univariate feature selection with F-test for feature scoring. We will use the default selection function to select the four most significant features.",
   "id": "dac816c11699b9e4"
  },
  {
   "metadata": {},
   "cell_type": "markdown",
   "source": [
    "📌 What is Univariate Feature Selection?\n",
    "It’s a method that evaluates each feature (column) individually to determine how strongly it relates to the target variable (y). “Univariate” means one variable (feature) at a time — no interaction between features is considered."
   ],
   "id": "90d7373974373b62"
  },
  {
   "metadata": {},
   "cell_type": "markdown",
   "source": [
    "⚙️ What is the F-test in this context?\n",
    "The F-test (specifically ANOVA F-value) is a statistical test used to check whether the means of a feature differ significantly across classes.\n",
    "\n",
    "It’s commonly used when the target variable is categorical (like in classification tasks, e.g., Iris dataset with 3 classes).\n",
    "\n",
    "A higher F-score means the feature is more discriminative (useful)."
   ],
   "id": "bde933115705d5a7"
  },
  {
   "metadata": {
    "ExecuteTime": {
     "end_time": "2025-06-12T02:03:13.879128Z",
     "start_time": "2025-06-12T02:03:13.870456Z"
    }
   },
   "cell_type": "code",
   "source": [
    "from sklearn.feature_selection import SelectKBest, f_classif\n",
    "\n",
    "selector = SelectKBest(f_classif, k=4)\n",
    "selector.fit(X_train, y_train)\n",
    "scores = -np.log10(selector.pvalues_)\n",
    "scores /= scores.max()"
   ],
   "id": "18b9703f2c891e20",
   "outputs": [],
   "execution_count": 4
  },
  {
   "metadata": {},
   "cell_type": "markdown",
   "source": "# Plot Feature Univariate Score",
   "id": "50da6c7ec1dca4fb"
  },
  {
   "metadata": {},
   "cell_type": "markdown",
   "source": "We can plot the univariate scores for each feature to see which features are significant.",
   "id": "c4107d2f1e608b50"
  },
  {
   "metadata": {
    "ExecuteTime": {
     "end_time": "2025-06-12T02:39:28.024540Z",
     "start_time": "2025-06-12T02:39:23.874142Z"
    }
   },
   "cell_type": "code",
   "source": [
    "import matplotlib.pyplot as plt\n",
    "\n",
    "X_indices = np.arange(X.shape[-1])\n",
    "plt.figure(1)\n",
    "plt.clf()\n",
    "plt.bar(X_indices - 0.05, scores, width=0.2)\n",
    "plt.title(\"Feature univariate score\")\n",
    "plt.xlabel(\"Feature number\")\n",
    "plt.ylabel(r\"Univariate score ($-Log(p_{value})$)\")\n",
    "plt.show()"
   ],
   "id": "364925ef82d11e51",
   "outputs": [
    {
     "data": {
      "text/plain": [
       "<Figure size 640x480 with 1 Axes>"
      ],
      "image/png": "[encoded data removed]"
     },
     "metadata": {},
     "output_type": "display_data"
    }
   ],
   "execution_count": 5
  },
  {
   "metadata": {},
   "cell_type": "markdown",
   "source": "# Compare with SVMs",
   "id": "19479f5a7357b3bb"
  },
  {
   "metadata": {},
   "cell_type": "markdown",
   "source": "We will now compare the SVM classification accuracy with and without univariate feature selection.",
   "id": "2593bd967ac0f408"
  },
  {
   "metadata": {},
   "cell_type": "markdown",
   "source": "# Without Univariate Feature Selection",
   "id": "c2706f151a1217ef"
  },
  {
   "metadata": {
    "ExecuteTime": {
     "end_time": "2025-06-12T02:44:51.219761Z",
     "start_time": "2025-06-12T02:44:51.100509Z"
    }
   },
   "cell_type": "code",
   "source": [
    "from sklearn.pipeline import make_pipeline\n",
    "from sklearn.preprocessing import MinMaxScaler\n",
    "from sklearn.svm import LinearSVC\n",
    "\n",
    "clf = make_pipeline(MinMaxScaler(), LinearSVC(random_state=0, dual='auto'))\n",
    "clf.fit(X_train, y_train)\n",
    "print(\n",
    "    \"Classification accuracy without selecting features: {:.3f}\".format(\n",
    "        clf.score(X_test, y_test)\n",
    "    )\n",
    ")\n",
    "\n",
    "svm_weights = np.abs(clf[-1].coef_).sum(axis=0)\n",
    "svm_weights /= svm_weights.sum()"
   ],
   "id": "7a8de603b284af29",
   "outputs": [
    {
     "name": "stdout",
     "output_type": "stream",
     "text": [
      "Classification accuracy without selecting features: 0.900\n"
     ]
    }
   ],
   "execution_count": 7
  },
  {
   "metadata": {},
   "cell_type": "markdown",
   "source": "# After Univariate Feature Selection",
   "id": "6a9bae1d05ed45cc"
  },
  {
   "metadata": {
    "ExecuteTime": {
     "end_time": "2025-06-12T02:46:21.538997Z",
     "start_time": "2025-06-12T02:46:21.506511Z"
    }
   },
   "cell_type": "code",
   "source": [
    "clf_selected = make_pipeline(\n",
    "    SelectKBest(f_classif, k=4), MinMaxScaler(), LinearSVC(random_state=0, dual='auto')\n",
    ")\n",
    "clf_selected.fit(X_train, y_train)\n",
    "print(\n",
    "    \"Classification accuracy after univariate feature selection: {:.3f}\".format(\n",
    "        clf_selected.score(X_test, y_test)\n",
    "    )\n",
    ")\n",
    "\n",
    "svm_weights_selected = np.abs(clf_selected[-1].coef_).sum(axis=0)\n",
    "svm_weights_selected /= svm_weights_selected.sum()"
   ],
   "id": "964312aa5fc7a935",
   "outputs": [
    {
     "name": "stdout",
     "output_type": "stream",
     "text": [
      "Classification accuracy after univariate feature selection: 0.967\n"
     ]
    }
   ],
   "execution_count": 8
  },
  {
   "metadata": {},
   "cell_type": "markdown",
   "source": "# Plot Comparing Feature Selection",
   "id": "abd8a48cd0e9eb70"
  },
  {
   "metadata": {},
   "cell_type": "markdown",
   "source": "We can plot the feature scores and weights for each feature to see the impact of univariate feature selection.",
   "id": "2a9f7a3947195009"
  },
  {
   "metadata": {
    "ExecuteTime": {
     "end_time": "2025-06-12T02:47:09.163841Z",
     "start_time": "2025-06-12T02:47:08.826837Z"
    }
   },
   "cell_type": "code",
   "source": [
    "plt.bar(\n",
    "    X_indices - 0.45, scores, width=0.2, label=r\"Univariate score ($-Log(p_{value})$)\"\n",
    ")\n",
    "\n",
    "plt.bar(X_indices - 0.25, svm_weights, width=0.2, label=\"SVM weight\")\n",
    "\n",
    "plt.bar(\n",
    "    X_indices[selector.get_support()] - 0.05,\n",
    "    svm_weights_selected,\n",
    "    width=0.2,\n",
    "    label=\"SVM weights after selection\",\n",
    ")\n",
    "\n",
    "plt.title(\"Comparing feature selection\")\n",
    "plt.xlabel(\"Feature number\")\n",
    "plt.yticks(())\n",
    "plt.axis(\"tight\")\n",
    "plt.legend(loc=\"upper right\")\n",
    "plt.show()"
   ],
   "id": "676c77fa1dcff603",
   "outputs": [
    {
     "data": {
      "text/plain": [
       "<Figure size 640x480 with 1 Axes>"
      ],
      "image/png": "[encoded data removed]"
     },
     "metadata": {},
     "output_type": "display_data"
    }
   ],
   "execution_count": 9
  },
  {
   "metadata": {},
   "cell_type": "markdown",
   "source": "# Summary",
   "id": "b1247ea21e677a21"
  },
  {
   "metadata": {},
   "cell_type": "markdown",
   "source": "This lab demonstrated how to use univariate feature selection to improve classification accuracy on a noisy dataset. We generated sample data, performed univariate feature selection, and compared SVM classification accuracy with and without univariate feature selection. We also plotted the feature scores and weights for each feature to see the impact of univariate feature selection.",
   "id": "dfcd2015526857b0"
  },
  {
   "metadata": {},
   "cell_type": "code",
   "outputs": [],
   "execution_count": null,
   "source": "",
   "id": "2851e9018bc5422c"
  }
 ],
 "metadata": {
  "kernelspec": {
   "display_name": "Python 3",
   "language": "python",
   "name": "python3"
  },
  "language_info": {
   "codemirror_mode": {
    "name": "ipython",
    "version": 2
   },
   "file_extension": ".py",
   "mimetype": "text/x-python",
   "name": "python",
   "nbconvert_exporter": "python",
   "pygments_lexer": "ipython2",
   "version": "2.7.6"
  }
 },
 "nbformat": 4,
 "nbformat_minor": 5
}
