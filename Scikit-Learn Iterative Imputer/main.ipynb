{
 "cells": [
  {
   "metadata": {},
   "cell_type": "markdown",
   "source": "# Introduction",
   "id": "5f831741b774550d"
  },
  {
   "metadata": {},
   "cell_type": "markdown",
   "source": "In this lab, we will learn how to use Scikit-Learn's IterativeImputer class to impute missing values in a dataset. We will compare different estimators to see which one is best for the IterativeImputer when using a BayesianRidge estimator on the California housing dataset with a single value randomly removed from each row.",
   "id": "9c4eea2a74384e40"
  },
  {
   "metadata": {},
   "cell_type": "markdown",
   "source": "# Import Libraries",
   "id": "513c5cb21d0a2b3b"
  },
  {
   "metadata": {},
   "cell_type": "markdown",
   "source": "We will first import the necessary libraries for this lab.",
   "id": "7ccc27ab202c7720"
  },
  {
   "cell_type": "code",
   "id": "initial_id",
   "metadata": {
    "collapsed": true,
    "ExecuteTime": {
     "end_time": "2025-06-07T10:40:06.399371Z",
     "start_time": "2025-06-07T10:40:04.938240Z"
    }
   },
   "source": [
    "import numpy as np\n",
    "import matplotlib.pyplot as plt\n",
    "import pandas as pd\n",
    "\n",
    "from sklearn.experimental import enable_iterative_imputer\n",
    "from sklearn.datasets import fetch_california_housing\n",
    "from sklearn.impute import SimpleImputer\n",
    "from sklearn.impute import IterativeImputer\n",
    "from sklearn.linear_model import BayesianRidge, Ridge\n",
    "from sklearn.kernel_approximation import Nystroem\n",
    "from sklearn.ensemble import RandomForestRegressor\n",
    "from sklearn.neighbors import KNeighborsRegressor\n",
    "from sklearn.pipeline import make_pipeline\n",
    "from sklearn.model_selection import cross_val_score"
   ],
   "outputs": [],
   "execution_count": 1
  },
  {
   "metadata": {},
   "cell_type": "markdown",
   "source": "# Load Dataset",
   "id": "689f856bd49a7281"
  },
  {
   "metadata": {},
   "cell_type": "markdown",
   "source": "We will load the California housing dataset from Scikit-Learn. We will only use 2k samples to reduce the computational time.",
   "id": "9bc22da10e4b9b31"
  },
  {
   "metadata": {
    "ExecuteTime": {
     "end_time": "2025-06-07T10:43:05.284367Z",
     "start_time": "2025-06-07T10:43:05.218305Z"
    }
   },
   "cell_type": "code",
   "source": [
    "N_SPLITS = 5\n",
    "\n",
    "rng = np.random.RandomState(0)\n",
    "\n",
    "X_full, y_full = fetch_california_housing(return_X_y=True)\n",
    "X_full = X_full[::10]\n",
    "y_full = y_full[::10]\n",
    "n_samples, n_features = X_full.shape"
   ],
   "id": "f6aae7247893b9c6",
   "outputs": [],
   "execution_count": 3
  },
  {
   "metadata": {
    "ExecuteTime": {
     "end_time": "2025-06-07T11:12:23.031574Z",
     "start_time": "2025-06-07T11:12:22.731914Z"
    }
   },
   "cell_type": "code",
   "source": [
    "# Baseline model performance on the full data without any missing values\n",
    "estimator = BayesianRidge()\n",
    "score_full_data = pd.DataFrame()\n",
    "score_full_data[\"BayesianRidge\"] = cross_val_score(\n",
    "    estimator, X_full, y_full, scoring=\"neg_mean_squared_error\", cv=N_SPLITS\n",
    ")\n",
    "score_full_data"
   ],
   "id": "aa178211834c4c6",
   "outputs": [
    {
     "data": {
      "text/plain": [
       "   BayesianRidge\n",
       "0      -0.408433\n",
       "1      -0.636009\n",
       "2      -0.614910\n",
       "3      -1.089616\n",
       "4      -0.407541"
      ],
      "text/html": [
       "<div>\n",
       "<style scoped>\n",
       "    .dataframe tbody tr th:only-of-type {\n",
       "        vertical-align: middle;\n",
       "    }\n",
       "\n",
       "    .dataframe tbody tr th {\n",
       "        vertical-align: top;\n",
       "    }\n",
       "\n",
       "    .dataframe thead th {\n",
       "        text-align: right;\n",
       "    }\n",
       "</style>\n",
       "<table border=\"1\" class=\"dataframe\">\n",
       "  <thead>\n",
       "    <tr style=\"text-align: right;\">\n",
       "      <th></th>\n",
       "      <th>BayesianRidge</th>\n",
       "    </tr>\n",
       "  </thead>\n",
       "  <tbody>\n",
       "    <tr>\n",
       "      <th>0</th>\n",
       "      <td>-0.408433</td>\n",
       "    </tr>\n",
       "    <tr>\n",
       "      <th>1</th>\n",
       "      <td>-0.636009</td>\n",
       "    </tr>\n",
       "    <tr>\n",
       "      <th>2</th>\n",
       "      <td>-0.614910</td>\n",
       "    </tr>\n",
       "    <tr>\n",
       "      <th>3</th>\n",
       "      <td>-1.089616</td>\n",
       "    </tr>\n",
       "    <tr>\n",
       "      <th>4</th>\n",
       "      <td>-0.407541</td>\n",
       "    </tr>\n",
       "  </tbody>\n",
       "</table>\n",
       "</div>"
      ]
     },
     "execution_count": 16,
     "metadata": {},
     "output_type": "execute_result"
    }
   ],
   "execution_count": 16
  },
  {
   "metadata": {},
   "cell_type": "markdown",
   "source": "# Add Missing Values",
   "id": "6df6356aefe5f93c"
  },
  {
   "metadata": {},
   "cell_type": "markdown",
   "source": "We will add a single missing value to each row of the dataset.",
   "id": "b8613258c4811366"
  },
  {
   "metadata": {
    "ExecuteTime": {
     "end_time": "2025-06-07T10:52:31.099536Z",
     "start_time": "2025-06-07T10:52:31.089759Z"
    }
   },
   "cell_type": "code",
   "source": [
    "X_missing = X_full.copy()\n",
    "y_missing = y_full\n",
    "missing_samples = np.arange(n_samples)\n",
    "missing_features = rng.choice(n_features, n_samples, replace=True)\n",
    "X_missing[missing_samples, missing_features] = np.nan"
   ],
   "id": "2c4423b2571b9807",
   "outputs": [],
   "execution_count": 7
  },
  {
   "metadata": {},
   "cell_type": "markdown",
   "source": "Adding missing values to a dataset is typically done for testing and experimentation purposes. It allows researchers and data scientists to evaluate how different imputation methods handle missing data, assess the robustness of machine learning models, and understand the impact of missing values on analysis and predictions. This practice helps in developing strategies to manage real-world datasets that often contain incomplete information.",
   "id": "db28243268dc337b"
  },
  {
   "metadata": {},
   "cell_type": "markdown",
   "source": "# Impute Missing Values with Simple Imputer",
   "id": "bfbc95c3bec8f943"
  },
  {
   "metadata": {},
   "cell_type": "markdown",
   "source": "We will use Scikit-Learn's SimpleImputer class to impute missing values using mean and median strategies.",
   "id": "29ec5ea40d95848"
  },
  {
   "metadata": {
    "ExecuteTime": {
     "end_time": "2025-06-07T10:54:00.508189Z",
     "start_time": "2025-06-07T10:54:00.468173Z"
    }
   },
   "cell_type": "code",
   "source": [
    "score_simple_imputer = pd.DataFrame()\n",
    "for strategy in (\"mean\", \"median\"):\n",
    "    estimator = make_pipeline(\n",
    "        SimpleImputer(missing_values=np.nan, strategy=strategy), BayesianRidge()\n",
    "    )\n",
    "    score_simple_imputer[strategy] = cross_val_score(\n",
    "        estimator, X_missing, y_missing, scoring=\"neg_mean_squared_error\", cv=N_SPLITS\n",
    "    )\n",
    "\n",
    "score_simple_imputer"
   ],
   "id": "372d0b81f348117b",
   "outputs": [
    {
     "data": {
      "text/plain": [
       "       mean    median\n",
       "0 -0.592220 -0.606432\n",
       "1 -0.744412 -0.743859\n",
       "2 -0.781688 -0.774929\n",
       "3 -1.226611 -1.211226\n",
       "4 -0.664787 -0.707737"
      ],
      "text/html": [
       "<div>\n",
       "<style scoped>\n",
       "    .dataframe tbody tr th:only-of-type {\n",
       "        vertical-align: middle;\n",
       "    }\n",
       "\n",
       "    .dataframe tbody tr th {\n",
       "        vertical-align: top;\n",
       "    }\n",
       "\n",
       "    .dataframe thead th {\n",
       "        text-align: right;\n",
       "    }\n",
       "</style>\n",
       "<table border=\"1\" class=\"dataframe\">\n",
       "  <thead>\n",
       "    <tr style=\"text-align: right;\">\n",
       "      <th></th>\n",
       "      <th>mean</th>\n",
       "      <th>median</th>\n",
       "    </tr>\n",
       "  </thead>\n",
       "  <tbody>\n",
       "    <tr>\n",
       "      <th>0</th>\n",
       "      <td>-0.592220</td>\n",
       "      <td>-0.606432</td>\n",
       "    </tr>\n",
       "    <tr>\n",
       "      <th>1</th>\n",
       "      <td>-0.744412</td>\n",
       "      <td>-0.743859</td>\n",
       "    </tr>\n",
       "    <tr>\n",
       "      <th>2</th>\n",
       "      <td>-0.781688</td>\n",
       "      <td>-0.774929</td>\n",
       "    </tr>\n",
       "    <tr>\n",
       "      <th>3</th>\n",
       "      <td>-1.226611</td>\n",
       "      <td>-1.211226</td>\n",
       "    </tr>\n",
       "    <tr>\n",
       "      <th>4</th>\n",
       "      <td>-0.664787</td>\n",
       "      <td>-0.707737</td>\n",
       "    </tr>\n",
       "  </tbody>\n",
       "</table>\n",
       "</div>"
      ]
     },
     "execution_count": 10,
     "metadata": {},
     "output_type": "execute_result"
    }
   ],
   "execution_count": 10
  },
  {
   "metadata": {},
   "cell_type": "markdown",
   "source": "# Impute Missing Values with Iterative Imputer",
   "id": "97d93e330fc8a377"
  },
  {
   "metadata": {},
   "cell_type": "markdown",
   "source": "We will use Scikit-Learn's **IterativeImputer** class to impute missing values using different estimators.",
   "id": "80eb2fae6d0e5c59"
  },
  {
   "metadata": {
    "ExecuteTime": {
     "end_time": "2025-06-07T11:04:35.750960Z",
     "start_time": "2025-06-07T11:04:22.391013Z"
    }
   },
   "cell_type": "code",
   "source": [
    "estimators = [\n",
    "    BayesianRidge(),\n",
    "    RandomForestRegressor(\n",
    "        n_estimators=4,\n",
    "        max_depth=10,\n",
    "        bootstrap=True,\n",
    "        max_samples=0.5,\n",
    "        n_jobs=2,\n",
    "        random_state=0,\n",
    "    ),\n",
    "    make_pipeline(\n",
    "        Nystroem(kernel=\"polynomial\", degree=2, random_state=0), Ridge(alpha=1e3)\n",
    "    ),\n",
    "    KNeighborsRegressor(n_neighbors=15),\n",
    "]\n",
    "score_iterative_imputer = pd.DataFrame()\n",
    "tolerances = (1e-3, 1e-1, 1e-1, 1e-2)\n",
    "for impute_estimator, tol in zip(estimators, tolerances):\n",
    "    estimator = make_pipeline(\n",
    "        IterativeImputer(\n",
    "            random_state=0, estimator=impute_estimator, max_iter=25, tol=tol\n",
    "        ),\n",
    "        BayesianRidge(),\n",
    "    )\n",
    "    score_iterative_imputer[impute_estimator.__class__.__name__] = cross_val_score(\n",
    "        estimator, X_missing, y_missing, scoring=\"neg_mean_squared_error\", cv=N_SPLITS\n",
    "    )\n",
    "\n",
    "score_iterative_imputer"
   ],
   "id": "6b17224d551c5d09",
   "outputs": [
    {
     "name": "stderr",
     "output_type": "stream",
     "text": [
      "/Library/Frameworks/Python.framework/Versions/3.12/lib/python3.12/site-packages/sklearn/impute/_iterative.py:895: ConvergenceWarning: [IterativeImputer] Early stopping criterion not reached.\n",
      "  warnings.warn(\n",
      "/Library/Frameworks/Python.framework/Versions/3.12/lib/python3.12/site-packages/sklearn/impute/_iterative.py:895: ConvergenceWarning: [IterativeImputer] Early stopping criterion not reached.\n",
      "  warnings.warn(\n"
     ]
    },
    {
     "data": {
      "text/plain": [
       "   BayesianRidge  RandomForestRegressor  Pipeline  KNeighborsRegressor\n",
       "0      -0.516986              -0.528015 -0.475720            -0.601761\n",
       "1      -0.749338              -0.697155 -0.681034            -0.744538\n",
       "2      -0.656458              -0.700494 -0.653568            -0.782995\n",
       "3      -0.851698              -1.066303 -1.240664            -1.248985\n",
       "4      -0.625168              -0.520285 -0.550648            -0.681261"
      ],
      "text/html": [
       "<div>\n",
       "<style scoped>\n",
       "    .dataframe tbody tr th:only-of-type {\n",
       "        vertical-align: middle;\n",
       "    }\n",
       "\n",
       "    .dataframe tbody tr th {\n",
       "        vertical-align: top;\n",
       "    }\n",
       "\n",
       "    .dataframe thead th {\n",
       "        text-align: right;\n",
       "    }\n",
       "</style>\n",
       "<table border=\"1\" class=\"dataframe\">\n",
       "  <thead>\n",
       "    <tr style=\"text-align: right;\">\n",
       "      <th></th>\n",
       "      <th>BayesianRidge</th>\n",
       "      <th>RandomForestRegressor</th>\n",
       "      <th>Pipeline</th>\n",
       "      <th>KNeighborsRegressor</th>\n",
       "    </tr>\n",
       "  </thead>\n",
       "  <tbody>\n",
       "    <tr>\n",
       "      <th>0</th>\n",
       "      <td>-0.516986</td>\n",
       "      <td>-0.528015</td>\n",
       "      <td>-0.475720</td>\n",
       "      <td>-0.601761</td>\n",
       "    </tr>\n",
       "    <tr>\n",
       "      <th>1</th>\n",
       "      <td>-0.749338</td>\n",
       "      <td>-0.697155</td>\n",
       "      <td>-0.681034</td>\n",
       "      <td>-0.744538</td>\n",
       "    </tr>\n",
       "    <tr>\n",
       "      <th>2</th>\n",
       "      <td>-0.656458</td>\n",
       "      <td>-0.700494</td>\n",
       "      <td>-0.653568</td>\n",
       "      <td>-0.782995</td>\n",
       "    </tr>\n",
       "    <tr>\n",
       "      <th>3</th>\n",
       "      <td>-0.851698</td>\n",
       "      <td>-1.066303</td>\n",
       "      <td>-1.240664</td>\n",
       "      <td>-1.248985</td>\n",
       "    </tr>\n",
       "    <tr>\n",
       "      <th>4</th>\n",
       "      <td>-0.625168</td>\n",
       "      <td>-0.520285</td>\n",
       "      <td>-0.550648</td>\n",
       "      <td>-0.681261</td>\n",
       "    </tr>\n",
       "  </tbody>\n",
       "</table>\n",
       "</div>"
      ]
     },
     "execution_count": 15,
     "metadata": {},
     "output_type": "execute_result"
    }
   ],
   "execution_count": 15
  },
  {
   "metadata": {},
   "cell_type": "markdown",
   "source": "The **IterativeImputer** class in Scikit-Learn is used for imputing missing values in a dataset using an iterative approach. It models each feature with missing values as a function of other features and uses a specified estimator (like **BayesianRidge**) to predict the missing values. The imputation process is performed iteratively, refining the estimates with each iteration until convergence is reached. This method is particularly useful for multivariate datasets, as it takes into account the relationships between features, leading to potentially more accurate imputations compared to simpler methods like mean or median imputation.",
   "id": "2cb21555e2646e84"
  },
  {
   "metadata": {},
   "cell_type": "markdown",
   "source": "# Compare Results",
   "id": "416ad9449a9e26e2"
  },
  {
   "metadata": {},
   "cell_type": "markdown",
   "source": "We will compare the results of different imputation strategies using a bar chart.",
   "id": "86996bc66f61ecd8"
  },
  {
   "metadata": {
    "ExecuteTime": {
     "end_time": "2025-06-07T11:14:43.987136Z",
     "start_time": "2025-06-07T11:14:43.831407Z"
    }
   },
   "cell_type": "code",
   "source": [
    "scores = pd.concat(\n",
    "    [score_full_data, score_simple_imputer, score_iterative_imputer],\n",
    "    keys = ['Original', 'SimpleImputer', 'IterativeImputer'],\n",
    "    axis=1,\n",
    ")\n",
    "\n",
    "fig, ax = plt.subplots(figsize=(13, 6))\n",
    "means = -scores.mean()\n",
    "errors = scores.std()\n",
    "means.plot.barh(xerr=errors, ax=ax)\n",
    "ax.set_title('California Housing Regression with Different Imputation Methods')\n",
    "ax.set_xlabel(\"MSE (smaller is better)\")\n",
    "ax.set_yticks(np.arange(means.shape[0]))\n",
    "ax.set_yticklabels([\" w/ \".join(label) for label in means.index.tolist()])\n",
    "plt.tight_layout(pad=1)\n",
    "plt.show()\n"
   ],
   "id": "44ecd41a72be040e",
   "outputs": [
    {
     "data": {
      "text/plain": [
       "<Figure size 1300x600 with 1 Axes>"
      ],
      "image/png": "[encoded data removed]"
     },
     "metadata": {},
     "output_type": "display_data"
    }
   ],
   "execution_count": 18
  },
  {
   "metadata": {},
   "cell_type": "markdown",
   "source": [
    "- IterativeImputer methods generally outperform SimpleImputer, especially those using models like BayesianRidge or RandomForest.\n",
    "\n",
    "- The \"Original\" model still performs best, showing that missing data hurts performance no matter how well it's imputed.\n",
    "\n",
    "- The error bars tell you how consistent the model is — shorter bars are more stable across CV splits."
   ],
   "id": "515243391214313d"
  },
  {
   "metadata": {},
   "cell_type": "markdown",
   "source": "# Summary",
   "id": "1147c6543805c484"
  },
  {
   "metadata": {},
   "cell_type": "markdown",
   "source": "In this lab, we learned how to use Scikit-Learn's **IterativeImputer** class to impute missing values in a dataset. We compared different imputation strategies using mean and median imputation with **SimpleImputer** and different estimators with **IterativeImputer**. We found that **BayesianRidge** and **RandomForestRegressor** gave the best results for this particular pattern of missing values in the California housing dataset.",
   "id": "c58cc8136c3a23f3"
  },
  {
   "metadata": {},
   "cell_type": "code",
   "outputs": [],
   "execution_count": null,
   "source": "",
   "id": "b9d66dd42556c8f"
  }
 ],
 "metadata": {
  "kernelspec": {
   "display_name": "Python 3",
   "language": "python",
   "name": "python3"
  },
  "language_info": {
   "codemirror_mode": {
    "name": "ipython",
    "version": 2
   },
   "file_extension": ".py",
   "mimetype": "text/x-python",
   "name": "python",
   "nbconvert_exporter": "python",
   "pygments_lexer": "ipython2",
   "version": "2.7.6"
  }
 },
 "nbformat": 4,
 "nbformat_minor": 5
}
