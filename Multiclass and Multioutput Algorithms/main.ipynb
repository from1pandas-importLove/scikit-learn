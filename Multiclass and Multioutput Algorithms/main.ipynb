{
 "cells": [
  {
   "metadata": {},
   "cell_type": "markdown",
   "source": "# Introduction",
   "id": "d6a8751006331bc3"
  },
  {
   "metadata": {},
   "cell_type": "markdown",
   "source": [
    "In this lab, we will explore the functionality and usage of multiclass and multioutput algorithms in scikit-learn. Multiclass classification is a classification task where samples are assigned to more than two classes. Multioutput classification, on the other hand, predicts multiple properties for each sample. We will cover the following topics:\n",
    "\n",
    "- Multiclass Classification\n",
    "- Multilabel Classification\n",
    "- Multiclass-Multioutput Classification\n",
    "- Multioutput Regression"
   ],
   "id": "805ab89f44a6a8b7"
  },
  {
   "metadata": {},
   "cell_type": "markdown",
   "source": "# Multiclass Classification",
   "id": "a52cd17b80fe26b2"
  },
  {
   "metadata": {},
   "cell_type": "markdown",
   "source": "## Problem Description",
   "id": "745c57710e6fef22"
  },
  {
   "metadata": {},
   "cell_type": "markdown",
   "source": "Multiclass classification is a classification task with more than two classes. Each sample is assigned to only one class.",
   "id": "79abc8a9bec29aa7"
  },
  {
   "metadata": {},
   "cell_type": "markdown",
   "source": "## Target Format",
   "id": "3f50cdfc947fe1be"
  },
  {
   "metadata": {},
   "cell_type": "markdown",
   "source": "A valid representation of multiclass targets is a 1D or column vector containing more than two discrete values.",
   "id": "4e9b656b0139a9b8"
  },
  {
   "metadata": {},
   "cell_type": "markdown",
   "source": "## Example",
   "id": "2614f7fe1e138984"
  },
  {
   "metadata": {},
   "cell_type": "markdown",
   "source": "Let's use the Iris dataset to demonstrate multiclass classification:",
   "id": "b895873ac4efb4b0"
  },
  {
   "metadata": {
    "ExecuteTime": {
     "end_time": "2025-06-18T04:37:07.852746Z",
     "start_time": "2025-06-18T04:37:04.630948Z"
    }
   },
   "cell_type": "code",
   "source": [
    "from sklearn import datasets\n",
    "from sklearn.linear_model import LogisticRegression\n",
    "from sklearn.multiclass import OneVsRestClassifier\n",
    "\n",
    "# Load the Iris dataset\n",
    "X, Y = datasets.load_iris(return_X_y=True)\n",
    "\n",
    "# Fit a logistic regression model using OneVsRestClassifier\n",
    "model = OneVsRestClassifier(LogisticRegression())\n",
    "model.fit(X, Y)\n",
    "\n",
    "# Make predictions\n",
    "predictions = model.predict(X)\n",
    "print(predictions)"
   ],
   "id": "4b8cf02ce41ec4a3",
   "outputs": [
    {
     "name": "stdout",
     "output_type": "stream",
     "text": [
      "[0 0 0 0 0 0 0 0 0 0 0 0 0 0 0 0 0 0 0 0 0 0 0 0 0 0 0 0 0 0 0 0 0 0 0 0 0\n",
      " 0 0 0 0 0 0 0 0 0 0 0 0 0 1 1 1 1 1 1 2 1 1 1 1 1 1 1 1 1 1 1 1 1 2 1 1 1\n",
      " 1 1 1 2 1 1 1 1 1 2 1 2 1 1 1 1 1 1 1 1 1 1 1 1 1 1 2 2 2 2 2 2 1 2 2 2 2\n",
      " 2 2 2 2 2 2 2 2 1 2 2 2 2 2 2 2 2 2 2 2 2 2 2 2 2 2 2 2 2 2 2 2 2 2 2 2 2\n",
      " 2 2]\n"
     ]
    }
   ],
   "execution_count": 1
  },
  {
   "metadata": {},
   "cell_type": "markdown",
   "source": "# Multilabel Classification",
   "id": "f85d2732b66ca207"
  },
  {
   "metadata": {},
   "cell_type": "markdown",
   "source": "## Problem Description",
   "id": "c691e421ff98de7e"
  },
  {
   "metadata": {},
   "cell_type": "markdown",
   "source": "Multilabel classification is a classification task where each sample can be assigned multiple labels. The number of labels each sample can have is greater than two",
   "id": "d35472db7e82d77c"
  },
  {
   "metadata": {},
   "cell_type": "markdown",
   "source": "## Target Format",
   "id": "ff6e10e6c75ea472"
  },
  {
   "metadata": {},
   "cell_type": "markdown",
   "source": "A valid representation of multilabel targets is a binary matrix, where each row represents a sample and each column represents a class. A value of 1 indicates the presence of the label in the sample, while 0 or -1 indicates the absence.",
   "id": "8bf3b42fb06125d"
  },
  {
   "metadata": {},
   "cell_type": "markdown",
   "source": "## Example",
   "id": "56a8d4c8a668c4c8"
  },
  {
   "metadata": {},
   "cell_type": "markdown",
   "source": "Let's create a multilabel classification problem using the make_classification function:",
   "id": "6e4914849a2714e6"
  },
  {
   "metadata": {
    "ExecuteTime": {
     "end_time": "2025-06-18T04:43:21.473693Z",
     "start_time": "2025-06-18T04:43:21.410922Z"
    }
   },
   "cell_type": "code",
   "source": [
    "from sklearn.datasets import make_classification\n",
    "from sklearn.multioutput import MultiOutputClassifier\n",
    "from sklearn.ensemble import RandomForestClassifier\n",
    "\n",
    "# Generate a multilabel classification problem\n",
    "X, y = make_classification(n_samples=100, n_features=10, n_informative=5, random_state=42)\n",
    "y = y.reshape(-1, 1)\n",
    "\n",
    "# Fit a multioutput random forest for classifier\n",
    "model = MultiOutputClassifier(RandomForestClassifier())\n",
    "model.fit(X, y)\n",
    "\n",
    "# Make predictions\n",
    "predictions = model.predict(X)\n",
    "print(predictions)"
   ],
   "id": "3737b0c98b4210db",
   "outputs": [
    {
     "name": "stdout",
     "output_type": "stream",
     "text": [
      "[[0]\n",
      " [0]\n",
      " [1]\n",
      " [0]\n",
      " [1]\n",
      " [0]\n",
      " [0]\n",
      " [1]\n",
      " [0]\n",
      " [1]\n",
      " [1]\n",
      " [0]\n",
      " [1]\n",
      " [0]\n",
      " [1]\n",
      " [0]\n",
      " [1]\n",
      " [0]\n",
      " [1]\n",
      " [1]\n",
      " [1]\n",
      " [0]\n",
      " [1]\n",
      " [1]\n",
      " [1]\n",
      " [1]\n",
      " [1]\n",
      " [0]\n",
      " [0]\n",
      " [0]\n",
      " [1]\n",
      " [1]\n",
      " [1]\n",
      " [0]\n",
      " [1]\n",
      " [0]\n",
      " [1]\n",
      " [1]\n",
      " [1]\n",
      " [0]\n",
      " [1]\n",
      " [0]\n",
      " [1]\n",
      " [0]\n",
      " [1]\n",
      " [0]\n",
      " [1]\n",
      " [1]\n",
      " [0]\n",
      " [0]\n",
      " [1]\n",
      " [0]\n",
      " [1]\n",
      " [0]\n",
      " [1]\n",
      " [1]\n",
      " [0]\n",
      " [0]\n",
      " [1]\n",
      " [1]\n",
      " [0]\n",
      " [1]\n",
      " [1]\n",
      " [0]\n",
      " [0]\n",
      " [1]\n",
      " [0]\n",
      " [0]\n",
      " [0]\n",
      " [0]\n",
      " [0]\n",
      " [0]\n",
      " [1]\n",
      " [0]\n",
      " [1]\n",
      " [0]\n",
      " [0]\n",
      " [1]\n",
      " [0]\n",
      " [1]\n",
      " [0]\n",
      " [1]\n",
      " [0]\n",
      " [1]\n",
      " [0]\n",
      " [0]\n",
      " [1]\n",
      " [1]\n",
      " [1]\n",
      " [0]\n",
      " [1]\n",
      " [0]\n",
      " [0]\n",
      " [0]\n",
      " [0]\n",
      " [0]\n",
      " [1]\n",
      " [1]\n",
      " [1]\n",
      " [0]]\n"
     ]
    }
   ],
   "execution_count": 3
  },
  {
   "metadata": {},
   "cell_type": "markdown",
   "source": "# Multiclass-Multioutput Classification",
   "id": "419221c143b0f079"
  },
  {
   "metadata": {},
   "cell_type": "markdown",
   "source": "## Problem Description",
   "id": "63c0eb4e7518025"
  },
  {
   "metadata": {},
   "cell_type": "markdown",
   "source": "Multiclass-multioutput classification, also known as multitask classification, predicts multiple non-binary properties for each sample. Each property can have more than two classes.",
   "id": "6218636c55e2495d"
  },
  {
   "metadata": {},
   "cell_type": "markdown",
   "source": "## Target Format",
   "id": "85ceb03e74f612d0"
  },
  {
   "metadata": {},
   "cell_type": "markdown",
   "source": "A valid representation of multiclass-multioutput targets is a dense matrix, where each row represents a sample and each column represents a different property or class.",
   "id": "41efa0cae9522c8e"
  },
  {
   "metadata": {},
   "cell_type": "markdown",
   "source": "## Example",
   "id": "576ec45dbc6adc44"
  },
  {
   "metadata": {},
   "cell_type": "markdown",
   "source": "Let's create a multiclass-multioutput classification problem using the make_classification function:",
   "id": "75fc60a7f2d50465"
  },
  {
   "metadata": {
    "ExecuteTime": {
     "end_time": "2025-06-18T04:51:28.952163Z",
     "start_time": "2025-06-18T04:51:28.924518Z"
    }
   },
   "cell_type": "code",
   "source": [
    "from sklearn.datasets import make_classification\n",
    "from sklearn.multioutput import MultiOutputClassifier\n",
    "from sklearn.svm import SVC\n",
    "import numpy as np\n",
    "\n",
    "# Create multiple target arrays\n",
    "X, y1 = make_classification(n_samples=100, n_features=10, n_informative=5, n_classes=3, random_state=0)\n",
    "_, y2 = make_classification(n_samples=100, n_features=10, n_informative=5, n_classes=3, random_state=1)\n",
    "\n",
    "# Stack them as a 2D array: shape (100, 2)\n",
    "y = np.column_stack((y1, y2))\n",
    "\n",
    "# Fit a multioutput support vector classifier\n",
    "model = MultiOutputClassifier(SVC())\n",
    "model.fit(X, y)\n",
    "\n",
    "# Make predictions\n",
    "predictions = model.predict(X)\n",
    "print(predictions.shape)  # should be (100, 2)\n"
   ],
   "id": "ef3a4919aabc407d",
   "outputs": [
    {
     "name": "stdout",
     "output_type": "stream",
     "text": [
      "(100, 2)\n"
     ]
    }
   ],
   "execution_count": 7
  },
  {
   "metadata": {},
   "cell_type": "markdown",
   "source": "# Multioutput Regression",
   "id": "374a5474d634a5a4"
  },
  {
   "metadata": {},
   "cell_type": "markdown",
   "source": "## Problem Description",
   "id": "c6a0f2270c9fbefb"
  },
  {
   "metadata": {},
   "cell_type": "markdown",
   "source": "Multioutput regression predicts multiple numerical properties for each sample. Each property is a numerical variable, and the number of properties can be greater than or equal to two.",
   "id": "77767cf81da879f5"
  },
  {
   "metadata": {},
   "cell_type": "markdown",
   "source": "## Target Format",
   "id": "9a1adc184bf7a9b9"
  },
  {
   "metadata": {},
   "cell_type": "markdown",
   "source": "A valid representation of multioutput regression targets is a dense matrix, where each row represents a sample and each column represents a different property.",
   "id": "bed6b7a27a20dbf5"
  },
  {
   "metadata": {},
   "cell_type": "markdown",
   "source": "## Example",
   "id": "9934e9e205954fb1"
  },
  {
   "metadata": {},
   "cell_type": "markdown",
   "source": "Let's create a multioutput regression problem using the make_regression function:",
   "id": "68769f959961c92f"
  },
  {
   "metadata": {
    "ExecuteTime": {
     "end_time": "2025-06-18T04:54:03.485552Z",
     "start_time": "2025-06-18T04:54:03.453943Z"
    }
   },
   "cell_type": "code",
   "source": [
    "from sklearn.datasets import make_regression\n",
    "from sklearn.multioutput import MultiOutputRegressor\n",
    "from sklearn.linear_model import LinearRegression\n",
    "\n",
    "# Generate a multioutput regression problem\n",
    "X, y = make_regression(n_samples=100, n_features=10, n_targets=3, random_state=0)\n",
    "\n",
    "# Fit a multioutput linear regression model\n",
    "model = MultiOutputRegressor(LinearRegression())\n",
    "model.fit(X, y)\n",
    "\n",
    "# Make predictions\n",
    "predictions = model.predict(X)\n",
    "print(predictions)"
   ],
   "id": "5ef031ec8bae4569",
   "outputs": [
    {
     "name": "stdout",
     "output_type": "stream",
     "text": [
      "[[ 386.40928649  489.45939394  511.26504808]\n",
      " [-420.85720458 -242.87078353 -243.3526257 ]\n",
      " [-531.3081273  -328.08104892 -380.67082752]\n",
      " [  59.8479058   115.75632017  127.45092232]\n",
      " [-301.14309399 -109.75582023 -118.10046999]\n",
      " [ 330.23664021  160.38092687  211.73437962]\n",
      " [ -51.32278088  -54.57647045  -43.81111988]\n",
      " [-348.36770587 -153.61343    -197.29736509]\n",
      " [ -52.27001642  -22.79439027    4.27864745]\n",
      " [  32.71918238  -63.50248726    1.07479876]\n",
      " [  38.91407303  -39.06803354  -45.78345534]\n",
      " [ 147.78471964   91.59271639  133.29104412]\n",
      " [ 200.39557445  233.97822447  311.49595322]\n",
      " [-430.35262667 -316.69089669 -401.62651282]\n",
      " [  77.9708449   -83.33288201 -122.34163175]\n",
      " [ -22.97630556  213.9634942   152.43942553]\n",
      " [-332.1485845  -134.8797029  -155.11440523]\n",
      " [-309.16780465  -13.69034685  -94.44911924]\n",
      " [-180.91116196 -137.34175145 -120.64587587]\n",
      " [-317.46158048 -146.22183428 -229.01713302]\n",
      " [  25.64753966   -2.74537018  -46.96177624]\n",
      " [-107.61122863  -18.47334034 -101.46569475]\n",
      " [-107.40707725  -83.01780001  -84.49676681]\n",
      " [ 168.16169229   34.55734176   38.10786966]\n",
      " [ 517.36082155  377.5859227   436.43385098]\n",
      " [-179.05466001 -147.64920649 -191.81486943]\n",
      " [  10.60152041  -18.91734858   68.77159033]\n",
      " [ -29.29213222  -96.60662937 -124.58865265]\n",
      " [ 131.38688214 -118.59798945 -122.66192387]\n",
      " [ 146.2238395  -150.32396518 -112.84749448]\n",
      " [-719.66819798 -512.84388982 -631.7316045 ]\n",
      " [-405.70266193 -313.38092144 -391.45733581]\n",
      " [ 175.95016542  132.70032252  217.28327512]\n",
      " [-287.84613508 -179.7969798  -231.56949332]\n",
      " [ 214.20051398  377.12009369  394.6975332 ]\n",
      " [-203.85735547 -387.73855292 -458.43556974]\n",
      " [  17.12060276  -44.91036378  -44.05872641]\n",
      " [ 114.36959608  137.44592377  137.79978283]\n",
      " [-191.51275899 -172.33975066 -260.57994517]\n",
      " [-379.1078339  -281.93169741 -370.04882894]\n",
      " [ 175.68526127  306.79915709  303.98320311]\n",
      " [-492.14322066  -95.03371439 -198.19595792]\n",
      " [ -77.62921869  -80.62773337  -28.40671335]\n",
      " [ 327.04347775  340.85695521  348.21436511]\n",
      " [ 377.00666433  141.17925433  205.1904498 ]\n",
      " [-153.06027301 -172.26725979 -136.56649439]\n",
      " [  18.47772354  -77.41339318  -63.53853908]\n",
      " [ 244.6151881    99.20139585   84.98681565]\n",
      " [-200.20412201 -121.54772029 -144.00451824]\n",
      " [  16.070391     19.05815608   28.91490814]\n",
      " [  51.20347762   38.91005456  111.0726073 ]\n",
      " [ -16.32879208  -78.79177511  -28.70124292]\n",
      " [-123.75457545 -135.71706663 -178.34368107]\n",
      " [ 102.38341896   42.77158873   78.97563753]\n",
      " [ -36.85685348 -138.49685314 -155.77760609]\n",
      " [-256.525245   -122.09076634 -197.60594969]\n",
      " [ -87.74438305 -184.41959676 -187.10995611]\n",
      " [-328.93005205  -70.74373363  -84.92164814]\n",
      " [  62.29877029  -97.9401167   -28.4387679 ]\n",
      " [ 174.71695869  135.03119534  167.2701091 ]\n",
      " [ 143.15089421   78.80149177   81.46046141]\n",
      " [ 132.23872591  -71.95437722 -108.50722386]\n",
      " [-254.60346069 -332.74133744 -361.87169556]\n",
      " [ 258.31994763   58.00787322   96.95057591]\n",
      " [  51.57461911  -13.88604202   -7.69368978]\n",
      " [  21.26028121  139.49937905   89.45246818]\n",
      " [ 138.09587947   96.85533963  138.49151874]\n",
      " [-141.94468321 -136.39930793  -89.38805318]\n",
      " [ -16.97988405 -143.52977867 -101.06482188]\n",
      " [ -12.1186908   -54.51088839   81.51043656]\n",
      " [-538.59401214 -344.73384825 -490.56836114]\n",
      " [-132.78295356 -178.50952243 -189.49531   ]\n",
      " [ 451.5318381   485.38126647  621.07821598]\n",
      " [ 141.20621793  -62.32637471  -66.89630744]\n",
      " [ -69.89365941   86.30458551   23.97147526]\n",
      " [  98.24168272  236.55894535  340.85279413]\n",
      " [ -87.29893354 -135.80824571 -150.23385468]\n",
      " [ 422.81467504    9.39812993  108.15903894]\n",
      " [-159.86346207  -48.83789815  -80.56338564]\n",
      " [ -16.68845519  -43.4429464    -8.7176384 ]\n",
      " [-232.79427678 -149.6904686  -243.15779821]\n",
      " [  60.73697618   84.68866086   79.77563037]\n",
      " [ 115.48905392 -107.81103774  -19.51861289]\n",
      " [  83.50924139  156.63657806  255.70222582]\n",
      " [-154.3465316   -95.90395999 -101.43695873]\n",
      " [  74.60307241  120.95915891  118.71466349]\n",
      " [-268.47326853  -72.78096437  -96.43735621]\n",
      " [-219.288355   -281.02461176 -307.17695865]\n",
      " [-182.59889648   11.45155858  -63.7866678 ]\n",
      " [-104.98413954  -36.5103088   -42.35703195]\n",
      " [-113.60814363 -129.43814272  -35.56979676]\n",
      " [ -80.18165882  -88.49864047 -128.11090803]\n",
      " [-197.34047597 -273.86919281 -328.93253339]\n",
      " [ -94.4779252   -62.70886465  -58.24485984]\n",
      " [ -72.87523313  -52.64302623  -60.56751711]\n",
      " [ -46.81384384   23.86128363   19.16547509]\n",
      " [ 304.22780074  110.01678355  173.12092313]\n",
      " [ -14.86794859  163.07038503  147.22337484]\n",
      " [ 166.38023301    7.91249279  -49.05245104]\n",
      " [ 372.51052354  183.71865761  279.5799913 ]]\n"
     ]
    }
   ],
   "execution_count": 8
  },
  {
   "metadata": {},
   "cell_type": "markdown",
   "source": "# Summary",
   "id": "a36319e00de166b9"
  },
  {
   "metadata": {},
   "cell_type": "markdown",
   "source": "In this lab, we explored multiclass and multioutput algorithms in scikit-learn. We covered multiclass classification, multilabel classification, multiclass-multioutput classification, and multioutput regression. These algorithms allow us to solve complex classification and regression tasks with multiple targets or classes.",
   "id": "15d6d2c4a31aa417"
  },
  {
   "metadata": {},
   "cell_type": "code",
   "outputs": [],
   "execution_count": null,
   "source": "",
   "id": "31619d8c675d7c54"
  }
 ],
 "metadata": {
  "kernelspec": {
   "display_name": "Python 3",
   "language": "python",
   "name": "python3"
  },
  "language_info": {
   "codemirror_mode": {
    "name": "ipython",
    "version": 2
   },
   "file_extension": ".py",
   "mimetype": "text/x-python",
   "name": "python",
   "nbconvert_exporter": "python",
   "pygments_lexer": "ipython2",
   "version": "2.7.6"
  }
 },
 "nbformat": 4,
 "nbformat_minor": 5
}
