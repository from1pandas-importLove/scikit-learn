{
 "cells": [
  {
   "metadata": {},
   "cell_type": "markdown",
   "source": "# Introduction",
   "id": "4cf800cdc15aeb95"
  },
  {
   "metadata": {},
   "cell_type": "markdown",
   "source": "In this lab, we will learn about selecting the best hyperparameter alpha for Lasso regression models. Two approaches will be discussed: (1) selecting the optimal value of alpha by only using the training set and some information criterion, and (2) selecting the best hyperparameter using cross-validation. We will use the diabetes dataset in this example.",
   "id": "dc0623bcb9cd41cf"
  },
  {
   "metadata": {},
   "cell_type": "markdown",
   "source": "# Dataset",
   "id": "7478f1cfa2f07b5d"
  },
  {
   "metadata": {},
   "cell_type": "markdown",
   "source": "First, we will load the diabetes dataset using the **load_diabetes** function from **sklearn.datasets**. The dataset consists of 10 baseline variables, age, sex, body mass index, average blood pressure, and six blood serum measurements, and a quantitative measure of disease progression one year after baseline.",
   "id": "8395d3eb51eddc84"
  },
  {
   "cell_type": "code",
   "id": "initial_id",
   "metadata": {
    "collapsed": true,
    "ExecuteTime": {
     "end_time": "2025-07-03T20:58:10.552296Z",
     "start_time": "2025-07-03T20:58:06.939092Z"
    }
   },
   "source": [
    "from sklearn.datasets import load_diabetes\n",
    "\n",
    "X, y = load_diabetes(return_X_y=True, as_frame=True)\n",
    "X.head()"
   ],
   "outputs": [
    {
     "data": {
      "text/plain": [
       "        age       sex       bmi        bp        s1        s2        s3  \\\n",
       "0  0.038076  0.050680  0.061696  0.021872 -0.044223 -0.034821 -0.043401   \n",
       "1 -0.001882 -0.044642 -0.051474 -0.026328 -0.008449 -0.019163  0.074412   \n",
       "2  0.085299  0.050680  0.044451 -0.005670 -0.045599 -0.034194 -0.032356   \n",
       "3 -0.089063 -0.044642 -0.011595 -0.036656  0.012191  0.024991 -0.036038   \n",
       "4  0.005383 -0.044642 -0.036385  0.021872  0.003935  0.015596  0.008142   \n",
       "\n",
       "         s4        s5        s6  \n",
       "0 -0.002592  0.019907 -0.017646  \n",
       "1 -0.039493 -0.068332 -0.092204  \n",
       "2 -0.002592  0.002861 -0.025930  \n",
       "3  0.034309  0.022688 -0.009362  \n",
       "4 -0.002592 -0.031988 -0.046641  "
      ],
      "text/html": [
       "<div>\n",
       "<style scoped>\n",
       "    .dataframe tbody tr th:only-of-type {\n",
       "        vertical-align: middle;\n",
       "    }\n",
       "\n",
       "    .dataframe tbody tr th {\n",
       "        vertical-align: top;\n",
       "    }\n",
       "\n",
       "    .dataframe thead th {\n",
       "        text-align: right;\n",
       "    }\n",
       "</style>\n",
       "<table border=\"1\" class=\"dataframe\">\n",
       "  <thead>\n",
       "    <tr style=\"text-align: right;\">\n",
       "      <th></th>\n",
       "      <th>age</th>\n",
       "      <th>sex</th>\n",
       "      <th>bmi</th>\n",
       "      <th>bp</th>\n",
       "      <th>s1</th>\n",
       "      <th>s2</th>\n",
       "      <th>s3</th>\n",
       "      <th>s4</th>\n",
       "      <th>s5</th>\n",
       "      <th>s6</th>\n",
       "    </tr>\n",
       "  </thead>\n",
       "  <tbody>\n",
       "    <tr>\n",
       "      <th>0</th>\n",
       "      <td>0.038076</td>\n",
       "      <td>0.050680</td>\n",
       "      <td>0.061696</td>\n",
       "      <td>0.021872</td>\n",
       "      <td>-0.044223</td>\n",
       "      <td>-0.034821</td>\n",
       "      <td>-0.043401</td>\n",
       "      <td>-0.002592</td>\n",
       "      <td>0.019907</td>\n",
       "      <td>-0.017646</td>\n",
       "    </tr>\n",
       "    <tr>\n",
       "      <th>1</th>\n",
       "      <td>-0.001882</td>\n",
       "      <td>-0.044642</td>\n",
       "      <td>-0.051474</td>\n",
       "      <td>-0.026328</td>\n",
       "      <td>-0.008449</td>\n",
       "      <td>-0.019163</td>\n",
       "      <td>0.074412</td>\n",
       "      <td>-0.039493</td>\n",
       "      <td>-0.068332</td>\n",
       "      <td>-0.092204</td>\n",
       "    </tr>\n",
       "    <tr>\n",
       "      <th>2</th>\n",
       "      <td>0.085299</td>\n",
       "      <td>0.050680</td>\n",
       "      <td>0.044451</td>\n",
       "      <td>-0.005670</td>\n",
       "      <td>-0.045599</td>\n",
       "      <td>-0.034194</td>\n",
       "      <td>-0.032356</td>\n",
       "      <td>-0.002592</td>\n",
       "      <td>0.002861</td>\n",
       "      <td>-0.025930</td>\n",
       "    </tr>\n",
       "    <tr>\n",
       "      <th>3</th>\n",
       "      <td>-0.089063</td>\n",
       "      <td>-0.044642</td>\n",
       "      <td>-0.011595</td>\n",
       "      <td>-0.036656</td>\n",
       "      <td>0.012191</td>\n",
       "      <td>0.024991</td>\n",
       "      <td>-0.036038</td>\n",
       "      <td>0.034309</td>\n",
       "      <td>0.022688</td>\n",
       "      <td>-0.009362</td>\n",
       "    </tr>\n",
       "    <tr>\n",
       "      <th>4</th>\n",
       "      <td>0.005383</td>\n",
       "      <td>-0.044642</td>\n",
       "      <td>-0.036385</td>\n",
       "      <td>0.021872</td>\n",
       "      <td>0.003935</td>\n",
       "      <td>0.015596</td>\n",
       "      <td>0.008142</td>\n",
       "      <td>-0.002592</td>\n",
       "      <td>-0.031988</td>\n",
       "      <td>-0.046641</td>\n",
       "    </tr>\n",
       "  </tbody>\n",
       "</table>\n",
       "</div>"
      ]
     },
     "execution_count": 1,
     "metadata": {},
     "output_type": "execute_result"
    }
   ],
   "execution_count": 1
  },
  {
   "metadata": {},
   "cell_type": "markdown",
   "source": "# Adding Random Features",
   "id": "fab35f490a88e395"
  },
  {
   "metadata": {},
   "cell_type": "markdown",
   "source": "We will add some random features to the original data to better illustrate the feature selection performed by the Lasso model. Random features will be generated using the **RandomState** function from **numpy**",
   "id": "d829c2c17b8f21e4"
  },
  {
   "metadata": {
    "ExecuteTime": {
     "end_time": "2025-07-03T21:00:29.275206Z",
     "start_time": "2025-07-03T21:00:29.252775Z"
    }
   },
   "cell_type": "code",
   "source": [
    "import numpy as np\n",
    "import pandas as pd\n",
    "\n",
    "rng = np.random.RandomState(42)\n",
    "n_random_features = 14\n",
    "X_random = pd.DataFrame(\n",
    "    rng.randn(X.shape[0], n_random_features),\n",
    "    columns=[f'random_{i:02d}' for i in range(n_random_features)],\n",
    ")\n",
    "X = pd.concat([X, X_random], axis=1)\n",
    "X[X.columns[::3]].head()"
   ],
   "id": "216b81fd4a007a48",
   "outputs": [
    {
     "data": {
      "text/plain": [
       "        age        bp        s3        s6  random_02  random_05  random_08  \\\n",
       "0  0.038076  0.021872 -0.043401 -0.017646   0.647689  -0.234137  -0.469474   \n",
       "1 -0.001882 -0.026328  0.074412 -0.092204  -1.012831  -1.412304   0.067528   \n",
       "2  0.085299 -0.005670 -0.032356 -0.025930  -0.601707  -1.057711   0.208864   \n",
       "3 -0.089063 -0.036656 -0.036038 -0.009362  -1.478522   1.057122   0.324084   \n",
       "4  0.005383  0.021872  0.008142 -0.046641   0.331263  -0.185659   0.812526   \n",
       "\n",
       "   random_11  \n",
       "0  -0.465730  \n",
       "1   0.110923  \n",
       "2   0.196861  \n",
       "3   0.611676  \n",
       "4   1.003533  "
      ],
      "text/html": [
       "<div>\n",
       "<style scoped>\n",
       "    .dataframe tbody tr th:only-of-type {\n",
       "        vertical-align: middle;\n",
       "    }\n",
       "\n",
       "    .dataframe tbody tr th {\n",
       "        vertical-align: top;\n",
       "    }\n",
       "\n",
       "    .dataframe thead th {\n",
       "        text-align: right;\n",
       "    }\n",
       "</style>\n",
       "<table border=\"1\" class=\"dataframe\">\n",
       "  <thead>\n",
       "    <tr style=\"text-align: right;\">\n",
       "      <th></th>\n",
       "      <th>age</th>\n",
       "      <th>bp</th>\n",
       "      <th>s3</th>\n",
       "      <th>s6</th>\n",
       "      <th>random_02</th>\n",
       "      <th>random_05</th>\n",
       "      <th>random_08</th>\n",
       "      <th>random_11</th>\n",
       "    </tr>\n",
       "  </thead>\n",
       "  <tbody>\n",
       "    <tr>\n",
       "      <th>0</th>\n",
       "      <td>0.038076</td>\n",
       "      <td>0.021872</td>\n",
       "      <td>-0.043401</td>\n",
       "      <td>-0.017646</td>\n",
       "      <td>0.647689</td>\n",
       "      <td>-0.234137</td>\n",
       "      <td>-0.469474</td>\n",
       "      <td>-0.465730</td>\n",
       "    </tr>\n",
       "    <tr>\n",
       "      <th>1</th>\n",
       "      <td>-0.001882</td>\n",
       "      <td>-0.026328</td>\n",
       "      <td>0.074412</td>\n",
       "      <td>-0.092204</td>\n",
       "      <td>-1.012831</td>\n",
       "      <td>-1.412304</td>\n",
       "      <td>0.067528</td>\n",
       "      <td>0.110923</td>\n",
       "    </tr>\n",
       "    <tr>\n",
       "      <th>2</th>\n",
       "      <td>0.085299</td>\n",
       "      <td>-0.005670</td>\n",
       "      <td>-0.032356</td>\n",
       "      <td>-0.025930</td>\n",
       "      <td>-0.601707</td>\n",
       "      <td>-1.057711</td>\n",
       "      <td>0.208864</td>\n",
       "      <td>0.196861</td>\n",
       "    </tr>\n",
       "    <tr>\n",
       "      <th>3</th>\n",
       "      <td>-0.089063</td>\n",
       "      <td>-0.036656</td>\n",
       "      <td>-0.036038</td>\n",
       "      <td>-0.009362</td>\n",
       "      <td>-1.478522</td>\n",
       "      <td>1.057122</td>\n",
       "      <td>0.324084</td>\n",
       "      <td>0.611676</td>\n",
       "    </tr>\n",
       "    <tr>\n",
       "      <th>4</th>\n",
       "      <td>0.005383</td>\n",
       "      <td>0.021872</td>\n",
       "      <td>0.008142</td>\n",
       "      <td>-0.046641</td>\n",
       "      <td>0.331263</td>\n",
       "      <td>-0.185659</td>\n",
       "      <td>0.812526</td>\n",
       "      <td>1.003533</td>\n",
       "    </tr>\n",
       "  </tbody>\n",
       "</table>\n",
       "</div>"
      ]
     },
     "execution_count": 2,
     "metadata": {},
     "output_type": "execute_result"
    }
   ],
   "execution_count": 2
  },
  {
   "metadata": {},
   "cell_type": "markdown",
   "source": "# Selecting Lasso via an Information Criterion",
   "id": "c1dbb024f5b863ee"
  },
  {
   "metadata": {},
   "cell_type": "markdown",
   "source": "We will use the **LassoLarsIC** function from **sklearn.linear_model** to provide a Lasso estimator that uses the Akaike information criterion (AIC) or the Bayes information criterion (BIC) to select the optimal value of the regularization parameter alpha. We will first fit a Lasso model with the AIC criterion.",
   "id": "8f67755621c66b4f"
  },
  {
   "metadata": {
    "ExecuteTime": {
     "end_time": "2025-07-03T21:03:53.757204Z",
     "start_time": "2025-07-03T21:03:53.245233Z"
    }
   },
   "cell_type": "code",
   "source": [
    "import time\n",
    "from sklearn.preprocessing import StandardScaler\n",
    "from sklearn.linear_model import LassoLarsIC\n",
    "from sklearn.pipeline import make_pipeline\n",
    "\n",
    "start = time.time()\n",
    "lasso_lars_ic = make_pipeline(StandardScaler(), LassoLarsIC(criterion='aic')).fit(X, y)\n",
    "fit_time = time.time() - start"
   ],
   "id": "b257bbadc9c1df92",
   "outputs": [],
   "execution_count": 3
  },
  {
   "metadata": {},
   "cell_type": "markdown",
   "source": "# Storing Results and Checking Optimal Alpha",
   "id": "ba39943cbdb0cd83"
  },
  {
   "metadata": {},
   "cell_type": "markdown",
   "source": "We will store the AIC metric for each value of alpha used during **fit**. We will then perform the same analysis using the BIC criterion. Finally, we will check which value of **alpha** leads to the minimum AIC and BIC.",
   "id": "62adca8ffac4dd82"
  },
  {
   "metadata": {
    "ExecuteTime": {
     "end_time": "2025-07-03T21:33:17.090814Z",
     "start_time": "2025-07-03T21:33:17.048039Z"
    }
   },
   "cell_type": "code",
   "source": [
    "results = pd.DataFrame(\n",
    "    {\n",
    "        \"alphas\": lasso_lars_ic[-1].alphas_,\n",
    "        \"AIC criterion\": lasso_lars_ic[-1].criterion_,\n",
    "    }\n",
    ").set_index(\"alphas\")\n",
    "alpha_aic = lasso_lars_ic[-1].alpha_\n",
    "\n",
    "lasso_lars_ic.set_params(lassolarsic__criterion=\"bic\").fit(X, y)\n",
    "results[\"BIC criterion\"] = lasso_lars_ic[-1].criterion_\n",
    "alpha_bic = lasso_lars_ic[-1].alpha_\n",
    "\n",
    "def highlight_min(x):\n",
    "    x_min = x.min()\n",
    "    return [\"font-weight: bold\" if v == x_min else \"\" for v in x]\n",
    "\n",
    "\n",
    "results.style.apply(highlight_min)"
   ],
   "id": "3714f6990e97c8c9",
   "outputs": [
    {
     "data": {
      "text/plain": [
       "<pandas.io.formats.style.Styler at 0x13d311190>"
      ],
      "text/html": [
       "<style type=\"text/css\">\n",
       "#T_e342e_row6_col0, #T_e342e_row6_col1 {\n",
       "  font-weight: bold;\n",
       "}\n",
       "</style>\n",
       "<table id=\"T_e342e\">\n",
       "  <thead>\n",
       "    <tr>\n",
       "      <th class=\"blank level0\" >&nbsp;</th>\n",
       "      <th id=\"T_e342e_level0_col0\" class=\"col_heading level0 col0\" >AIC criterion</th>\n",
       "      <th id=\"T_e342e_level0_col1\" class=\"col_heading level0 col1\" >BIC criterion</th>\n",
       "    </tr>\n",
       "    <tr>\n",
       "      <th class=\"index_name level0\" >alphas</th>\n",
       "      <th class=\"blank col0\" >&nbsp;</th>\n",
       "      <th class=\"blank col1\" >&nbsp;</th>\n",
       "    </tr>\n",
       "  </thead>\n",
       "  <tbody>\n",
       "    <tr>\n",
       "      <th id=\"T_e342e_level0_row0\" class=\"row_heading level0 row0\" >45.160030</th>\n",
       "      <td id=\"T_e342e_row0_col0\" class=\"data row0 col0\" >5244.764779</td>\n",
       "      <td id=\"T_e342e_row0_col1\" class=\"data row0 col1\" >5244.764779</td>\n",
       "    </tr>\n",
       "    <tr>\n",
       "      <th id=\"T_e342e_level0_row1\" class=\"row_heading level0 row1\" >42.300343</th>\n",
       "      <td id=\"T_e342e_row1_col0\" class=\"data row1 col0\" >5212.341949</td>\n",
       "      <td id=\"T_e342e_row1_col1\" class=\"data row1 col1\" >5212.341949</td>\n",
       "    </tr>\n",
       "    <tr>\n",
       "      <th id=\"T_e342e_level0_row2\" class=\"row_heading level0 row2\" >21.542052</th>\n",
       "      <td id=\"T_e342e_row2_col0\" class=\"data row2 col0\" >4936.201520</td>\n",
       "      <td id=\"T_e342e_row2_col1\" class=\"data row2 col1\" >4936.201520</td>\n",
       "    </tr>\n",
       "    <tr>\n",
       "      <th id=\"T_e342e_level0_row3\" class=\"row_heading level0 row3\" >15.034077</th>\n",
       "      <td id=\"T_e342e_row3_col0\" class=\"data row3 col0\" >4881.952289</td>\n",
       "      <td id=\"T_e342e_row3_col1\" class=\"data row3 col1\" >4881.952289</td>\n",
       "    </tr>\n",
       "    <tr>\n",
       "      <th id=\"T_e342e_level0_row4\" class=\"row_heading level0 row4\" >6.189631</th>\n",
       "      <td id=\"T_e342e_row4_col0\" class=\"data row4 col0\" >4831.802601</td>\n",
       "      <td id=\"T_e342e_row4_col1\" class=\"data row4 col1\" >4831.802601</td>\n",
       "    </tr>\n",
       "    <tr>\n",
       "      <th id=\"T_e342e_level0_row5\" class=\"row_heading level0 row5\" >5.329616</th>\n",
       "      <td id=\"T_e342e_row5_col0\" class=\"data row5 col0\" >4830.880191</td>\n",
       "      <td id=\"T_e342e_row5_col1\" class=\"data row5 col1\" >4830.880191</td>\n",
       "    </tr>\n",
       "    <tr>\n",
       "      <th id=\"T_e342e_level0_row6\" class=\"row_heading level0 row6\" >4.306012</th>\n",
       "      <td id=\"T_e342e_row6_col0\" class=\"data row6 col0\" >4828.121351</td>\n",
       "      <td id=\"T_e342e_row6_col1\" class=\"data row6 col1\" >4828.121351</td>\n",
       "    </tr>\n",
       "    <tr>\n",
       "      <th id=\"T_e342e_level0_row7\" class=\"row_heading level0 row7\" >4.124225</th>\n",
       "      <td id=\"T_e342e_row7_col0\" class=\"data row7 col0\" >4832.765671</td>\n",
       "      <td id=\"T_e342e_row7_col1\" class=\"data row7 col1\" >4832.765671</td>\n",
       "    </tr>\n",
       "    <tr>\n",
       "      <th id=\"T_e342e_level0_row8\" class=\"row_heading level0 row8\" >3.820705</th>\n",
       "      <td id=\"T_e342e_row8_col0\" class=\"data row8 col0\" >4836.352124</td>\n",
       "      <td id=\"T_e342e_row8_col1\" class=\"data row8 col1\" >4836.352124</td>\n",
       "    </tr>\n",
       "    <tr>\n",
       "      <th id=\"T_e342e_level0_row9\" class=\"row_heading level0 row9\" >3.750389</th>\n",
       "      <td id=\"T_e342e_row9_col0\" class=\"data row9 col0\" >4841.834310</td>\n",
       "      <td id=\"T_e342e_row9_col1\" class=\"data row9 col1\" >4841.834310</td>\n",
       "    </tr>\n",
       "    <tr>\n",
       "      <th id=\"T_e342e_level0_row10\" class=\"row_heading level0 row10\" >3.570655</th>\n",
       "      <td id=\"T_e342e_row10_col0\" class=\"data row10 col0\" >4846.203174</td>\n",
       "      <td id=\"T_e342e_row10_col1\" class=\"data row10 col1\" >4846.203174</td>\n",
       "    </tr>\n",
       "    <tr>\n",
       "      <th id=\"T_e342e_level0_row11\" class=\"row_heading level0 row11\" >3.550213</th>\n",
       "      <td id=\"T_e342e_row11_col0\" class=\"data row11 col0\" >4852.080295</td>\n",
       "      <td id=\"T_e342e_row11_col1\" class=\"data row11 col1\" >4852.080295</td>\n",
       "    </tr>\n",
       "    <tr>\n",
       "      <th id=\"T_e342e_level0_row12\" class=\"row_heading level0 row12\" >3.358295</th>\n",
       "      <td id=\"T_e342e_row12_col0\" class=\"data row12 col0\" >4855.973770</td>\n",
       "      <td id=\"T_e342e_row12_col1\" class=\"data row12 col1\" >4855.973770</td>\n",
       "    </tr>\n",
       "    <tr>\n",
       "      <th id=\"T_e342e_level0_row13\" class=\"row_heading level0 row13\" >3.259297</th>\n",
       "      <td id=\"T_e342e_row13_col0\" class=\"data row13 col0\" >4860.893055</td>\n",
       "      <td id=\"T_e342e_row13_col1\" class=\"data row13 col1\" >4860.893055</td>\n",
       "    </tr>\n",
       "    <tr>\n",
       "      <th id=\"T_e342e_level0_row14\" class=\"row_heading level0 row14\" >3.237703</th>\n",
       "      <td id=\"T_e342e_row14_col0\" class=\"data row14 col0\" >4866.718747</td>\n",
       "      <td id=\"T_e342e_row14_col1\" class=\"data row14 col1\" >4866.718747</td>\n",
       "    </tr>\n",
       "    <tr>\n",
       "      <th id=\"T_e342e_level0_row15\" class=\"row_heading level0 row15\" >2.850031</th>\n",
       "      <td id=\"T_e342e_row15_col0\" class=\"data row15 col0\" >4867.358990</td>\n",
       "      <td id=\"T_e342e_row15_col1\" class=\"data row15 col1\" >4867.358990</td>\n",
       "    </tr>\n",
       "    <tr>\n",
       "      <th id=\"T_e342e_level0_row16\" class=\"row_heading level0 row16\" >2.384338</th>\n",
       "      <td id=\"T_e342e_row16_col0\" class=\"data row16 col0\" >4867.163224</td>\n",
       "      <td id=\"T_e342e_row16_col1\" class=\"data row16 col1\" >4867.163224</td>\n",
       "    </tr>\n",
       "    <tr>\n",
       "      <th id=\"T_e342e_level0_row17\" class=\"row_heading level0 row17\" >2.296575</th>\n",
       "      <td id=\"T_e342e_row17_col0\" class=\"data row17 col0\" >4872.147022</td>\n",
       "      <td id=\"T_e342e_row17_col1\" class=\"data row17 col1\" >4872.147022</td>\n",
       "    </tr>\n",
       "    <tr>\n",
       "      <th id=\"T_e342e_level0_row18\" class=\"row_heading level0 row18\" >2.031555</th>\n",
       "      <td id=\"T_e342e_row18_col0\" class=\"data row18 col0\" >4874.880298</td>\n",
       "      <td id=\"T_e342e_row18_col1\" class=\"data row18 col1\" >4874.880298</td>\n",
       "    </tr>\n",
       "    <tr>\n",
       "      <th id=\"T_e342e_level0_row19\" class=\"row_heading level0 row19\" >1.618263</th>\n",
       "      <td id=\"T_e342e_row19_col0\" class=\"data row19 col0\" >4876.218997</td>\n",
       "      <td id=\"T_e342e_row19_col1\" class=\"data row19 col1\" >4876.218997</td>\n",
       "    </tr>\n",
       "    <tr>\n",
       "      <th id=\"T_e342e_level0_row20\" class=\"row_heading level0 row20\" >1.526599</th>\n",
       "      <td id=\"T_e342e_row20_col0\" class=\"data row20 col0\" >4881.370039</td>\n",
       "      <td id=\"T_e342e_row20_col1\" class=\"data row20 col1\" >4881.370039</td>\n",
       "    </tr>\n",
       "    <tr>\n",
       "      <th id=\"T_e342e_level0_row21\" class=\"row_heading level0 row21\" >0.586798</th>\n",
       "      <td id=\"T_e342e_row21_col0\" class=\"data row21 col0\" >4880.156252</td>\n",
       "      <td id=\"T_e342e_row21_col1\" class=\"data row21 col1\" >4880.156252</td>\n",
       "    </tr>\n",
       "    <tr>\n",
       "      <th id=\"T_e342e_level0_row22\" class=\"row_heading level0 row22\" >0.445978</th>\n",
       "      <td id=\"T_e342e_row22_col0\" class=\"data row22 col0\" >4885.598533</td>\n",
       "      <td id=\"T_e342e_row22_col1\" class=\"data row22 col1\" >4885.598533</td>\n",
       "    </tr>\n",
       "    <tr>\n",
       "      <th id=\"T_e342e_level0_row23\" class=\"row_heading level0 row23\" >0.259031</th>\n",
       "      <td id=\"T_e342e_row23_col0\" class=\"data row23 col0\" >4891.067109</td>\n",
       "      <td id=\"T_e342e_row23_col1\" class=\"data row23 col1\" >4891.067109</td>\n",
       "    </tr>\n",
       "    <tr>\n",
       "      <th id=\"T_e342e_level0_row24\" class=\"row_heading level0 row24\" >0.032179</th>\n",
       "      <td id=\"T_e342e_row24_col0\" class=\"data row24 col0\" >4888.762537</td>\n",
       "      <td id=\"T_e342e_row24_col1\" class=\"data row24 col1\" >4888.762537</td>\n",
       "    </tr>\n",
       "    <tr>\n",
       "      <th id=\"T_e342e_level0_row25\" class=\"row_heading level0 row25\" >0.019069</th>\n",
       "      <td id=\"T_e342e_row25_col0\" class=\"data row25 col0\" >4888.752867</td>\n",
       "      <td id=\"T_e342e_row25_col1\" class=\"data row25 col1\" >4888.752867</td>\n",
       "    </tr>\n",
       "    <tr>\n",
       "      <th id=\"T_e342e_level0_row26\" class=\"row_heading level0 row26\" >0.000000</th>\n",
       "      <td id=\"T_e342e_row26_col0\" class=\"data row26 col0\" >4894.817724</td>\n",
       "      <td id=\"T_e342e_row26_col1\" class=\"data row26 col1\" >4894.817724</td>\n",
       "    </tr>\n",
       "  </tbody>\n",
       "</table>\n"
      ]
     },
     "execution_count": 13,
     "metadata": {},
     "output_type": "execute_result"
    }
   ],
   "execution_count": 13
  },
  {
   "metadata": {},
   "cell_type": "markdown",
   "source": "# Plotting AIC and BIC Values",
   "id": "50a6d2b0d780918f"
  },
  {
   "metadata": {},
   "cell_type": "markdown",
   "source": "Finally, we will plot the AIC and BIC values for the different alpha values. The vertical lines in the plot correspond to the alpha chosen for each criterion. The selected alpha corresponds to the minimum of the AIC or BIC criterion.",
   "id": "3ee105e38e8b6865"
  },
  {
   "metadata": {
    "ExecuteTime": {
     "end_time": "2025-07-03T21:33:30.576044Z",
     "start_time": "2025-07-03T21:33:30.477929Z"
    }
   },
   "cell_type": "code",
   "source": [
    "ax = results.plot()\n",
    "ax.vlines(\n",
    "    alpha_aic,\n",
    "    results[\"AIC criterion\"].min(),\n",
    "    results[\"AIC criterion\"].max(),\n",
    "    label=\"alpha: AIC estimate\",\n",
    "    linestyles=\"--\",\n",
    "    color=\"tab:blue\",\n",
    ")\n",
    "ax.vlines(\n",
    "    alpha_bic,\n",
    "    results[\"BIC criterion\"].min(),\n",
    "    results[\"BIC criterion\"].max(),\n",
    "    label=\"alpha: BIC estimate\",\n",
    "    linestyle=\"--\",\n",
    "    color=\"tab:orange\",\n",
    ")\n",
    "ax.set_xlabel(r\"$\\alpha$\")\n",
    "ax.set_ylabel(\"criterion\")\n",
    "ax.set_xscale(\"log\")\n",
    "ax.legend()\n",
    "_ = ax.set_title(\n",
    "    f\"Information-criterion for model selection (training time {fit_time:.2f}s)\"\n",
    ")"
   ],
   "id": "8085845b4579f0",
   "outputs": [
    {
     "data": {
      "text/plain": [
       "<Figure size 640x480 with 1 Axes>"
      ],
      "image/png": "[encoded data removed]"
     },
     "metadata": {},
     "output_type": "display_data"
    }
   ],
   "execution_count": 15
  },
  {
   "metadata": {},
   "cell_type": "markdown",
   "source": "# Selecting Lasso via Cross-Validation",
   "id": "cb7df04d214a8401"
  },
  {
   "metadata": {},
   "cell_type": "markdown",
   "source": "We will use two different estimators to select the best hyperparameter alpha with integrated cross-validation: **LassoCV** and **LassoLarsCV**. For both algorithms, we will use a 20-fold cross-validation strategy.",
   "id": "8330360dd5f49479"
  },
  {
   "metadata": {},
   "cell_type": "markdown",
   "source": "# Lasso via Coordinate Descent",
   "id": "e246a3998bed6024"
  },
  {
   "metadata": {},
   "cell_type": "markdown",
   "source": "We will make the hyperparameter tuning using **LassoCV**.",
   "id": "fe6101fa9de90d3"
  },
  {
   "metadata": {
    "ExecuteTime": {
     "end_time": "2025-07-03T21:30:08.070115Z",
     "start_time": "2025-07-03T21:30:07.947626Z"
    }
   },
   "cell_type": "code",
   "source": [
    "from sklearn.linear_model import LassoCV\n",
    "\n",
    "start_time = time.time()\n",
    "model = make_pipeline(StandardScaler(), LassoCV(cv=20)).fit(X, y)\n",
    "fit_time = time.time() - start_time"
   ],
   "id": "5d8806f31ece676f",
   "outputs": [],
   "execution_count": 10
  },
  {
   "metadata": {},
   "cell_type": "markdown",
   "source": "# Lasso via Least Angle Regression",
   "id": "284cb41d060b97e8"
  },
  {
   "metadata": {},
   "cell_type": "markdown",
   "source": "We will make the hyperparameter tuning using **LassoLarsCV**.",
   "id": "cf1a4e3e51ce5a1e"
  },
  {
   "metadata": {
    "ExecuteTime": {
     "end_time": "2025-07-03T21:30:56.766730Z",
     "start_time": "2025-07-03T21:30:56.723715Z"
    }
   },
   "cell_type": "code",
   "source": [
    "from sklearn.linear_model import LassoLarsCV\n",
    "\n",
    "start_time = time.time()\n",
    "model = make_pipeline(StandardScaler(), LassoLarsCV(cv=20)).fit(X, y)\n",
    "fit_time = time.time() - start_time"
   ],
   "id": "d6f9719751772954",
   "outputs": [],
   "execution_count": 11
  },
  {
   "metadata": {},
   "cell_type": "markdown",
   "source": "# Summary of Cross-Validation Approach",
   "id": "c9468dfa06c44512"
  },
  {
   "metadata": {},
   "cell_type": "markdown",
   "source": "Both algorithms give roughly the same results. Lars computes a solution path only for each kink in the path. As a result, it is very efficient when there are only of few kinks, which is the case if there are few features or samples. On the opposite, coordinate descent computes the path points on a pre-specified grid (here we use the default). Thus it is more efficient if the number of grid points is smaller than the number of kinks in the path. Such a strategy can be interesting if the number of features is really large and there are enough samples to be selected in each of the cross-validation fold. In terms of numerical errors, for heavily correlated variables, Lars will accumulate more errors, while the coordinate descent algorithm will only sample the path on a grid.",
   "id": "8686ce51ce1cf4c9"
  },
  {
   "metadata": {},
   "cell_type": "code",
   "outputs": [],
   "execution_count": null,
   "source": "",
   "id": "eab3848cd0ecbe9c"
  }
 ],
 "metadata": {
  "kernelspec": {
   "display_name": "Python 3",
   "language": "python",
   "name": "python3"
  },
  "language_info": {
   "codemirror_mode": {
    "name": "ipython",
    "version": 2
   },
   "file_extension": ".py",
   "mimetype": "text/x-python",
   "name": "python",
   "nbconvert_exporter": "python",
   "pygments_lexer": "ipython2",
   "version": "2.7.6"
  }
 },
 "nbformat": 4,
 "nbformat_minor": 5
}
