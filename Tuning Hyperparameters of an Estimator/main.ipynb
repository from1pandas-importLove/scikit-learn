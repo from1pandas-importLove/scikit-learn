{
 "cells": [
  {
   "metadata": {},
   "cell_type": "markdown",
   "source": "# Introduction",
   "id": "6aec7861a502ab9a"
  },
  {
   "metadata": {},
   "cell_type": "markdown",
   "source": [
    "Hyperparameters are parameters that are not directly learned by an estimator. They are passed as arguments to the constructor of the estimator classes. Tuning the hyperparameters of an estimator is an important step in building effective machine learning models. It involves finding the optimal combination of hyperparameters that result in the best performance of the model.\n",
    "\n",
    "Scikit-learn provides several tools to search for the best hyperparameters: GridSearchCV and RandomizedSearchCV. In this lab, we will walk through the process of tuning hyperparameters using these tools."
   ],
   "id": "e0534531910c4bd2"
  },
  {
   "metadata": {},
   "cell_type": "markdown",
   "source": "# Import the necessary libraries",
   "id": "bd5c945b3dc96158"
  },
  {
   "metadata": {},
   "cell_type": "markdown",
   "source": "First, we need to import the necessary libraries for our analysis. We will be using **sklearn.model_selection** to perform the hyperparameter tuning.",
   "id": "1c1c4d6ea3dbf5c7"
  },
  {
   "cell_type": "code",
   "id": "initial_id",
   "metadata": {
    "collapsed": true,
    "ExecuteTime": {
     "end_time": "2025-09-21T08:13:07.659209Z",
     "start_time": "2025-09-21T08:13:06.347841Z"
    }
   },
   "source": [
    "import numpy as np\n",
    "from sklearn.model_selection import GridSearchCV, RandomizedSearchCV"
   ],
   "outputs": [],
   "execution_count": 1
  },
  {
   "metadata": {},
   "cell_type": "markdown",
   "source": "# Load the dataset",
   "id": "a6a817b0533362"
  },
  {
   "metadata": {},
   "cell_type": "markdown",
   "source": "Next, let's load the dataset that we will be working with. We can use any dataset of our choice for this exercise.",
   "id": "5a92aa29589b9c53"
  },
  {
   "metadata": {
    "ExecuteTime": {
     "end_time": "2025-09-21T08:14:18.886338Z",
     "start_time": "2025-09-21T08:14:18.797416Z"
    }
   },
   "cell_type": "code",
   "source": [
    "from sklearn.datasets import load_iris\n",
    "\n",
    "# Load the iris dataset\n",
    "iris = load_iris()\n",
    "\n",
    "# Split the data into features and target\n",
    "X = iris.data\n",
    "y = iris.target"
   ],
   "id": "7812e8dbd87eeace",
   "outputs": [],
   "execution_count": 2
  },
  {
   "metadata": {},
   "cell_type": "markdown",
   "source": "# Define the estimator and parameter grid",
   "id": "1cae6cda9b850b5d"
  },
  {
   "metadata": {},
   "cell_type": "markdown",
   "source": "Now we need to define the estimator that we want to tune and the parameter grid that we want to search. The parameter grid specifies the values that we want to try for each hyperparameter.",
   "id": "eb59869a98857d87"
  },
  {
   "metadata": {
    "ExecuteTime": {
     "end_time": "2025-09-21T08:16:13.610859Z",
     "start_time": "2025-09-21T08:16:13.464961Z"
    }
   },
   "cell_type": "code",
   "source": [
    "from sklearn.svm import SVC\n",
    "\n",
    "# Create an instance of the support vector classifier\n",
    "svc = SVC()\n",
    "\n",
    "# Define the parameter grid\n",
    "param_grid = {'C': [0.1, 1, 10, 100],\n",
    "              'gamma': [0.1, 0.01, 0.001],\n",
    "              'kernel': ['rbf', 'linear']}"
   ],
   "id": "b5223c179fd42a9f",
   "outputs": [],
   "execution_count": 3
  },
  {
   "metadata": {},
   "cell_type": "markdown",
   "source": "# Perform grid search with cross-validation",
   "id": "5d7c2687451b3510"
  },
  {
   "metadata": {},
   "cell_type": "markdown",
   "source": "Grid search exhaustively searches through all possible combinations of hyperparameters in the specified parameter grid. It evaluates the performance of each combination using cross-validation.",
   "id": "9fff7df0df00bb9f"
  },
  {
   "metadata": {
    "ExecuteTime": {
     "end_time": "2025-09-21T08:17:41.094975Z",
     "start_time": "2025-09-21T08:17:41.001314Z"
    }
   },
   "cell_type": "code",
   "source": [
    "# Create an instance of GridSearchCV\n",
    "grid_search = GridSearchCV(svc, param_grid, cv=5)\n",
    "\n",
    "# Fit the data to perform grid search\n",
    "grid_search.fit(X, y)\n",
    "\n",
    "# Print the best combination of hyperparameters\n",
    "print('Best hyperparameters:', grid_search.best_params_)"
   ],
   "id": "f8778e39a1fb79ad",
   "outputs": [
    {
     "name": "stdout",
     "output_type": "stream",
     "text": [
      "Best hyperparameters: {'C': 1, 'gamma': 0.1, 'kernel': 'rbf'}\n"
     ]
    }
   ],
   "execution_count": 4
  },
  {
   "metadata": {},
   "cell_type": "markdown",
   "source": "# Perform randomized search with cross-validation",
   "id": "67c3daeea7bea1f7"
  },
  {
   "metadata": {},
   "cell_type": "markdown",
   "source": "Randomized search randomly samples a subset of the parameter grid and evaluates the performance of each combination using cross-validation. It is useful when the parameter space is large and searching exhaustively is not feasible.",
   "id": "8275ae2fe2d0f05a"
  },
  {
   "metadata": {
    "ExecuteTime": {
     "end_time": "2025-09-21T08:18:21.572180Z",
     "start_time": "2025-09-21T08:18:21.522869Z"
    }
   },
   "cell_type": "code",
   "source": [
    "# Create an instance of RandomizedSearchCV\n",
    "random_search = RandomizedSearchCV(svc, param_grid, cv=5, n_iter=10, random_state=0)\n",
    "\n",
    "# Fit the data to perform randomized search\n",
    "random_search.fit(X, y)\n",
    "\n",
    "# Print the best combination of hyperparameters\n",
    "print('Best hyperparameters:', random_search.best_params_)"
   ],
   "id": "8c44fafdd7646520",
   "outputs": [
    {
     "name": "stdout",
     "output_type": "stream",
     "text": [
      "Best hyperparameters: {'kernel': 'linear', 'gamma': 0.001, 'C': 1}\n"
     ]
    }
   ],
   "execution_count": 5
  },
  {
   "metadata": {},
   "cell_type": "markdown",
   "source": "# Summary",
   "id": "b4077e0f50ff722e"
  },
  {
   "metadata": {},
   "cell_type": "markdown",
   "source": "In this lab, we learned how to tune the hyperparameters of an estimator using **GridSearchCV** and **RandomizedSearchCV**. We defined the estimator and the parameter grid, and then performed grid search and randomized search, respectively, to find the best combination of hyperparameters. Hyperparameter tuning is an important step in building machine learning models to improve their performance.",
   "id": "441cd43ac553b7c8"
  },
  {
   "metadata": {},
   "cell_type": "code",
   "outputs": [],
   "execution_count": null,
   "source": "",
   "id": "7f5dae092a2a9c3c"
  }
 ],
 "metadata": {
  "kernelspec": {
   "display_name": "Python 3",
   "language": "python",
   "name": "python3"
  },
  "language_info": {
   "codemirror_mode": {
    "name": "ipython",
    "version": 2
   },
   "file_extension": ".py",
   "mimetype": "text/x-python",
   "name": "python",
   "nbconvert_exporter": "python",
   "pygments_lexer": "ipython2",
   "version": "2.7.6"
  }
 },
 "nbformat": 4,
 "nbformat_minor": 5
}
