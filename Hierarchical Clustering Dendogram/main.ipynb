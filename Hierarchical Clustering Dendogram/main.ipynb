{
 "cells": [
  {
   "metadata": {},
   "cell_type": "markdown",
   "source": "# Introduction",
   "id": "971892313f4a24ff"
  },
  {
   "metadata": {},
   "cell_type": "markdown",
   "source": "In this lab, we will learn how to plot the corresponding dendrogram of a hierarchical clustering using AgglomerativeClustering and the dendrogram method available in scipy.",
   "id": "cef8c8df0757476f"
  },
  {
   "metadata": {},
   "cell_type": "markdown",
   "source": "# Import the necessary libraries",
   "id": "59f1f381077f0314"
  },
  {
   "cell_type": "code",
   "id": "initial_id",
   "metadata": {
    "collapsed": true,
    "ExecuteTime": {
     "end_time": "2025-09-28T13:10:36.682840Z",
     "start_time": "2025-09-28T13:10:34.490057Z"
    }
   },
   "source": [
    "import numpy as np\n",
    "from matplotlib import pyplot as plt\n",
    "from scipy.cluster.hierarchy import dendrogram\n",
    "from sklearn.datasets import load_iris\n",
    "from sklearn.cluster import AgglomerativeClustering"
   ],
   "outputs": [],
   "execution_count": 1
  },
  {
   "metadata": {},
   "cell_type": "markdown",
   "source": "# Load the dataset",
   "id": "6868b94b04084631"
  },
  {
   "metadata": {},
   "cell_type": "markdown",
   "source": "We will use the **load_iris()** function from the **sklearn.datasets** module to load the iris dataset.",
   "id": "cbbc77dbc93e02a2"
  },
  {
   "metadata": {
    "ExecuteTime": {
     "end_time": "2025-09-28T13:11:05.452411Z",
     "start_time": "2025-09-28T13:11:05.438645Z"
    }
   },
   "cell_type": "code",
   "source": [
    "iris = load_iris()\n",
    "X = iris.data"
   ],
   "id": "84419c551d7474b8",
   "outputs": [],
   "execution_count": 2
  },
  {
   "metadata": {},
   "cell_type": "markdown",
   "source": "# Create the model",
   "id": "41bbf2ee62fbec8d"
  },
  {
   "metadata": {},
   "cell_type": "markdown",
   "source": "Next, we will create the agglomerative clustering model using the **AgglomerativeClustering()** function from the **sklearn.cluster** module.",
   "id": "348990e835631a41"
  },
  {
   "metadata": {
    "ExecuteTime": {
     "end_time": "2025-09-28T13:11:39.617640Z",
     "start_time": "2025-09-28T13:11:39.605662Z"
    }
   },
   "cell_type": "code",
   "source": "model = AgglomerativeClustering(distance_threshold=0, n_clusters=None)",
   "id": "db6cc54e2445ceb9",
   "outputs": [],
   "execution_count": 3
  },
  {
   "metadata": {},
   "cell_type": "markdown",
   "source": "# Fit the model",
   "id": "21e606226a49aae3"
  },
  {
   "metadata": {},
   "cell_type": "markdown",
   "source": "We will fit the agglomerative clustering model using the **fit()** method of the model object.",
   "id": "b18e796b67927e43"
  },
  {
   "metadata": {
    "ExecuteTime": {
     "end_time": "2025-09-28T13:12:08.011295Z",
     "start_time": "2025-09-28T13:12:07.993802Z"
    }
   },
   "cell_type": "code",
   "source": "model = model.fit(X)",
   "id": "f24286f028ca26d1",
   "outputs": [],
   "execution_count": 4
  },
  {
   "metadata": {},
   "cell_type": "markdown",
   "source": "# Plot the dendrogram",
   "id": "fe7733cfb76673f4"
  },
  {
   "metadata": {},
   "cell_type": "markdown",
   "source": "We will plot the dendrogram using the **dendrogram()** function from the **scipy.cluster.hierarchy** module and the **plot_dendrogram()** function defined in the original code.",
   "id": "82f5452b252ca98c"
  },
  {
   "metadata": {
    "ExecuteTime": {
     "end_time": "2025-09-28T13:13:15.370855Z",
     "start_time": "2025-09-28T13:13:15.273062Z"
    }
   },
   "cell_type": "code",
   "source": [
    "def plot_dendrogram(model, **kwargs):\n",
    "    # Create linkage matrix and then plot the dendrogram\n",
    "\n",
    "    # create the counts of samples under each node\n",
    "    counts = np.zeros(model.children_.shape[0])\n",
    "    n_samples = len(model.labels_)\n",
    "    for i, merge in enumerate(model.children_):\n",
    "        current_count = 0\n",
    "        for child_idx in merge:\n",
    "            if child_idx < n_samples:\n",
    "                current_count += 1  # leaf node\n",
    "            else:\n",
    "                current_count += counts[child_idx - n_samples]\n",
    "        counts[i] = current_count\n",
    "\n",
    "    linkage_matrix = np.column_stack(\n",
    "        [model.children_, model.distances_, counts]\n",
    "    ).astype(float)\n",
    "\n",
    "    # Plot the corresponding dendrogram\n",
    "    dendrogram(linkage_matrix, **kwargs)\n",
    "\n",
    "plt.title(\"Hierarchical Clustering Dendrogram\")\n",
    "plot_dendrogram(model, truncate_mode=\"level\", p=3)\n",
    "plt.xlabel(\"Number of points in node (or index of point if no parenthesis).\")\n",
    "plt.show()"
   ],
   "id": "c93f865b2c5dc348",
   "outputs": [
    {
     "data": {
      "text/plain": [
       "<Figure size 640x480 with 1 Axes>"
      ],
      "image/png": "[encoded data removed]"
     },
     "metadata": {},
     "output_type": "display_data"
    }
   ],
   "execution_count": 6
  },
  {
   "metadata": {},
   "cell_type": "markdown",
   "source": "# Summary",
   "id": "6cd9f4fd643af8c8"
  },
  {
   "metadata": {},
   "cell_type": "markdown",
   "source": "In this lab, we learned how to plot the corresponding dendrogram of a hierarchical clustering using AgglomerativeClustering and the dendrogram method available in scipy. We loaded the iris dataset, created an agglomerative clustering model, and fit the model. Finally, we plotted the dendrogram using the **dendrogram()** function from the **scipy.cluster.hierarchy** module and the **plot_dendrogram()** function defined in the original code.",
   "id": "5215fcd5a8dac88a"
  },
  {
   "metadata": {},
   "cell_type": "code",
   "outputs": [],
   "execution_count": null,
   "source": "",
   "id": "807276201a5f0a55"
  }
 ],
 "metadata": {
  "kernelspec": {
   "display_name": "Python 3",
   "language": "python",
   "name": "python3"
  },
  "language_info": {
   "codemirror_mode": {
    "name": "ipython",
    "version": 2
   },
   "file_extension": ".py",
   "mimetype": "text/x-python",
   "name": "python",
   "nbconvert_exporter": "python",
   "pygments_lexer": "ipython2",
   "version": "2.7.6"
  }
 },
 "nbformat": 4,
 "nbformat_minor": 5
}
