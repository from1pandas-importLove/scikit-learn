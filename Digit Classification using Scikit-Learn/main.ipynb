{
 "cells": [
  {
   "metadata": {},
   "cell_type": "markdown",
   "source": "# Introduction",
   "id": "a702d77bfd4ba188"
  },
  {
   "metadata": {},
   "cell_type": "markdown",
   "source": "This lab is a step-by-step tutorial on how to use classification techniques on the Digits dataset using scikit-learn. In this lab, we will load the dataset, preprocess the data, split the dataset into training and testing sets, and then use two different classification techniques (K-Nearest Neighbors and Logistic Regression) to classify the digits. Finally, we will compare the accuracy of both techniques.",
   "id": "6ad2f5c77302f8f3"
  },
  {
   "metadata": {},
   "cell_type": "markdown",
   "source": "# Load the Digits dataset",
   "id": "35424235e0bb8d33"
  },
  {
   "metadata": {},
   "cell_type": "markdown",
   "source": "We will start by loading the digits dataset using the **load_digits** function from scikit-learn. This function returns two arrays: **X_digits** containing the input data and **y_digits** containing the target labels.",
   "id": "608d0c85b18804c8"
  },
  {
   "cell_type": "code",
   "id": "initial_id",
   "metadata": {
    "collapsed": true,
    "ExecuteTime": {
     "end_time": "2025-09-21T08:23:23.132510Z",
     "start_time": "2025-09-21T08:23:22.015044Z"
    }
   },
   "source": [
    "from sklearn import datasets\n",
    "\n",
    "X_digits, y_digits = datasets.load_digits(return_X_y=True)"
   ],
   "outputs": [],
   "execution_count": 1
  },
  {
   "metadata": {},
   "cell_type": "markdown",
   "source": "# Preprocess the data",
   "id": "9fd3394c82ac2ed"
  },
  {
   "metadata": {},
   "cell_type": "markdown",
   "source": "We will then preprocess the data by scaling the features to a range of [0, 1] using the maximum value of the data. This can be done by dividing the input data by the maximum value of the input data.",
   "id": "b43f079b083803cc"
  },
  {
   "metadata": {
    "ExecuteTime": {
     "end_time": "2025-09-21T08:23:56.172267Z",
     "start_time": "2025-09-21T08:23:56.167071Z"
    }
   },
   "cell_type": "code",
   "source": "X_digits = X_digits / X_digits.max()",
   "id": "c133b67c72472952",
   "outputs": [],
   "execution_count": 2
  },
  {
   "metadata": {},
   "cell_type": "markdown",
   "source": "# Split the dataset into training and testing sets",
   "id": "cc73e6cd77fd3148"
  },
  {
   "metadata": {},
   "cell_type": "markdown",
   "source": "Next, we will split the dataset into training and testing sets using scikit-learn's **train_test_split** function. We will use 90% of the data for training and 10% for testing.",
   "id": "4c9a887d8bd6c843"
  },
  {
   "metadata": {
    "ExecuteTime": {
     "end_time": "2025-09-21T08:24:37.561160Z",
     "start_time": "2025-09-21T08:24:37.417042Z"
    }
   },
   "cell_type": "code",
   "source": [
    "from sklearn.model_selection import train_test_split\n",
    "\n",
    "X_train, X_test, y_train, y_test = train_test_split(X_digits, y_digits, test_size=0.1, random_state=42)"
   ],
   "id": "f71030167a7d58d5",
   "outputs": [],
   "execution_count": 3
  },
  {
   "metadata": {},
   "cell_type": "markdown",
   "source": "# Train and test the K-Nearest Neighbors classifier",
   "id": "ecc55e634ff881e"
  },
  {
   "metadata": {},
   "cell_type": "markdown",
   "source": "We will now train a K-Nearest Neighbors (KNN) classifier using scikit-learn's **KNeighborsClassifier** function and test it on the testing set. We will then print the accuracy score of the classifier.",
   "id": "e134551e79a05d39"
  },
  {
   "metadata": {
    "ExecuteTime": {
     "end_time": "2025-09-21T08:25:45.435453Z",
     "start_time": "2025-09-21T08:25:45.087279Z"
    }
   },
   "cell_type": "code",
   "source": [
    "from sklearn.neighbors import KNeighborsClassifier\n",
    "\n",
    "knn = KNeighborsClassifier()\n",
    "knn.fit(X_train, y_train)\n",
    "knn_score = knn.score(X_test, y_test)\n",
    "\n",
    "print(\"KNN score: %f\" % knn_score)"
   ],
   "id": "4ee88d71dd77d3a5",
   "outputs": [
    {
     "name": "stdout",
     "output_type": "stream",
     "text": [
      "KNN score: 0.988889\n"
     ]
    }
   ],
   "execution_count": 4
  },
  {
   "metadata": {},
   "cell_type": "markdown",
   "source": "# Train and test the Logistic Regression classifier",
   "id": "10dd140920309ee1"
  },
  {
   "metadata": {},
   "cell_type": "markdown",
   "source": "We will now train a Logistic Regression classifier using scikit-learn's **LogisticRegression** function and test it on the testing set. We will then print the accuracy score of the classifier.",
   "id": "d8781a33f855a686"
  },
  {
   "metadata": {
    "ExecuteTime": {
     "end_time": "2025-09-21T08:26:25.108616Z",
     "start_time": "2025-09-21T08:26:24.963700Z"
    }
   },
   "cell_type": "code",
   "source": [
    "from sklearn.linear_model import LogisticRegression\n",
    "\n",
    "logistic = LogisticRegression(max_iter=1000)\n",
    "logistic.fit(X_train, y_train)\n",
    "logistic_score = logistic.score(X_test, y_test)\n",
    "\n",
    "print(\"Logistic Regression score: %f\" % logistic_score)"
   ],
   "id": "6ea93ec8cdcb4988",
   "outputs": [
    {
     "name": "stdout",
     "output_type": "stream",
     "text": [
      "Logistic Regression score: 0.977778\n"
     ]
    }
   ],
   "execution_count": 5
  },
  {
   "metadata": {},
   "cell_type": "markdown",
   "source": "# Compare the accuracy of both classifiers",
   "id": "b10b946de6236eb4"
  },
  {
   "metadata": {},
   "cell_type": "markdown",
   "source": "Finally, we will compare the accuracy of both classifiers by printing the accuracy scores of both classifiers.",
   "id": "424f547649d4da53"
  },
  {
   "metadata": {
    "ExecuteTime": {
     "end_time": "2025-09-21T08:26:53.129325Z",
     "start_time": "2025-09-21T08:26:53.116866Z"
    }
   },
   "cell_type": "code",
   "source": [
    "print(\"KNN score: %f\" % knn_score)\n",
    "print(\"Logistic Regression score: %f\" % logistic_score)"
   ],
   "id": "952db005a49096a4",
   "outputs": [
    {
     "name": "stdout",
     "output_type": "stream",
     "text": [
      "KNN score: 0.988889\n",
      "Logistic Regression score: 0.977778\n"
     ]
    }
   ],
   "execution_count": 6
  },
  {
   "metadata": {},
   "cell_type": "markdown",
   "source": "# Summary",
   "id": "f1413a2feaaa09cc"
  },
  {
   "metadata": {},
   "cell_type": "markdown",
   "source": "In this lab, we learned how to use classification techniques on the Digits dataset using scikit-learn. We loaded the dataset, preprocessed the data, split the dataset into training and testing sets, and then trained and tested two different classifiers (K-Nearest Neighbors and Logistic Regression) on the testing set. Finally, we compared the accuracy of both classifiers.",
   "id": "88a1231e2d48d925"
  },
  {
   "metadata": {},
   "cell_type": "code",
   "outputs": [],
   "execution_count": null,
   "source": "",
   "id": "ac0a5103ff8d8098"
  }
 ],
 "metadata": {
  "kernelspec": {
   "display_name": "Python 3",
   "language": "python",
   "name": "python3"
  },
  "language_info": {
   "codemirror_mode": {
    "name": "ipython",
    "version": 2
   },
   "file_extension": ".py",
   "mimetype": "text/x-python",
   "name": "python",
   "nbconvert_exporter": "python",
   "pygments_lexer": "ipython2",
   "version": "2.7.6"
  }
 },
 "nbformat": 4,
 "nbformat_minor": 5
}
