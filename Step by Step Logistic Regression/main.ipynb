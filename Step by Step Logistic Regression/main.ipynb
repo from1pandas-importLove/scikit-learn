{
 "cells": [
  {
   "metadata": {},
   "cell_type": "markdown",
   "source": "# Introduction",
   "id": "8a0399ccdaa3d90b"
  },
  {
   "metadata": {},
   "cell_type": "markdown",
   "source": "In this lab, we will explore the sparsity of solutions when L1, L2, and Elastic-Net penalty are used for different values of C. We will use logistic regression to classify 8x8 images of digits into two classes: 0-4 against 5-9. We will visualize the coefficients of the models for varying C.",
   "id": "ac502de6709514a3"
  },
  {
   "metadata": {},
   "cell_type": "markdown",
   "source": "# Import Required Libraries",
   "id": "328cdc2b275b779b"
  },
  {
   "metadata": {},
   "cell_type": "markdown",
   "source": "The first step is to import the necessary libraries. We will need **numpy**, **matplotlib.pyplot**, **datasets**, **StandardScaler**, and **LogisticRegression** from sklearn.linear_model.",
   "id": "2b97975c6b9618c3"
  },
  {
   "cell_type": "code",
   "id": "initial_id",
   "metadata": {
    "collapsed": true,
    "ExecuteTime": {
     "end_time": "2025-09-28T07:06:16.854781Z",
     "start_time": "2025-09-28T07:06:15.174353Z"
    }
   },
   "source": [
    "import numpy as np\n",
    "import matplotlib.pyplot as plt\n",
    "from sklearn.linear_model import LogisticRegression\n",
    "from sklearn import datasets\n",
    "from sklearn.preprocessing import StandardScaler"
   ],
   "outputs": [],
   "execution_count": 1
  },
  {
   "metadata": {},
   "cell_type": "markdown",
   "source": "# Load the Dataset",
   "id": "34dcfb319c9821d4"
  },
  {
   "metadata": {},
   "cell_type": "markdown",
   "source": "We will load the digits dataset using **datasets.load_digits(return_X_y=True)**. We will also standardize the data using **StandardScaler().fit_transform(X)**. The target variable will be binary, where 0-4 will be classified as 0 and 5-9 will be classified as 1.",
   "id": "346eb68b4ef06ce7"
  },
  {
   "metadata": {
    "ExecuteTime": {
     "end_time": "2025-09-28T07:07:01.296639Z",
     "start_time": "2025-09-28T07:07:01.265220Z"
    }
   },
   "cell_type": "code",
   "source": [
    "X, y = datasets.load_digits(return_X_y=True)\n",
    "X = StandardScaler().fit_transform(X)\n",
    "y = (y > 4).astype(int)"
   ],
   "id": "f2af7537d379b748",
   "outputs": [],
   "execution_count": 2
  },
  {
   "metadata": {},
   "cell_type": "markdown",
   "source": "# Define Regularization Parameter and L1 Ratio",
   "id": "9791f2d8bc080d96"
  },
  {
   "metadata": {},
   "cell_type": "markdown",
   "source": "We will define the regularization parameter **C** and the L1 ratio **l1_ratio** for the Elastic-Net penalty. We will set **l1_ratio** to 0.5.",
   "id": "913bf326d70eb0a6"
  },
  {
   "metadata": {
    "ExecuteTime": {
     "end_time": "2025-09-28T09:04:56.789435Z",
     "start_time": "2025-09-28T09:04:56.772352Z"
    }
   },
   "cell_type": "code",
   "source": "l1_ratio = 0.5",
   "id": "d6022e0d3cc408c9",
   "outputs": [],
   "execution_count": 3
  },
  {
   "metadata": {},
   "cell_type": "markdown",
   "source": "# Create Subplots for Visualization",
   "id": "fe91474012b4ba82"
  },
  {
   "metadata": {},
   "cell_type": "markdown",
   "source": "We will create subplots to visualize the coefficients of the models for varying **C**. We will create 3 rows and 3 columns of subplots.",
   "id": "3a650764e5e90467"
  },
  {
   "metadata": {
    "ExecuteTime": {
     "end_time": "2025-09-28T09:09:19.023691Z",
     "start_time": "2025-09-28T09:09:18.690079Z"
    }
   },
   "cell_type": "code",
   "source": [
    "fig, axes = plt.subplots(3, 3)\n",
    "\n",
    "for i, (C, axes_row) in enumerate(zip((1, 0.1, 0.01), axes)):\n",
    "    clf_l1_LR = LogisticRegression(C=C, penalty=\"l1\", tol=0.01, solver=\"saga\")\n",
    "    clf_l2_LR = LogisticRegression(C=C, penalty=\"l2\", tol=0.01, solver=\"saga\")\n",
    "    clf_en_LR = LogisticRegression(C=C, penalty=\"elasticnet\", solver=\"saga\", l1_ratio=l1_ratio, tol=0.01)\n",
    "    clf_l1_LR.fit(X, y)\n",
    "    clf_l2_LR.fit(X, y)\n",
    "    clf_en_LR.fit(X, y)\n",
    "\n",
    "\n",
    "    coef_l1_LR = clf_l1_LR.coef_.ravel()\n",
    "    coef_l2_LR = clf_l2_LR.coef_.ravel()\n",
    "    coef_en_LR = clf_en_LR.coef_.ravel()\n",
    "\n",
    "    sparsity_l1_LR = np.mean(coef_l1_LR == 0) * 100\n",
    "    sparsity_l2_LR = np.mean(coef_l2_LR == 0) * 100\n",
    "    sparsity_en_LR = np.mean(coef_en_LR == 0) * 100\n",
    "\n",
    "    score_l1_LR = clf_l1_LR.score(X, y)\n",
    "    score_l2_LR = clf_l2_LR.score(X, y)\n",
    "    score_en_LR = clf_en_LR.score(X, y)\n",
    "\n",
    "    for ax, coefs in zip(axes_row, [coef_l1_LR, coef_en_LR, coef_l2_LR]):\n",
    "        ax.imshow(np.abs(coefs.reshape(8, 8)), interpolation='nearest', cmap='binary', vmax=1, vmin=0)\n",
    "        ax.set_xticks(())\n",
    "        ax.set_yticks(())\n",
    "        if i == 0:\n",
    "            axes_row[0].set_title(\"L1 penalty\")\n",
    "            axes_row[1].set_title(\"Elastic-Net\\nl1_ratio = %s\" % l1_ratio)\n",
    "            axes_row[2].set_title(\"L2 penalty\")\n",
    "\n",
    "        axes_row[0].set_ylabel(\"C = %s\" % C)\n",
    "\n"
   ],
   "id": "8412d2946e04df00",
   "outputs": [
    {
     "data": {
      "text/plain": [
       "<Figure size 640x480 with 9 Axes>"
      ],
      "image/png": "[encoded data removed]"
     },
     "metadata": {},
     "output_type": "display_data"
    }
   ],
   "execution_count": 10
  },
  {
   "metadata": {
    "ExecuteTime": {
     "end_time": "2025-09-28T09:09:23.437520Z",
     "start_time": "2025-09-28T09:09:23.430766Z"
    }
   },
   "cell_type": "code",
   "source": [
    "    print(\"C=%.2f\" % C)\n",
    "    print(\"{:<40} {:.2f}%\".format(\"Sparsity with L1 penalty:\", sparsity_l1_LR))\n",
    "    print(\"{:<40} {:.2f}%\".format(\"Sparsity with Elastic-Net penalty:\", sparsity_en_LR))\n",
    "    print(\"{:<40} {:.2f}%\".format(\"Sparsity with L2 penalty:\", sparsity_l2_LR))\n",
    "    print(\"{:<40} {:.2f}\".format(\"Score with L1 penalty:\", score_l1_LR))\n",
    "    print(\"{:<40} {:.2f}\".format(\"Score with Elastic-Net penalty:\", score_en_LR))\n",
    "    print(\"{:<40} {:.2f}\".format(\"Score with L2 penalty:\", score_l2_LR))"
   ],
   "id": "8f6591cc993565a4",
   "outputs": [
    {
     "name": "stdout",
     "output_type": "stream",
     "text": [
      "C=0.01\n",
      "Sparsity with L1 penalty:                84.38%\n",
      "Sparsity with Elastic-Net penalty:       68.75%\n",
      "Sparsity with L2 penalty:                4.69%\n",
      "Score with L1 penalty:                   0.86\n",
      "Score with Elastic-Net penalty:          0.88\n",
      "Score with L2 penalty:                   0.89\n"
     ]
    }
   ],
   "execution_count": 11
  },
  {
   "metadata": {},
   "cell_type": "markdown",
   "source": "# Summary",
   "id": "748fb2b66dfc935"
  },
  {
   "metadata": {},
   "cell_type": "markdown",
   "source": "In this lab, we explored the sparsity of solutions when L1, L2, and Elastic-Net penalty are used for different values of C. We used logistic regression to classify 8x8 images of digits into two classes: 0-4 against 5-9. We visualized the coefficients of the models for varying C. We also calculated the sparsity and scores for each model and printed the results.",
   "id": "4f9d7d93d6e4d7"
  },
  {
   "metadata": {},
   "cell_type": "code",
   "outputs": [],
   "execution_count": null,
   "source": "",
   "id": "c3fabaa8f85b107e"
  }
 ],
 "metadata": {
  "kernelspec": {
   "display_name": "Python 3",
   "language": "python",
   "name": "python3"
  },
  "language_info": {
   "codemirror_mode": {
    "name": "ipython",
    "version": 2
   },
   "file_extension": ".py",
   "mimetype": "text/x-python",
   "name": "python",
   "nbconvert_exporter": "python",
   "pygments_lexer": "ipython2",
   "version": "2.7.6"
  }
 },
 "nbformat": 4,
 "nbformat_minor": 5
}
