{
 "cells": [
  {
   "metadata": {},
   "cell_type": "markdown",
   "source": "# Introduction",
   "id": "90d4932a5942ecd9"
  },
  {
   "metadata": {},
   "cell_type": "markdown",
   "source": "In this lab, we will learn about the Permutation Feature Importance method, which is a model inspection technique used to determine the importance of features in a predictive model. This technique can be especially useful for non-linear or opaque models that are difficult to interpret.",
   "id": "b94472b671e8e864"
  },
  {
   "metadata": {},
   "cell_type": "markdown",
   "source": "# Load the dataset",
   "id": "9f480c17b566622f"
  },
  {
   "metadata": {},
   "cell_type": "markdown",
   "source": "First, we need to load a dataset that we can use to train our predictive model. We will use the Diabetes dataset from scikit-learn, which contains information about diabetes patients.",
   "id": "eeb71c71a5ee26d1"
  },
  {
   "cell_type": "code",
   "id": "initial_id",
   "metadata": {
    "collapsed": true,
    "ExecuteTime": {
     "end_time": "2025-09-21T05:19:49.489167Z",
     "start_time": "2025-09-21T05:19:48.288180Z"
    }
   },
   "source": [
    "from sklearn.datasets import load_diabetes\n",
    "from sklearn.model_selection import train_test_split\n",
    "\n",
    "# Load the Diabetes dataset\n",
    "diabetes = load_diabetes()\n",
    "\n",
    "# SPlit the data into training and validation sets\n",
    "X_train, X_val, y_train, y_val = train_test_split(diabetes.data, diabetes.target, random_state=33)"
   ],
   "outputs": [],
   "execution_count": 2
  },
  {
   "metadata": {},
   "cell_type": "markdown",
   "source": "# Train the model",
   "id": "8c88ea9755746ba5"
  },
  {
   "metadata": {},
   "cell_type": "markdown",
   "source": "Next, we will train a regression model on the training data. In this example, we will use a Ridge regression model.",
   "id": "287a9c31a3b57d7f"
  },
  {
   "metadata": {
    "ExecuteTime": {
     "end_time": "2025-09-21T05:20:59.243899Z",
     "start_time": "2025-09-21T05:20:59.149944Z"
    }
   },
   "cell_type": "code",
   "source": [
    "from sklearn.linear_model import Ridge\n",
    "\n",
    "# Train the Ridge regression model\n",
    "model = Ridge(alpha=1e-2).fit(X_train, y_train)"
   ],
   "id": "73236ab4db35c917",
   "outputs": [],
   "execution_count": 3
  },
  {
   "metadata": {},
   "cell_type": "markdown",
   "source": "# Evaluate the model",
   "id": "c588153f91f1331f"
  },
  {
   "metadata": {},
   "cell_type": "markdown",
   "source": "We will now evaluate the trained model using the validation set. The evaluation metric used here is the R-squared score.",
   "id": "f57ad8d242a4ce16"
  },
  {
   "metadata": {
    "ExecuteTime": {
     "end_time": "2025-09-21T05:22:09.611110Z",
     "start_time": "2025-09-21T05:22:09.594351Z"
    }
   },
   "cell_type": "code",
   "source": [
    "# Evaluate the model on the validation set\n",
    "score = model.score(X_val, y_val)\n",
    "print('Validation score:', score)"
   ],
   "id": "397d7c7c3439abb7",
   "outputs": [
    {
     "name": "stdout",
     "output_type": "stream",
     "text": [
      "Validation score: 0.5018575168854735\n"
     ]
    }
   ],
   "execution_count": 4
  },
  {
   "metadata": {},
   "cell_type": "markdown",
   "source": "# Calculate permutation feature importance",
   "id": "b7496eafe14e81e8"
  },
  {
   "metadata": {},
   "cell_type": "markdown",
   "source": "Now, we will calculate the permutation feature importance using the **permutation_importance** function from scikit-learn. This function takes as input the trained model, the validation set, and the number of times the features should be permuted.",
   "id": "c9c783dfbae1a7a2"
  },
  {
   "metadata": {
    "ExecuteTime": {
     "end_time": "2025-09-21T05:24:54.344278Z",
     "start_time": "2025-09-21T05:24:54.170686Z"
    }
   },
   "cell_type": "code",
   "source": [
    "from sklearn.inspection import permutation_importance\n",
    "\n",
    "# Calculate permutation feature importance\n",
    "result = permutation_importance(model, X_val, y_val, n_repeats=30, random_state=0)\n",
    "\n",
    "# Print the feature importances\n",
    "for i in result.importances_mean.argsort()[::-1]:\n",
    "    if result.importances_mean[i] - 2 * result.importances_std[i] > 0:\n",
    "        print(f\"{diabetes.feature_names[i]}: {result.importances_mean[i]:.3f} +/- {result.importances_std[i]:.3f}\")"
   ],
   "id": "180abda16fc14901",
   "outputs": [
    {
     "name": "stdout",
     "output_type": "stream",
     "text": [
      "s5: 0.384 +/- 0.077\n",
      "bmi: 0.241 +/- 0.055\n",
      "s1: 0.103 +/- 0.034\n",
      "bp: 0.090 +/- 0.031\n",
      "s2: 0.069 +/- 0.012\n",
      "sex: 0.052 +/- 0.019\n",
      "s4: 0.026 +/- 0.011\n"
     ]
    }
   ],
   "execution_count": 5
  },
  {
   "metadata": {},
   "cell_type": "markdown",
   "source": "# Interpret the results",
   "id": "dfe2cf1229eac2c4"
  },
  {
   "metadata": {},
   "cell_type": "markdown",
   "source": [
    "The calculated feature importances represent the decrease in the model score when a single feature value is randomly shuffled. Features with a higher importance value indicate that the model relies more heavily on those features for its predictions.\n",
    "\n",
    "In this example, the top features that contribute the most to the model's performance are \"s5\", \"bmi\", \"bp\", and \"sex\"."
   ],
   "id": "f88deb63328cd41"
  },
  {
   "metadata": {},
   "cell_type": "markdown",
   "source": "# Summary",
   "id": "9a0d045255eaadf9"
  },
  {
   "metadata": {},
   "cell_type": "markdown",
   "source": "In this lab, we learned about the Permutation Feature Importance method for evaluating the importance of features in a predictive model. We went through the steps of loading a dataset, training a model, evaluating the model, calculating the feature importances, and interpreting the results. This method can be valuable in understanding which features are most predictive and how much the model depends on each feature.",
   "id": "d036c0da34ee52f"
  },
  {
   "metadata": {},
   "cell_type": "code",
   "outputs": [],
   "execution_count": null,
   "source": "",
   "id": "107b373cf57ee745"
  }
 ],
 "metadata": {
  "kernelspec": {
   "display_name": "Python 3",
   "language": "python",
   "name": "python3"
  },
  "language_info": {
   "codemirror_mode": {
    "name": "ipython",
    "version": 2
   },
   "file_extension": ".py",
   "mimetype": "text/x-python",
   "name": "python",
   "nbconvert_exporter": "python",
   "pygments_lexer": "ipython2",
   "version": "2.7.6"
  }
 },
 "nbformat": 4,
 "nbformat_minor": 5
}
