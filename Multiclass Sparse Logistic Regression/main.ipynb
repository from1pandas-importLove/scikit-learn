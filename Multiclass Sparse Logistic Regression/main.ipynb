{
 "cells": [
  {
   "metadata": {},
   "cell_type": "markdown",
   "source": "# Introduction",
   "id": "a8307f122311cf1a"
  },
  {
   "metadata": {},
   "cell_type": "markdown",
   "source": "In this lab, we will explore how to use Multiclass Sparse Logistic Regression on the **20newsgroups** dataset using scikit-learn. We will compare the performance of Multinomial logistic regression with one-versus-rest L1 logistic regression.",
   "id": "2e7a7a0003df1972"
  },
  {
   "metadata": {},
   "cell_type": "markdown",
   "source": "# Import Libraries",
   "id": "22db88ece0624418"
  },
  {
   "metadata": {},
   "cell_type": "markdown",
   "source": "We begin by importing the necessary libraries and modules that we will use in this lab.",
   "id": "ac335180dbcb84ed"
  },
  {
   "cell_type": "code",
   "id": "initial_id",
   "metadata": {
    "collapsed": true,
    "ExecuteTime": {
     "end_time": "2025-09-06T21:47:36.717839Z",
     "start_time": "2025-09-06T21:47:36.708643Z"
    }
   },
   "source": [
    "import timeit\n",
    "import warnings\n",
    "\n",
    "import matplotlib.pyplot as plt\n",
    "import numpy as np\n",
    "\n",
    "from sklearn.datasets import fetch_20newsgroups_vectorized\n",
    "from sklearn.exceptions import ConvergenceWarning\n",
    "from sklearn.linear_model import LogisticRegression\n",
    "from sklearn.model_selection import train_test_split\n",
    "from sklearn.multiclass import OneVsRestClassifier\n",
    "\n",
    "warnings.filterwarnings(\"ignore\", category=ConvergenceWarning, module=\"sklearn\")\n",
    "t0 = timeit.default_timer()"
   ],
   "outputs": [],
   "execution_count": 9
  },
  {
   "metadata": {},
   "cell_type": "markdown",
   "source": "# Load and Prepare Data",
   "id": "7d0acf838520cf8e"
  },
  {
   "metadata": {},
   "cell_type": "markdown",
   "source": "Next, we load the **20newsgroups** dataset and prepare the data for training and testing.",
   "id": "f833888773b5cebf"
  },
  {
   "metadata": {
    "ExecuteTime": {
     "end_time": "2025-09-06T21:47:38.684898Z",
     "start_time": "2025-09-06T21:47:38.394682Z"
    }
   },
   "cell_type": "code",
   "source": [
    "# We use SAGA solver\n",
    "solver = \"saga\"\n",
    "\n",
    "# Turn down for faster run time\n",
    "n_samples = 5000\n",
    "\n",
    "X, y = fetch_20newsgroups_vectorized(subset=\"all\", return_X_y=True)\n",
    "X = X[:n_samples]\n",
    "y = y[:n_samples]\n",
    "\n",
    "X_train, X_test, y_train, y_test = train_test_split(\n",
    "    X, y, random_state=42, stratify=y, test_size=0.1\n",
    ")\n",
    "train_samples, n_features = X_train.shape\n",
    "n_classes = np.unique(y).shape[0]\n",
    "\n",
    "print(\n",
    "    \"Dataset 20newsgroup, train_samples=%i, n_features=%i, n_classes=%i\"\n",
    "    % (train_samples, n_features, n_classes)\n",
    ")"
   ],
   "id": "853d1fa9fce114e8",
   "outputs": [
    {
     "name": "stdout",
     "output_type": "stream",
     "text": [
      "Dataset 20newsgroup, train_samples=4500, n_features=130107, n_classes=20\n"
     ]
    }
   ],
   "execution_count": 10
  },
  {
   "metadata": {},
   "cell_type": "markdown",
   "source": "# Define and Train Models",
   "id": "42e803567eaa49fe"
  },
  {
   "metadata": {},
   "cell_type": "markdown",
   "source": "We will define two models, Multinomial and One-vs-Rest L1 Logistic Regression, and train them with different number of epochs.",
   "id": "deaa74ca40781c1f"
  },
  {
   "metadata": {
    "ExecuteTime": {
     "end_time": "2025-09-06T21:47:40.540891Z",
     "start_time": "2025-09-06T21:47:38.846520Z"
    }
   },
   "cell_type": "code",
   "source": [
    "models = {\n",
    "    \"ovr\": {\"name\": \"One versus Rest\", \"iters\": [1, 2, 3]},\n",
    "    \"multinomial\": {\"name\": \"Multinomial\", \"iters\": [1, 2, 5]},\n",
    "}\n",
    "\n",
    "for model in models:\n",
    "    # Add initial chance-level values for plotting purpose\n",
    "    accuracies = [1 / n_classes]\n",
    "    times = [0]\n",
    "    densities = [1]\n",
    "\n",
    "    model_params = models[model]\n",
    "\n",
    "    # Small number of epochs for fast runtime\n",
    "    for this_max_iter in model_params[\"iters\"]:\n",
    "        print(\n",
    "            \"[model=%s, solver=%s] Number of epochs: %s\"\n",
    "            % (model_params[\"name\"], solver, this_max_iter)\n",
    "        )\n",
    "        lr = LogisticRegression(\n",
    "            solver=solver,\n",
    "            multi_class=model,\n",
    "            penalty=\"l1\",\n",
    "            max_iter=this_max_iter,\n",
    "            random_state=42,\n",
    "        )\n",
    "        t1 = timeit.default_timer()\n",
    "        lr.fit(X_train, y_train)\n",
    "        train_time = timeit.default_timer() - t1\n",
    "\n",
    "        y_pred = lr.predict(X_test)\n",
    "        accuracy = np.sum(y_pred == y_test) / y_test.shape[0]\n",
    "        density = np.mean(lr.coef_ != 0, axis=1) * 100\n",
    "        accuracies.append(accuracy)\n",
    "        densities.append(density)\n",
    "        times.append(train_time)\n",
    "    models[model][\"times\"] = times\n",
    "    models[model][\"densities\"] = densities\n",
    "    models[model][\"accuracies\"] = accuracies\n",
    "    print(\"Test accuracy for model %s: %.4f\" % (model, accuracies[-1]))\n",
    "    print(\n",
    "        \"%% non-zero coefficients for model %s, per class:\\n %s\"\n",
    "        % (model, densities[-1])\n",
    "    )\n",
    "    print(\n",
    "        \"Run time (%i epochs) for model %s:%.2f\"\n",
    "        % (model_params[\"iters\"][-1], model, times[-1])\n",
    "    )"
   ],
   "id": "d3748bd0cd2d6cd0",
   "outputs": [
    {
     "name": "stdout",
     "output_type": "stream",
     "text": [
      "[model=One versus Rest, solver=saga] Number of epochs: 1\n"
     ]
    },
    {
     "name": "stderr",
     "output_type": "stream",
     "text": [
      "/Library/Frameworks/Python.framework/Versions/3.12/lib/python3.12/site-packages/sklearn/linear_model/_logistic.py:1256: FutureWarning: 'multi_class' was deprecated in version 1.5 and will be removed in 1.7. Use OneVsRestClassifier(LogisticRegression(..)) instead. Leave it to its default value to avoid this warning.\n",
      "  warnings.warn(\n"
     ]
    },
    {
     "name": "stdout",
     "output_type": "stream",
     "text": [
      "[model=One versus Rest, solver=saga] Number of epochs: 2\n"
     ]
    },
    {
     "name": "stderr",
     "output_type": "stream",
     "text": [
      "/Library/Frameworks/Python.framework/Versions/3.12/lib/python3.12/site-packages/sklearn/linear_model/_logistic.py:1256: FutureWarning: 'multi_class' was deprecated in version 1.5 and will be removed in 1.7. Use OneVsRestClassifier(LogisticRegression(..)) instead. Leave it to its default value to avoid this warning.\n",
      "  warnings.warn(\n"
     ]
    },
    {
     "name": "stdout",
     "output_type": "stream",
     "text": [
      "[model=One versus Rest, solver=saga] Number of epochs: 3\n"
     ]
    },
    {
     "name": "stderr",
     "output_type": "stream",
     "text": [
      "/Library/Frameworks/Python.framework/Versions/3.12/lib/python3.12/site-packages/sklearn/linear_model/_logistic.py:1256: FutureWarning: 'multi_class' was deprecated in version 1.5 and will be removed in 1.7. Use OneVsRestClassifier(LogisticRegression(..)) instead. Leave it to its default value to avoid this warning.\n",
      "  warnings.warn(\n"
     ]
    },
    {
     "name": "stdout",
     "output_type": "stream",
     "text": [
      "Test accuracy for model ovr: 0.5960\n",
      "% non-zero coefficients for model ovr, per class:\n",
      " [0.26593496 0.43348936 0.26362917 0.31973683 0.37815029 0.2928359\n",
      " 0.27054655 0.62717609 0.19522393 0.30897646 0.34586917 0.28207552\n",
      " 0.34125758 0.29898468 0.34279478 0.59489497 0.38353048 0.35278655\n",
      " 0.19829832 0.14603365]\n",
      "Run time (3 epochs) for model ovr:0.42\n",
      "[model=Multinomial, solver=saga] Number of epochs: 1\n",
      "[model=Multinomial, solver=saga] Number of epochs: 2\n"
     ]
    },
    {
     "name": "stderr",
     "output_type": "stream",
     "text": [
      "/Library/Frameworks/Python.framework/Versions/3.12/lib/python3.12/site-packages/sklearn/linear_model/_logistic.py:1247: FutureWarning: 'multi_class' was deprecated in version 1.5 and will be removed in 1.7. From then on, it will always use 'multinomial'. Leave it to its default value to avoid this warning.\n",
      "  warnings.warn(\n",
      "/Library/Frameworks/Python.framework/Versions/3.12/lib/python3.12/site-packages/sklearn/linear_model/_logistic.py:1247: FutureWarning: 'multi_class' was deprecated in version 1.5 and will be removed in 1.7. From then on, it will always use 'multinomial'. Leave it to its default value to avoid this warning.\n",
      "  warnings.warn(\n"
     ]
    },
    {
     "name": "stdout",
     "output_type": "stream",
     "text": [
      "[model=Multinomial, solver=saga] Number of epochs: 5\n"
     ]
    },
    {
     "name": "stderr",
     "output_type": "stream",
     "text": [
      "/Library/Frameworks/Python.framework/Versions/3.12/lib/python3.12/site-packages/sklearn/linear_model/_logistic.py:1247: FutureWarning: 'multi_class' was deprecated in version 1.5 and will be removed in 1.7. From then on, it will always use 'multinomial'. Leave it to its default value to avoid this warning.\n",
      "  warnings.warn(\n"
     ]
    },
    {
     "name": "stdout",
     "output_type": "stream",
     "text": [
      "Test accuracy for model multinomial: 0.6440\n",
      "% non-zero coefficients for model multinomial, per class:\n",
      " [0.36047253 0.1268187  0.10606655 0.17985197 0.5395559  0.07993421\n",
      " 0.06686804 0.21443888 0.11528972 0.2075215  0.10914094 0.11144673\n",
      " 0.13988486 0.09684337 0.26286057 0.11682692 0.55800226 0.17370318\n",
      " 0.11452112 0.14603365]\n",
      "Run time (5 epochs) for model multinomial:0.38\n"
     ]
    }
   ],
   "execution_count": 11
  },
  {
   "metadata": {},
   "cell_type": "markdown",
   "source": "# Visualize Results",
   "id": "b53696fd5c9025ad"
  },
  {
   "metadata": {},
   "cell_type": "markdown",
   "source": "Finally, we will visualize the results of the trained models using a line graph.",
   "id": "379c5b9967835ab1"
  },
  {
   "metadata": {
    "ExecuteTime": {
     "end_time": "2025-09-06T21:47:40.612583Z",
     "start_time": "2025-09-06T21:47:40.558089Z"
    }
   },
   "cell_type": "code",
   "source": [
    "fig = plt.figure()\n",
    "ax = fig.add_subplot(111)\n",
    "\n",
    "for model in models:\n",
    "    name = models[model][\"name\"]\n",
    "    times = models[model][\"times\"]\n",
    "    accuracies = models[model][\"accuracies\"]\n",
    "    ax.plot(times, accuracies, marker=\"o\", label=\"Model: %s\" % name)\n",
    "    ax.set_xlabel(\"Train time (s)\")\n",
    "    ax.set_ylabel(\"Test accuracy\")\n",
    "ax.legend()\n",
    "fig.suptitle(\"Multinomial vs One-vs-Rest Logistic L1\\nDataset %s\" % \"20newsgroups\")\n",
    "fig.tight_layout()\n",
    "fig.subplots_adjust(top=0.85)\n",
    "run_time = timeit.default_timer() - t0\n",
    "print(\"Example run in %.3f s\" % run_time)\n",
    "plt.show()"
   ],
   "id": "105c2d4ba6b142c8",
   "outputs": [
    {
     "name": "stdout",
     "output_type": "stream",
     "text": [
      "Example run in 3.870 s\n"
     ]
    },
    {
     "data": {
      "text/plain": [
       "<Figure size 640x480 with 1 Axes>"
      ],
      "image/png": "[encoded data removed]"
     },
     "metadata": {},
     "output_type": "display_data"
    }
   ],
   "execution_count": 12
  },
  {
   "metadata": {},
   "cell_type": "markdown",
   "source": "# Summary",
   "id": "a13dcff5fe0891c4"
  },
  {
   "metadata": {},
   "cell_type": "markdown",
   "source": "In this lab, we used scikit-learn to perform Multiclass Sparse Logistic Regression on the **20newsgroups** dataset. We compared the performance of Multinomial logistic regression with one-versus-rest L1 logistic regression, and visualized the results using a line graph.",
   "id": "9e344476ca7f2560"
  }
 ],
 "metadata": {
  "kernelspec": {
   "display_name": "Python 3",
   "language": "python",
   "name": "python3"
  },
  "language_info": {
   "codemirror_mode": {
    "name": "ipython",
    "version": 2
   },
   "file_extension": ".py",
   "mimetype": "text/x-python",
   "name": "python",
   "nbconvert_exporter": "python",
   "pygments_lexer": "ipython2",
   "version": "2.7.6"
  }
 },
 "nbformat": 4,
 "nbformat_minor": 5
}
