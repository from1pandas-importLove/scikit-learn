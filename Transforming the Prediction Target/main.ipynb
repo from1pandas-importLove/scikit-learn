{
 "cells": [
  {
   "metadata": {},
   "cell_type": "markdown",
   "source": "# Introduction",
   "id": "f954262a8820fca6"
  },
  {
   "metadata": {},
   "cell_type": "markdown",
   "source": [
    "In machine learning, it is often necessary to transform the prediction target before training a model. This can include tasks such as converting multiclass labels into a binary indicator matrix or encoding non-numerical labels into numerical labels.\n",
    "\n",
    "In this lab, we will explore the various techniques provided by the **sklearn.preprocessing** module in scikit-learn to transform the prediction target."
   ],
   "id": "69529e45a0996095"
  },
  {
   "metadata": {},
   "cell_type": "markdown",
   "source": "# Label Binarization",
   "id": "271c8aa968894952"
  },
  {
   "metadata": {},
   "cell_type": "markdown",
   "source": "Label binarization is the process of converting multiclass labels into a binary indicator matrix. It can be achieved using the **LabelBinarizer** class.",
   "id": "d3c965c79fea9b14"
  },
  {
   "cell_type": "code",
   "id": "initial_id",
   "metadata": {
    "collapsed": true,
    "ExecuteTime": {
     "end_time": "2025-10-08T20:19:51.417094Z",
     "start_time": "2025-10-08T20:19:49.711871Z"
    }
   },
   "source": [
    "from sklearn import preprocessing\n",
    "\n",
    "# Create a LabelBinarizer instance\n",
    "lb = preprocessing.LabelBinarizer()\n",
    "\n",
    "# Fit the LabelBinarizer on a list of multiclass labels\n",
    "lb.fit([1, 2, 6, 4, 2])\n",
    "\n",
    "# Get the classes learned by the LabelBinarizer\n",
    "lb.classes_\n",
    "\n",
    "# Transform a list of multiclass labels into a binary indicator matrix\n",
    "lb.transform([1, 6])"
   ],
   "outputs": [
    {
     "data": {
      "text/plain": [
       "array([[1, 0, 0, 0],\n",
       "       [0, 0, 0, 1]])"
      ]
     },
     "execution_count": 1,
     "metadata": {},
     "output_type": "execute_result"
    }
   ],
   "execution_count": 1
  },
  {
   "metadata": {},
   "cell_type": "markdown",
   "source": "# MultiLabel Binarization",
   "id": "3b0774c26c2c1586"
  },
  {
   "metadata": {},
   "cell_type": "markdown",
   "source": "MultiLabel binarization is the process of converting a collection of collections of labels into an indicator format. This can be achieved using the **MultiLabelBinarizer** class.",
   "id": "f1ac514885bb636e"
  },
  {
   "metadata": {
    "ExecuteTime": {
     "end_time": "2025-10-08T20:20:36.976949Z",
     "start_time": "2025-10-08T20:20:36.963798Z"
    }
   },
   "cell_type": "code",
   "source": [
    "from sklearn.preprocessing import MultiLabelBinarizer\n",
    "\n",
    "# Define a list of collections of labels\n",
    "y = [[2, 3, 4], [2], [0, 1, 3], [0, 1, 2, 3, 4], [0, 1, 2]]\n",
    "\n",
    "# Create a MultiLabelBinarizer instance and fit_transform the list of collections\n",
    "MultiLabelBinarizer().fit_transform(y)"
   ],
   "id": "52e037c2ead60036",
   "outputs": [
    {
     "data": {
      "text/plain": [
       "array([[0, 0, 1, 1, 1],\n",
       "       [0, 0, 1, 0, 0],\n",
       "       [1, 1, 0, 1, 0],\n",
       "       [1, 1, 1, 1, 1],\n",
       "       [1, 1, 1, 0, 0]])"
      ]
     },
     "execution_count": 2,
     "metadata": {},
     "output_type": "execute_result"
    }
   ],
   "execution_count": 2
  },
  {
   "metadata": {},
   "cell_type": "markdown",
   "source": "# Label Encoding",
   "id": "f7e777bda2c3eb47"
  },
  {
   "metadata": {},
   "cell_type": "markdown",
   "source": "Label encoding is the process of converting non-numerical labels into numerical labels. This can be achieved using the **LabelEncoder** class.",
   "id": "4b6362ca73e74c0c"
  },
  {
   "metadata": {
    "ExecuteTime": {
     "end_time": "2025-10-08T20:21:16.846453Z",
     "start_time": "2025-10-08T20:21:16.806717Z"
    }
   },
   "cell_type": "code",
   "source": [
    "from sklearn import preprocessing\n",
    "\n",
    "# Create a LabelEncoder instance\n",
    "le = preprocessing.LabelEncoder()\n",
    "\n",
    "# Fit the LabelEncoder on a list of non-numerical labels\n",
    "le.fit([\"paris\", \"paris\", \"tokyo\", \"amsterdam\"])\n",
    "\n",
    "# Get the classes learned by the LabelEncoder\n",
    "list(le.classes_)\n",
    "\n",
    "# Transform a list of non-numerical labels into numerical labels\n",
    "le.transform([\"tokyo\", \"tokyo\", \"paris\"])\n",
    "\n",
    "# Inverse transform numerical labels back to non-numerical labels\n",
    "list(le.inverse_transform([2, 2, 1]))"
   ],
   "id": "7e35d92b812521d4",
   "outputs": [
    {
     "data": {
      "text/plain": [
       "['tokyo', 'tokyo', 'paris']"
      ]
     },
     "execution_count": 3,
     "metadata": {},
     "output_type": "execute_result"
    }
   ],
   "execution_count": 3
  },
  {
   "metadata": {},
   "cell_type": "markdown",
   "source": "# Summary",
   "id": "492abd8ab07a85bc"
  },
  {
   "metadata": {},
   "cell_type": "markdown",
   "source": "In this lab, we learned how to transform the prediction target using various techniques provided by the **sklearn.preprocessing **module in scikit-learn. These techniques included label binarization, multi-label binarization, and label encoding.",
   "id": "df280ed055928bb"
  },
  {
   "metadata": {},
   "cell_type": "code",
   "outputs": [],
   "execution_count": null,
   "source": "",
   "id": "dfe715fa37b59cbb"
  }
 ],
 "metadata": {
  "kernelspec": {
   "display_name": "Python 3",
   "language": "python",
   "name": "python3"
  },
  "language_info": {
   "codemirror_mode": {
    "name": "ipython",
    "version": 2
   },
   "file_extension": ".py",
   "mimetype": "text/x-python",
   "name": "python",
   "nbconvert_exporter": "python",
   "pygments_lexer": "ipython2",
   "version": "2.7.6"
  }
 },
 "nbformat": 4,
 "nbformat_minor": 5
}
