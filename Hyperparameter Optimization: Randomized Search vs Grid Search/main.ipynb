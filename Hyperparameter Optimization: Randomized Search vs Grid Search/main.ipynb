{
 "cells": [
  {
   "metadata": {},
   "cell_type": "markdown",
   "source": "# Introduction",
   "id": "1638520ae9f30741"
  },
  {
   "metadata": {},
   "cell_type": "markdown",
   "source": "In machine learning, hyperparameters are parameters that are not learned from data, but rather set prior to training. Selecting appropriate hyperparameters is crucial to achieving high accuracy in machine learning models. Two common methods for hyperparameter optimization are randomized search and grid search. In this lab, we will compare these two methods for optimizing hyperparameters of a linear Support Vector Machine (SVM) with Stochastic Gradient Descent (SGD) training.",
   "id": "a461762f219b23b5"
  },
  {
   "metadata": {},
   "cell_type": "markdown",
   "source": "# Import necessary libraries and load data",
   "id": "888e26fd13c8166b"
  },
  {
   "metadata": {},
   "cell_type": "markdown",
   "source": "We will start by importing the necessary libraries and loading the digits dataset from scikit-learn.",
   "id": "2548a5aea6209d58"
  },
  {
   "cell_type": "code",
   "id": "initial_id",
   "metadata": {
    "collapsed": true,
    "ExecuteTime": {
     "end_time": "2025-09-07T19:10:26.770467Z",
     "start_time": "2025-09-07T19:10:25.544878Z"
    }
   },
   "source": [
    "import numpy as np\n",
    "from time import time\n",
    "import scipy.stats as stats\n",
    "from sklearn.model_selection import GridSearchCV, RandomizedSearchCV\n",
    "from sklearn.datasets import load_digits\n",
    "from sklearn.linear_model import SGDClassifier\n",
    "\n",
    "# load digits dataset\n",
    "X, y = load_digits(return_X_y=True, n_class=3)"
   ],
   "outputs": [],
   "execution_count": 1
  },
  {
   "metadata": {},
   "cell_type": "markdown",
   "source": "# Create an SVM model",
   "id": "cd30fdad489b2a16"
  },
  {
   "metadata": {},
   "cell_type": "markdown",
   "source": "We will create a linear SVM model with SGD training.",
   "id": "a7842184a61b2ed9"
  },
  {
   "metadata": {
    "ExecuteTime": {
     "end_time": "2025-09-07T19:25:45.304402Z",
     "start_time": "2025-09-07T19:25:45.272325Z"
    }
   },
   "cell_type": "code",
   "source": [
    "# create SVM model with SGD training\n",
    "clf = SGDClassifier(loss=\"hinge\", penalty=\"elasticnet\", fit_intercept=True)"
   ],
   "id": "76074535ed863305",
   "outputs": [],
   "execution_count": 2
  },
  {
   "metadata": {},
   "cell_type": "markdown",
   "source": "# Randomized search for hyperparameter optimization",
   "id": "44071fb9ffde2614"
  },
  {
   "metadata": {},
   "cell_type": "markdown",
   "source": "We will use randomized search to explore the hyperparameter space and find the best hyperparameters for our SVM model.",
   "id": "da708cdbe1cd1c6"
  },
  {
   "metadata": {
    "ExecuteTime": {
     "end_time": "2025-09-07T19:26:53.808893Z",
     "start_time": "2025-09-07T19:26:53.238797Z"
    }
   },
   "cell_type": "code",
   "source": [
    "# Utility function to report best scores\n",
    "def report(results, n_top=3):\n",
    "    for i in range(1, n_top + 1):\n",
    "        candidates = np.flatnonzero(results[\"rank_test_score\"] == i)\n",
    "        for candidate in candidates:\n",
    "            print(\"Model with rank: {0}\".format(i))\n",
    "            print(\n",
    "                \"Mean validation score: {0:.3f} (std: {1:.3f})\".format(\n",
    "                    results[\"mean_test_score\"][candidate],\n",
    "                    results[\"std_test_score\"][candidate],\n",
    "                )\n",
    "            )\n",
    "            print(\"Parameters: {0}\".format(results[\"params\"][candidate]))\n",
    "            print(\"\")\n",
    "\n",
    "# specify parameters and distributions to sample from\n",
    "param_dist = {\n",
    "    \"average\": [True, False],\n",
    "    \"l1_ratio\": stats.uniform(0, 1),\n",
    "    \"alpha\": stats.loguniform(1e-2, 1e0),\n",
    "}\n",
    "\n",
    "# run randomized search\n",
    "n_iter_search = 15\n",
    "random_search = RandomizedSearchCV(\n",
    "    clf, param_distributions=param_dist, n_iter=n_iter_search\n",
    ")\n",
    "\n",
    "start = time()\n",
    "random_search.fit(X, y)\n",
    "print(\n",
    "    \"RandomizedSearchCV took %.2f seconds for %d candidates parameter settings.\"\n",
    "    % ((time() - start), n_iter_search)\n",
    ")\n",
    "\n",
    "# print results\n",
    "report(random_search.cv_results_)"
   ],
   "id": "2a1c44994cccb3a1",
   "outputs": [
    {
     "name": "stdout",
     "output_type": "stream",
     "text": [
      "RandomizedSearchCV took 0.54 seconds for 15 candidates parameter settings.\n",
      "Model with rank: 1\n",
      "Mean validation score: 0.987 (std: 0.013)\n",
      "Parameters: {'alpha': 0.02689792231956257, 'average': True, 'l1_ratio': 0.9137494958416262}\n",
      "\n",
      "Model with rank: 2\n",
      "Mean validation score: 0.983 (std: 0.021)\n",
      "Parameters: {'alpha': 0.06465372942736058, 'average': False, 'l1_ratio': 0.8395862399561652}\n",
      "\n",
      "Model with rank: 3\n",
      "Mean validation score: 0.979 (std: 0.019)\n",
      "Parameters: {'alpha': 0.011087822554910951, 'average': False, 'l1_ratio': 0.2191086930071391}\n",
      "\n"
     ]
    }
   ],
   "execution_count": 4
  },
  {
   "metadata": {},
   "cell_type": "markdown",
   "source": "# Grid search for hyperparameter optimization",
   "id": "cba81176826bf116"
  },
  {
   "metadata": {},
   "cell_type": "markdown",
   "source": "We will use grid search to explore the hyperparameter space and find the best hyperparameters for our SVM model.",
   "id": "563bcd4af51752c1"
  },
  {
   "metadata": {
    "ExecuteTime": {
     "end_time": "2025-09-07T19:27:31.378940Z",
     "start_time": "2025-09-07T19:27:29.783474Z"
    }
   },
   "cell_type": "code",
   "source": [
    "# specify parameters to search over\n",
    "param_grid = {\n",
    "    \"average\": [True, False],\n",
    "    \"l1_ratio\": np.linspace(0, 1, num=10),\n",
    "    \"alpha\": np.power(10, np.arange(-2, 1, dtype=float)),\n",
    "}\n",
    "\n",
    "# run grid search\n",
    "grid_search = GridSearchCV(clf, param_grid=param_grid)\n",
    "\n",
    "start = time()\n",
    "grid_search.fit(X, y)\n",
    "\n",
    "print(\n",
    "    \"GridSearchCV took %.2f seconds for %d candidate parameter settings.\"\n",
    "    % (time() - start, len(grid_search.cv_results_[\"params\"]))\n",
    ")\n",
    "\n",
    "# print results\n",
    "report(grid_search.cv_results_)"
   ],
   "id": "ffb47cefb11c856d",
   "outputs": [
    {
     "name": "stdout",
     "output_type": "stream",
     "text": [
      "GridSearchCV took 1.58 seconds for 60 candidate parameter settings.\n",
      "Model with rank: 1\n",
      "Mean validation score: 0.994 (std: 0.007)\n",
      "Parameters: {'alpha': 0.1, 'average': False, 'l1_ratio': 0.2222222222222222}\n",
      "\n",
      "Model with rank: 2\n",
      "Mean validation score: 0.991 (std: 0.010)\n",
      "Parameters: {'alpha': 0.01, 'average': False, 'l1_ratio': 0.1111111111111111}\n",
      "\n",
      "Model with rank: 3\n",
      "Mean validation score: 0.989 (std: 0.007)\n",
      "Parameters: {'alpha': 0.01, 'average': False, 'l1_ratio': 0.5555555555555556}\n",
      "\n",
      "Model with rank: 3\n",
      "Mean validation score: 0.989 (std: 0.007)\n",
      "Parameters: {'alpha': 1.0, 'average': False, 'l1_ratio': 0.0}\n",
      "\n"
     ]
    }
   ],
   "execution_count": 5
  },
  {
   "metadata": {},
   "cell_type": "markdown",
   "source": "# Summary",
   "id": "3382f2f60848e5a"
  },
  {
   "metadata": {},
   "cell_type": "markdown",
   "source": "In this lab, we compared randomized search and grid search for hyperparameter optimization of a linear SVM model with SGD training. We found that both methods explored the same hyperparameter space, but randomized search was significantly faster. The best hyperparameters found by each method were similar in performance, but randomized search may have slightly worse performance due to noise. In practice, we would not search over so many hyperparameters simultaneously, but only the most important ones.",
   "id": "11dbefaeba207879"
  },
  {
   "metadata": {},
   "cell_type": "code",
   "outputs": [],
   "execution_count": null,
   "source": "",
   "id": "5c66b9bd3dca7aae"
  }
 ],
 "metadata": {
  "kernelspec": {
   "display_name": "Python 3",
   "language": "python",
   "name": "python3"
  },
  "language_info": {
   "codemirror_mode": {
    "name": "ipython",
    "version": 2
   },
   "file_extension": ".py",
   "mimetype": "text/x-python",
   "name": "python",
   "nbconvert_exporter": "python",
   "pygments_lexer": "ipython2",
   "version": "2.7.6"
  }
 },
 "nbformat": 4,
 "nbformat_minor": 5
}
