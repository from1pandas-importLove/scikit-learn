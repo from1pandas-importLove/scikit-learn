{
 "cells": [
  {
   "metadata": {},
   "cell_type": "markdown",
   "source": "# Introduction",
   "id": "a15fa277e946b9fb"
  },
  {
   "metadata": {},
   "cell_type": "markdown",
   "source": "In this lab, we will explore the K-Means clustering algorithm using the scikit-learn library in Python. We will use the handwritten digits dataset, which contains 64 features representing an 8x8 image of a digit, and we will try to group the images together based on the digit they represent. We will compare the different initialization methods for K-Means and evaluate the performance of the clustering using various metrics.",
   "id": "7572af99efaaf7df"
  },
  {
   "metadata": {},
   "cell_type": "markdown",
   "source": "# Load the Dataset",
   "id": "ef00cb839dc99b70"
  },
  {
   "metadata": {},
   "cell_type": "markdown",
   "source": "We will start by loading the digits dataset using scikit-learn's **load_digits()** function. This function returns the features and labels for the dataset.",
   "id": "36e8e5be734914cc"
  },
  {
   "cell_type": "code",
   "id": "initial_id",
   "metadata": {
    "collapsed": true,
    "ExecuteTime": {
     "end_time": "2025-06-22T09:49:05.624069Z",
     "start_time": "2025-06-22T09:49:05.604884Z"
    }
   },
   "source": [
    "import numpy as np\n",
    "from sklearn.datasets import load_digits\n",
    "\n",
    "data, labels = load_digits(return_X_y=True)\n",
    "(n_samples, n_features), n_digits = data.shape, np.unique(labels).size"
   ],
   "outputs": [],
   "execution_count": 2
  },
  {
   "metadata": {},
   "cell_type": "markdown",
   "source": "# Define the Evaluation Benchmark",
   "id": "676c4c0b9ee87d47"
  },
  {
   "metadata": {},
   "cell_type": "markdown",
   "source": [
    "We will define a benchmark to compare different initialization methods for K-Means. Our benchmark will:\n",
    "\n",
    "- create a pipeline which will scale the data using a StandardScaler\n",
    "- train and time the pipeline fitting\n",
    "- measure the performance of the clustering obtained via different metrics"
   ],
   "id": "eeb08e5dcb42ca72"
  },
  {
   "metadata": {
    "ExecuteTime": {
     "end_time": "2025-06-22T10:01:21.256420Z",
     "start_time": "2025-06-22T10:01:21.098955Z"
    }
   },
   "cell_type": "code",
   "source": [
    "from time import time\n",
    "from sklearn import metrics\n",
    "from sklearn.pipeline import make_pipeline\n",
    "from sklearn.preprocessing import StandardScaler\n",
    "\n",
    "def bench_k_means(kmeans, name, data, labels):\n",
    "    \"\"\"Benchmark to evaluate the KMeans initialization methods.\n",
    "\n",
    "    Parameters\n",
    "    ----------\n",
    "    kmeans : KMeans instance\n",
    "        A `KMeans` instance with the initialization already set.\n",
    "    name : str\n",
    "        Name given to the strategy. It will be used to show the results in a table.\n",
    "    data : ndarray of shape (n_samples, n_features)\n",
    "        The data to cluster.\n",
    "    labels : ndarray of shape (n_samples,)\n",
    "        The labels used to compute the clustering metrics which require some supervision.\n",
    "    \"\"\"\n",
    "    t0 = time()\n",
    "    estimator = make_pipeline(StandardScaler(), kmeans).fit(data)\n",
    "    fit_time = time() - t0\n",
    "    results = [name, fit_time, estimator[-1].inertia_]\n",
    "\n",
    "    # Define the metrics which require only the true labels and estimator labels\n",
    "    clustering_metrics = [\n",
    "        metrics.homogeneity_score,\n",
    "        metrics.completeness_score,\n",
    "        metrics.v_measure_score,\n",
    "        metrics.adjusted_rand_score,\n",
    "        metrics.adjusted_mutual_info_score,\n",
    "    ]\n",
    "    results += [m(labels, estimator[-1].labels_) for m in clustering_metrics]\n",
    "\n",
    "    # The silhouette score requires the full dataset\n",
    "    results += [\n",
    "        metrics.silhouette_score(\n",
    "            data,\n",
    "            estimator[-1].labels_,\n",
    "            metric=\"euclidean\",\n",
    "            sample_size=300,\n",
    "        )\n",
    "    ]\n",
    "\n",
    "    # Show the results\n",
    "    formatter_result = (\n",
    "        \"{:9s}\\t{:.3f}s\\t{:.0f}\\t{:.3f}\\t{:.3f}\\t{:.3f}\\t{:.3f}\\t{:.3f}\\t{:.3f}\"\n",
    "    )\n",
    "    print(formatter_result.format(*results))"
   ],
   "id": "285c39becba98409",
   "outputs": [],
   "execution_count": 3
  },
  {
   "metadata": {},
   "cell_type": "markdown",
   "source": "# Run the Benchmark",
   "id": "8562a70c2ca015e3"
  },
  {
   "metadata": {},
   "cell_type": "markdown",
   "source": [
    "We will compare three approaches for initializing K-Means:\n",
    "\n",
    "- an initialization using k-means++. This method is stochastic and we will run the initialization 4 times;\n",
    "- a random initialization. This method is stochastic as well and we will run the initialization 4 times;\n",
    "- an initialization based on a PCA projection. We will use the components of the PCA to initialize K-Means. This method is deterministic and a single initialization is sufficient."
   ],
   "id": "2ce6a89c58f1165"
  },
  {
   "metadata": {
    "ExecuteTime": {
     "end_time": "2025-06-22T10:06:33.501137Z",
     "start_time": "2025-06-22T10:06:32.618890Z"
    }
   },
   "cell_type": "code",
   "source": [
    "from sklearn.cluster import KMeans\n",
    "from sklearn.decomposition import PCA\n",
    "\n",
    "print(82 * \"_\")\n",
    "print(\"init\\t\\ttime\\tinertia\\thomo\\tcompl\\tv-meas\\tARI\\tAMI\\tsilhouette\")\n",
    "\n",
    "kmeans = KMeans(init='k-means++', n_clusters=n_digits, n_init=4, random_state=0)\n",
    "bench_k_means(kmeans, \"k-means++\", data, labels)\n",
    "\n",
    "kmeans = KMeans(init='random', n_clusters=n_digits, n_init=4, random_state=0)\n",
    "bench_k_means(kmeans, \"random\", data, labels)\n",
    "\n",
    "pca = PCA(n_components=n_digits).fit(data)\n",
    "kmeans = KMeans(n_clusters=n_digits, n_init=1, random_state=0, init=pca.components_)\n",
    "bench_k_means(kmeans, \"PCA-based\", data, labels)\n",
    "\n",
    "print(82 * \"_\")"
   ],
   "id": "4defb49002371cbb",
   "outputs": [
    {
     "name": "stdout",
     "output_type": "stream",
     "text": [
      "__________________________________________________________________________________\n",
      "init\t\ttime\tinertia\thomo\tcompl\tv-meas\tARI\tAMI\tsilhouette\n",
      "k-means++\t0.110s\t69545\t0.598\t0.645\t0.621\t0.469\t0.617\t0.153\n",
      "random   \t0.024s\t69735\t0.681\t0.723\t0.701\t0.574\t0.698\t0.195\n",
      "PCA-based\t0.008s\t69513\t0.600\t0.647\t0.622\t0.468\t0.618\t0.163\n",
      "__________________________________________________________________________________\n"
     ]
    }
   ],
   "execution_count": 4
  },
  {
   "metadata": {},
   "cell_type": "markdown",
   "source": "# Visualize the Results on PCA-Reduced Data",
   "id": "56354d2ef5a8c17c"
  },
  {
   "metadata": {},
   "cell_type": "markdown",
   "source": "We will use PCA to reduce the dataset to 2 dimensions and plot the data and clusters in this new space.",
   "id": "4ba41c46d7011791"
  },
  {
   "metadata": {
    "ExecuteTime": {
     "end_time": "2025-06-22T10:15:28.198951Z",
     "start_time": "2025-06-22T10:15:26.748890Z"
    }
   },
   "cell_type": "code",
   "source": [
    "import matplotlib.pyplot as plt\n",
    "\n",
    "reduced_data = PCA(n_components=2).fit_transform(data)\n",
    "kmeans = KMeans(init='k-means++', n_clusters=n_digits, n_init=4, random_state=0)\n",
    "kmeans.fit(reduced_data)\n",
    "\n",
    "# Step size of the mesh. Decrease to increase the quality of th VQ.\n",
    "h = 0.02 # point in the mesh [x_min, x_max]x[y_min, y_max].\n",
    "\n",
    "# Plot the decision boundary. For that, we will assign a color to each\n",
    "x_min, x_max = reduced_data[:, 0].min() - 1, reduced_data[:, 0].max() + 1\n",
    "y_min, y_max = reduced_data[:, 1].min() - 1, reduced_data[:, 1].max() + 1\n",
    "xx, yy = np.meshgrid(np.arange(x_min, x_max, h), np.arange(y_min, y_max, h))\n",
    "\n",
    "# obtain lables for each point in mesh. Use last trained model.\n",
    "Z = kmeans.predict(np.c_[xx.ravel(), yy.ravel()])\n",
    "\n",
    "# Put the results into a color plot\n",
    "Z = Z.reshape(xx.shape)\n",
    "plt.figure(1)\n",
    "plt.clf()\n",
    "plt.imshow(\n",
    "    Z,\n",
    "    interpolation=\"nearest\",\n",
    "    extent=(xx.min(), xx.max(), yy.min(), yy.max()),\n",
    "    cmap=plt.cm.Paired,\n",
    "    aspect=\"auto\",\n",
    "    origin=\"lower\",\n",
    ")\n",
    "\n",
    "plt.plot(reduced_data[:, 0], reduced_data[:, 1], \"k.\", markersize=2)\n",
    "# Plot the centroids as a white X\n",
    "centroids = kmeans.cluster_centers_\n",
    "plt.scatter(\n",
    "    centroids[:, 0],\n",
    "    centroids[:, 1],\n",
    "    marker=\"x\",\n",
    "    linewidths=3,\n",
    "    s=169,\n",
    "    color='w',\n",
    "    zorder=10,\n",
    ")\n",
    "plt.title(\n",
    "    \"K-means clustering on the digits dataset (PCA-reduced data)\\n\"\n",
    "    \"Centroids are marked with white cross\"\n",
    ")\n",
    "plt.xlim(x_min, x_max)\n",
    "plt.ylim(y_min, y_max)\n",
    "plt.xticks(())\n",
    "plt.yticks(())\n",
    "plt.show()"
   ],
   "id": "637365940d9d61c5",
   "outputs": [
    {
     "data": {
      "text/plain": [
       "<Figure size 640x480 with 1 Axes>"
      ],
      "image/png": "[encoded data removed]"
     },
     "metadata": {},
     "output_type": "display_data"
    }
   ],
   "execution_count": 5
  },
  {
   "metadata": {},
   "cell_type": "markdown",
   "source": "# Summary",
   "id": "81a4a01088a9a9bf"
  },
  {
   "metadata": {},
   "cell_type": "markdown",
   "source": "In this lab, we explored the K-Means clustering algorithm and applied it to the handwritten digits dataset. We compared different initialization methods and evaluated the performance of the clustering using various metrics. We also visualized the results in a 2-dimensional space using PCA.",
   "id": "c123c0b3e054c19a"
  },
  {
   "metadata": {},
   "cell_type": "code",
   "outputs": [],
   "execution_count": null,
   "source": "",
   "id": "7f9decadce2e37a3"
  }
 ],
 "metadata": {
  "kernelspec": {
   "display_name": "Python 3",
   "language": "python",
   "name": "python3"
  },
  "language_info": {
   "codemirror_mode": {
    "name": "ipython",
    "version": 2
   },
   "file_extension": ".py",
   "mimetype": "text/x-python",
   "name": "python",
   "nbconvert_exporter": "python",
   "pygments_lexer": "ipython2",
   "version": "2.7.6"
  }
 },
 "nbformat": 4,
 "nbformat_minor": 5
}
