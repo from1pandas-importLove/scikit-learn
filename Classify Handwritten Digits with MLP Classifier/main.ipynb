{
 "cells": [
  {
   "metadata": {},
   "cell_type": "markdown",
   "source": "# Introduction",
   "id": "7e1a705e91a849b2"
  },
  {
   "metadata": {},
   "cell_type": "markdown",
   "source": "This tutorial will show you how to create an MLPClassifier using Scikit-learn to classify handwritten digits from the MNIST dataset. We will also visualize the weights of the first layer of the MLP to gain insight into the learning behavior.",
   "id": "7ee16943d0865ea7"
  },
  {
   "metadata": {},
   "cell_type": "markdown",
   "source": "# Import Libraries",
   "id": "3d4f1438ec8204a1"
  },
  {
   "metadata": {},
   "cell_type": "markdown",
   "source": "We will start by importing the necessary libraries for this project.",
   "id": "7fb7f92f98ce8788"
  },
  {
   "metadata": {
    "ExecuteTime": {
     "end_time": "2025-09-06T22:07:18.725430Z",
     "start_time": "2025-09-06T22:07:17.401686Z"
    }
   },
   "cell_type": "code",
   "source": [
    "import warnings\n",
    "import matplotlib.pyplot as plt\n",
    "from sklearn.datasets import fetch_openml\n",
    "from sklearn.exceptions import ConvergenceWarning\n",
    "from sklearn.neural_network import MLPClassifier\n",
    "from sklearn.model_selection import train_test_split"
   ],
   "id": "6fda3a8163b05a9b",
   "outputs": [],
   "execution_count": 1
  },
  {
   "metadata": {},
   "cell_type": "markdown",
   "source": "# Load Data",
   "id": "7b50e08d63364f96"
  },
  {
   "metadata": {},
   "cell_type": "markdown",
   "source": "Next, we will load the MNIST dataset using Scikit-learn's **fetch_openml** function.",
   "id": "f75d7a2eec956bc0"
  },
  {
   "cell_type": "code",
   "id": "initial_id",
   "metadata": {
    "collapsed": true,
    "ExecuteTime": {
     "end_time": "2025-09-06T22:07:59.998086Z",
     "start_time": "2025-09-06T22:07:57.885382Z"
    }
   },
   "source": [
    "X, y = fetch_openml(\n",
    "    \"mnist_784\", version=1, return_X_y=True, as_frame=False, parser=\"pandas\"\n",
    ")"
   ],
   "outputs": [],
   "execution_count": 2
  },
  {
   "metadata": {},
   "cell_type": "markdown",
   "source": "# Preprocess Data",
   "id": "878c495d06827c6d"
  },
  {
   "metadata": {},
   "cell_type": "markdown",
   "source": "We will normalize the data by dividing each pixel value by 255.0, which is the maximum pixel value.",
   "id": "c0f688f5c715cff4"
  },
  {
   "metadata": {
    "ExecuteTime": {
     "end_time": "2025-09-06T22:08:36.257416Z",
     "start_time": "2025-09-06T22:08:35.939268Z"
    }
   },
   "cell_type": "code",
   "source": "X = X / 255.0",
   "id": "9ab1bae0ef48bb35",
   "outputs": [],
   "execution_count": 3
  },
  {
   "metadata": {},
   "cell_type": "markdown",
   "source": "# Split Data",
   "id": "4688eacd8f2a1684"
  },
  {
   "metadata": {},
   "cell_type": "markdown",
   "source": "We will split the dataset into a training set and a test set using the **train_test_split** function.",
   "id": "747ef5754d79479c"
  },
  {
   "metadata": {
    "ExecuteTime": {
     "end_time": "2025-09-06T22:09:09.727511Z",
     "start_time": "2025-09-06T22:09:09.285555Z"
    }
   },
   "cell_type": "code",
   "source": "X_train, X_test, y_train, y_test = train_test_split(X, y, random_state=0, test_size=0.7)",
   "id": "5f2af07bc96a3d88",
   "outputs": [],
   "execution_count": 4
  },
  {
   "metadata": {},
   "cell_type": "markdown",
   "source": "# Train MLPClassifier",
   "id": "664a2455150289ae"
  },
  {
   "metadata": {},
   "cell_type": "markdown",
   "source": "We will create an MLPClassifier with a single hidden layer containing 40 neurons. We will train the MLP for only 8 iterations due to resource constraints. We will also catch the **ConvergenceWarning** that will be thrown because the model won't converge within the limited number of iterations.",
   "id": "8319fb330fce6b19"
  },
  {
   "metadata": {
    "ExecuteTime": {
     "end_time": "2025-09-06T22:11:39.038214Z",
     "start_time": "2025-09-06T22:11:37.314073Z"
    }
   },
   "cell_type": "code",
   "source": [
    "mlp = MLPClassifier(\n",
    "    hidden_layer_sizes=(40,),\n",
    "    max_iter=8,\n",
    "    alpha=1e-4,\n",
    "    solver='sgd',\n",
    "    verbose=10,\n",
    "    random_state=1,\n",
    "    learning_rate_init=0.2,\n",
    ")\n",
    "\n",
    "with warnings.catch_warnings():\n",
    "    warnings.filterwarnings(\"ignore\", category=ConvergenceWarning, module=\"sklearn\")\n",
    "    mlp.fit(X_train, y_train)"
   ],
   "id": "c60fde086d1f9ad4",
   "outputs": [
    {
     "name": "stdout",
     "output_type": "stream",
     "text": [
      "Iteration 1, loss = 0.44139186\n",
      "Iteration 2, loss = 0.19174891\n",
      "Iteration 3, loss = 0.13983521\n",
      "Iteration 4, loss = 0.11378556\n",
      "Iteration 5, loss = 0.09443967\n",
      "Iteration 6, loss = 0.07846529\n",
      "Iteration 7, loss = 0.06506307\n",
      "Iteration 8, loss = 0.05534985\n"
     ]
    }
   ],
   "execution_count": 5
  },
  {
   "metadata": {},
   "cell_type": "markdown",
   "source": "# Evaluate the Model",
   "id": "7e28f6f6385546e8"
  },
  {
   "metadata": {},
   "cell_type": "markdown",
   "source": "We will evaluate the MLPClassifier by computing its accuracy on the training and test sets.",
   "id": "181470d86549d0fb"
  },
  {
   "metadata": {
    "ExecuteTime": {
     "end_time": "2025-09-06T22:13:04.560116Z",
     "start_time": "2025-09-06T22:13:04.198013Z"
    }
   },
   "cell_type": "code",
   "source": [
    "print(\"Training set score: %f\" % mlp.score(X_train, y_train))\n",
    "print(\"Test set score: %f\" % mlp.score(X_test, y_test))"
   ],
   "id": "f69b955cb442eee0",
   "outputs": [
    {
     "name": "stdout",
     "output_type": "stream",
     "text": [
      "Training set score: 0.986429\n",
      "Test set score: 0.953061\n"
     ]
    }
   ],
   "execution_count": 6
  },
  {
   "metadata": {},
   "cell_type": "markdown",
   "source": "# Visualize Weights",
   "id": "2c004464fd1e73d6"
  },
  {
   "metadata": {},
   "cell_type": "markdown",
   "source": "Finally, we will visualize the weights of the first layer of the MLP. We will create a 4x4 grid of subplots and display each weight as a 28x28 pixel grayscale image.",
   "id": "6e80679a6724796a"
  },
  {
   "metadata": {
    "ExecuteTime": {
     "end_time": "2025-09-06T22:13:36.743933Z",
     "start_time": "2025-09-06T22:13:36.455483Z"
    }
   },
   "cell_type": "code",
   "source": [
    "fig, axes = plt.subplots(4, 4)\n",
    "vmin, vmax = mlp.coefs_[0].min(), mlp.coefs_[0].max()\n",
    "for coef, ax in zip(mlp.coefs_[0].T, axes.ravel()):\n",
    "    ax.matshow(coef.reshape(28, 28), cmap=plt.cm.gray, vmin=0.5 * vmin, vmax=0.5 * vmax)\n",
    "    ax.set_xticks(())\n",
    "    ax.set_yticks(())\n",
    "\n",
    "plt.show()"
   ],
   "id": "fa04acab7635d68f",
   "outputs": [
    {
     "data": {
      "text/plain": [
       "<Figure size 640x480 with 16 Axes>"
      ],
      "image/png": "[encoded data removed]"
     },
     "metadata": {},
     "output_type": "display_data"
    }
   ],
   "execution_count": 7
  },
  {
   "metadata": {},
   "cell_type": "markdown",
   "source": "# Summary",
   "id": "ed7ef4ea1d284ffe"
  },
  {
   "metadata": {},
   "cell_type": "markdown",
   "source": "In this tutorial, we learned how to create an MLPClassifier using Scikit-learn to classify handwritten digits from the MNIST dataset. We also visualized the weights of the first layer of the MLP to gain insight into the learning behavior.",
   "id": "c085c56cbf8fdeec"
  },
  {
   "metadata": {},
   "cell_type": "code",
   "outputs": [],
   "execution_count": null,
   "source": "",
   "id": "5465db391a8230ca"
  }
 ],
 "metadata": {
  "kernelspec": {
   "display_name": "Python 3",
   "language": "python",
   "name": "python3"
  },
  "language_info": {
   "codemirror_mode": {
    "name": "ipython",
    "version": 2
   },
   "file_extension": ".py",
   "mimetype": "text/x-python",
   "name": "python",
   "nbconvert_exporter": "python",
   "pygments_lexer": "ipython2",
   "version": "2.7.6"
  }
 },
 "nbformat": 4,
 "nbformat_minor": 5
}
