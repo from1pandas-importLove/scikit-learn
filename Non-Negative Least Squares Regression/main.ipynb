{
 "cells": [
  {
   "metadata": {},
   "cell_type": "markdown",
   "source": "# Introduction",
   "id": "b7cb83d9847b6727"
  },
  {
   "metadata": {},
   "cell_type": "markdown",
   "source": "In this lab, we will learn about Non-negative least squares regression, a type of linear regression that constrains the regression coefficients to be non-negative. We will use Python's scikit-learn library to implement this algorithm and compare it to the classic linear regression.",
   "id": "a8d43bebee80f76d"
  },
  {
   "metadata": {},
   "cell_type": "markdown",
   "source": "# Generate Random Data",
   "id": "4a42d35eafb68174"
  },
  {
   "metadata": {},
   "cell_type": "markdown",
   "source": "We will generate some random data to test our algorithm. We will create 200 samples with 50 features and use a true coefficient of 3 for each feature. We will then threshold coefficients to render them non-negative. Lastly, we will add some noise to the samples.",
   "id": "871d56caff1c1489"
  },
  {
   "cell_type": "code",
   "id": "initial_id",
   "metadata": {
    "collapsed": true,
    "ExecuteTime": {
     "end_time": "2025-09-25T05:35:46.500001Z",
     "start_time": "2025-09-25T05:35:46.448365Z"
    }
   },
   "source": [
    "import numpy as np\n",
    "\n",
    "np.random.seed(42)\n",
    "\n",
    "n_samples, n_features = 200, 50\n",
    "X = np.random.randn(n_samples, n_features)\n",
    "true_coef = 3 * np.random.randn(n_features)\n",
    "true_coef[true_coef < 0] = 0\n",
    "y = np.dot(X, true_coef)\n",
    "y += 5 * np.random.normal(size=(n_samples,))"
   ],
   "outputs": [],
   "execution_count": 2
  },
  {
   "metadata": {},
   "cell_type": "markdown",
   "source": "# Split Data into Train and Test Sets",
   "id": "ecbd0a77852a243f"
  },
  {
   "metadata": {},
   "cell_type": "markdown",
   "source": "We will split our data into a train set and a test set, with 50% of the data in each set.",
   "id": "d0dfe4277ea98aaf"
  },
  {
   "metadata": {
    "ExecuteTime": {
     "end_time": "2025-09-25T05:36:38.436752Z",
     "start_time": "2025-09-25T05:36:34.774281Z"
    }
   },
   "cell_type": "code",
   "source": [
    "from sklearn.model_selection import train_test_split\n",
    "\n",
    "X_train, X_test, y_train, y_test = train_test_split(X, y, test_size=0.5, random_state=42)"
   ],
   "id": "c12047a7fcb3de8a",
   "outputs": [],
   "execution_count": 3
  },
  {
   "metadata": {},
   "cell_type": "markdown",
   "source": "# Fit Non-Negative Least Squares Regression",
   "id": "52b64eddc72e64e5"
  },
  {
   "metadata": {},
   "cell_type": "markdown",
   "source": "We will now fit our data using non-negative least squares regression. This is done using scikit-learn's **LinearRegression** class with the **positive=True** parameter. We will then predict the values for our test set and calculate the R2 score.",
   "id": "2f904abe7fcf2bd2"
  },
  {
   "metadata": {
    "ExecuteTime": {
     "end_time": "2025-09-25T05:39:10.080129Z",
     "start_time": "2025-09-25T05:39:09.683825Z"
    }
   },
   "cell_type": "code",
   "source": [
    "from sklearn.linear_model import LinearRegression\n",
    "from sklearn.metrics import r2_score\n",
    "\n",
    "reg_nnls = LinearRegression(positive=True)\n",
    "y_pred_nnls = reg_nnls.fit(X_train, y_train).predict(X_test)\n",
    "r2_score_nnls = r2_score(y_test, y_pred_nnls)\n",
    "print('NNLS R2 score', r2_score_nnls)"
   ],
   "id": "8e2e94572cc5f25e",
   "outputs": [
    {
     "name": "stdout",
     "output_type": "stream",
     "text": [
      "NNLS R2 score 0.792190276930482\n"
     ]
    }
   ],
   "execution_count": 4
  },
  {
   "metadata": {},
   "cell_type": "markdown",
   "source": "# Fit Classic Linear Regression",
   "id": "fe0a140b23954109"
  },
  {
   "metadata": {},
   "cell_type": "markdown",
   "source": "We will now fit our data using classic linear regression. This is done using scikit-learn's **LinearRegression** class. We will then predict the values for our test set and calculate the R2 score.",
   "id": "f10db8e764d96033"
  },
  {
   "metadata": {
    "ExecuteTime": {
     "end_time": "2025-09-25T05:40:26.522501Z",
     "start_time": "2025-09-25T05:40:26.475317Z"
    }
   },
   "cell_type": "code",
   "source": [
    "reg_ols = LinearRegression()\n",
    "y_pred_ols = reg_ols.fit(X_train, y_train).predict(X_test)\n",
    "r2_score_ols = r2_score(y_test, y_pred_ols)\n",
    "print('OLS R2 score', r2_score_ols)"
   ],
   "id": "ded72764d4306b38",
   "outputs": [
    {
     "name": "stdout",
     "output_type": "stream",
     "text": [
      "OLS R2 score 0.7604320840233196\n"
     ]
    }
   ],
   "execution_count": 5
  },
  {
   "metadata": {},
   "cell_type": "markdown",
   "source": "# Compare Regression Coefficients",
   "id": "3175ef01c88e681"
  },
  {
   "metadata": {},
   "cell_type": "markdown",
   "source": "We will now compare the regression coefficients between non-negative least squares regression and classic linear regression. We will plot the coefficients against each other and observe that they are highly correlated. However, the non-negative constraint shrinks some coefficients to 0. This is because non-negative least squares inherently yield sparse results.",
   "id": "9a420c0f9ab70f7e"
  },
  {
   "metadata": {
    "ExecuteTime": {
     "end_time": "2025-09-25T05:41:29.507588Z",
     "start_time": "2025-09-25T05:41:28.519184Z"
    }
   },
   "cell_type": "code",
   "source": [
    "import matplotlib.pyplot as plt\n",
    "\n",
    "fig, ax = plt.subplots()\n",
    "ax.plot(reg_ols.coef_, reg_nnls.coef_, linewidth=0, marker=\".\")\n",
    "\n",
    "low_x, high_x = ax.get_xlim()\n",
    "low_y, high_y = ax.get_ylim()\n",
    "low = max(low_x, low_y)\n",
    "high = min(high_x, high_y)\n",
    "ax.plot([low, high], [low, high], ls=\"--\", c=\".3\", alpha=0.5)\n",
    "ax.set_xlabel(\"OLS regression coefficients\", fontweight=\"bold\")\n",
    "ax.set_ylabel(\"NNLS regression coefficients\", fontweight=\"bold\")"
   ],
   "id": "2a6526f992c5f327",
   "outputs": [
    {
     "data": {
      "text/plain": [
       "Text(0, 0.5, 'NNLS regression coefficients')"
      ]
     },
     "execution_count": 6,
     "metadata": {},
     "output_type": "execute_result"
    },
    {
     "data": {
      "text/plain": [
       "<Figure size 640x480 with 1 Axes>"
      ],
      "image/png": "[encoded data removed]"
     },
     "metadata": {},
     "output_type": "display_data"
    }
   ],
   "execution_count": 6
  },
  {
   "metadata": {},
   "cell_type": "markdown",
   "source": "# Summary",
   "id": "1e781c53b7d9ce6a"
  },
  {
   "metadata": {},
   "cell_type": "markdown",
   "source": "In this lab, we learned about non-negative least squares regression and how it differs from classic linear regression. We used scikit-learn to implement this algorithm and compared it to classic linear regression by generating random data and splitting it into a train set and a test set. We then fit both models to the data, predicted the values for the test set, and calculated the R2 score. Finally, we compared the regression coefficients between the two models and observed that non-negative least squares regression yields sparse results.",
   "id": "ddb1d19c083025c0"
  },
  {
   "metadata": {},
   "cell_type": "code",
   "outputs": [],
   "execution_count": null,
   "source": "",
   "id": "438e6c48ad81e882"
  }
 ],
 "metadata": {
  "kernelspec": {
   "display_name": "Python 3",
   "language": "python",
   "name": "python3"
  },
  "language_info": {
   "codemirror_mode": {
    "name": "ipython",
    "version": 2
   },
   "file_extension": ".py",
   "mimetype": "text/x-python",
   "name": "python",
   "nbconvert_exporter": "python",
   "pygments_lexer": "ipython2",
   "version": "2.7.6"
  }
 },
 "nbformat": 4,
 "nbformat_minor": 5
}
