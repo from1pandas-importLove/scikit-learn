{
 "cells": [
  {
   "metadata": {},
   "cell_type": "markdown",
   "source": "# Introduction",
   "id": "537a28cdf971bc61"
  },
  {
   "metadata": {},
   "cell_type": "markdown",
   "source": "In this lab, we will learn how to use the **TargetEncoder** class from the Scikit-learn library. Target encoding is a technique used to transform categorical data into numerical data that can be used as input for machine learning algorithms. The **TargetEncoder** replaces each category of a categorical feature with the mean of the target variable for that category. This method is useful in cases where there is a strong relationship between the categorical feature and the target.",
   "id": "b46c22ce0c749620"
  },
  {
   "metadata": {},
   "cell_type": "markdown",
   "source": "# Import Required Libraries",
   "id": "d18b5a71f3131faf"
  },
  {
   "metadata": {},
   "cell_type": "markdown",
   "source": "Next, we need to import the required libraries. Run the following code to import the required libraries:",
   "id": "9779ad3823d53c5b"
  },
  {
   "cell_type": "code",
   "id": "initial_id",
   "metadata": {
    "collapsed": true,
    "ExecuteTime": {
     "end_time": "2025-07-08T21:38:49.820123Z",
     "start_time": "2025-07-08T21:38:48.445197Z"
    }
   },
   "source": [
    "import numpy as np\n",
    "import pandas as pd\n",
    "from sklearn.preprocessing import KBinsDiscretizer, TargetEncoder\n",
    "from sklearn.linear_model import Ridge\n",
    "from sklearn.pipeline import make_pipeline\n",
    "from sklearn.model_selection import train_test_split\n",
    "import matplotlib.pyplot as plt"
   ],
   "outputs": [],
   "execution_count": 1
  },
  {
   "metadata": {},
   "cell_type": "markdown",
   "source": "# Create Synthetic Dataset",
   "id": "b52a34d1cdf5cfa7"
  },
  {
   "metadata": {},
   "cell_type": "markdown",
   "source": "For this lab, we will create a synthetic dataset with three categorical features: an informative feature with medium cardinality, an uninformative feature with medium cardinality, and an uninformative feature with high cardinality. We will use the **KBinsDiscretizer** class from Scikit-learn to generate the informative feature. Run the following code to create the synthetic dataset:",
   "id": "cdbc8e4d776e9661"
  },
  {
   "metadata": {
    "ExecuteTime": {
     "end_time": "2025-07-08T21:50:30.977386Z",
     "start_time": "2025-07-08T21:50:30.939019Z"
    }
   },
   "cell_type": "code",
   "source": [
    "n_samples = 50_000\n",
    "\n",
    "rng = np.random.RandomState(42)\n",
    "y = rng.randn(n_samples)\n",
    "noise = 0.5 * rng.randn(n_samples)\n",
    "n_categories =100\n",
    "\n",
    "kbins = KBinsDiscretizer(\n",
    "    n_bins=n_categories, encode='ordinal', strategy='uniform', random_state=rng\n",
    ")\n",
    "X_informative = kbins.fit_transform((y + noise).reshape(-1, 1))\n",
    "\n",
    "permuted_categories = rng.permutation(n_categories)\n",
    "X_informative = permuted_categories[X_informative.astype(np.int32)]\n",
    "\n",
    "X_shuffled =rng.permutation(X_informative)\n",
    "\n",
    "X_near_unique_categories = rng.choice(\n",
    "    int(0.9 * n_samples), size=n_samples, replace=True\n",
    ").reshape(-1, 1)\n",
    "\n",
    "X = pd.DataFrame(\n",
    "    np.concatenate(\n",
    "        [X_informative, X_shuffled, X_near_unique_categories],\n",
    "        axis=1\n",
    "    ),\n",
    "    columns=['informative', 'shuffled', 'near_unique'],\n",
    ")\n",
    "X_train, X_test, y_train, y_test = train_test_split(X, y, test_size=0.2, random_state=42)"
   ],
   "id": "fdb5c03bc3ee5afa",
   "outputs": [],
   "execution_count": 6
  },
  {
   "metadata": {},
   "cell_type": "markdown",
   "source": "# Train a Ridge Regressor on Raw Data",
   "id": "6b972f83daf40bc9"
  },
  {
   "metadata": {},
   "cell_type": "markdown",
   "source": "In this section, we will train a Ridge regressor on the dataset with and without encoding and explore the influence of target encoder with and without the interval cross-validation. First, we will train a Ridge model on the raw features. Run the following code to train the Ridge model:",
   "id": "e46d04177a67b54f"
  },
  {
   "metadata": {
    "ExecuteTime": {
     "end_time": "2025-07-08T21:48:11.968649Z",
     "start_time": "2025-07-08T21:48:11.898392Z"
    }
   },
   "cell_type": "code",
   "source": [
    "ridge = Ridge(alpha=1e-6, solver='lsqr', fit_intercept=False)\n",
    "\n",
    "raw_model = ridge.fit(X_train, y_train)\n",
    "print('Raw Model score on training set: ', raw_model.score(X_train, y_train))\n",
    "print('Raw Model score on test set:', raw_model.score(X_test, y_test))"
   ],
   "id": "e880392b1436d81",
   "outputs": [
    {
     "name": "stdout",
     "output_type": "stream",
     "text": [
      "Raw Model score on training set:  0.005179851658042134\n",
      "Raw Model score on test set: 0.004938523369111492\n"
     ]
    }
   ],
   "execution_count": 3
  },
  {
   "metadata": {},
   "cell_type": "markdown",
   "source": "# Train a Ridge Regressor with Cross Validation",
   "id": "2c36be1ba0a207ed"
  },
  {
   "metadata": {},
   "cell_type": "markdown",
   "source": "Next, we will create a pipeline with the **TargetEncoder** and Ridge model. The pipeline uses **TargetEncoder.fit_transform** which uses cross-validation. Run the following code to train the Ridge model with cross-validation:",
   "id": "fe5014c8cba7232e"
  },
  {
   "metadata": {
    "ExecuteTime": {
     "end_time": "2025-07-08T21:49:47.188841Z",
     "start_time": "2025-07-08T21:49:47.064537Z"
    }
   },
   "cell_type": "code",
   "source": [
    "model_with_cv = make_pipeline(TargetEncoder(random_state=0), ridge)\n",
    "model_with_cv.fit(X_train, y_train)\n",
    "print(\"Model with CV on training set: \", model_with_cv.score(X_train, y_train))\n",
    "print(\"Model with CV on test set: \", model_with_cv.score(X_test, y_test))"
   ],
   "id": "5424cb40a8fa4a84",
   "outputs": [
    {
     "name": "stdout",
     "output_type": "stream",
     "text": [
      "Model with CV on training set:  0.7981395425350759\n",
      "Model with CV on test set:  0.797256705161917\n"
     ]
    }
   ],
   "execution_count": 4
  },
  {
   "metadata": {},
   "cell_type": "markdown",
   "source": "# Evaluate the Coefficients of the Linear Model with Cross Validation\n",
   "id": "c9e19b849154351c"
  },
  {
   "metadata": {},
   "cell_type": "markdown",
   "source": "The coefficients of the linear model show that most of the weight is on the feature at column index 0, which is the informative feature. Run the following code to evaluate the coefficients of the linear model with cross-validation:",
   "id": "fe29fa149afb758d"
  },
  {
   "metadata": {
    "ExecuteTime": {
     "end_time": "2025-07-08T21:57:14.630115Z",
     "start_time": "2025-07-08T21:57:14.561527Z"
    }
   },
   "cell_type": "code",
   "source": [
    "coefs_cv = pd.Series(\n",
    "    model_with_cv[-1].coef_\n",
    ").sort_values()\n",
    "_ = coefs_cv.plot(kind=\"barh\")"
   ],
   "id": "df7a315c8d48c48a",
   "outputs": [
    {
     "data": {
      "text/plain": [
       "<Figure size 640x480 with 1 Axes>"
      ],
      "image/png": "[encoded data removed]"
     },
     "metadata": {},
     "output_type": "display_data"
    }
   ],
   "execution_count": 19
  },
  {
   "metadata": {},
   "cell_type": "markdown",
   "source": "# Train a Ridge Regressor without Cross Validation",
   "id": "41510993475438de"
  },
  {
   "metadata": {},
   "cell_type": "markdown",
   "source": "While **TargetEncoder.fit_transform** uses interval cross-validation, **TargetEncoder.transform** itself does not perform any cross-validation. It uses the aggregation of the complete training set to transform the categorical features. Thus, we can use **TargetEncoder.fit** followed by **TargetEncoder.transform** to disable the cross-validation. This encoding is then passed to the Ridge model. Run the following code to train the Ridge model without cross-validation:",
   "id": "9766d7dadbbaac5c"
  },
  {
   "metadata": {
    "ExecuteTime": {
     "end_time": "2025-07-08T21:58:41.199276Z",
     "start_time": "2025-07-08T21:58:41.108592Z"
    }
   },
   "cell_type": "code",
   "source": [
    "target_encoder = TargetEncoder(random_state=0)\n",
    "target_encoder.fit(X_train, y_train)\n",
    "X_train_no_cv_encoding = target_encoder.transform(X_train)\n",
    "X_test_no_cv_encoding = target_encoder.transform(X_test)\n",
    "\n",
    "model_no_cv = ridge.fit(X_train_no_cv_encoding, y_train)\n",
    "print(\n",
    "    \"Model without CV on training set: \",\n",
    "    model_no_cv.score(X_train_no_cv_encoding, y_train),\n",
    ")\n",
    "print(\n",
    "    \"Model without CV on test set: \", model_no_cv.score(X_test_no_cv_encoding, y_test)\n",
    ")"
   ],
   "id": "76a91f22a6dceea4",
   "outputs": [
    {
     "name": "stdout",
     "output_type": "stream",
     "text": [
      "Model without CV on training set:  0.8545032800269341\n",
      "Model without CV on test set:  0.6474579250382559\n"
     ]
    }
   ],
   "execution_count": 20
  },
  {
   "metadata": {},
   "cell_type": "markdown",
   "source": "# Evaluate the Coefficients of the Linear Model without Cross ValidationEvaluate the Coefficients of the Linear Model without Cross Validation",
   "id": "752991d8b6a5d3a6"
  },
  {
   "metadata": {},
   "cell_type": "markdown",
   "source": "The Ridge model overfits because it assigns more weight to the extremely high cardinality feature relative to the informative feature. Run the following code to evaluate the coefficients of the linear model without cross-validation:",
   "id": "1db3bd0597bfbb88"
  },
  {
   "metadata": {
    "ExecuteTime": {
     "end_time": "2025-07-08T21:59:59.765197Z",
     "start_time": "2025-07-08T21:59:59.697038Z"
    }
   },
   "cell_type": "code",
   "source": [
    "coefs_no_cv = pd.Series(\n",
    "    model_no_cv.coef_\n",
    ").sort_values()\n",
    "_ = coefs_no_cv.plot(kind=\"barh\")"
   ],
   "id": "53083316a08729ab",
   "outputs": [
    {
     "data": {
      "text/plain": [
       "<Figure size 640x480 with 1 Axes>"
      ],
      "image/png": "[encoded data removed]"
     },
     "metadata": {},
     "output_type": "display_data"
    }
   ],
   "execution_count": 24
  },
  {
   "metadata": {},
   "cell_type": "markdown",
   "source": "# Summary",
   "id": "41cbf6be5c37ec0d"
  },
  {
   "metadata": {},
   "cell_type": "markdown",
   "source": "In this lab, we learned how to use the **TargetEncoder** class from Scikit-learn to transform categorical data into numerical data that can be used as input for machine learning algorithms. We also learned the importance of interval cross-validation in preventing overfitting. We trained a Ridge model on the raw data and evaluated its performance. We also trained a Ridge model with cross-validation and evaluated the coefficients of the linear model. Finally, we trained a Ridge model without cross-validation and evaluated the coefficients of the linear model.",
   "id": "6eb493d807f21391"
  },
  {
   "metadata": {},
   "cell_type": "code",
   "outputs": [],
   "execution_count": null,
   "source": "",
   "id": "5cb03b567ac1e724"
  }
 ],
 "metadata": {
  "kernelspec": {
   "display_name": "Python 3",
   "language": "python",
   "name": "python3"
  },
  "language_info": {
   "codemirror_mode": {
    "name": "ipython",
    "version": 2
   },
   "file_extension": ".py",
   "mimetype": "text/x-python",
   "name": "python",
   "nbconvert_exporter": "python",
   "pygments_lexer": "ipython2",
   "version": "2.7.6"
  }
 },
 "nbformat": 4,
 "nbformat_minor": 5
}
