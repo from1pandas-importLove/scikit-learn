{
 "cells": [
  {
   "metadata": {},
   "cell_type": "markdown",
   "source": "# Supervised Learning: Regression",
   "id": "7e480b0e45db5327"
  },
  {
   "metadata": {},
   "cell_type": "markdown",
   "source": "## Polynomial Regression",
   "id": "f39b6ee98328897f"
  },
  {
   "metadata": {},
   "cell_type": "markdown",
   "source": "---",
   "id": "4c6491db25354670"
  },
  {
   "metadata": {},
   "cell_type": "markdown",
   "source": "## Introduction¶",
   "id": "4e486342bc6791d2"
  },
  {
   "metadata": {},
   "cell_type": "markdown",
   "source": "In the previous experiments,you may have gotten a good understanding of linear regression. After mastering the $unary$ and $multiple$ forms of linear regression, we can make regression predictions for some data with linear distribution trends. However, there are often data in the life that are not so \"linear\", such as fluctuations in the stock market, traffic flow etc. How to process this kind of non-linearly distributed data? Methods for the same will be described in this experiment.",
   "id": "7708d1ecaa45209e"
  },
  {
   "metadata": {},
   "cell_type": "markdown",
   "source": "### Key Points",
   "id": "29f2fc16ce59dcfa"
  },
  {
   "metadata": {},
   "cell_type": "markdown",
   "source": [
    "- Polynomial\n",
    "- Polynomial fitting\n",
    "- Least squares method\n",
    "- Overfitting\n",
    "- Dataset partition\n",
    "- Selection of optimal model\n",
    "- `scikit-learn` implementations of polynomial regression prediction"
   ],
   "id": "d611da822c6a4df3"
  },
  {
   "metadata": {},
   "cell_type": "markdown",
   "source": "---",
   "id": "edde2fe77a796ab9"
  },
  {
   "metadata": {},
   "cell_type": "markdown",
   "source": "## Introduction to Polynomial Regression",
   "id": "3899fe5ad57a8e48"
  },
  {
   "metadata": {},
   "cell_type": "markdown",
   "source": "In linear regression, we fit the data by establishing a linear equation of an independent variable $x$. While in non-linear regression, it is necessary to establish a non-linear relationship between independent variable and dependent variable. Intuitively, the straight line that fits the data becomes a \"curve\".",
   "id": "dcd6bb533f3db578"
  },
  {
   "metadata": {},
   "cell_type": "markdown",
   "source": "As shown in the figure below, the points are from the change data of the population in a certain area. If we use linear variance to fit the data, then there is a \"visually visible\" error. For such a data distribution, using a curve to fit is much more suitable.",
   "id": "b699beb0a8c90d9d"
  },
  {
   "metadata": {},
   "cell_type": "markdown",
   "source": "For non-linear regression problems, the simplest and most common method is the \"polynomial regression\", to be explained in this experiment. The polynomial is an early learning concept. We cite its definition by [Wikipedia](https://en.wikipedia.org/wiki/Polynomial) as follows:",
   "id": "4906146e2bf45106"
  },
  {
   "metadata": {},
   "cell_type": "markdown",
   "source": ">*In mathematics, a polynomial is an expression consisting of variables (also called indeterminates) and coefficients, that involves only the operations of addition, subtraction and multiplication, and non-negative integer exponents of variables. An example of a polynomial of a single indeterminate $x$ is $x^2-3x+4$. An example in three variables is $x^3-2xyz^2+2yz+1$.*",
   "id": "823b45c40f7566ae"
  },
  {
   "metadata": {},
   "cell_type": "markdown",
   "source": "##  Polynomial Regression Basics",
   "id": "c2ab706a4d733de2"
  },
  {
   "metadata": {},
   "cell_type": "markdown",
   "source": "First, we use a set of sample data to understand polynomial regression:",
   "id": "50dd11631901e24c"
  },
  {
   "metadata": {
    "ExecuteTime": {
     "end_time": "2025-10-05T08:55:16.570389Z",
     "start_time": "2025-10-05T08:55:16.567293Z"
    }
   },
   "cell_type": "code",
   "source": [
    "# Load sample data\n",
    "x = [4, 8, 12, 25, 32, 43, 58, 63, 69, 79]\n",
    "y = [20, 33, 50, 56, 42, 31, 33, 46, 65, 75]"
   ],
   "id": "815f38aa58383653",
   "outputs": [],
   "execution_count": 1
  },
  {
   "metadata": {},
   "cell_type": "markdown",
   "source": "There are total ten sets of sample data, corresponding to abscissa and ordinate. We then draw the data through Matplotlib and show its trends:",
   "id": "9669ccac5578b735"
  },
  {
   "metadata": {
    "ExecuteTime": {
     "end_time": "2025-10-05T08:55:17.119469Z",
     "start_time": "2025-10-05T08:55:16.673388Z"
    }
   },
   "cell_type": "code",
   "source": [
    "%matplotlib inline\n",
    "from matplotlib import pyplot as plt\n",
    "\n",
    "plt.scatter(x, y)"
   ],
   "id": "bb372ef13ff968b0",
   "outputs": [
    {
     "data": {
      "text/plain": [
       "<matplotlib.collections.PathCollection at 0x10a4c31a0>"
      ]
     },
     "execution_count": 2,
     "metadata": {},
     "output_type": "execute_result"
    },
    {
     "data": {
      "text/plain": [
       "<Figure size 640x480 with 1 Axes>"
      ],
      "image/png": "[encoded data removed]"
     },
     "metadata": {},
     "output_type": "display_data"
    }
   ],
   "execution_count": 2
  },
  {
   "metadata": {},
   "cell_type": "markdown",
   "source": "### Quadratic Polynomial Fitting",
   "id": "58c5d996563b46ee"
  },
  {
   "metadata": {},
   "cell_type": "markdown",
   "source": "The above scatter data needs to be fitted by a polynomial. To achieve this, a standard unary high-degree polynomial function like the following one is required:",
   "id": "d5baaf15bfd9f342"
  },
  {
   "metadata": {},
   "cell_type": "markdown",
   "source": "$$ y(x, w) = w_0 + w_1x + w_2x^2 +...+w_mx^m = \\sum\\limits_{j=0}^{m}w_jx^j \\tag{1} $$",
   "id": "6f44a63a53562a56"
  },
  {
   "metadata": {},
   "cell_type": "markdown",
   "source": "Where $m$ represents the order of the polynomial and $x^j$ expresses $x$ raised to the power $j$. $w$ is the coefficient of the polynomial.",
   "id": "ab8b9e7cd43808aa"
  },
  {
   "metadata": {},
   "cell_type": "markdown",
   "source": "When we use the above polynomial to fit the scatter, two elements need to be determined, namely the polynomial coefficient $w$ and the polynomial degree $m$, which are also the two basic elements of any polynomial.",
   "id": "65c7f5ecb7ca29a1"
  },
  {
   "metadata": {},
   "cell_type": "markdown",
   "source": [
    "If the value of the polynomial degree $m$ is manually specified, then we only need to determine what the polynomial coefficient $w$ is. For example, assume $m=2$ here. Then the polynomial becomes:\n",
    "$$ y(x, w) = w_0 + w_1x + w_2x^2= \\sum\\limits_{j=0}^{2}w_jx^j \\tag{2} $$"
   ],
   "id": "bbeac1caf83f5528"
  },
  {
   "metadata": {},
   "cell_type": "markdown",
   "source": "When we determine the value of $w$, we return to what we learned in the previous linear regression experiments.",
   "id": "804c8464364c0d14"
  },
  {
   "metadata": {},
   "cell_type": "markdown",
   "source": "First, we construct two functions: a polynomial function for fitting and a loss function for training:",
   "id": "fb98b148feebcbf1"
  },
  {
   "metadata": {
    "ExecuteTime": {
     "end_time": "2025-10-05T08:57:58.015438Z",
     "start_time": "2025-10-05T08:57:58.006314Z"
    }
   },
   "cell_type": "code",
   "source": [
    "\"\"\"Define a quadratic polynomial function and a loss function\n",
    "\"\"\"\n",
    "def func(p, x):\n",
    "    \"\"\"Define a quadratic polynomial function\n",
    "    \"\"\"\n",
    "    w0, w1, w2 = p\n",
    "    f = w0 + w1*x + w2*x*x\n",
    "    return f\n",
    "\n",
    "def err_func(p, x, y):\n",
    "    \"\"\"Define a loss function\n",
    "    \"\"\"\n",
    "    ret = func(p, x) - y\n",
    "    return ret"
   ],
   "id": "5f67bd3634ae52d0",
   "outputs": [],
   "execution_count": 3
  },
  {
   "metadata": {},
   "cell_type": "markdown",
   "source": "Next, we simply initialize three $w$ parameters using the random number method provided by NumPy.",
   "id": "368c8de75e014561"
  },
  {
   "metadata": {
    "ExecuteTime": {
     "end_time": "2025-10-05T08:58:34.400111Z",
     "start_time": "2025-10-05T08:58:34.386216Z"
    }
   },
   "cell_type": "code",
   "source": [
    "import numpy as np\n",
    "\n",
    "p_init = np.random.randn(3) # Generate 3 random numbers\n",
    "\n",
    "p_init"
   ],
   "id": "936d075e254e06ec",
   "outputs": [
    {
     "data": {
      "text/plain": [
       "array([-0.24045316, -1.98945936,  0.05624281])"
      ]
     },
     "execution_count": 4,
     "metadata": {},
     "output_type": "execute_result"
    }
   ],
   "execution_count": 4
  },
  {
   "metadata": {},
   "cell_type": "markdown",
   "source": "Next is the process of solving for the optimal parameters using the least squares method. For convenience, we use the least squares class provided by SciPy to get the best fitting parameters. Of course, you can solve for the parameters yourself by the least squares formula in the **\"Linear Regression\"** chapter. However, in practice, in order to achieve results quickly, you will often use a ready-made function library like **SciPy**. Let us introduce a method here:",
   "id": "f2b5bfa0f8293da7"
  },
  {
   "metadata": {
    "ExecuteTime": {
     "end_time": "2025-10-05T09:00:06.440369Z",
     "start_time": "2025-10-05T09:00:06.088615Z"
    }
   },
   "cell_type": "code",
   "source": [
    "\"\"\"Use the least squares function provided by SciPy\n",
    "\"\"\"\n",
    "from scipy.optimize import leastsq\n",
    "\n",
    "parameters = leastsq(err_func, p_init, args=(np.array(x), np.array(y)))\n",
    "\n",
    "print('Fitting Parameters: ', parameters[0])"
   ],
   "id": "5534d5c314d55b2d",
   "outputs": [
    {
     "name": "stdout",
     "output_type": "stream",
     "text": [
      "Fitting Parameters:  [ 3.76893113e+01 -2.60474106e-01  8.00078030e-03]\n"
     ]
    }
   ],
   "execution_count": 5
  },
  {
   "metadata": {},
   "cell_type": "markdown",
   "source": [
    "The best fitting parameters $w_0$, $w_1$ and $w_2$ we get here are `3.76893117e+01`, `-2.60474147e-01` and `8.00078082e-03`. That is, our fitted function (retaining two significant digits) is:\n",
    "\n",
    "$$ y(x) = 37 - 0.26*x + 0.0080*x^2 \\tag{3} $$"
   ],
   "id": "9b6e31bfe6d47c1f"
  },
  {
   "metadata": {},
   "cell_type": "markdown",
   "source": "Then we try to draw the fitted figure:",
   "id": "9aef6788648a4798"
  },
  {
   "metadata": {
    "ExecuteTime": {
     "end_time": "2025-10-05T09:00:48.170147Z",
     "start_time": "2025-10-05T09:00:48.092163Z"
    }
   },
   "cell_type": "code",
   "source": [
    "\"\"\"Draw the fitted figure\n",
    "\"\"\"\n",
    "# Generate the testing points\n",
    "x_temp = np.linspace(0, 80, 10000)\n",
    "\n",
    "# Draw the fitted curve\n",
    "plt.plot(x_temp, func(parameters[0], x_temp), 'r')\n",
    "\n",
    "# Draw the original scatters\n",
    "plt.scatter(x, y)"
   ],
   "id": "13c91241fc5fa01b",
   "outputs": [
    {
     "data": {
      "text/plain": [
       "<matplotlib.collections.PathCollection at 0x11f7a4770>"
      ]
     },
     "execution_count": 6,
     "metadata": {},
     "output_type": "execute_result"
    },
    {
     "data": {
      "text/plain": [
       "<Figure size 640x480 with 1 Axes>"
      ],
      "image/png": "[encoded data removed]"
     },
     "metadata": {},
     "output_type": "display_data"
    }
   ],
   "execution_count": 6
  },
  {
   "metadata": {},
   "cell_type": "markdown",
   "source": "# ### N-Degree Polynomial Fitting",
   "id": "a41fdb24263ba735"
  },
  {
   "metadata": {},
   "cell_type": "markdown",
   "source": "You will find that the results of the second-degree polynomial do not properly reflect the trend of the scatter. At this point, we try a polynomial fit of third degree or higher. In the following part, we slightly modify the code to implement an N-degree polynomial fitting:",
   "id": "c740d58070a0e1f3"
  },
  {
   "metadata": {
    "ExecuteTime": {
     "end_time": "2025-10-05T09:03:01.466542Z",
     "start_time": "2025-10-05T09:03:01.450170Z"
    }
   },
   "cell_type": "code",
   "source": [
    "\"\"\"N-degree Polynomial Fitting\n",
    "\"\"\"\n",
    "def fit_func(p, x):\n",
    "    \"\"\"Define an N-degree polynomial function\n",
    "    \"\"\"\n",
    "    f = np.poly1d(p)\n",
    "    return f(x)\n",
    "\n",
    "def err_func(p, x, y):\n",
    "    \"\"\"Define a loss function\n",
    "    \"\"\"\n",
    "    ret = fit_func(p, x) - y\n",
    "    return ret\n",
    "\n",
    "def n_poly(n):\n",
    "    \"\"\"N-degree polynomial fitting\n",
    "    \"\"\"\n",
    "    p_init = np.random.randn(n) # Generate N random numbers\n",
    "    parameters = leastsq(err_func, p_init, args=(np.array(x), np.array(y)))\n",
    "    return parameters[0]"
   ],
   "id": "453e9630c5dc2832",
   "outputs": [],
   "execution_count": 7
  },
  {
   "metadata": {},
   "cell_type": "markdown",
   "source": "You can use $n=3$ to verify whether the above code is available:",
   "id": "f00e4722375ddbc3"
  },
  {
   "metadata": {
    "ExecuteTime": {
     "end_time": "2025-10-05T09:03:19.922477Z",
     "start_time": "2025-10-05T09:03:19.907128Z"
    }
   },
   "cell_type": "code",
   "source": "n_poly(3)",
   "id": "f53195caec7debe1",
   "outputs": [
    {
     "data": {
      "text/plain": [
       "array([ 8.00077993e-03, -2.60474072e-01,  3.76893108e+01])"
      ]
     },
     "execution_count": 8,
     "metadata": {},
     "output_type": "execute_result"
    }
   ],
   "execution_count": 8
  },
  {
   "metadata": {},
   "cell_type": "markdown",
   "source": [
    "The result obtained at this time is consistent with the result of the formula (3), but the order is different. This is because the default mode of the polynomial function `np.poly1d(3)` in NumPy is:\n",
    "\n",
    "$$ y(x) = 0.0080*x^2 - 0.26*x + 37\\tag{4} $$"
   ],
   "id": "a044368dd8b4f230"
  },
  {
   "metadata": {},
   "cell_type": "markdown",
   "source": "Now, we plot the fitting result of the `4-`, `5-`, `6-`, `7-` and `8-` `degree` polynomials:",
   "id": "e296ba678b478f3b"
  },
  {
   "metadata": {
    "ExecuteTime": {
     "end_time": "2025-10-05T09:03:59.710965Z",
     "start_time": "2025-10-05T09:03:59.436002Z"
    }
   },
   "cell_type": "code",
   "source": [
    "\"\"\"Plot the fitting result of the 4-, 5-, 6-, 7- and 8- degree polynomials\n",
    "\"\"\"\n",
    "\n",
    "# Generate the testing points\n",
    "x_temp = np.linspace(0, 80, 10000)\n",
    "\n",
    "# Generate the sub-images\n",
    "fig, axes = plt.subplots(2, 3, figsize=(15,10))\n",
    "\n",
    "axes[0,0].plot(x_temp, fit_func(n_poly(4), x_temp), 'r')\n",
    "axes[0,0].scatter(x, y)\n",
    "axes[0,0].set_title(\"m = 4\")\n",
    "\n",
    "axes[0,1].plot(x_temp, fit_func(n_poly(5), x_temp), 'r')\n",
    "axes[0,1].scatter(x, y)\n",
    "axes[0,1].set_title(\"m = 5\")\n",
    "\n",
    "axes[0,2].plot(x_temp, fit_func(n_poly(6), x_temp), 'r')\n",
    "axes[0,2].scatter(x, y)\n",
    "axes[0,2].set_title(\"m = 6\")\n",
    "\n",
    "axes[1,0].plot(x_temp, fit_func(n_poly(7), x_temp), 'r')\n",
    "axes[1,0].scatter(x, y)\n",
    "axes[1,0].set_title(\"m = 7\")\n",
    "\n",
    "axes[1,1].plot(x_temp, fit_func(n_poly(8), x_temp), 'r')\n",
    "axes[1,1].scatter(x, y)\n",
    "axes[1,1].set_title(\"m = 8\")\n",
    "\n",
    "axes[1,2].plot(x_temp, fit_func(n_poly(9), x_temp), 'r')\n",
    "axes[1,2].scatter(x, y)\n",
    "axes[1,2].set_title(\"m = 9\")"
   ],
   "id": "dd30f94a00577852",
   "outputs": [
    {
     "data": {
      "text/plain": [
       "Text(0.5, 1.0, 'm = 9')"
      ]
     },
     "execution_count": 9,
     "metadata": {},
     "output_type": "execute_result"
    },
    {
     "data": {
      "text/plain": [
       "<Figure size 1500x1000 with 6 Axes>"
      ],
      "image/png": "[encoded data removed]"
     },
     "metadata": {},
     "output_type": "display_data"
    }
   ],
   "execution_count": 9
  },
  {
   "metadata": {},
   "cell_type": "markdown",
   "source": "As can be seen from the above six figures, when $m=4$ (4th degree polynomial), the fitting result is significantly better than that of $m=3$. However, as the value of $m$ increases to $8$, the curve shows a significant oscillation, which is the overfitting phenomenon mentioned in the linear regression experiment.",
   "id": "36848874f4c0da79"
  },
  {
   "metadata": {},
   "cell_type": "markdown",
   "source": "### Polynomial Fitting with `scikit-learn`",
   "id": "8b4fc287bf6b9e8f"
  },
  {
   "metadata": {},
   "cell_type": "markdown",
   "source": "Above we have defined the polynomial and implemented the polynomial regression fitting process on our own. In addition, we can also use the polynomial regression method provided by `scikit-learn`. Here, we will use the `sklearn.preprocessing.PolynomialFeatures()` class. The main use of `PolynomialFeatures()` is to generate a polynomial feature matrix. **If you are new to this concept, you may need to read the following carefully:**",
   "id": "8689e71c0ff696c6"
  },
  {
   "metadata": {},
   "cell_type": "markdown",
   "source": "For a quadratic polynomial, we know its standard form is: $y(x, w) = w_0 + w_1x + w_2x^2$. However, polynomial regression is equivalent to a special form of linear regression indeed. For example, here we set $x = x_1$ and $x^2 = x_2$. Then the original equation is converted to: $y(x, w) = w_0 + w_1*x_1 + w_2*x_2$, that is, multiple linear regression. This achieves **the conversion between a unary high-degree polynomial to a multivariate one-time polynomial**.",
   "id": "7f99bef86388526a"
  },
  {
   "metadata": {},
   "cell_type": "markdown",
   "source": "For example, for the independent variable vector $X$ and the dependent variable $y$, if we have $X$ as:",
   "id": "fb1a621a723d4d5f"
  },
  {
   "metadata": {},
   "cell_type": "markdown",
   "source": [
    "$$ \\mathbf{X} = \\begin{bmatrix}\n",
    "       2    \\\\[0.3em]\n",
    "       -1 \\\\[0.3em]\n",
    "       3\n",
    "     \\end{bmatrix} \\tag{5a}$$"
   ],
   "id": "4b0a898d356102bb"
  },
  {
   "metadata": {},
   "cell_type": "markdown",
   "source": "We can fit it through the $y = w_1 x + w_0$ linear regression model. Similarly, for a quadratic polynomial $y(x, w) = w_0 + w_1x + w_2x^2$, if you can get the feature matrix composed of $x = x_1$, $x^2 = x_2$, namely:",
   "id": "486e6b7f8ddb3377"
  },
  {
   "metadata": {},
   "cell_type": "markdown",
   "source": [
    "$$\\mathbf{X} = \\left [ X, X^2 \\right ] = \\begin{bmatrix}\n",
    " 2& 4\\\\ -1\n",
    " & 1\\\\ 3\n",
    " & 9\n",
    "\\end{bmatrix}\n",
    "\\tag{5b}$$"
   ],
   "id": "12cb39c4ecfb386d"
  },
  {
   "metadata": {},
   "cell_type": "markdown",
   "source": "Then you can fit it through linear regression.",
   "id": "a5ad0b04a4316bde"
  },
  {
   "metadata": {},
   "cell_type": "markdown",
   "source": "Actually you can manually verify the above results, but what needs to be kept in mind is— **When the polynomial is of high degree, the expression as well as the calculation of the feature matrix will become much more complicated.** For example, the following is a feature matrix expression for a binary quadratic polynomial:",
   "id": "7c590772292b7781"
  },
  {
   "metadata": {},
   "cell_type": "markdown",
   "source": [
    "$$\\mathbf{X} = \\left [ X_{1}, X_{2}, X_{1}^2, X_{1}X_{2}, X_{2}^2 \\right ]\n",
    "\\tag{5c}$$"
   ],
   "id": "d824ad736cbcc1ba"
  },
  {
   "metadata": {},
   "cell_type": "markdown",
   "source": "Fortunately, in `scikit-learn`, we can automatically generate a polynomial feature matrix through the `PolynomialFeatures()` class. The default parameters and the common parameters of the `PolynomialFeatures()` class are defined as follows:",
   "id": "eb4e0fae6f5a7f8a"
  },
  {
   "metadata": {},
   "cell_type": "markdown",
   "source": [
    "```python\n",
    "sklearn.preprocessing.PolynomialFeatures(degree=2, interaction_only=False, include_bias=True)\n",
    "```\n",
    "- `degree`: 2 by default. The degree of the polynomial features.\n",
    "- `interaction_only`: False by default. If True, only interaction features are produced.\n",
    "- `include_bias`: If True (default), then include a bias column."
   ],
   "id": "337b60cb15e165fc"
  },
  {
   "metadata": {},
   "cell_type": "markdown",
   "source": "Corresponding to the above eigen vectors, the main use of `PolynomialFeatures()` is to generate a feature matrix as shown below:",
   "id": "ee7a21013884e98c"
  },
  {
   "metadata": {
    "ExecuteTime": {
     "end_time": "2025-10-05T09:09:33.302246Z",
     "start_time": "2025-10-05T09:09:32.336075Z"
    }
   },
   "cell_type": "code",
   "source": [
    "\"\"\"Use PolynomialFeatures() to generate a feature matrix\n",
    "\"\"\"\n",
    "from sklearn.preprocessing import PolynomialFeatures\n",
    "\n",
    "X=[2, -1, 3]\n",
    "X_reshape = np.array(X).reshape(len(X), 1) # Transpose\n",
    "PolynomialFeatures(degree=2, include_bias=False).fit_transform(X_reshape)"
   ],
   "id": "36e97bfb51fa3667",
   "outputs": [
    {
     "data": {
      "text/plain": [
       "array([[ 2.,  4.],\n",
       "       [-1.,  1.],\n",
       "       [ 3.,  9.]])"
      ]
     },
     "execution_count": 10,
     "metadata": {},
     "output_type": "execute_result"
    }
   ],
   "execution_count": 10
  },
  {
   "metadata": {},
   "cell_type": "markdown",
   "source": "For the matrix in the upper cell, the first column is $X^1$ and the second one is $X^2$. Then we use the polynomial function $y(x, w) = w_0 + w_1*x_1 + w_2*x_2$ to fit the data.",
   "id": "d5b7ab1f83a30396"
  },
  {
   "metadata": {},
   "cell_type": "markdown",
   "source": "<div style=\"color: #999;font-size: 12px;font-style: italic;\">*Note: In this lesson, you will see a lot of `reshape` operations, all of which are designed to satisfy the array shape of some class-passed arguments. These operations are necessary in this experiment because the original shape of the data (such as the one-dimensional array above) may not be passed directly to some specific class. But it's not necessary in practice because the raw dataset shape at your hand may support direct input. So, don't be afraid of these `reshape` operations.</div>",
   "id": "5367fc9881ada5db"
  },
  {
   "metadata": {},
   "cell_type": "markdown",
   "source": "Going back to the sample data in *Section 2.1*, the independent variable is $x$ and the dependent variable is $y$. If a quadratic polynomial is adopted, then we use `PolynomialFeatures()` to generate the feature matrix.",
   "id": "2e4f1e5d11542ef7"
  },
  {
   "metadata": {
    "ExecuteTime": {
     "end_time": "2025-10-05T09:10:30.461229Z",
     "start_time": "2025-10-05T09:10:30.442651Z"
    }
   },
   "cell_type": "code",
   "source": [
    "\"\"\"Use sklearn to generate the feature matrix of a quadratic polynomial\n",
    "\"\"\"\n",
    "from sklearn.preprocessing import PolynomialFeatures\n",
    "\n",
    "x = np.array(x).reshape(len(x), 1) # Transpose\n",
    "y = np.array(y).reshape(len(y), 1)\n",
    "\n",
    "\n",
    "poly_features = PolynomialFeatures(degree=2, include_bias=False)\n",
    "poly_x = poly_features.fit_transform(x)\n",
    "\n",
    "poly_x"
   ],
   "id": "b0548303e6a324a3",
   "outputs": [
    {
     "data": {
      "text/plain": [
       "array([[4.000e+00, 1.600e+01],\n",
       "       [8.000e+00, 6.400e+01],\n",
       "       [1.200e+01, 1.440e+02],\n",
       "       [2.500e+01, 6.250e+02],\n",
       "       [3.200e+01, 1.024e+03],\n",
       "       [4.300e+01, 1.849e+03],\n",
       "       [5.800e+01, 3.364e+03],\n",
       "       [6.300e+01, 3.969e+03],\n",
       "       [6.900e+01, 4.761e+03],\n",
       "       [7.900e+01, 6.241e+03]])"
      ]
     },
     "execution_count": 11,
     "metadata": {},
     "output_type": "execute_result"
    }
   ],
   "execution_count": 11
  },
  {
   "metadata": {},
   "cell_type": "markdown",
   "source": "Then we train the linear regression model with `scikit-learn`. The `LinearRegression()` class will be used here. The default parameters and the common parameters of the `LinearRegression()` class are defined as follows:",
   "id": "4586b50bc0490014"
  },
  {
   "metadata": {},
   "cell_type": "markdown",
   "source": [
    "```python\n",
    "sklearn.linear_model.LinearRegression(fit_intercept=True, normalize=False, copy_X=True, n_jobs=1)\n",
    "```\n",
    "- `fit_intercept`: True by default. Whether to calculate the intercept for this model.\n",
    "- `normalize`: False by default. If True, the regressors will be normalized before regression by subtracting the mean and dividing by the l2-norm.\n",
    "- `copy_X`: If True (default), X will be copied; else it may be overwritten.\n",
    "- `n_jobs`: The number of jobs to use for the computation (1 by default). If -1, all CPU cores are used."
   ],
   "id": "b3cc93bd6fd02854"
  },
  {
   "metadata": {
    "ExecuteTime": {
     "end_time": "2025-10-05T09:11:30.759324Z",
     "start_time": "2025-10-05T09:11:30.739721Z"
    }
   },
   "cell_type": "code",
   "source": [
    "\"\"\"Convert to linear regression predictions\n",
    "\"\"\"\n",
    "from sklearn.linear_model import LinearRegression\n",
    "\n",
    "# Define linear regression model\n",
    "model = LinearRegression()\n",
    "model.fit(poly_x, y)\n",
    "\n",
    "# Obtain the linear regression parameters\n",
    "model.intercept_, model.coef_"
   ],
   "id": "bee378649bd7a599",
   "outputs": [
    {
     "data": {
      "text/plain": [
       "(array([37.68931083]), array([[-0.26047408,  0.00800078]]))"
      ]
     },
     "execution_count": 13,
     "metadata": {},
     "output_type": "execute_result"
    }
   ],
   "execution_count": 13
  },
  {
   "metadata": {},
   "cell_type": "markdown",
   "source": "You will find that the parameter values obtained here are consistent with equations (3) and (4). To be more intuitive, the fitted figure is also drawn here:",
   "id": "ebf1140c3364ff56"
  },
  {
   "metadata": {
    "ExecuteTime": {
     "end_time": "2025-10-05T09:12:00.440706Z",
     "start_time": "2025-10-05T09:12:00.230958Z"
    }
   },
   "cell_type": "code",
   "source": [
    "\"\"\"Plot the fitted figure\n",
    "\"\"\"\n",
    "x_temp = np.array(x_temp).reshape(len(x_temp),1)\n",
    "poly_x_temp = poly_features.fit_transform(x_temp)\n",
    "\n",
    "plt.plot(x_temp, model.predict(poly_x_temp), 'r')\n",
    "plt.scatter(x, y)"
   ],
   "id": "b944676ba3d7582c",
   "outputs": [
    {
     "data": {
      "text/plain": [
       "<matplotlib.collections.PathCollection at 0x11fa799d0>"
      ]
     },
     "execution_count": 14,
     "metadata": {},
     "output_type": "execute_result"
    },
    {
     "data": {
      "text/plain": [
       "<Figure size 640x480 with 1 Axes>"
      ],
      "image/png": "[encoded data removed]"
     },
     "metadata": {},
     "output_type": "display_data"
    }
   ],
   "execution_count": 14
  },
  {
   "metadata": {},
   "cell_type": "markdown",
   "source": "Does this figure seem familiar? In fact, it is consistent with the figure below for equation (3).",
   "id": "ee91f983b416eea2"
  },
  {
   "metadata": {},
   "cell_type": "markdown",
   "source": "##  Predictions Using Polynomial Regression",
   "id": "2dfc5687ba447a71"
  },
  {
   "metadata": {},
   "cell_type": "markdown",
   "source": "Above we learned how to use polynomials to fit the data. Now we will introduce how to use polynomial regression to solve practical prediction problems. In this forecasting experiment, we will use the *World Measles Vaccination Rate* dataset provided by the World Health Organization and UNICEF. The goal is to predict the measles vaccination rate for the corresponding year.",
   "id": "1c2fac87a45be514"
  },
  {
   "metadata": {},
   "cell_type": "markdown",
   "source": "### To Load and Preview the Dataset",
   "id": "7d612bf548222839"
  },
  {
   "metadata": {},
   "cell_type": "markdown",
   "source": "First we import the *World Measles Vaccination Rate* dataset. The dataset name is: `course-6-vaccine.csv`.",
   "id": "7cf4b3c2fc67edd3"
  },
  {
   "metadata": {
    "ExecuteTime": {
     "end_time": "2025-10-05T09:14:03.789769Z",
     "start_time": "2025-10-05T09:14:03.275075Z"
    }
   },
   "cell_type": "code",
   "source": [
    "from urllib.request import urlretrieve\n",
    "\n",
    "url = \"http://labfile.oss.aliyuncs.com/courses/1081/course-6-vaccine.csv\"\n",
    "dest = \"course-6-vaccine.csv\"\n",
    "urlretrieve(url, dest)  # скачает файл рядом с ноутбуком\n"
   ],
   "id": "b09d1c480256e651",
   "outputs": [
    {
     "data": {
      "text/plain": [
       "('course-6-vaccine.csv', <http.client.HTTPMessage at 0x16c3a4140>)"
      ]
     },
     "execution_count": 16,
     "metadata": {},
     "output_type": "execute_result"
    }
   ],
   "execution_count": 16
  },
  {
   "metadata": {
    "ExecuteTime": {
     "end_time": "2025-10-05T09:14:14.268580Z",
     "start_time": "2025-10-05T09:14:14.234961Z"
    }
   },
   "cell_type": "code",
   "source": [
    "\"\"\"Load the dataset and preview\n",
    "\"\"\"\n",
    "import pandas as pd\n",
    "\n",
    "df = pd.read_csv(\"course-6-vaccine.csv\", header=0)\n",
    "df"
   ],
   "id": "fa2d4f84e01f0273",
   "outputs": [
    {
     "data": {
      "text/plain": [
       "    Year     Values\n",
       "0   1983  48.676809\n",
       "1   1984  50.653151\n",
       "2   1985  45.603729\n",
       "3   1986  45.511160\n",
       "4   1987  52.882892\n",
       "5   1988  62.710162\n",
       "6   1989  68.354736\n",
       "7   1990  73.618808\n",
       "8   1991  69.748838\n",
       "9   1992  69.905091\n",
       "10  1993  70.517807\n",
       "11  1994  62.019265\n",
       "12  1995  73.887410\n",
       "13  1996  73.376443\n",
       "14  1997  75.599240\n",
       "15  1998  71.236410\n",
       "16  1999  70.783087\n",
       "17  2000  72.381822\n",
       "18  2001  74.997859\n",
       "19  2002  72.610008\n",
       "20  2003  80.104407\n",
       "21  2004  75.126596\n",
       "22  2005  72.750992\n",
       "23  2006  85.550532\n",
       "24  2007  82.033782\n",
       "25  2008  76.587843\n",
       "26  2009  82.602683\n",
       "27  2010  80.786124\n",
       "28  2011  78.931800\n",
       "29  2012  83.456979\n",
       "30  2013  85.124059\n",
       "31  2014  87.375816\n",
       "32  2015  82.704588\n",
       "33  2016  85.898262"
      ],
      "text/html": [
       "<div>\n",
       "<style scoped>\n",
       "    .dataframe tbody tr th:only-of-type {\n",
       "        vertical-align: middle;\n",
       "    }\n",
       "\n",
       "    .dataframe tbody tr th {\n",
       "        vertical-align: top;\n",
       "    }\n",
       "\n",
       "    .dataframe thead th {\n",
       "        text-align: right;\n",
       "    }\n",
       "</style>\n",
       "<table border=\"1\" class=\"dataframe\">\n",
       "  <thead>\n",
       "    <tr style=\"text-align: right;\">\n",
       "      <th></th>\n",
       "      <th>Year</th>\n",
       "      <th>Values</th>\n",
       "    </tr>\n",
       "  </thead>\n",
       "  <tbody>\n",
       "    <tr>\n",
       "      <th>0</th>\n",
       "      <td>1983</td>\n",
       "      <td>48.676809</td>\n",
       "    </tr>\n",
       "    <tr>\n",
       "      <th>1</th>\n",
       "      <td>1984</td>\n",
       "      <td>50.653151</td>\n",
       "    </tr>\n",
       "    <tr>\n",
       "      <th>2</th>\n",
       "      <td>1985</td>\n",
       "      <td>45.603729</td>\n",
       "    </tr>\n",
       "    <tr>\n",
       "      <th>3</th>\n",
       "      <td>1986</td>\n",
       "      <td>45.511160</td>\n",
       "    </tr>\n",
       "    <tr>\n",
       "      <th>4</th>\n",
       "      <td>1987</td>\n",
       "      <td>52.882892</td>\n",
       "    </tr>\n",
       "    <tr>\n",
       "      <th>5</th>\n",
       "      <td>1988</td>\n",
       "      <td>62.710162</td>\n",
       "    </tr>\n",
       "    <tr>\n",
       "      <th>6</th>\n",
       "      <td>1989</td>\n",
       "      <td>68.354736</td>\n",
       "    </tr>\n",
       "    <tr>\n",
       "      <th>7</th>\n",
       "      <td>1990</td>\n",
       "      <td>73.618808</td>\n",
       "    </tr>\n",
       "    <tr>\n",
       "      <th>8</th>\n",
       "      <td>1991</td>\n",
       "      <td>69.748838</td>\n",
       "    </tr>\n",
       "    <tr>\n",
       "      <th>9</th>\n",
       "      <td>1992</td>\n",
       "      <td>69.905091</td>\n",
       "    </tr>\n",
       "    <tr>\n",
       "      <th>10</th>\n",
       "      <td>1993</td>\n",
       "      <td>70.517807</td>\n",
       "    </tr>\n",
       "    <tr>\n",
       "      <th>11</th>\n",
       "      <td>1994</td>\n",
       "      <td>62.019265</td>\n",
       "    </tr>\n",
       "    <tr>\n",
       "      <th>12</th>\n",
       "      <td>1995</td>\n",
       "      <td>73.887410</td>\n",
       "    </tr>\n",
       "    <tr>\n",
       "      <th>13</th>\n",
       "      <td>1996</td>\n",
       "      <td>73.376443</td>\n",
       "    </tr>\n",
       "    <tr>\n",
       "      <th>14</th>\n",
       "      <td>1997</td>\n",
       "      <td>75.599240</td>\n",
       "    </tr>\n",
       "    <tr>\n",
       "      <th>15</th>\n",
       "      <td>1998</td>\n",
       "      <td>71.236410</td>\n",
       "    </tr>\n",
       "    <tr>\n",
       "      <th>16</th>\n",
       "      <td>1999</td>\n",
       "      <td>70.783087</td>\n",
       "    </tr>\n",
       "    <tr>\n",
       "      <th>17</th>\n",
       "      <td>2000</td>\n",
       "      <td>72.381822</td>\n",
       "    </tr>\n",
       "    <tr>\n",
       "      <th>18</th>\n",
       "      <td>2001</td>\n",
       "      <td>74.997859</td>\n",
       "    </tr>\n",
       "    <tr>\n",
       "      <th>19</th>\n",
       "      <td>2002</td>\n",
       "      <td>72.610008</td>\n",
       "    </tr>\n",
       "    <tr>\n",
       "      <th>20</th>\n",
       "      <td>2003</td>\n",
       "      <td>80.104407</td>\n",
       "    </tr>\n",
       "    <tr>\n",
       "      <th>21</th>\n",
       "      <td>2004</td>\n",
       "      <td>75.126596</td>\n",
       "    </tr>\n",
       "    <tr>\n",
       "      <th>22</th>\n",
       "      <td>2005</td>\n",
       "      <td>72.750992</td>\n",
       "    </tr>\n",
       "    <tr>\n",
       "      <th>23</th>\n",
       "      <td>2006</td>\n",
       "      <td>85.550532</td>\n",
       "    </tr>\n",
       "    <tr>\n",
       "      <th>24</th>\n",
       "      <td>2007</td>\n",
       "      <td>82.033782</td>\n",
       "    </tr>\n",
       "    <tr>\n",
       "      <th>25</th>\n",
       "      <td>2008</td>\n",
       "      <td>76.587843</td>\n",
       "    </tr>\n",
       "    <tr>\n",
       "      <th>26</th>\n",
       "      <td>2009</td>\n",
       "      <td>82.602683</td>\n",
       "    </tr>\n",
       "    <tr>\n",
       "      <th>27</th>\n",
       "      <td>2010</td>\n",
       "      <td>80.786124</td>\n",
       "    </tr>\n",
       "    <tr>\n",
       "      <th>28</th>\n",
       "      <td>2011</td>\n",
       "      <td>78.931800</td>\n",
       "    </tr>\n",
       "    <tr>\n",
       "      <th>29</th>\n",
       "      <td>2012</td>\n",
       "      <td>83.456979</td>\n",
       "    </tr>\n",
       "    <tr>\n",
       "      <th>30</th>\n",
       "      <td>2013</td>\n",
       "      <td>85.124059</td>\n",
       "    </tr>\n",
       "    <tr>\n",
       "      <th>31</th>\n",
       "      <td>2014</td>\n",
       "      <td>87.375816</td>\n",
       "    </tr>\n",
       "    <tr>\n",
       "      <th>32</th>\n",
       "      <td>2015</td>\n",
       "      <td>82.704588</td>\n",
       "    </tr>\n",
       "    <tr>\n",
       "      <th>33</th>\n",
       "      <td>2016</td>\n",
       "      <td>85.898262</td>\n",
       "    </tr>\n",
       "  </tbody>\n",
       "</table>\n",
       "</div>"
      ]
     },
     "execution_count": 17,
     "metadata": {},
     "output_type": "execute_result"
    }
   ],
   "execution_count": 17
  },
  {
   "metadata": {},
   "cell_type": "markdown",
   "source": "As you can see, the dataset consists of two columns where `Year` represents year and `Values` represents the corresponding world measles vaccination rate, and only the numerical portion of the percentage is taken here. We plot the data into charts to see the trends:",
   "id": "86bfb4e1d3eb80c5"
  },
  {
   "metadata": {
    "ExecuteTime": {
     "end_time": "2025-10-05T09:15:01.470657Z",
     "start_time": "2025-10-05T09:15:01.292702Z"
    }
   },
   "cell_type": "code",
   "source": [
    "\"\"\"Plot\n",
    "\"\"\"\n",
    "# Define x and y\n",
    "x = df['Year']\n",
    "y = df['Values']\n",
    "# Plot\n",
    "plt.plot(x, y, 'r')\n",
    "plt.scatter(x, y)"
   ],
   "id": "36fe05dbc1dc5cd7",
   "outputs": [
    {
     "data": {
      "text/plain": [
       "<matplotlib.collections.PathCollection at 0x16c38c8f0>"
      ]
     },
     "execution_count": 18,
     "metadata": {},
     "output_type": "execute_result"
    },
    {
     "data": {
      "text/plain": [
       "<Figure size 640x480 with 1 Axes>"
      ],
      "image/png": "[encoded data removed]"
     },
     "metadata": {},
     "output_type": "display_data"
    }
   ],
   "execution_count": 18
  },
  {
   "metadata": {},
   "cell_type": "markdown",
   "source": "For the trend shown in the above figure, we might think that polynomial regression is better than linear regression. Is this the case? Let's try it.",
   "id": "aab0d5368b3e7943"
  },
  {
   "metadata": {},
   "cell_type": "markdown",
   "source": "### Comparison: Linear Regression and Quadratic Polynomial Regression",
   "id": "2dfcda1a8ac84068"
  },
  {
   "metadata": {},
   "cell_type": "markdown",
   "source": "According to what was learned in the linear regression course, in machine learning tasks we generally divide the dataset into training sets and test sets. So, here 70% of the data is considered the training sets and the rest 30% is classified as the test sets. Code is shown below:",
   "id": "95b5e3d258950330"
  },
  {
   "metadata": {
    "ExecuteTime": {
     "end_time": "2025-10-05T09:16:06.923810Z",
     "start_time": "2025-10-05T09:16:06.915479Z"
    }
   },
   "cell_type": "code",
   "source": [
    "\"\"\"Data partition\n",
    "\"\"\"\n",
    "# Divide dataframe into training set and testing set\n",
    "train_df = df[:int(len(df)*0.7)]\n",
    "test_df = df[int(len(df)*0.7):]\n",
    "\n",
    "# Define x and y for training and testing, respectively\n",
    "train_x = train_df['Year'].values\n",
    "train_y = train_df['Values'].values\n",
    "\n",
    "test_x = test_df['Year'].values\n",
    "test_y = test_df['Values'].values"
   ],
   "id": "fc28f9b55a41e8f",
   "outputs": [],
   "execution_count": 19
  },
  {
   "metadata": {},
   "cell_type": "markdown",
   "source": "Next, we use the polynomial regression prediction method provided by `scikit-learn` to train the model. First let's solve the above problem: **Is polynomial regression better than linear regression?**",
   "id": "b23fe3c5241b7b47"
  },
  {
   "metadata": {},
   "cell_type": "markdown",
   "source": "To begin with, we train the linear regression model and make predictions:",
   "id": "8c4eaa2fc9ba722b"
  },
  {
   "metadata": {
    "ExecuteTime": {
     "end_time": "2025-10-05T09:17:18.914535Z",
     "start_time": "2025-10-05T09:17:18.884205Z"
    }
   },
   "cell_type": "code",
   "source": [
    "\"\"\"Linear regression predictions\n",
    "\"\"\"\n",
    "# Implement linear regression model\n",
    "model = LinearRegression()\n",
    "model.fit(train_x.reshape(len(train_x),1), train_y.reshape(len(train_y),1))\n",
    "results = model.predict(test_x.reshape(len(test_x),1))\n",
    "results # testing result"
   ],
   "id": "39ac37d2ae9c1a",
   "outputs": [
    {
     "data": {
      "text/plain": [
       "array([[81.83437635],\n",
       "       [83.09935437],\n",
       "       [84.36433239],\n",
       "       [85.62931041],\n",
       "       [86.89428843],\n",
       "       [88.15926645],\n",
       "       [89.42424447],\n",
       "       [90.68922249],\n",
       "       [91.95420051],\n",
       "       [93.21917853],\n",
       "       [94.48415655]])"
      ]
     },
     "execution_count": 20,
     "metadata": {},
     "output_type": "execute_result"
    }
   ],
   "execution_count": 20
  },
  {
   "metadata": {},
   "cell_type": "markdown",
   "source": "With the predictions, we can compare them to the ground truth. Here we use two indicators: mean absolute error (MAE) and mean squared error (MSE). If you are still not familiar with these two indicators, see their definitions below:",
   "id": "3b3068824a64e8"
  },
  {
   "metadata": {},
   "cell_type": "markdown",
   "source": [
    "The **mean absolute error (MAE)** is the average of absolute errors. It can be calculated as follows:\n",
    "\\begin{equation}\n",
    "\\textrm{MAE}(y, \\hat{y} ) = \\frac{1}{n}\\sum_{i=1}^{n}{|y_{i}-\\hat y_{i}|}\\tag{6}\n",
    "\\end{equation}\n",
    "Where $y_{i}$ represents the true value, $\\hat y_{i}$ represents the predicted value and $n$ represents the number of values. Smaller the value of MAE, the better the accuracy of the predictive model. We can implement the MAE calculation function in Python."
   ],
   "id": "fd615037da86d2ba"
  },
  {
   "metadata": {},
   "cell_type": "markdown",
   "source": [
    "**Mean Squared Error (MSE)** represents the expected value of the square of the error. Its calculation formula is as follows:\n",
    "\\begin{equation}\n",
    "\\textrm{MSE}(y, \\hat{y} ) = \\frac{1}{n} \\sum_{i=1}^{n} (y_i - \\hat{y})^{2}\\tag{7}\n",
    "\\end{equation}\n",
    "Where $y_{i}$ represents the true value, $\\hat y_{i}$ represents the predicted value and $n$ represents the number of values. Smaller the value of MSE, the better the accuracy of the predictive model. Also, we can implement the MAE calculation function in Python."
   ],
   "id": "bcfd018d31cee18f"
  },
  {
   "metadata": {},
   "cell_type": "markdown",
   "source": "Here, we use the MAE and MSE provided by `scikit-learn` directly:",
   "id": "85810559282efb96"
  },
  {
   "metadata": {
    "ExecuteTime": {
     "end_time": "2025-10-05T09:18:35.389452Z",
     "start_time": "2025-10-05T09:18:35.367519Z"
    }
   },
   "cell_type": "code",
   "source": [
    "\"\"\"Errors of linear regression\n",
    "\"\"\"\n",
    "\n",
    "from sklearn.metrics import mean_absolute_error\n",
    "from sklearn.metrics import mean_squared_error\n",
    "\n",
    "print(\"MAE of linear regression: \", mean_absolute_error(test_y, results.flatten()))\n",
    "print(\"MSE of linear regression: \", mean_squared_error(test_y, results.flatten()))"
   ],
   "id": "c3c1e79753c8655f",
   "outputs": [
    {
     "name": "stdout",
     "output_type": "stream",
     "text": [
      "MAE of linear regression:  6.011979515629812\n",
      "MSE of linear regression:  43.531858295153434\n"
     ]
    }
   ],
   "execution_count": 21
  },
  {
   "metadata": {},
   "cell_type": "markdown",
   "source": "Next, we can start training the quadratic polynomial regression model and make predictions:",
   "id": "be8cf4e34634635d"
  },
  {
   "metadata": {
    "ExecuteTime": {
     "end_time": "2025-10-05T09:18:56.630310Z",
     "start_time": "2025-10-05T09:18:56.583528Z"
    }
   },
   "cell_type": "code",
   "source": [
    "\"\"\"Quadratic polynomial predictions\n",
    "\"\"\"\n",
    "# Generate the feature matrix\n",
    "poly_features_2 = PolynomialFeatures(degree=2, include_bias=False)\n",
    "poly_train_x_2 = poly_features_2.fit_transform(train_x.reshape(len(train_x),1))\n",
    "poly_test_x_2 = poly_features_2.fit_transform(test_x.reshape(len(test_x),1))\n",
    "\n",
    "# Training and predicting\n",
    "model = LinearRegression()\n",
    "model.fit(poly_train_x_2, train_y.reshape(len(train_x),1)) # Train the model\n",
    "\n",
    "results_2 = model.predict(poly_test_x_2) # Prediction\n",
    "\n",
    "results_2.flatten() # Print after flattening"
   ],
   "id": "577243dfe84a000b",
   "outputs": [
    {
     "data": {
      "text/plain": [
       "array([71.98010746, 70.78151826, 69.38584368, 67.79308372, 66.00323838,\n",
       "       64.01630767, 61.83229158, 59.45119011, 56.87300326, 54.09773104,\n",
       "       51.12537344])"
      ]
     },
     "execution_count": 22,
     "metadata": {},
     "output_type": "execute_result"
    }
   ],
   "execution_count": 22
  },
  {
   "metadata": {
    "ExecuteTime": {
     "end_time": "2025-10-05T09:19:10.053458Z",
     "start_time": "2025-10-05T09:19:10.041446Z"
    }
   },
   "cell_type": "code",
   "source": [
    "\"\"\"Errors of quadratic polynomial regression\n",
    "\"\"\"\n",
    "print(\"MAE of quadratic polynomial regression: \", mean_absolute_error(test_y, results_2.flatten()))\n",
    "print(\"MSE of quadratic polynomial regression: \", mean_squared_error(test_y, results_2.flatten()))"
   ],
   "id": "4df3afaa3223d785",
   "outputs": [
    {
     "name": "stdout",
     "output_type": "stream",
     "text": [
      "MAE of quadratic polynomial regression:  19.792070829604697\n",
      "MSE of quadratic polynomial regression:  464.3290384764974\n"
     ]
    }
   ],
   "execution_count": 23
  },
  {
   "metadata": {},
   "cell_type": "markdown",
   "source": "Based on the above definitions of MAE and MSE, you now know that smaller the two values, the higher the prediction accuracy of the model. In other words, the prediction results of the linear regression model are better than those of the quadratic polynomial regression model.",
   "id": "591c847eb067052"
  },
  {
   "metadata": {},
   "cell_type": "markdown",
   "source": "### Polynomial Regression Predictions with Higher Degrees",
   "id": "54b35411ba7f6e1f"
  },
  {
   "metadata": {},
   "cell_type": "markdown",
   "source": "Actually, this situation is very common. But this does not mean that the polynomial regression will always be worse than linear regression. Next let's try the results of the `3-`, `4-` and `5-` `degree` polynomial regressions. To simplify the process, we reconstructed the code and got the predicted results for three simulations at one time.",
   "id": "8e95e4da48d3150c"
  },
  {
   "metadata": {},
   "cell_type": "markdown",
   "source": "By instantiating the `make_pipeline` pipeline class, all predictors can call `fit` and `predict` instructions. `make_pipeline` is a technique innovation of `sklearn`, and no more details will be introduced here. We just imitate the official [tutorials](http://scikit-learn.org/stable/modules/generated/sklearn.pipeline.make_pipeline.html) to simple use:",
   "id": "4917d2d87492067c"
  },
  {
   "metadata": {
    "ExecuteTime": {
     "end_time": "2025-10-05T09:20:17.819111Z",
     "start_time": "2025-10-05T09:20:17.770518Z"
    }
   },
   "cell_type": "code",
   "source": [
    "\"\"\"Polynomial regression predictions with higher degrees\n",
    "\"\"\"\n",
    "from sklearn.pipeline import make_pipeline\n",
    "\n",
    "train_x = train_x.reshape(len(train_x),1)\n",
    "test_x = test_x.reshape(len(test_x),1)\n",
    "train_y = train_y.reshape(len(train_y),1)\n",
    "\n",
    "for m in [3, 4, 5]:\n",
    "    model = make_pipeline(PolynomialFeatures(m, include_bias=False), LinearRegression())\n",
    "    model.fit(train_x, train_y)\n",
    "    pre_y = model.predict(test_x)\n",
    "    print(\"{}-degree polynomial regression_MAE: \".format(m), mean_absolute_error(test_y, pre_y.flatten()))\n",
    "    print(\"{}-degree polynomial regression_MSE: \".format(m), mean_squared_error(test_y, pre_y.flatten()))\n",
    "    print(\"---\")"
   ],
   "id": "9a6c735e48f071c8",
   "outputs": [
    {
     "name": "stdout",
     "output_type": "stream",
     "text": [
      "3-degree polynomial regression_MAE:  4.547692030339024\n",
      "3-degree polynomial regression_MSE:  29.93305740662007\n",
      "---\n",
      "4-degree polynomial regression_MAE:  4.426255978790289\n",
      "4-degree polynomial regression_MSE:  29.048982559773833\n",
      "---\n",
      "5-degree polynomial regression_MAE:  4.341615905708303\n",
      "5-degree polynomial regression_MSE:  28.22192298926822\n",
      "---\n"
     ]
    }
   ],
   "execution_count": 24
  },
  {
   "metadata": {},
   "cell_type": "markdown",
   "source": "From the above results, it can be concluded that the results of the `3-`, `4-` and `5-` `degree` polynomial regressions are better than those of the linear regression model. Therefore, polynomial regression still has its superiority.",
   "id": "da48b40341d54a19"
  },
  {
   "metadata": {},
   "cell_type": "markdown",
   "source": "### The Optimal Degree in Polynomial Regression Case",
   "id": "3d7851dfa3f97241"
  },
  {
   "metadata": {},
   "cell_type": "markdown",
   "source": "Up to now, you may have a question: In the process of selecting a polynomial for regression prediction, **what degree is optimal?**",
   "id": "a326ba32f85ebce8"
  },
  {
   "metadata": {},
   "cell_type": "markdown",
   "source": "For the above question, the answer is simple. We can choose an error indicator. For example, if you select MSE here, then we can calculate the errors with different degrees. Just have a try:",
   "id": "c23b25a5581b5769"
  },
  {
   "metadata": {
    "ExecuteTime": {
     "end_time": "2025-10-05T09:21:33.282670Z",
     "start_time": "2025-10-05T09:21:33.162925Z"
    }
   },
   "cell_type": "code",
   "source": [
    "\"\"\"Calculate MSE results of m-degree polynomial regression and plot\n",
    "\"\"\"\n",
    "mse = [] # Save MSE for different degrees\n",
    "m = 1 # Start from 1-degree\n",
    "m_max = 10 # Set the highest degree to be tested\n",
    "while m <= m_max:\n",
    "    model = make_pipeline(PolynomialFeatures(m, include_bias=False), LinearRegression())\n",
    "    model.fit(train_x, train_y) # Train\n",
    "    pre_y = model.predict(test_x) # Test\n",
    "    mse.append(mean_squared_error(test_y, pre_y.flatten())) # Calculate MSE\n",
    "    m = m + 1\n",
    "\n",
    "print(\"MSE results: \", mse)\n",
    "# Plot\n",
    "plt.plot([i for i in range(1, m_max + 1)], mse, 'r')\n",
    "plt.scatter([i for i in range(1, m_max + 1)], mse)\n",
    "\n",
    "# Descriptions\n",
    "plt.title(\"MSE of m degree of polynomial regression\")\n",
    "plt.xlabel(\"m\")\n",
    "plt.ylabel(\"MSE\")"
   ],
   "id": "c4d1f02400c50bb4",
   "outputs": [
    {
     "name": "stdout",
     "output_type": "stream",
     "text": [
      "MSE results:  [43.531858295153434, 464.3290384764974, 29.93305740662007, 29.048982559773833, 28.22192298926822, 27.440821659132077, 26.71232004764694, 26.038729575802815, 25.422418045289476, 24.86581839050124]\n"
     ]
    },
    {
     "data": {
      "text/plain": [
       "Text(0, 0.5, 'MSE')"
      ]
     },
     "execution_count": 25,
     "metadata": {},
     "output_type": "execute_result"
    },
    {
     "data": {
      "text/plain": [
       "<Figure size 640x480 with 1 Axes>"
      ],
      "image/png": "[encoded data removed]"
     },
     "metadata": {},
     "output_type": "display_data"
    }
   ],
   "execution_count": 25
  },
  {
   "metadata": {},
   "cell_type": "markdown",
   "source": "As shown in the figure above, the MSE value reached its highest point in the 2nd degree polynomial regression prediction and then decreased rapidly. The results after the 3rd degree still showed a gradual decline, but they tended to be stable. In general, we also need to consider the generalization ability of the model and avoid overfitting. Here, we can choose the 3rd degree polynomial as the optimal regression prediction model.",
   "id": "8d36108e87d4a5a7"
  },
  {
   "metadata": {},
   "cell_type": "markdown",
   "source": "## Summary",
   "id": "9b174ff02ffeb3b5"
  },
  {
   "metadata": {},
   "cell_type": "markdown",
   "source": [
    "In this experiment, we learned what polynomial regression is, and the connections and differences between polynomial regression and linear regression. At the same time, the experiment explores the implementation of polynomial regression fitting and uses `scikit-learn` to construct a polynomial regression prediction model under a real dataset. The knowledge points involved in the experiment are:\n",
    "- Polynomial\n",
    "- Polynomial fitting\n",
    "- Least squares method\n",
    "- Overfitting\n",
    "- Dataset partition\n",
    "- Selection of optimal model\n",
    "- `scikit-learn` implementations of polynomial regression prediction"
   ],
   "id": "267755b609694425"
  },
  {
   "metadata": {
    "ExecuteTime": {
     "end_time": "2025-10-05T09:20:27.282160Z",
     "start_time": "2025-10-05T09:20:27.276303Z"
    }
   },
   "cell_type": "code",
   "source": "",
   "id": "cdda0ddbf6834502",
   "outputs": [],
   "execution_count": null
  },
  {
   "metadata": {},
   "cell_type": "code",
   "outputs": [],
   "execution_count": null,
   "source": "",
   "id": "efe5f2635b7c1cb5"
  }
 ],
 "metadata": {
  "kernelspec": {
   "display_name": "Python 3",
   "language": "python",
   "name": "python3"
  },
  "language_info": {
   "codemirror_mode": {
    "name": "ipython",
    "version": 2
   },
   "file_extension": ".py",
   "mimetype": "text/x-python",
   "name": "python",
   "nbconvert_exporter": "python",
   "pygments_lexer": "ipython2",
   "version": "2.7.6"
  }
 },
 "nbformat": 4,
 "nbformat_minor": 5
}
