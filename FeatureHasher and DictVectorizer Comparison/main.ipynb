{
 "cells": [
  {
   "metadata": {},
   "cell_type": "markdown",
   "source": "# Introduction",
   "id": "ddc92404f5c00dd7"
  },
  {
   "metadata": {},
   "cell_type": "markdown",
   "source": "In this lab, we will explore text vectorization, which is the process of representing non-numerical input data (such as dictionaries or text documents) as vectors of real numbers. We will compare two methods, **FeatureHasher** and **DictVectorizer**, by using both methods to vectorize text documents that are preprocessed (tokenized) with the help of a custom Python function.",
   "id": "efe3256186f828d9"
  },
  {
   "metadata": {},
   "cell_type": "markdown",
   "source": "# Load Data",
   "id": "480b28a5ba8d60bc"
  },
  {
   "metadata": {},
   "cell_type": "markdown",
   "source": "We will load data from **20newsgroups_dataset**, which comprises around 18000 newsgroups posts on 20 topics split in two subsets: one for training and one for testing. For the sake of simplicity and reducing the computational cost, we select a subset of 7 topics and use the training set only.",
   "id": "ee37c3ea3a9ece2f"
  },
  {
   "cell_type": "code",
   "id": "initial_id",
   "metadata": {
    "collapsed": true,
    "ExecuteTime": {
     "end_time": "2025-09-27T14:42:32.521489Z",
     "start_time": "2025-09-27T14:42:31.182425Z"
    }
   },
   "source": [
    "from sklearn.datasets import fetch_20newsgroups\n",
    "\n",
    "categories = [\n",
    "    \"alt.atheism\",\n",
    "    \"comp.graphics\",\n",
    "    \"comp.sys.ibm.pc.hardware\",\n",
    "    \"misc.forsale\",\n",
    "    \"rec.autos\",\n",
    "    \"sci.space\",\n",
    "    \"talk.religion.misc\",\n",
    "]\n",
    "\n",
    "print(\"Loading 20 newsgroups training data\")\n",
    "raw_data, _ = fetch_20newsgroups(subset=\"train\", categories=categories, return_X_y=True)\n",
    "data_size_mb = sum(len(s.encode(\"utf-8\")) for s in raw_data) / 1e6\n",
    "print(f\"{len(raw_data)} documents - {data_size_mb:.3f}MB\")"
   ],
   "outputs": [
    {
     "name": "stdout",
     "output_type": "stream",
     "text": [
      "Loading 20 newsgroups training data\n",
      "3803 documents - 6.245MB\n"
     ]
    }
   ],
   "execution_count": 1
  },
  {
   "metadata": {},
   "cell_type": "markdown",
   "source": "# Define preprocessing functions",
   "id": "e15bfaf055e71890"
  },
  {
   "metadata": {},
   "cell_type": "markdown",
   "source": "A token may be a word, part of a word or anything comprised between spaces or symbols in a string. Here we define a function that extracts the tokens using a simple regular expression (regex) that matches Unicode word characters. This includes most characters that can be part of a word in any language, as well as numbers and the underscore:",
   "id": "daf0266ac0249cb7"
  },
  {
   "metadata": {
    "ExecuteTime": {
     "end_time": "2025-09-27T14:45:22.198870Z",
     "start_time": "2025-09-27T14:45:22.179006Z"
    }
   },
   "cell_type": "code",
   "source": [
    "import re\n",
    "\n",
    "def tokenize(doc):\n",
    "    \"\"\"Extract tokens from doc.\n",
    "\n",
    "    This uses a simple regex that matches word characters to break strings\n",
    "    into tokens. For a more principled approach, see CountVectorizer or\n",
    "    TfidfVectorizer.\n",
    "    \"\"\"\n",
    "    return (tok.lower() for tok in re.findall(r\"\\w+\", doc))"
   ],
   "id": "3a2f6a0598b7134f",
   "outputs": [],
   "execution_count": 2
  },
  {
   "metadata": {},
   "cell_type": "markdown",
   "source": "We define an additional function that counts the (frequency of) occurrence of each token in a given document. It returns a frequency dictionary to be used by the vectorizers.",
   "id": "6ef5d39a5fdb44ac"
  },
  {
   "metadata": {
    "ExecuteTime": {
     "end_time": "2025-09-27T14:45:42.907636Z",
     "start_time": "2025-09-27T14:45:42.895433Z"
    }
   },
   "cell_type": "code",
   "source": [
    "from collections import defaultdict\n",
    "\n",
    "def token_freqs(doc):\n",
    "    \"\"\"Extract a dict mapping tokens from doc to their occurrences.\"\"\"\n",
    "\n",
    "    freq = defaultdict(int)\n",
    "    for tok in tokenize(doc):\n",
    "        freq[tok] += 1\n",
    "    return freq"
   ],
   "id": "c11d44318ad1348e",
   "outputs": [],
   "execution_count": 3
  },
  {
   "metadata": {},
   "cell_type": "markdown",
   "source": "# DictVectorizer",
   "id": "b51a5d95a7d23e6f"
  },
  {
   "metadata": {},
   "cell_type": "markdown",
   "source": "We will benchmark the **DictVectorizer**, which is a method that receives dictionaries as input.",
   "id": "7b3fee5887bfbfc4"
  },
  {
   "metadata": {
    "ExecuteTime": {
     "end_time": "2025-09-27T14:46:20.136733Z",
     "start_time": "2025-09-27T14:46:19.436339Z"
    }
   },
   "cell_type": "code",
   "source": [
    "from sklearn.feature_extraction import DictVectorizer\n",
    "from time import time\n",
    "\n",
    "t0 = time()\n",
    "vectorizer = DictVectorizer()\n",
    "vectorizer.fit_transform(token_freqs(d) for d in raw_data)\n",
    "duration = time() - t0\n",
    "print(f\"done in {duration:.3f} s\")\n",
    "print(f\"Found {len(vectorizer.get_feature_names_out())} unique terms\")"
   ],
   "id": "f3a49e2d180e32ae",
   "outputs": [
    {
     "name": "stdout",
     "output_type": "stream",
     "text": [
      "done in 0.659 s\n",
      "Found 47928 unique terms\n"
     ]
    }
   ],
   "execution_count": 4
  },
  {
   "metadata": {},
   "cell_type": "markdown",
   "source": "# FeatureHasher",
   "id": "2296ac3bc399d021"
  },
  {
   "metadata": {},
   "cell_type": "markdown",
   "source": "We will benchmark the **FeatureHasher**, which is a method that builds a vector of pre-defined length by applying a hash function to the features (e.g., tokens), then using the hash values directly as feature indices and updating the resulting vector at those indices.",
   "id": "e27cc7285115ab2c"
  },
  {
   "metadata": {
    "ExecuteTime": {
     "end_time": "2025-09-27T14:46:56.697196Z",
     "start_time": "2025-09-27T14:46:56.334872Z"
    }
   },
   "cell_type": "code",
   "source": [
    "from sklearn.feature_extraction import FeatureHasher\n",
    "import numpy as np\n",
    "\n",
    "t0 = time()\n",
    "hasher = FeatureHasher(n_features=2**18)\n",
    "X = hasher.transform(token_freqs(d) for d in raw_data)\n",
    "duration = time() - t0\n",
    "print(f\"done in {duration:.3f} s\")\n",
    "print(f\"Found {len(np.unique(X.nonzero()[1]))} unique tokens\")"
   ],
   "id": "80a01ca80f94e9c4",
   "outputs": [
    {
     "name": "stdout",
     "output_type": "stream",
     "text": [
      "done in 0.304 s\n",
      "Found 43873 unique tokens\n"
     ]
    }
   ],
   "execution_count": 5
  },
  {
   "metadata": {},
   "cell_type": "markdown",
   "source": "# Comparison with special purpose text vectorizers",
   "id": "eeb016eed972b18a"
  },
  {
   "metadata": {},
   "cell_type": "markdown",
   "source": "We will compare the previous methods with the **CountVectorizer** and **HashingVectorizer**.",
   "id": "9d309ac6d5cd1be7"
  },
  {
   "metadata": {
    "ExecuteTime": {
     "end_time": "2025-09-27T14:47:35.032758Z",
     "start_time": "2025-09-27T14:47:33.967914Z"
    }
   },
   "cell_type": "code",
   "source": [
    "from sklearn.feature_extraction.text import CountVectorizer, HashingVectorizer, TfidfVectorizer\n",
    "\n",
    "t0 = time()\n",
    "vectorizer = CountVectorizer()\n",
    "vectorizer.fit_transform(raw_data)\n",
    "duration = time() - t0\n",
    "print(f\"done in {duration:.3f} s\")\n",
    "print(f\"Found {len(vectorizer.get_feature_names_out())} unique terms\")\n",
    "\n",
    "t0 = time()\n",
    "vectorizer = HashingVectorizer(n_features=2**18)\n",
    "vectorizer.fit_transform(raw_data)\n",
    "duration = time() - t0\n",
    "print(f\"done in {duration:.3f} s\")\n",
    "\n",
    "t0 = time()\n",
    "vectorizer = TfidfVectorizer()\n",
    "vectorizer.fit_transform(raw_data)\n",
    "duration = time() - t0\n",
    "print(f\"done in {duration:.3f} s\")\n",
    "print(f\"Found {len(vectorizer.get_feature_names_out())} unique terms\")"
   ],
   "id": "1a89e2d4481d02ec",
   "outputs": [
    {
     "name": "stdout",
     "output_type": "stream",
     "text": [
      "done in 0.440 s\n",
      "Found 47885 unique terms\n",
      "done in 0.263 s\n",
      "done in 0.316 s\n",
      "Found 47885 unique terms\n"
     ]
    }
   ],
   "execution_count": 6
  },
  {
   "metadata": {},
   "cell_type": "markdown",
   "source": "# Plot the results",
   "id": "9cab03565f632034"
  },
  {
   "metadata": {},
   "cell_type": "markdown",
   "source": "We will plot the speed of the above methods for vectorizing.",
   "id": "585527d47b419e1c"
  },
  {
   "metadata": {
    "ExecuteTime": {
     "end_time": "2025-09-27T14:48:09.381649Z",
     "start_time": "2025-09-27T14:48:08.736460Z"
    }
   },
   "cell_type": "code",
   "source": [
    "import matplotlib.pyplot as plt\n",
    "\n",
    "dict_count_vectorizers = {\n",
    "    \"vectorizer\": [\n",
    "        \"DictVectorizer\\non freq dicts\",\n",
    "        \"FeatureHasher\\non freq dicts\",\n",
    "        \"FeatureHasher\\non raw tokens\",\n",
    "        \"CountVectorizer\",\n",
    "        \"HashingVectorizer\",\n",
    "        \"TfidfVectorizer\"\n",
    "    ],\n",
    "    \"speed\": [\n",
    "        2.4, 4.4, 7.2, 5.1, 11.7, 2.9\n",
    "    ]\n",
    "}\n",
    "\n",
    "fig, ax = plt.subplots(figsize=(12, 6))\n",
    "\n",
    "y_pos = np.arange(len(dict_count_vectorizers[\"vectorizer\"]))\n",
    "ax.barh(y_pos, dict_count_vectorizers[\"speed\"], align=\"center\")\n",
    "ax.set_yticks(y_pos)\n",
    "ax.set_yticklabels(dict_count_vectorizers[\"vectorizer\"])\n",
    "ax.invert_yaxis()\n",
    "_ = ax.set_xlabel(\"speed (MB/s)\")"
   ],
   "id": "96b9fa5b27875e94",
   "outputs": [
    {
     "data": {
      "text/plain": [
       "<Figure size 1200x600 with 1 Axes>"
      ],
      "image/png": "[encoded data removed]"
     },
     "metadata": {},
     "output_type": "display_data"
    }
   ],
   "execution_count": 7
  },
  {
   "metadata": {},
   "cell_type": "markdown",
   "source": "# Summary",
   "id": "668a182ac67e605b"
  },
  {
   "metadata": {},
   "cell_type": "markdown",
   "source": "In this lab, we explored text vectorization by comparing two methods, **FeatureHasher** and **DictVectorizer**, and four special purpose text vectorizers, **CountVectorizer**, **HashingVectorizer**, and **TfidfVectorizer**. We benchmarked the methods for vectorizing and plotted the results. We concluded that **HashingVectorizer** performs better than **CountVectorizer** at the expense of inversibility of the transformation due to hash collisions. Additionally, **DictVectorizer** and **FeatureHasher** perform better than their equivalent text vectorizers on manually tokenized documents since the internal tokenization step of the former vectorizers compiles a regular expression once and then reuses it for all the documents.",
   "id": "96298fda2abc7aef"
  },
  {
   "metadata": {},
   "cell_type": "code",
   "outputs": [],
   "execution_count": null,
   "source": "",
   "id": "747b7116498aa26e"
  }
 ],
 "metadata": {
  "kernelspec": {
   "display_name": "Python 3",
   "language": "python",
   "name": "python3"
  },
  "language_info": {
   "codemirror_mode": {
    "name": "ipython",
    "version": 2
   },
   "file_extension": ".py",
   "mimetype": "text/x-python",
   "name": "python",
   "nbconvert_exporter": "python",
   "pygments_lexer": "ipython2",
   "version": "2.7.6"
  }
 },
 "nbformat": 4,
 "nbformat_minor": 5
}
