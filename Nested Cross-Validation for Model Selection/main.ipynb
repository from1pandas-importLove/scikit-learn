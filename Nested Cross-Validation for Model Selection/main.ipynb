{
 "cells": [
  {
   "metadata": {},
   "cell_type": "markdown",
   "source": "# Introduction",
   "id": "5c913f7ebf3727fd"
  },
  {
   "metadata": {},
   "cell_type": "markdown",
   "source": "Nested cross-validation is a technique used to estimate the generalization error of a model and its hyperparameters. It is especially useful when choosing between different models or when hyperparameters need to be optimized. In this tutorial, we will compare non-nested and nested cross-validation on a support vector classifier model using the iris dataset. We will also visualize the difference in performance between the two methods.",
   "id": "5a1ef1694de6f29d"
  },
  {
   "metadata": {},
   "cell_type": "markdown",
   "source": "# Load the Dataset",
   "id": "976074d34734b0df"
  },
  {
   "metadata": {},
   "cell_type": "markdown",
   "source": "The first step is to load the iris dataset from scikit-learn.",
   "id": "a9b08a01bcb2dc0c"
  },
  {
   "cell_type": "code",
   "id": "initial_id",
   "metadata": {
    "collapsed": true,
    "ExecuteTime": {
     "end_time": "2025-09-21T05:45:22.604251Z",
     "start_time": "2025-09-21T05:45:21.519034Z"
    }
   },
   "source": [
    "from sklearn.datasets import load_iris\n",
    "\n",
    "# Load the dataset\n",
    "iris = load_iris()\n",
    "X_iris = iris.data\n",
    "y_iris = iris.target"
   ],
   "outputs": [],
   "execution_count": 1
  },
  {
   "metadata": {},
   "cell_type": "markdown",
   "source": "# Define the Hyperparameters",
   "id": "a927f871360a0b63"
  },
  {
   "metadata": {},
   "cell_type": "markdown",
   "source": "Next, we define the hyperparameters to be optimized for the support vector classifier. In this case, we optimize the cost parameter **C** and the kernel coefficient **gamma**.",
   "id": "3e405aa243a9d37d"
  },
  {
   "metadata": {
    "ExecuteTime": {
     "end_time": "2025-09-21T05:46:43.236819Z",
     "start_time": "2025-09-21T05:46:43.228584Z"
    }
   },
   "cell_type": "code",
   "source": [
    "# Set up possible values of parameters to optimize over\n",
    "p_grid = {'C':[1, 10, 100], 'gamma':[0.01, 0.1]}"
   ],
   "id": "70cc2b0c183e04cf",
   "outputs": [],
   "execution_count": 2
  },
  {
   "metadata": {},
   "cell_type": "markdown",
   "source": "# Define the Model",
   "id": "23dbd183ea8f2711"
  },
  {
   "metadata": {},
   "cell_type": "markdown",
   "source": "We use a support vector classifier with a radial basis function kernel.",
   "id": "f9d241081d63ed3a"
  },
  {
   "metadata": {
    "ExecuteTime": {
     "end_time": "2025-09-21T05:48:30.023267Z",
     "start_time": "2025-09-21T05:48:29.847828Z"
    }
   },
   "cell_type": "code",
   "source": [
    "from sklearn.svm import SVC\n",
    "\n",
    "# We will use a Support Vector Classifier with 'rbf' kernel\n",
    "svm = SVC(kernel='rbf')"
   ],
   "id": "e170e376779dcef9",
   "outputs": [],
   "execution_count": 3
  },
  {
   "metadata": {},
   "cell_type": "markdown",
   "source": "# Non-Nested Cross-Validation",
   "id": "59bd18d8e17b326c"
  },
  {
   "metadata": {},
   "cell_type": "markdown",
   "source": "We use non-nested cross-validation to tune the hyperparameters and evaluate the performance of the model. The **GridSearchCV** function performs an exhaustive search over specified parameter values for an estimator. We use a 4-fold cross-validation.",
   "id": "ac6aaa9c20f80352"
  },
  {
   "metadata": {
    "ExecuteTime": {
     "end_time": "2025-09-21T05:50:02.417203Z",
     "start_time": "2025-09-21T05:50:02.369473Z"
    }
   },
   "cell_type": "code",
   "source": [
    "from sklearn.model_selection import GridSearchCV\n",
    "\n",
    "# Non nested parameter search and scoring\n",
    "clf = GridSearchCV(svm, param_grid=p_grid, cv=4)\n",
    "clf.fit(X_iris, y_iris)\n",
    "non_nested_score = clf.best_score_"
   ],
   "id": "feb5e09bf701ac7b",
   "outputs": [],
   "execution_count": 4
  },
  {
   "metadata": {},
   "cell_type": "markdown",
   "source": "# Nested Cross-Validation",
   "id": "5da36b584f8cdce3"
  },
  {
   "metadata": {},
   "cell_type": "markdown",
   "source": "We use nested cross-validation to estimate the generalization error of the model and its hyperparameters. In the inner loop, we perform a grid search to find the best hyperparameters for each training set. In the outer loop, we evaluate the performance of the model on the test set.",
   "id": "fd694aad4915e356"
  },
  {
   "metadata": {
    "ExecuteTime": {
     "end_time": "2025-09-21T06:02:11.109683Z",
     "start_time": "2025-09-21T06:02:09.561706Z"
    }
   },
   "cell_type": "code",
   "source": [
    "from sklearn.model_selection import KFold, cross_val_score\n",
    "import numpy as np\n",
    "# number of random trials\n",
    "NUM_TRIALS = 30\n",
    "\n",
    "# Arrays to store scores\n",
    "non_nested_scores = np.zeros(NUM_TRIALS)\n",
    "nested_scores = np.zeros(NUM_TRIALS)\n",
    "\n",
    "# Loop for each trial\n",
    "for i in range(NUM_TRIALS):\n",
    "    # Choose cross-validation techniques for the inner and outer loops,\n",
    "    # independetly of the dataset.\n",
    "    inner_cv = KFold(n_splits=4, shuffle=True, random_state=i)\n",
    "    outer_cv = KFold(n_splits=4, shuffle=True, random_state=i)\n",
    "\n",
    "    # Nested CV with parameter optimization\n",
    "    clf = GridSearchCV(svm, param_grid=p_grid, cv=inner_cv)\n",
    "    nested_score = cross_val_score(clf, X=X_iris, y=y_iris, cv=outer_cv)\n",
    "    nested_scores[i] = nested_score.mean()\n",
    "\n",
    "score_difference = non_nested_scores - nested_scores.mean()"
   ],
   "id": "75805354aa6a6f97",
   "outputs": [],
   "execution_count": 5
  },
  {
   "metadata": {},
   "cell_type": "markdown",
   "source": "# Visualize the Results",
   "id": "c595d4a6076644d4"
  },
  {
   "metadata": {},
   "cell_type": "markdown",
   "source": "We visualize the results of the non-nested and nested cross-validation using a bar chart.",
   "id": "15f752e523bf1fc3"
  },
  {
   "metadata": {
    "ExecuteTime": {
     "end_time": "2025-09-21T06:02:56.765914Z",
     "start_time": "2025-09-21T06:02:56.384808Z"
    }
   },
   "cell_type": "code",
   "source": [
    "from matplotlib import pyplot as plt\n",
    "\n",
    "# Plot bar chart of the difference.\n",
    "plt.bar([\"Non-Nested\", \"Nested\"], [non_nested_score, nested_scores.mean()])\n",
    "plt.ylim([0.9, 1.0])\n",
    "plt.ylabel(\"Score\")\n",
    "plt.title(\"Non-Nested and Nested Cross-Validation Scores\")\n",
    "plt.show()"
   ],
   "id": "8aa5b19089a21e75",
   "outputs": [
    {
     "data": {
      "text/plain": [
       "<Figure size 640x480 with 1 Axes>"
      ],
      "image/png": "[encoded data removed]"
     },
     "metadata": {},
     "output_type": "display_data"
    }
   ],
   "execution_count": 6
  },
  {
   "metadata": {},
   "cell_type": "markdown",
   "source": "# Summary",
   "id": "e84ec06969635fa8"
  },
  {
   "metadata": {},
   "cell_type": "markdown",
   "source": "Nested cross-validation is a powerful technique to estimate the generalization error of a model and its hyperparameters. It can help prevent overfitting and ensure that the model performs well on new data. In this tutorial, we compared non-nested and nested cross-validation on a support vector classifier model using the iris dataset. We visualized the difference in performance between the two methods using a bar chart.",
   "id": "45fa3b7239a4708b"
  },
  {
   "metadata": {},
   "cell_type": "code",
   "outputs": [],
   "execution_count": null,
   "source": "",
   "id": "d0b3f1476bbf21a1"
  }
 ],
 "metadata": {
  "kernelspec": {
   "display_name": "Python 3",
   "language": "python",
   "name": "python3"
  },
  "language_info": {
   "codemirror_mode": {
    "name": "ipython",
    "version": 2
   },
   "file_extension": ".py",
   "mimetype": "text/x-python",
   "name": "python",
   "nbconvert_exporter": "python",
   "pygments_lexer": "ipython2",
   "version": "2.7.6"
  }
 },
 "nbformat": 4,
 "nbformat_minor": 5
}
