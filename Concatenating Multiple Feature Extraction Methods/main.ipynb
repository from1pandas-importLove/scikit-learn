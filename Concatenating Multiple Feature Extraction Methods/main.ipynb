{
 "cells": [
  {
   "metadata": {},
   "cell_type": "markdown",
   "source": "# Introduction",
   "id": "6ca840889220d466"
  },
  {
   "metadata": {},
   "cell_type": "markdown",
   "source": "In this lab, we will learn how to concatenate multiple feature extraction methods using Python's scikit-learn library. We will use the **FeatureUnion** transformer to combine features obtained by PCA and univariate selection. Combining features using this transformer has the benefit that it allows cross-validation and grid searches over the whole process.",
   "id": "21496927aa69c0d2"
  },
  {
   "metadata": {},
   "cell_type": "markdown",
   "source": "# Import Libraries",
   "id": "f300dc2772aa91d5"
  },
  {
   "cell_type": "code",
   "id": "initial_id",
   "metadata": {
    "collapsed": true,
    "ExecuteTime": {
     "end_time": "2025-06-15T04:28:01.628612Z",
     "start_time": "2025-06-15T04:27:52.553557Z"
    }
   },
   "source": [
    "from sklearn.pipeline import Pipeline, FeatureUnion\n",
    "from sklearn.model_selection import GridSearchCV\n",
    "from sklearn.svm import SVC\n",
    "from sklearn.datasets import load_iris\n",
    "from sklearn.decomposition import PCA\n",
    "from sklearn.feature_selection import SelectKBest"
   ],
   "outputs": [],
   "execution_count": 1
  },
  {
   "metadata": {},
   "cell_type": "markdown",
   "source": "# Load the Dataset",
   "id": "59a55cd17616ffb5"
  },
  {
   "metadata": {},
   "cell_type": "markdown",
   "source": "Next, we will load the iris dataset using the **load_iris** function.",
   "id": "92c8a73d4b680a36"
  },
  {
   "metadata": {
    "ExecuteTime": {
     "end_time": "2025-06-15T04:28:40.604012Z",
     "start_time": "2025-06-15T04:28:40.520947Z"
    }
   },
   "cell_type": "code",
   "source": [
    "iris = load_iris()\n",
    "\n",
    "X, y = iris.data, iris.target"
   ],
   "id": "c6bcadf4b499d16d",
   "outputs": [],
   "execution_count": 2
  },
  {
   "metadata": {},
   "cell_type": "markdown",
   "source": "# Feature Extraction",
   "id": "284bad2e20ab0fee"
  },
  {
   "metadata": {},
   "cell_type": "markdown",
   "source": "Since the iris dataset is high-dimensional, we will perform feature extraction using PCA and univariate selection.",
   "id": "7044830ad1ae3ca2"
  },
  {
   "metadata": {},
   "cell_type": "markdown",
   "source": "# PCA",
   "id": "3ab3cc24d31fdf2a"
  },
  {
   "metadata": {},
   "cell_type": "markdown",
   "source": "We will use PCA to reduce the dimensionality of the dataset.",
   "id": "6c2a0c220a15b283"
  },
  {
   "metadata": {
    "ExecuteTime": {
     "end_time": "2025-06-15T04:29:33.250456Z",
     "start_time": "2025-06-15T04:29:33.246416Z"
    }
   },
   "cell_type": "code",
   "source": "pca = PCA(n_components=2)",
   "id": "5bb516d1cbf280cd",
   "outputs": [],
   "execution_count": 3
  },
  {
   "metadata": {},
   "cell_type": "markdown",
   "source": "# Univariate Selection",
   "id": "95da639016e73d0e"
  },
  {
   "metadata": {},
   "cell_type": "markdown",
   "source": "We will use univariate selection to select the most significant features.",
   "id": "c163f396fcf6d36d"
  },
  {
   "metadata": {
    "ExecuteTime": {
     "end_time": "2025-06-15T04:30:09.156007Z",
     "start_time": "2025-06-15T04:30:09.151077Z"
    }
   },
   "cell_type": "code",
   "source": "selection = SelectKBest(k=1)",
   "id": "1ec26497d904a75",
   "outputs": [],
   "execution_count": 4
  },
  {
   "metadata": {},
   "cell_type": "markdown",
   "source": "# Combined Features",
   "id": "11b3a271b6e95312"
  },
  {
   "metadata": {},
   "cell_type": "markdown",
   "source": "We will combine the features obtained from PCA and univariate selection using the **FeatureUnion transformer**.",
   "id": "b18e903436fb9cf7"
  },
  {
   "metadata": {
    "ExecuteTime": {
     "end_time": "2025-06-15T04:31:33.459794Z",
     "start_time": "2025-06-15T04:31:33.455269Z"
    }
   },
   "cell_type": "code",
   "source": [
    "combined_features = FeatureUnion([\n",
    "    ('pca', pca),\n",
    "    ('univ_select', selection),\n",
    "])"
   ],
   "id": "71b58db556cea90b",
   "outputs": [],
   "execution_count": 5
  },
  {
   "metadata": {},
   "cell_type": "markdown",
   "source": "# Transformed Dataset",
   "id": "852b69ed54fc5e8c"
  },
  {
   "metadata": {},
   "cell_type": "markdown",
   "source": "We will use the combined features to transform the dataset.",
   "id": "4fab1f0ae5e0001e"
  },
  {
   "metadata": {
    "ExecuteTime": {
     "end_time": "2025-06-15T04:32:40.386336Z",
     "start_time": "2025-06-15T04:32:40.366921Z"
    }
   },
   "cell_type": "code",
   "source": [
    "X_features = combined_features.fit(X, y).transform(X)\n",
    "print('Combined space has', X_features.shape[1], 'features')"
   ],
   "id": "57b66e4be41b4b30",
   "outputs": [
    {
     "name": "stdout",
     "output_type": "stream",
     "text": [
      "Combined space has 3 features\n"
     ]
    }
   ],
   "execution_count": 6
  },
  {
   "metadata": {},
   "cell_type": "markdown",
   "source": "# Model Training",
   "id": "633a0ad473d81cd3"
  },
  {
   "metadata": {},
   "cell_type": "markdown",
   "source": "We will train a support vector machine (SVM) model using the transformed dataset.",
   "id": "715cb23d4b498e39"
  },
  {
   "metadata": {
    "ExecuteTime": {
     "end_time": "2025-06-15T05:21:34.601186Z",
     "start_time": "2025-06-15T05:21:34.591668Z"
    }
   },
   "cell_type": "code",
   "source": "svm = SVC(kernel='linear')",
   "id": "12590088f3e87385",
   "outputs": [],
   "execution_count": 8
  },
  {
   "metadata": {},
   "cell_type": "markdown",
   "source": "# Grid Search",
   "id": "3e7cc614095b9799"
  },
  {
   "metadata": {},
   "cell_type": "markdown",
   "source": "We will perform a grid search over the hyperparameters of the pipeline using GridSearchCV.",
   "id": "cd1977a7462ee6cf"
  },
  {
   "metadata": {
    "ExecuteTime": {
     "end_time": "2025-06-15T05:23:51.425732Z",
     "start_time": "2025-06-15T05:23:50.300532Z"
    }
   },
   "cell_type": "code",
   "source": [
    "pipeline = Pipeline([(\"features\", combined_features), (\"svm\", svm)])\n",
    "\n",
    "param_grid = dict(\n",
    "    features__pca__n_components=[1, 2, 3],\n",
    "    features__univ_select__k=[1, 2],\n",
    "    svm__C=[0.1, 1, 10],\n",
    ")\n",
    "\n",
    "grid_search = GridSearchCV(pipeline, param_grid=param_grid, verbose=10)\n",
    "grid_search.fit(X, y)\n",
    "print(grid_search.best_estimator_)"
   ],
   "id": "a957a74ee58ab091",
   "outputs": [
    {
     "name": "stdout",
     "output_type": "stream",
     "text": [
      "Fitting 5 folds for each of 18 candidates, totalling 90 fits\n",
      "[CV 1/5; 1/18] START features__pca__n_components=1, features__univ_select__k=1, svm__C=0.1\n",
      "[CV 1/5; 1/18] END features__pca__n_components=1, features__univ_select__k=1, svm__C=0.1;, score=0.933 total time=   0.0s\n",
      "[CV 2/5; 1/18] START features__pca__n_components=1, features__univ_select__k=1, svm__C=0.1\n",
      "[CV 2/5; 1/18] END features__pca__n_components=1, features__univ_select__k=1, svm__C=0.1;, score=0.933 total time=   0.0s\n",
      "[CV 3/5; 1/18] START features__pca__n_components=1, features__univ_select__k=1, svm__C=0.1\n",
      "[CV 3/5; 1/18] END features__pca__n_components=1, features__univ_select__k=1, svm__C=0.1;, score=0.867 total time=   0.0s\n",
      "[CV 4/5; 1/18] START features__pca__n_components=1, features__univ_select__k=1, svm__C=0.1\n",
      "[CV 4/5; 1/18] END features__pca__n_components=1, features__univ_select__k=1, svm__C=0.1;, score=0.933 total time=   0.0s\n",
      "[CV 5/5; 1/18] START features__pca__n_components=1, features__univ_select__k=1, svm__C=0.1\n",
      "[CV 5/5; 1/18] END features__pca__n_components=1, features__univ_select__k=1, svm__C=0.1;, score=1.000 total time=   0.0s\n",
      "[CV 1/5; 2/18] START features__pca__n_components=1, features__univ_select__k=1, svm__C=1\n",
      "[CV 1/5; 2/18] END features__pca__n_components=1, features__univ_select__k=1, svm__C=1;, score=0.900 total time=   0.0s\n",
      "[CV 2/5; 2/18] START features__pca__n_components=1, features__univ_select__k=1, svm__C=1\n",
      "[CV 2/5; 2/18] END features__pca__n_components=1, features__univ_select__k=1, svm__C=1;, score=1.000 total time=   0.0s\n",
      "[CV 3/5; 2/18] START features__pca__n_components=1, features__univ_select__k=1, svm__C=1\n",
      "[CV 3/5; 2/18] END features__pca__n_components=1, features__univ_select__k=1, svm__C=1;, score=0.867 total time=   0.0s\n",
      "[CV 4/5; 2/18] START features__pca__n_components=1, features__univ_select__k=1, svm__C=1\n",
      "[CV 4/5; 2/18] END features__pca__n_components=1, features__univ_select__k=1, svm__C=1;, score=0.933 total time=   0.0s\n",
      "[CV 5/5; 2/18] START features__pca__n_components=1, features__univ_select__k=1, svm__C=1\n",
      "[CV 5/5; 2/18] END features__pca__n_components=1, features__univ_select__k=1, svm__C=1;, score=1.000 total time=   0.0s\n",
      "[CV 1/5; 3/18] START features__pca__n_components=1, features__univ_select__k=1, svm__C=10\n",
      "[CV 1/5; 3/18] END features__pca__n_components=1, features__univ_select__k=1, svm__C=10;, score=0.933 total time=   0.0s\n",
      "[CV 2/5; 3/18] START features__pca__n_components=1, features__univ_select__k=1, svm__C=10\n",
      "[CV 2/5; 3/18] END features__pca__n_components=1, features__univ_select__k=1, svm__C=10;, score=1.000 total time=   0.0s\n",
      "[CV 3/5; 3/18] START features__pca__n_components=1, features__univ_select__k=1, svm__C=10\n",
      "[CV 3/5; 3/18] END features__pca__n_components=1, features__univ_select__k=1, svm__C=10;, score=0.900 total time=   0.0s\n",
      "[CV 4/5; 3/18] START features__pca__n_components=1, features__univ_select__k=1, svm__C=10\n",
      "[CV 4/5; 3/18] END features__pca__n_components=1, features__univ_select__k=1, svm__C=10;, score=0.933 total time=   0.0s\n",
      "[CV 5/5; 3/18] START features__pca__n_components=1, features__univ_select__k=1, svm__C=10\n",
      "[CV 5/5; 3/18] END features__pca__n_components=1, features__univ_select__k=1, svm__C=10;, score=1.000 total time=   0.0s\n",
      "[CV 1/5; 4/18] START features__pca__n_components=1, features__univ_select__k=2, svm__C=0.1\n",
      "[CV 1/5; 4/18] END features__pca__n_components=1, features__univ_select__k=2, svm__C=0.1;, score=0.933 total time=   0.0s\n",
      "[CV 2/5; 4/18] START features__pca__n_components=1, features__univ_select__k=2, svm__C=0.1\n",
      "[CV 2/5; 4/18] END features__pca__n_components=1, features__univ_select__k=2, svm__C=0.1;, score=0.967 total time=   0.0s\n",
      "[CV 3/5; 4/18] START features__pca__n_components=1, features__univ_select__k=2, svm__C=0.1\n",
      "[CV 3/5; 4/18] END features__pca__n_components=1, features__univ_select__k=2, svm__C=0.1;, score=0.933 total time=   0.0s\n",
      "[CV 4/5; 4/18] START features__pca__n_components=1, features__univ_select__k=2, svm__C=0.1\n",
      "[CV 4/5; 4/18] END features__pca__n_components=1, features__univ_select__k=2, svm__C=0.1;, score=0.933 total time=   0.0s\n",
      "[CV 5/5; 4/18] START features__pca__n_components=1, features__univ_select__k=2, svm__C=0.1\n",
      "[CV 5/5; 4/18] END features__pca__n_components=1, features__univ_select__k=2, svm__C=0.1;, score=1.000 total time=   0.0s\n",
      "[CV 1/5; 5/18] START features__pca__n_components=1, features__univ_select__k=2, svm__C=1\n",
      "[CV 1/5; 5/18] END features__pca__n_components=1, features__univ_select__k=2, svm__C=1;, score=0.933 total time=   0.0s\n",
      "[CV 2/5; 5/18] START features__pca__n_components=1, features__univ_select__k=2, svm__C=1\n",
      "[CV 2/5; 5/18] END features__pca__n_components=1, features__univ_select__k=2, svm__C=1;, score=0.967 total time=   0.0s\n",
      "[CV 3/5; 5/18] START features__pca__n_components=1, features__univ_select__k=2, svm__C=1\n",
      "[CV 3/5; 5/18] END features__pca__n_components=1, features__univ_select__k=2, svm__C=1;, score=0.933 total time=   0.0s\n",
      "[CV 4/5; 5/18] START features__pca__n_components=1, features__univ_select__k=2, svm__C=1\n",
      "[CV 4/5; 5/18] END features__pca__n_components=1, features__univ_select__k=2, svm__C=1;, score=0.933 total time=   0.0s\n",
      "[CV 5/5; 5/18] START features__pca__n_components=1, features__univ_select__k=2, svm__C=1\n",
      "[CV 5/5; 5/18] END features__pca__n_components=1, features__univ_select__k=2, svm__C=1;, score=1.000 total time=   0.0s\n",
      "[CV 1/5; 6/18] START features__pca__n_components=1, features__univ_select__k=2, svm__C=10\n",
      "[CV 1/5; 6/18] END features__pca__n_components=1, features__univ_select__k=2, svm__C=10;, score=0.967 total time=   0.0s\n",
      "[CV 2/5; 6/18] START features__pca__n_components=1, features__univ_select__k=2, svm__C=10\n",
      "[CV 2/5; 6/18] END features__pca__n_components=1, features__univ_select__k=2, svm__C=10;, score=0.967 total time=   0.0s\n",
      "[CV 3/5; 6/18] START features__pca__n_components=1, features__univ_select__k=2, svm__C=10\n",
      "[CV 3/5; 6/18] END features__pca__n_components=1, features__univ_select__k=2, svm__C=10;, score=0.933 total time=   0.0s\n",
      "[CV 4/5; 6/18] START features__pca__n_components=1, features__univ_select__k=2, svm__C=10\n",
      "[CV 4/5; 6/18] END features__pca__n_components=1, features__univ_select__k=2, svm__C=10;, score=0.933 total time=   0.0s\n",
      "[CV 5/5; 6/18] START features__pca__n_components=1, features__univ_select__k=2, svm__C=10\n",
      "[CV 5/5; 6/18] END features__pca__n_components=1, features__univ_select__k=2, svm__C=10;, score=1.000 total time=   0.0s\n",
      "[CV 1/5; 7/18] START features__pca__n_components=2, features__univ_select__k=1, svm__C=0.1\n",
      "[CV 1/5; 7/18] END features__pca__n_components=2, features__univ_select__k=1, svm__C=0.1;, score=0.933 total time=   0.0s\n",
      "[CV 2/5; 7/18] START features__pca__n_components=2, features__univ_select__k=1, svm__C=0.1\n",
      "[CV 2/5; 7/18] END features__pca__n_components=2, features__univ_select__k=1, svm__C=0.1;, score=1.000 total time=   0.0s\n",
      "[CV 3/5; 7/18] START features__pca__n_components=2, features__univ_select__k=1, svm__C=0.1\n",
      "[CV 3/5; 7/18] END features__pca__n_components=2, features__univ_select__k=1, svm__C=0.1;, score=0.867 total time=   0.0s\n",
      "[CV 4/5; 7/18] START features__pca__n_components=2, features__univ_select__k=1, svm__C=0.1\n",
      "[CV 4/5; 7/18] END features__pca__n_components=2, features__univ_select__k=1, svm__C=0.1;, score=0.933 total time=   0.0s\n",
      "[CV 5/5; 7/18] START features__pca__n_components=2, features__univ_select__k=1, svm__C=0.1\n",
      "[CV 5/5; 7/18] END features__pca__n_components=2, features__univ_select__k=1, svm__C=0.1;, score=1.000 total time=   0.0s\n",
      "[CV 1/5; 8/18] START features__pca__n_components=2, features__univ_select__k=1, svm__C=1\n",
      "[CV 1/5; 8/18] END features__pca__n_components=2, features__univ_select__k=1, svm__C=1;, score=0.967 total time=   0.0s\n",
      "[CV 2/5; 8/18] START features__pca__n_components=2, features__univ_select__k=1, svm__C=1\n",
      "[CV 2/5; 8/18] END features__pca__n_components=2, features__univ_select__k=1, svm__C=1;, score=1.000 total time=   0.0s\n",
      "[CV 3/5; 8/18] START features__pca__n_components=2, features__univ_select__k=1, svm__C=1\n",
      "[CV 3/5; 8/18] END features__pca__n_components=2, features__univ_select__k=1, svm__C=1;, score=0.933 total time=   0.0s\n",
      "[CV 4/5; 8/18] START features__pca__n_components=2, features__univ_select__k=1, svm__C=1\n",
      "[CV 4/5; 8/18] END features__pca__n_components=2, features__univ_select__k=1, svm__C=1;, score=0.933 total time=   0.0s\n",
      "[CV 5/5; 8/18] START features__pca__n_components=2, features__univ_select__k=1, svm__C=1\n",
      "[CV 5/5; 8/18] END features__pca__n_components=2, features__univ_select__k=1, svm__C=1;, score=1.000 total time=   0.0s\n",
      "[CV 1/5; 9/18] START features__pca__n_components=2, features__univ_select__k=1, svm__C=10\n",
      "[CV 1/5; 9/18] END features__pca__n_components=2, features__univ_select__k=1, svm__C=10;, score=0.967 total time=   0.0s\n",
      "[CV 2/5; 9/18] START features__pca__n_components=2, features__univ_select__k=1, svm__C=10\n",
      "[CV 2/5; 9/18] END features__pca__n_components=2, features__univ_select__k=1, svm__C=10;, score=0.967 total time=   0.0s\n",
      "[CV 3/5; 9/18] START features__pca__n_components=2, features__univ_select__k=1, svm__C=10\n",
      "[CV 3/5; 9/18] END features__pca__n_components=2, features__univ_select__k=1, svm__C=10;, score=0.900 total time=   0.0s\n",
      "[CV 4/5; 9/18] START features__pca__n_components=2, features__univ_select__k=1, svm__C=10\n",
      "[CV 4/5; 9/18] END features__pca__n_components=2, features__univ_select__k=1, svm__C=10;, score=0.933 total time=   0.0s\n",
      "[CV 5/5; 9/18] START features__pca__n_components=2, features__univ_select__k=1, svm__C=10\n",
      "[CV 5/5; 9/18] END features__pca__n_components=2, features__univ_select__k=1, svm__C=10;, score=1.000 total time=   0.0s\n",
      "[CV 1/5; 10/18] START features__pca__n_components=2, features__univ_select__k=2, svm__C=0.1\n",
      "[CV 1/5; 10/18] END features__pca__n_components=2, features__univ_select__k=2, svm__C=0.1;, score=0.967 total time=   0.0s\n",
      "[CV 2/5; 10/18] START features__pca__n_components=2, features__univ_select__k=2, svm__C=0.1\n",
      "[CV 2/5; 10/18] END features__pca__n_components=2, features__univ_select__k=2, svm__C=0.1;, score=1.000 total time=   0.0s\n",
      "[CV 3/5; 10/18] START features__pca__n_components=2, features__univ_select__k=2, svm__C=0.1\n",
      "[CV 3/5; 10/18] END features__pca__n_components=2, features__univ_select__k=2, svm__C=0.1;, score=0.933 total time=   0.0s\n",
      "[CV 4/5; 10/18] START features__pca__n_components=2, features__univ_select__k=2, svm__C=0.1\n",
      "[CV 4/5; 10/18] END features__pca__n_components=2, features__univ_select__k=2, svm__C=0.1;, score=0.933 total time=   0.0s\n",
      "[CV 5/5; 10/18] START features__pca__n_components=2, features__univ_select__k=2, svm__C=0.1\n",
      "[CV 5/5; 10/18] END features__pca__n_components=2, features__univ_select__k=2, svm__C=0.1;, score=1.000 total time=   0.0s\n",
      "[CV 1/5; 11/18] START features__pca__n_components=2, features__univ_select__k=2, svm__C=1\n",
      "[CV 1/5; 11/18] END features__pca__n_components=2, features__univ_select__k=2, svm__C=1;, score=0.967 total time=   0.0s\n",
      "[CV 2/5; 11/18] START features__pca__n_components=2, features__univ_select__k=2, svm__C=1\n",
      "[CV 2/5; 11/18] END features__pca__n_components=2, features__univ_select__k=2, svm__C=1;, score=1.000 total time=   0.0s\n",
      "[CV 3/5; 11/18] START features__pca__n_components=2, features__univ_select__k=2, svm__C=1\n",
      "[CV 3/5; 11/18] END features__pca__n_components=2, features__univ_select__k=2, svm__C=1;, score=0.933 total time=   0.0s\n",
      "[CV 4/5; 11/18] START features__pca__n_components=2, features__univ_select__k=2, svm__C=1\n",
      "[CV 4/5; 11/18] END features__pca__n_components=2, features__univ_select__k=2, svm__C=1;, score=0.967 total time=   0.0s\n",
      "[CV 5/5; 11/18] START features__pca__n_components=2, features__univ_select__k=2, svm__C=1\n",
      "[CV 5/5; 11/18] END features__pca__n_components=2, features__univ_select__k=2, svm__C=1;, score=1.000 total time=   0.0s\n",
      "[CV 1/5; 12/18] START features__pca__n_components=2, features__univ_select__k=2, svm__C=10\n",
      "[CV 1/5; 12/18] END features__pca__n_components=2, features__univ_select__k=2, svm__C=10;, score=0.967 total time=   0.0s\n",
      "[CV 2/5; 12/18] START features__pca__n_components=2, features__univ_select__k=2, svm__C=10\n",
      "[CV 2/5; 12/18] END features__pca__n_components=2, features__univ_select__k=2, svm__C=10;, score=1.000 total time=   0.0s\n",
      "[CV 3/5; 12/18] START features__pca__n_components=2, features__univ_select__k=2, svm__C=10\n",
      "[CV 3/5; 12/18] END features__pca__n_components=2, features__univ_select__k=2, svm__C=10;, score=0.900 total time=   0.0s\n",
      "[CV 4/5; 12/18] START features__pca__n_components=2, features__univ_select__k=2, svm__C=10\n",
      "[CV 4/5; 12/18] END features__pca__n_components=2, features__univ_select__k=2, svm__C=10;, score=0.933 total time=   0.0s\n",
      "[CV 5/5; 12/18] START features__pca__n_components=2, features__univ_select__k=2, svm__C=10\n",
      "[CV 5/5; 12/18] END features__pca__n_components=2, features__univ_select__k=2, svm__C=10;, score=1.000 total time=   0.0s\n",
      "[CV 1/5; 13/18] START features__pca__n_components=3, features__univ_select__k=1, svm__C=0.1\n",
      "[CV 1/5; 13/18] END features__pca__n_components=3, features__univ_select__k=1, svm__C=0.1;, score=0.967 total time=   0.0s\n",
      "[CV 2/5; 13/18] START features__pca__n_components=3, features__univ_select__k=1, svm__C=0.1\n",
      "[CV 2/5; 13/18] END features__pca__n_components=3, features__univ_select__k=1, svm__C=0.1;, score=1.000 total time=   0.0s\n",
      "[CV 3/5; 13/18] START features__pca__n_components=3, features__univ_select__k=1, svm__C=0.1\n",
      "[CV 3/5; 13/18] END features__pca__n_components=3, features__univ_select__k=1, svm__C=0.1;, score=0.933 total time=   0.0s\n",
      "[CV 4/5; 13/18] START features__pca__n_components=3, features__univ_select__k=1, svm__C=0.1\n",
      "[CV 4/5; 13/18] END features__pca__n_components=3, features__univ_select__k=1, svm__C=0.1;, score=0.967 total time=   0.0s\n",
      "[CV 5/5; 13/18] START features__pca__n_components=3, features__univ_select__k=1, svm__C=0.1\n",
      "[CV 5/5; 13/18] END features__pca__n_components=3, features__univ_select__k=1, svm__C=0.1;, score=1.000 total time=   0.0s\n",
      "[CV 1/5; 14/18] START features__pca__n_components=3, features__univ_select__k=1, svm__C=1\n",
      "[CV 1/5; 14/18] END features__pca__n_components=3, features__univ_select__k=1, svm__C=1;, score=0.967 total time=   0.0s\n",
      "[CV 2/5; 14/18] START features__pca__n_components=3, features__univ_select__k=1, svm__C=1\n",
      "[CV 2/5; 14/18] END features__pca__n_components=3, features__univ_select__k=1, svm__C=1;, score=1.000 total time=   0.0s\n",
      "[CV 3/5; 14/18] START features__pca__n_components=3, features__univ_select__k=1, svm__C=1\n",
      "[CV 3/5; 14/18] END features__pca__n_components=3, features__univ_select__k=1, svm__C=1;, score=0.933 total time=   0.0s\n",
      "[CV 4/5; 14/18] START features__pca__n_components=3, features__univ_select__k=1, svm__C=1\n",
      "[CV 4/5; 14/18] END features__pca__n_components=3, features__univ_select__k=1, svm__C=1;, score=0.967 total time=   0.0s\n",
      "[CV 5/5; 14/18] START features__pca__n_components=3, features__univ_select__k=1, svm__C=1\n",
      "[CV 5/5; 14/18] END features__pca__n_components=3, features__univ_select__k=1, svm__C=1;, score=1.000 total time=   0.0s\n",
      "[CV 1/5; 15/18] START features__pca__n_components=3, features__univ_select__k=1, svm__C=10\n",
      "[CV 1/5; 15/18] END features__pca__n_components=3, features__univ_select__k=1, svm__C=10;, score=1.000 total time=   0.0s\n",
      "[CV 2/5; 15/18] START features__pca__n_components=3, features__univ_select__k=1, svm__C=10\n",
      "[CV 2/5; 15/18] END features__pca__n_components=3, features__univ_select__k=1, svm__C=10;, score=1.000 total time=   0.0s\n",
      "[CV 3/5; 15/18] START features__pca__n_components=3, features__univ_select__k=1, svm__C=10\n",
      "[CV 3/5; 15/18] END features__pca__n_components=3, features__univ_select__k=1, svm__C=10;, score=0.933 total time=   0.0s\n",
      "[CV 4/5; 15/18] START features__pca__n_components=3, features__univ_select__k=1, svm__C=10\n",
      "[CV 4/5; 15/18] END features__pca__n_components=3, features__univ_select__k=1, svm__C=10;, score=0.967 total time=   0.0s\n",
      "[CV 5/5; 15/18] START features__pca__n_components=3, features__univ_select__k=1, svm__C=10\n",
      "[CV 5/5; 15/18] END features__pca__n_components=3, features__univ_select__k=1, svm__C=10;, score=1.000 total time=   0.0s\n",
      "[CV 1/5; 16/18] START features__pca__n_components=3, features__univ_select__k=2, svm__C=0.1\n",
      "[CV 1/5; 16/18] END features__pca__n_components=3, features__univ_select__k=2, svm__C=0.1;, score=0.967 total time=   0.0s\n",
      "[CV 2/5; 16/18] START features__pca__n_components=3, features__univ_select__k=2, svm__C=0.1\n",
      "[CV 2/5; 16/18] END features__pca__n_components=3, features__univ_select__k=2, svm__C=0.1;, score=1.000 total time=   0.0s\n",
      "[CV 3/5; 16/18] START features__pca__n_components=3, features__univ_select__k=2, svm__C=0.1\n",
      "[CV 3/5; 16/18] END features__pca__n_components=3, features__univ_select__k=2, svm__C=0.1;, score=0.933 total time=   0.0s\n",
      "[CV 4/5; 16/18] START features__pca__n_components=3, features__univ_select__k=2, svm__C=0.1\n",
      "[CV 4/5; 16/18] END features__pca__n_components=3, features__univ_select__k=2, svm__C=0.1;, score=0.967 total time=   0.0s\n",
      "[CV 5/5; 16/18] START features__pca__n_components=3, features__univ_select__k=2, svm__C=0.1\n",
      "[CV 5/5; 16/18] END features__pca__n_components=3, features__univ_select__k=2, svm__C=0.1;, score=1.000 total time=   0.0s\n",
      "[CV 1/5; 17/18] START features__pca__n_components=3, features__univ_select__k=2, svm__C=1\n",
      "[CV 1/5; 17/18] END features__pca__n_components=3, features__univ_select__k=2, svm__C=1;, score=0.967 total time=   0.0s\n",
      "[CV 2/5; 17/18] START features__pca__n_components=3, features__univ_select__k=2, svm__C=1\n",
      "[CV 2/5; 17/18] END features__pca__n_components=3, features__univ_select__k=2, svm__C=1;, score=1.000 total time=   0.0s\n",
      "[CV 3/5; 17/18] START features__pca__n_components=3, features__univ_select__k=2, svm__C=1\n",
      "[CV 3/5; 17/18] END features__pca__n_components=3, features__univ_select__k=2, svm__C=1;, score=0.967 total time=   0.0s\n",
      "[CV 4/5; 17/18] START features__pca__n_components=3, features__univ_select__k=2, svm__C=1\n",
      "[CV 4/5; 17/18] END features__pca__n_components=3, features__univ_select__k=2, svm__C=1;, score=0.967 total time=   0.0s\n",
      "[CV 5/5; 17/18] START features__pca__n_components=3, features__univ_select__k=2, svm__C=1\n",
      "[CV 5/5; 17/18] END features__pca__n_components=3, features__univ_select__k=2, svm__C=1;, score=1.000 total time=   0.0s\n",
      "[CV 1/5; 18/18] START features__pca__n_components=3, features__univ_select__k=2, svm__C=10\n",
      "[CV 1/5; 18/18] END features__pca__n_components=3, features__univ_select__k=2, svm__C=10;, score=1.000 total time=   0.0s\n",
      "[CV 2/5; 18/18] START features__pca__n_components=3, features__univ_select__k=2, svm__C=10\n",
      "[CV 2/5; 18/18] END features__pca__n_components=3, features__univ_select__k=2, svm__C=10;, score=1.000 total time=   0.0s\n",
      "[CV 3/5; 18/18] START features__pca__n_components=3, features__univ_select__k=2, svm__C=10\n",
      "[CV 3/5; 18/18] END features__pca__n_components=3, features__univ_select__k=2, svm__C=10;, score=0.900 total time=   0.0s\n",
      "[CV 4/5; 18/18] START features__pca__n_components=3, features__univ_select__k=2, svm__C=10\n",
      "[CV 4/5; 18/18] END features__pca__n_components=3, features__univ_select__k=2, svm__C=10;, score=0.967 total time=   0.0s\n",
      "[CV 5/5; 18/18] START features__pca__n_components=3, features__univ_select__k=2, svm__C=10\n",
      "[CV 5/5; 18/18] END features__pca__n_components=3, features__univ_select__k=2, svm__C=10;, score=1.000 total time=   0.0s\n",
      "Pipeline(steps=[('features',\n",
      "                 FeatureUnion(transformer_list=[('pca', PCA(n_components=3)),\n",
      "                                                ('univ_select',\n",
      "                                                 SelectKBest(k=1))])),\n",
      "                ('svm', SVC(C=10, kernel='linear'))])\n"
     ]
    }
   ],
   "execution_count": 10
  },
  {
   "metadata": {},
   "cell_type": "markdown",
   "source": "# Summary",
   "id": "27506cd48a1f4541"
  },
  {
   "metadata": {},
   "cell_type": "markdown",
   "source": "In this lab, we learned how to concatenate multiple feature extraction methods using Python's scikit-learn library. We used the **FeatureUnion** transformer to combine features obtained by PCA and univariate selection. We also trained a support vector machine (SVM) model and performed a grid search over the hyperparameters of the pipeline.",
   "id": "50e48931cc73b476"
  },
  {
   "metadata": {},
   "cell_type": "code",
   "outputs": [],
   "execution_count": null,
   "source": "",
   "id": "b34ed15eee58832e"
  }
 ],
 "metadata": {
  "kernelspec": {
   "display_name": "Python 3",
   "language": "python",
   "name": "python3"
  },
  "language_info": {
   "codemirror_mode": {
    "name": "ipython",
    "version": 2
   },
   "file_extension": ".py",
   "mimetype": "text/x-python",
   "name": "python",
   "nbconvert_exporter": "python",
   "pygments_lexer": "ipython2",
   "version": "2.7.6"
  }
 },
 "nbformat": 4,
 "nbformat_minor": 5
}
