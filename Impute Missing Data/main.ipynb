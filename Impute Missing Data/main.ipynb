{
 "cells": [
  {
   "metadata": {},
   "cell_type": "markdown",
   "source": "# Introduction",
   "id": "de830431fb25a4"
  },
  {
   "metadata": {},
   "cell_type": "markdown",
   "source": "This lab demonstrates how to impute missing data in a dataset using different techniques in scikit-learn. The dataset used here are the diabetes dataset with 10 features and California housing dataset with 8 features. The missing values can be replaced by the mean, the median, or the most frequent value using SimpleImputer. This lab will investigate different imputation techniques like imputation by the constant value, imputation by the mean value of each feature combined with a missing-ness indicator auxiliary variable, k nearest neighbor imputation, and iterative imputation.",
   "id": "54b05c6a610e55cc"
  },
  {
   "metadata": {},
   "cell_type": "markdown",
   "source": "# Download Data and Create Missing Values Sets",
   "id": "1a22f4834a0d9279"
  },
  {
   "metadata": {},
   "cell_type": "markdown",
   "source": "First, the two datasets are downloaded. We will only use the first 300 entries for the California housing dataset for the sake of speeding up the calculations. Then we will remove some values to create new versions with artificially missing data.",
   "id": "273cbefac9a72889"
  },
  {
   "cell_type": "code",
   "id": "initial_id",
   "metadata": {
    "collapsed": true,
    "ExecuteTime": {
     "end_time": "2025-06-18T05:42:44.169104Z",
     "start_time": "2025-06-18T05:42:44.148651Z"
    }
   },
   "source": [
    "import numpy as np\n",
    "\n",
    "from sklearn.datasets import fetch_california_housing, load_diabetes\n",
    "\n",
    "rng = np.random.RandomState(42)\n",
    "\n",
    "X_diabetes, y_diabetes = load_diabetes(return_X_y=True)\n",
    "X_california, y_california = fetch_california_housing(return_X_y=True)\n",
    "X_california = X_california[:300]\n",
    "y_california = y_california[:300]\n",
    "X_diabetes = X_diabetes[:300]\n",
    "y_diabetes = y_diabetes[:300]\n",
    "\n",
    "\n",
    "def add_missing_values(X_full, y_full):\n",
    "    n_samples, n_features = X_full.shape\n",
    "\n",
    "    # Add missing values in 75% of the lines\n",
    "    missing_rate = 0.75\n",
    "    n_missing_samples = int(n_samples * missing_rate)\n",
    "\n",
    "    missing_samples = np.zeros(n_samples, dtype=bool)\n",
    "    missing_samples[:n_missing_samples] = True\n",
    "\n",
    "    rng.shuffle(missing_samples)\n",
    "    missing_features = rng.randint(0, n_features, n_missing_samples)\n",
    "    X_missing = X_full.copy()\n",
    "    X_missing[missing_samples, missing_features] = np.nan\n",
    "    y_missing = y_full.copy()\n",
    "\n",
    "    return X_missing, y_missing\n",
    "\n",
    "\n",
    "X_miss_california, y_miss_california = add_missing_values(X_california, y_california)\n",
    "\n",
    "X_miss_diabetes, y_miss_diabetes = add_missing_values(X_diabetes, y_diabetes)"
   ],
   "outputs": [],
   "execution_count": 84
  },
  {
   "metadata": {},
   "cell_type": "markdown",
   "source": "# Impute Missing Data and Score",
   "id": "9c5aeddcd2d69b56"
  },
  {
   "metadata": {},
   "cell_type": "markdown",
   "source": "Now we will write a function which will score the results on the differently imputed data. Let's look at each imputer separately:",
   "id": "2dae70544ec3d351"
  },
  {
   "metadata": {
    "ExecuteTime": {
     "end_time": "2025-06-18T05:42:44.832960Z",
     "start_time": "2025-06-18T05:42:44.826199Z"
    }
   },
   "cell_type": "code",
   "source": [
    "rng = np.random.RandomState(0)\n",
    "\n",
    "from sklearn.ensemble import RandomForestRegressor\n",
    "\n",
    "# To use the experimental IterativeImputer, we need to explicitly ask for it:\n",
    "from sklearn.experimental import enable_iterative_imputer  # noqa: F401\n",
    "from sklearn.impute import IterativeImputer, KNNImputer, SimpleImputer\n",
    "from sklearn.model_selection import cross_val_score\n",
    "from sklearn.pipeline import make_pipeline\n",
    "\n",
    "N_SPLITS = 4\n",
    "regressor = RandomForestRegressor(random_state=0)\n",
    "\n",
    "def get_scores_for_imputer(imputer, X_missing, y_missing):\n",
    "    estimator = make_pipeline(imputer, regressor)\n",
    "    impute_scores = cross_val_score(\n",
    "        estimator, X_missing, y_missing, scoring=\"neg_mean_squared_error\", cv=N_SPLITS\n",
    "    )\n",
    "    return impute_scores\n",
    "\n",
    "\n",
    "x_labels = []\n",
    "\n",
    "mses_california = np.zeros(6)\n",
    "stds_california = np.zeros(6)\n",
    "mses_diabetes = np.zeros(6)\n",
    "stds_diabetes = np.zeros(6)"
   ],
   "id": "7e73aab83daeb7ee",
   "outputs": [],
   "execution_count": 85
  },
  {
   "metadata": {},
   "cell_type": "markdown",
   "source": "# Estimate the Score",
   "id": "a06633c20510f0d9"
  },
  {
   "metadata": {},
   "cell_type": "markdown",
   "source": "First, we want to estimate the score on the original data:",
   "id": "caeeb1ea22ecce3b"
  },
  {
   "metadata": {
    "ExecuteTime": {
     "end_time": "2025-06-18T05:42:45.883899Z",
     "start_time": "2025-06-18T05:42:45.317285Z"
    }
   },
   "cell_type": "code",
   "source": [
    "def get_full_score(X_full, y_full):\n",
    "    full_scores = cross_val_score(\n",
    "        regressor, X_full, y_full, scoring=\"neg_mean_squared_error\", cv=N_SPLITS\n",
    "    )\n",
    "    return full_scores.mean(), full_scores.std()\n",
    "\n",
    "\n",
    "mses_california[0], stds_california[0] = get_full_score(X_california, y_california)\n",
    "mses_diabetes[0], stds_diabetes[0] = get_full_score(X_diabetes, y_diabetes)\n",
    "x_labels.append(\"Full data\")"
   ],
   "id": "c4c982d66fa6e821",
   "outputs": [],
   "execution_count": 86
  },
  {
   "metadata": {},
   "cell_type": "markdown",
   "source": "# Replace Missing Values by 0",
   "id": "3038f7e522200c7e"
  },
  {
   "metadata": {},
   "cell_type": "markdown",
   "source": "Now we will estimate the score on the data where the missing values are replaced by 0:",
   "id": "df6f14c2f942d48a"
  },
  {
   "metadata": {
    "ExecuteTime": {
     "end_time": "2025-06-18T05:42:46.503267Z",
     "start_time": "2025-06-18T05:42:45.896356Z"
    }
   },
   "cell_type": "code",
   "source": [
    "def get_impute_zero_score(X_missing, y_missing):\n",
    "    imputer = SimpleImputer(\n",
    "        missing_values=np.nan, add_indicator=True, strategy=\"constant\", fill_value=0\n",
    "    )\n",
    "    zero_impute_scores = get_scores_for_imputer(imputer, X_missing, y_missing)\n",
    "    return zero_impute_scores.mean(), zero_impute_scores.std()\n",
    "\n",
    "\n",
    "mses_california[1], stds_california[1] = get_impute_zero_score(\n",
    "    X_miss_california, y_miss_california\n",
    ")\n",
    "mses_diabetes[1], stds_diabetes[1] = get_impute_zero_score(\n",
    "    X_miss_diabetes, y_miss_diabetes\n",
    ")\n",
    "x_labels.append(\"Zero imputation\")"
   ],
   "id": "efa4842f91040e12",
   "outputs": [],
   "execution_count": 87
  },
  {
   "metadata": {},
   "cell_type": "markdown",
   "source": "# KNN-Imputation of the Missing Values",
   "id": "7f0938538fdd8175"
  },
  {
   "metadata": {},
   "cell_type": "markdown",
   "source": "KNNImputer imputes missing values using the weighted or unweighted mean of the desired number of nearest neighbors.",
   "id": "bbee40be6f1c658"
  },
  {
   "metadata": {
    "ExecuteTime": {
     "end_time": "2025-06-18T05:42:47.164717Z",
     "start_time": "2025-06-18T05:42:46.511680Z"
    }
   },
   "cell_type": "code",
   "source": [
    "def get_impute_knn_score(X_missing, y_missing):\n",
    "    imputer = KNNImputer(missing_values=np.nan, add_indicator=True)\n",
    "    knn_impute_scores = get_scores_for_imputer(imputer, X_missing, y_missing)\n",
    "    return knn_impute_scores.mean(), knn_impute_scores.std()\n",
    "\n",
    "\n",
    "mses_california[2], stds_california[2] = get_impute_knn_score(\n",
    "    X_miss_california, y_miss_california\n",
    ")\n",
    "mses_diabetes[2], stds_diabetes[2] = get_impute_knn_score(\n",
    "    X_miss_diabetes, y_miss_diabetes\n",
    ")\n",
    "x_labels.append(\"KNN Imputation\")"
   ],
   "id": "178c5ae27c9da015",
   "outputs": [],
   "execution_count": 88
  },
  {
   "metadata": {},
   "cell_type": "markdown",
   "source": "# Impute Missing Values with Mean",
   "id": "58aca01015df64a8"
  },
  {
   "metadata": {
    "ExecuteTime": {
     "end_time": "2025-06-18T05:42:47.792166Z",
     "start_time": "2025-06-18T05:42:47.175275Z"
    }
   },
   "cell_type": "code",
   "source": [
    "def get_impute_mean(X_missing, y_missing):\n",
    "    imputer = SimpleImputer(missing_values=np.nan, strategy=\"mean\", add_indicator=True)\n",
    "    mean_impute_scores = get_scores_for_imputer(imputer, X_missing, y_missing)\n",
    "    return mean_impute_scores.mean(), mean_impute_scores.std()\n",
    "\n",
    "\n",
    "mses_california[3], stds_california[3] = get_impute_mean(\n",
    "    X_miss_california, y_miss_california\n",
    ")\n",
    "mses_diabetes[3], stds_diabetes[3] = get_impute_mean(X_miss_diabetes, y_miss_diabetes)\n",
    "x_labels.append(\"Mean Imputation\")"
   ],
   "id": "2711913b0df1f81d",
   "outputs": [],
   "execution_count": 89
  },
  {
   "metadata": {},
   "cell_type": "markdown",
   "source": "# Iterative Imputation of the Missing Values",
   "id": "a40d467800546775"
  },
  {
   "metadata": {},
   "cell_type": "markdown",
   "source": "Another option is the IterativeImputer. This uses round-robin linear regression, modeling each feature with missing values as a function of other features, in turn. The version implemented assumes Gaussian (output) variables. If your features are obviously non-normal, consider transforming them to look more normal to potentially improve performance.",
   "id": "839927d61e13f3b9"
  },
  {
   "metadata": {
    "ExecuteTime": {
     "end_time": "2025-06-18T05:42:48.508270Z",
     "start_time": "2025-06-18T05:42:47.801340Z"
    }
   },
   "cell_type": "code",
   "source": [
    "def get_impute_iterative(X_missing, y_missing):\n",
    "    imputer = IterativeImputer(\n",
    "        missing_values=np.nan,\n",
    "        add_indicator=True,\n",
    "        random_state=0,\n",
    "        n_nearest_features=3,\n",
    "        max_iter=1,\n",
    "        sample_posterior=True,\n",
    "    )\n",
    "    iterative_impute_scores = get_scores_for_imputer(imputer, X_missing, y_missing)\n",
    "    return iterative_impute_scores.mean(), iterative_impute_scores.std()\n",
    "\n",
    "\n",
    "mses_california[4], stds_california[4] = get_impute_iterative(\n",
    "    X_miss_california, y_miss_california\n",
    ")\n",
    "mses_diabetes[4], stds_diabetes[4] = get_impute_iterative(\n",
    "    X_miss_diabetes, y_miss_diabetes\n",
    ")\n",
    "x_labels.append(\"Iterative Imputation\")"
   ],
   "id": "81619ed3b56f547f",
   "outputs": [],
   "execution_count": 90
  },
  {
   "metadata": {},
   "cell_type": "markdown",
   "source": "# Impute Missing Values with Median",
   "id": "f9f62a0a6a5d6230"
  },
  {
   "metadata": {
    "ExecuteTime": {
     "end_time": "2025-06-18T05:42:49.132337Z",
     "start_time": "2025-06-18T05:42:48.516502Z"
    }
   },
   "cell_type": "code",
   "source": [
    "def get_impute_median(X_missing, y_missing):\n",
    "    imputer = SimpleImputer(missing_values=np.nan, strategy=\"median\", add_indicator=True)\n",
    "    median_impute_scores = get_scores_for_imputer(imputer, X_missing, y_missing)\n",
    "    return median_impute_scores.mean(), median_impute_scores.std()\n",
    "\n",
    "\n",
    "mses_california[5], stds_california[5] = get_impute_mean(\n",
    "    X_miss_california, y_miss_california\n",
    ")\n",
    "mses_diabetes[5], stds_diabetes[5] = get_impute_mean(X_miss_diabetes, y_miss_diabetes)\n",
    "x_labels.append(\"Median Imputation\")"
   ],
   "id": "f1ec0c3b2772af6",
   "outputs": [],
   "execution_count": 91
  },
  {
   "metadata": {
    "ExecuteTime": {
     "end_time": "2025-06-18T05:42:49.142253Z",
     "start_time": "2025-06-18T05:42:49.140858Z"
    }
   },
   "cell_type": "code",
   "source": [
    "mses_diabetes = mses_diabetes * -1\n",
    "mses_california = mses_california * -1"
   ],
   "id": "25864911537ad4a5",
   "outputs": [],
   "execution_count": 92
  },
  {
   "metadata": {
    "ExecuteTime": {
     "end_time": "2025-06-18T05:42:49.152716Z",
     "start_time": "2025-06-18T05:42:49.151056Z"
    }
   },
   "cell_type": "code",
   "source": "mses_california",
   "id": "50ddd4c58af89acd",
   "outputs": [
    {
     "data": {
      "text/plain": [
       "array([0.25504414, 0.36102048, 0.29829566, 0.31871377, 0.33035362,\n",
       "       0.31871377])"
      ]
     },
     "execution_count": 93,
     "metadata": {},
     "output_type": "execute_result"
    }
   ],
   "execution_count": 93
  },
  {
   "metadata": {
    "ExecuteTime": {
     "end_time": "2025-06-18T05:42:49.168227Z",
     "start_time": "2025-06-18T05:42:49.166201Z"
    }
   },
   "cell_type": "code",
   "source": "stds_california",
   "id": "19856f960e0a9033",
   "outputs": [
    {
     "data": {
      "text/plain": [
       "array([0.13151662, 0.17692829, 0.14675823, 0.14660032, 0.13626442,\n",
       "       0.14660032])"
      ]
     },
     "execution_count": 94,
     "metadata": {},
     "output_type": "execute_result"
    }
   ],
   "execution_count": 94
  },
  {
   "metadata": {
    "ExecuteTime": {
     "end_time": "2025-06-18T05:42:52.065220Z",
     "start_time": "2025-06-18T05:42:52.054951Z"
    }
   },
   "cell_type": "code",
   "source": "mses_diabetes",
   "id": "a18ce40f3ccd6ca0",
   "outputs": [
    {
     "data": {
      "text/plain": [
       "array([3179.54716133, 3389.91018533, 3314.67311867, 3378.122649  ,\n",
       "       3410.25819867, 3378.122649  ])"
      ]
     },
     "execution_count": 95,
     "metadata": {},
     "output_type": "execute_result"
    }
   ],
   "execution_count": 95
  },
  {
   "metadata": {
    "ExecuteTime": {
     "end_time": "2025-06-18T05:42:52.585156Z",
     "start_time": "2025-06-18T05:42:52.581326Z"
    }
   },
   "cell_type": "code",
   "source": "stds_diabetes",
   "id": "9b185f93ecc099",
   "outputs": [
    {
     "data": {
      "text/plain": [
       "array([112.01121167, 234.75154497, 114.77193581, 222.53804171,\n",
       "       160.1734859 , 222.53804171])"
      ]
     },
     "execution_count": 96,
     "metadata": {},
     "output_type": "execute_result"
    }
   ],
   "execution_count": 96
  },
  {
   "metadata": {},
   "cell_type": "markdown",
   "source": "# Plot the Results",
   "id": "a30c94d14df98d8b"
  },
  {
   "metadata": {},
   "cell_type": "markdown",
   "source": "Finally, we are going to visualize the score:",
   "id": "c95bb7cdfef47851"
  },
  {
   "metadata": {
    "ExecuteTime": {
     "end_time": "2025-06-18T05:42:59.633601Z",
     "start_time": "2025-06-18T05:42:59.554071Z"
    }
   },
   "cell_type": "code",
   "source": [
    "import matplotlib.pyplot as plt\n",
    "\n",
    "n_bars = len(mses_diabetes)\n",
    "xval = np.arange(n_bars)\n",
    "\n",
    "colors = [\"r\", \"g\", \"b\", \"orange\", \"black\", 'gray']\n",
    "\n",
    "# plot diabetes results\n",
    "plt.figure(figsize=(12, 6))\n",
    "ax1 = plt.subplot(121)\n",
    "for j in xval:\n",
    "    ax1.barh(\n",
    "        j,\n",
    "        mses_diabetes[j],\n",
    "        xerr=stds_diabetes[j],\n",
    "        color=colors[j],\n",
    "        alpha=0.6,\n",
    "        align=\"center\",\n",
    "    )\n",
    "\n",
    "ax1.set_title(\"Imputation Techniques with Diabetes Data\")\n",
    "ax1.set_xlim(left=np.min(mses_diabetes) * 0.9, right=np.max(mses_diabetes) * 1.1)\n",
    "ax1.set_yticks(xval)\n",
    "ax1.set_xlabel(\"MSE\")\n",
    "ax1.invert_yaxis()\n",
    "ax1.set_yticklabels(x_labels)\n",
    "\n",
    "# plot california dataset results\n",
    "ax2 = plt.subplot(122)\n",
    "for j in xval:\n",
    "    ax2.barh(\n",
    "        j,\n",
    "        mses_california[j],\n",
    "        xerr=stds_california[j],\n",
    "        color=colors[j],\n",
    "        alpha=0.6,\n",
    "        align=\"center\",\n",
    "    )\n",
    "\n",
    "ax2.set_title(\"Imputation Techniques with California Data\")\n",
    "ax2.set_yticks(xval)\n",
    "ax2.set_xlabel(\"MSE\")\n",
    "ax2.invert_yaxis()\n",
    "ax2.set_yticklabels([\"\"] * n_bars)\n",
    "\n",
    "plt.show()"
   ],
   "id": "c5a8d88a109246e9",
   "outputs": [
    {
     "data": {
      "text/plain": [
       "<Figure size 1200x600 with 2 Axes>"
      ],
      "image/png": "[encoded data removed]"
     },
     "metadata": {},
     "output_type": "display_data"
    }
   ],
   "execution_count": 97
  },
  {
   "metadata": {},
   "cell_type": "markdown",
   "source": "# Summary",
   "id": "42ec60398b8f6f64"
  },
  {
   "metadata": {},
   "cell_type": "markdown",
   "source": "This lab demonstrates how to impute missing data in a dataset using different techniques in scikit-learn. We have used California housing dataset and the diabetes dataset to implement different techniques like imputation by the constant value, imputation by the mean value of each feature combined with a missing-ness indicator auxiliary variable, k nearest neighbor imputation, and iterative imputation. We have also visualized the scores using bar plots.",
   "id": "c89f47956283e353"
  },
  {
   "metadata": {},
   "cell_type": "code",
   "outputs": [],
   "execution_count": null,
   "source": "",
   "id": "940d8fb686d9682e"
  }
 ],
 "metadata": {
  "kernelspec": {
   "display_name": "Python 3",
   "language": "python",
   "name": "python3"
  },
  "language_info": {
   "codemirror_mode": {
    "name": "ipython",
    "version": 2
   },
   "file_extension": ".py",
   "mimetype": "text/x-python",
   "name": "python",
   "nbconvert_exporter": "python",
   "pygments_lexer": "ipython2",
   "version": "2.7.6"
  }
 },
 "nbformat": 4,
 "nbformat_minor": 5
}
