{
 "cells": [
  {
   "metadata": {},
   "cell_type": "markdown",
   "source": "# Introduction",
   "id": "44eb688f4dfd9b6a"
  },
  {
   "metadata": {},
   "cell_type": "markdown",
   "source": "This lab demonstrates how to use the Box-Cox and Yeo-Johnson transforms through PowerTransformer to map data from various distributions to a normal distribution.",
   "id": "b1417e993d51dde"
  },
  {
   "metadata": {},
   "cell_type": "markdown",
   "source": "# Import Libraries",
   "id": "c432a316587a4328"
  },
  {
   "metadata": {},
   "cell_type": "markdown",
   "source": "First, we need to import the necessary libraries: numpy, matplotlib, PowerTransformer, QuantileTransformer, and train_test_split.",
   "id": "53ef3da93eff1496"
  },
  {
   "cell_type": "code",
   "id": "initial_id",
   "metadata": {
    "collapsed": true,
    "ExecuteTime": {
     "end_time": "2025-09-30T11:21:25.474971Z",
     "start_time": "2025-09-30T11:21:23.964616Z"
    }
   },
   "source": [
    "import numpy as np\n",
    "import matplotlib.pyplot as plt\n",
    "from sklearn.preprocessing import PowerTransformer\n",
    "from sklearn.preprocessing import QuantileTransformer\n",
    "from sklearn.model_selection import train_test_split"
   ],
   "outputs": [],
   "execution_count": 1
  },
  {
   "metadata": {},
   "cell_type": "markdown",
   "source": "# Set Constants",
   "id": "fa796684fb0ebc4a"
  },
  {
   "metadata": {},
   "cell_type": "markdown",
   "source": "We will set the constants for the number of samples, font size, and bins.",
   "id": "b5dc72c1c2131f5"
  },
  {
   "metadata": {
    "ExecuteTime": {
     "end_time": "2025-09-30T11:21:50.220658Z",
     "start_time": "2025-09-30T11:21:50.214402Z"
    }
   },
   "cell_type": "code",
   "source": [
    "N_SAMPLES = 1000\n",
    "FONT_SIZE = 6\n",
    "BINS = 30"
   ],
   "id": "e6aa5f178e6eb35d",
   "outputs": [],
   "execution_count": 2
  },
  {
   "metadata": {},
   "cell_type": "markdown",
   "source": "# Create Random Distributions",
   "id": "f7b9d1610fc4252"
  },
  {
   "metadata": {},
   "cell_type": "markdown",
   "source": "We will generate six different probability distributions: Lognormal, Chi-squared, Weibull, Gaussian, Uniform, and Bimodal.",
   "id": "46c8c546b1bba90d"
  },
  {
   "metadata": {
    "ExecuteTime": {
     "end_time": "2025-09-30T11:22:24.599001Z",
     "start_time": "2025-09-30T11:22:24.584061Z"
    }
   },
   "cell_type": "code",
   "source": [
    "rng = np.random.RandomState(304)\n",
    "bc = PowerTransformer(method=\"box-cox\")\n",
    "yj = PowerTransformer(method=\"yeo-johnson\")\n",
    "qt = QuantileTransformer(n_quantiles=500, output_distribution=\"normal\", random_state=rng)\n",
    "size = (N_SAMPLES, 1)\n",
    "\n",
    "# lognormal distribution\n",
    "X_lognormal = rng.lognormal(size=size)\n",
    "\n",
    "# chi-squared distribution\n",
    "df = 3\n",
    "X_chisq = rng.chisquare(df=df, size=size)\n",
    "\n",
    "# weibull distribution\n",
    "a = 50\n",
    "X_weibull = rng.weibull(a=a, size=size)\n",
    "\n",
    "# gaussian distribution\n",
    "loc = 100\n",
    "X_gaussian = rng.normal(loc=loc, size=size)\n",
    "\n",
    "# uniform distribution\n",
    "X_uniform = rng.uniform(low=0, high=1, size=size)\n",
    "\n",
    "# bimodal distribution\n",
    "loc_a, loc_b = 100, 105\n",
    "X_a, X_b = rng.normal(loc=loc_a, size=size), rng.normal(loc=loc_b, size=size)\n",
    "X_bimodal = np.concatenate([X_a, X_b], axis=0)"
   ],
   "id": "b33eca0c4b8d376f",
   "outputs": [],
   "execution_count": 3
  },
  {
   "metadata": {},
   "cell_type": "markdown",
   "source": "# Create Plots",
   "id": "16f00bd1b8cb7ca"
  },
  {
   "metadata": {},
   "cell_type": "markdown",
   "source": "Now, we will create plots for each of the six distributions, showing the original distribution and the transformed distribution using Box-Cox, Yeo-Johnson, and Quantile Transformer.",
   "id": "716da13ee3ed8312"
  },
  {
   "metadata": {
    "ExecuteTime": {
     "end_time": "2025-09-30T11:23:13.893492Z",
     "start_time": "2025-09-30T11:23:12.889214Z"
    }
   },
   "cell_type": "code",
   "source": [
    "distributions = [\n",
    "    (\"Lognormal\", X_lognormal),\n",
    "    (\"Chi-squared\", X_chisq),\n",
    "    (\"Weibull\", X_weibull),\n",
    "    (\"Gaussian\", X_gaussian),\n",
    "    (\"Uniform\", X_uniform),\n",
    "    (\"Bimodal\", X_bimodal),\n",
    "]\n",
    "\n",
    "colors = [\"#D81B60\", \"#0188FF\", \"#FFC107\", \"#B7A2FF\", \"#000000\", \"#2EC5AC\"]\n",
    "\n",
    "fig, axes = plt.subplots(nrows=8, ncols=3, figsize=plt.figaspect(2))\n",
    "axes = axes.flatten()\n",
    "axes_idxs = [\n",
    "    (0, 3, 6, 9),\n",
    "    (1, 4, 7, 10),\n",
    "    (2, 5, 8, 11),\n",
    "    (12, 15, 18, 21),\n",
    "    (13, 16, 19, 22),\n",
    "    (14, 17, 20, 23),\n",
    "]\n",
    "axes_list = [(axes[i], axes[j], axes[k], axes[l]) for (i, j, k, l) in axes_idxs]\n",
    "\n",
    "for distribution, color, axes in zip(distributions, colors, axes_list):\n",
    "    name, X = distribution\n",
    "    X_train, X_test = train_test_split(X, test_size=0.5)\n",
    "\n",
    "    # perform power transforms and quantile transform\n",
    "    X_trans_bc = bc.fit(X_train).transform(X_test)\n",
    "    lmbda_bc = round(bc.lambdas_[0], 2)\n",
    "    X_trans_yj = yj.fit(X_train).transform(X_test)\n",
    "    lmbda_yj = round(yj.lambdas_[0], 2)\n",
    "    X_trans_qt = qt.fit(X_train).transform(X_test)\n",
    "\n",
    "    ax_original, ax_bc, ax_yj, ax_qt = axes\n",
    "\n",
    "    ax_original.hist(X_train, color=color, bins=BINS)\n",
    "    ax_original.set_title(name, fontsize=FONT_SIZE)\n",
    "    ax_original.tick_params(axis=\"both\", which=\"major\", labelsize=FONT_SIZE)\n",
    "\n",
    "    for ax, X_trans, meth_name, lmbda in zip(\n",
    "        (ax_bc, ax_yj, ax_qt),\n",
    "        (X_trans_bc, X_trans_yj, X_trans_qt),\n",
    "        (\"Box-Cox\", \"Yeo-Johnson\", \"Quantile transform\"),\n",
    "        (lmbda_bc, lmbda_yj, None),\n",
    "    ):\n",
    "        ax.hist(X_trans, color=color, bins=BINS)\n",
    "        title = \"After {}\".format(meth_name)\n",
    "        if lmbda is not None:\n",
    "            title += \"\\n$\\\\lambda$ = {}\".format(lmbda)\n",
    "        ax.set_title(title, fontsize=FONT_SIZE)\n",
    "        ax.tick_params(axis=\"both\", which=\"major\", labelsize=FONT_SIZE)\n",
    "        ax.set_xlim([-3.5, 3.5])\n",
    "\n",
    "plt.tight_layout()\n",
    "plt.show()"
   ],
   "id": "4f6681986adcea35",
   "outputs": [
    {
     "data": {
      "text/plain": [
       "<Figure size 400x800 with 24 Axes>"
      ],
      "image/png": "[encoded data removed]"
     },
     "metadata": {},
     "output_type": "display_data"
    }
   ],
   "execution_count": 4
  },
  {
   "metadata": {},
   "cell_type": "markdown",
   "source": "# Summary",
   "id": "b1e85afa37493506"
  },
  {
   "metadata": {},
   "cell_type": "markdown",
   "source": "In this lab, we learned how to use PowerTransformer to map data from various distributions to a normal distribution using Box-Cox and Yeo-Johnson transforms. We also learned how to use QuantileTransformer to force any arbitrary distribution into a Gaussian distribution. It is important to visualize the data before and after transformation, as some transformations may be ineffective with certain datasets.",
   "id": "3184f3ea4d7c6401"
  },
  {
   "metadata": {},
   "cell_type": "code",
   "outputs": [],
   "execution_count": null,
   "source": "",
   "id": "42d948c2a7838899"
  }
 ],
 "metadata": {
  "kernelspec": {
   "display_name": "Python 3",
   "language": "python",
   "name": "python3"
  },
  "language_info": {
   "codemirror_mode": {
    "name": "ipython",
    "version": 2
   },
   "file_extension": ".py",
   "mimetype": "text/x-python",
   "name": "python",
   "nbconvert_exporter": "python",
   "pygments_lexer": "ipython2",
   "version": "2.7.6"
  }
 },
 "nbformat": 4,
 "nbformat_minor": 5
}
