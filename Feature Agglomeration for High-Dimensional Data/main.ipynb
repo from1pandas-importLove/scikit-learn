{
 "cells": [
  {
   "metadata": {},
   "cell_type": "markdown",
   "source": "# Introduction",
   "id": "d851aaafb049abbf"
  },
  {
   "metadata": {},
   "cell_type": "markdown",
   "source": "This tutorial will demonstrate how to use feature agglomeration to merge similar features in a dataset. Feature agglomeration is useful when working with high-dimensional datasets by reducing the number of features while preserving the most important information.",
   "id": "ecd2853a99ae0b56"
  },
  {
   "metadata": {},
   "cell_type": "markdown",
   "source": "# Import Libraries",
   "id": "be261e4cffd0e30c"
  },
  {
   "metadata": {},
   "cell_type": "markdown",
   "source": "In this step, we will import the necessary libraries to perform feature agglomeration.",
   "id": "928f17e81e3c8d11"
  },
  {
   "cell_type": "code",
   "id": "initial_id",
   "metadata": {
    "collapsed": true,
    "ExecuteTime": {
     "end_time": "2025-10-08T20:25:39.762183Z",
     "start_time": "2025-10-08T20:25:37.619509Z"
    }
   },
   "source": [
    "import numpy as np\n",
    "import matplotlib.pyplot as plt\n",
    "\n",
    "from sklearn import datasets, cluster\n",
    "from sklearn.feature_extraction.image import grid_to_graph"
   ],
   "outputs": [],
   "execution_count": 1
  },
  {
   "metadata": {},
   "cell_type": "markdown",
   "source": "# Load Dataset",
   "id": "1758642c2e2f7b3c"
  },
  {
   "metadata": {},
   "cell_type": "markdown",
   "source": "In this step, we will load the digits dataset from scikit-learn. This dataset contains images of handwritten digits from 0 to 9.",
   "id": "ab61a079f0c6d8d"
  },
  {
   "metadata": {
    "ExecuteTime": {
     "end_time": "2025-10-08T20:26:06.272991Z",
     "start_time": "2025-10-08T20:26:06.245953Z"
    }
   },
   "cell_type": "code",
   "source": [
    "digits = datasets.load_digits()\n",
    "images = digits.images\n",
    "X = np.reshape(images, (len(images), -1))"
   ],
   "id": "dba24e27eb98e72e",
   "outputs": [],
   "execution_count": 2
  },
  {
   "metadata": {},
   "cell_type": "markdown",
   "source": "# Define Connectivity Matrix",
   "id": "72715a59bdabb693"
  },
  {
   "metadata": {},
   "cell_type": "markdown",
   "source": "In this step, we will define the connectivity matrix using the **grid_to_graph** function from scikit-learn. This function creates a connectivity graph based on the pixel grid of the images.",
   "id": "8e58b26f7f107ca2"
  },
  {
   "metadata": {
    "ExecuteTime": {
     "end_time": "2025-10-08T20:26:47.627548Z",
     "start_time": "2025-10-08T20:26:47.613341Z"
    }
   },
   "cell_type": "code",
   "source": "connectivity = grid_to_graph(*images[0].shape)",
   "id": "821852f4649f72ea",
   "outputs": [],
   "execution_count": 3
  },
  {
   "metadata": {},
   "cell_type": "markdown",
   "source": "# Perform Feature Agglomeration",
   "id": "48c4c2dd85332803"
  },
  {
   "metadata": {},
   "cell_type": "markdown",
   "source": "In this step, we will perform feature agglomeration using the **FeatureAgglomeration** class from scikit-learn. We will set the number of clusters to 32.",
   "id": "229a62e91fd2eada"
  },
  {
   "metadata": {
    "ExecuteTime": {
     "end_time": "2025-10-08T20:27:22.344894Z",
     "start_time": "2025-10-08T20:27:22.316357Z"
    }
   },
   "cell_type": "code",
   "source": [
    "agglo = cluster.FeatureAgglomeration(connectivity=connectivity, n_clusters=32)\n",
    "agglo.fit(X)\n",
    "X_reduced = agglo.transform(X)"
   ],
   "id": "9bde35229c0cf",
   "outputs": [],
   "execution_count": 4
  },
  {
   "metadata": {},
   "cell_type": "markdown",
   "source": "# Inverse Transform",
   "id": "aef871aeea441b24"
  },
  {
   "metadata": {},
   "cell_type": "markdown",
   "source": "In this step, we will perform an inverse transform on the reduced dataset to restore the original number of features.",
   "id": "3c665d16cc26d9dd"
  },
  {
   "metadata": {
    "ExecuteTime": {
     "end_time": "2025-10-08T20:27:46.202668Z",
     "start_time": "2025-10-08T20:27:46.185647Z"
    }
   },
   "cell_type": "code",
   "source": [
    "X_restored = agglo.inverse_transform(X_reduced)\n",
    "images_restored = np.reshape(X_restored, images.shape)"
   ],
   "id": "bd0b012931dea9b8",
   "outputs": [],
   "execution_count": 5
  },
  {
   "metadata": {},
   "cell_type": "markdown",
   "source": "# Visualize Results",
   "id": "c9db85a5d66ba04"
  },
  {
   "metadata": {},
   "cell_type": "markdown",
   "source": "In this step, we will visualize the original images, the agglomerated images, and the labels assigned to each cluster.",
   "id": "1a4deef0aee3253f"
  },
  {
   "metadata": {
    "ExecuteTime": {
     "end_time": "2025-10-08T20:28:06.419168Z",
     "start_time": "2025-10-08T20:28:06.081650Z"
    }
   },
   "cell_type": "code",
   "source": [
    "plt.figure(1, figsize=(4, 3.5))\n",
    "plt.clf()\n",
    "plt.subplots_adjust(left=0.01, right=0.99, bottom=0.01, top=0.91)\n",
    "for i in range(4):\n",
    "    plt.subplot(3, 4, i + 1)\n",
    "    plt.imshow(images[i], cmap=plt.cm.gray, vmax=16, interpolation=\"nearest\")\n",
    "    plt.xticks(())\n",
    "    plt.yticks(())\n",
    "    if i == 1:\n",
    "        plt.title(\"Original data\")\n",
    "    plt.subplot(3, 4, 4 + i + 1)\n",
    "    plt.imshow(images_restored[i], cmap=plt.cm.gray, vmax=16, interpolation=\"nearest\")\n",
    "    if i == 1:\n",
    "        plt.title(\"Agglomerated data\")\n",
    "    plt.xticks(())\n",
    "    plt.yticks(())\n",
    "\n",
    "plt.subplot(3, 4, 10)\n",
    "plt.imshow(\n",
    "    np.reshape(agglo.labels_, images[0].shape),\n",
    "    interpolation=\"nearest\",\n",
    "    cmap=plt.cm.nipy_spectral,\n",
    ")\n",
    "plt.xticks(())\n",
    "plt.yticks(())\n",
    "plt.title(\"Labels\")\n",
    "plt.show()"
   ],
   "id": "da478ac48d44c143",
   "outputs": [
    {
     "data": {
      "text/plain": [
       "<Figure size 400x350 with 9 Axes>"
      ],
      "image/png": "[encoded data removed]"
     },
     "metadata": {},
     "output_type": "display_data"
    }
   ],
   "execution_count": 6
  },
  {
   "metadata": {},
   "cell_type": "markdown",
   "source": "# Summary",
   "id": "5e94e25967f2d725"
  },
  {
   "metadata": {},
   "cell_type": "markdown",
   "source": "In this tutorial, we have learned how to use feature agglomeration to merge similar features in a dataset. By reducing the number of features, we can improve the performance of machine learning algorithms while preserving the most important information in the dataset.",
   "id": "3b8c446a47275db0"
  },
  {
   "metadata": {},
   "cell_type": "code",
   "outputs": [],
   "execution_count": null,
   "source": "",
   "id": "5bcc8325260c9f58"
  }
 ],
 "metadata": {
  "kernelspec": {
   "display_name": "Python 3",
   "language": "python",
   "name": "python3"
  },
  "language_info": {
   "codemirror_mode": {
    "name": "ipython",
    "version": 2
   },
   "file_extension": ".py",
   "mimetype": "text/x-python",
   "name": "python",
   "nbconvert_exporter": "python",
   "pygments_lexer": "ipython2",
   "version": "2.7.6"
  }
 },
 "nbformat": 4,
 "nbformat_minor": 5
}
