{
 "cells": [
  {
   "metadata": {},
   "cell_type": "markdown",
   "source": "# Introduction",
   "id": "3e8b3e49348ba6a7"
  },
  {
   "metadata": {},
   "cell_type": "markdown",
   "source": "This lab illustrates the effect of varying threshold on self-training. The **breast_cancer** dataset is loaded, and labels are deleted such that only 50 out of 569 samples have labels. A **SelfTrainingClassifier** is fitted on this dataset, with varying thresholds.",
   "id": "e4bc8555e4365b89"
  },
  {
   "metadata": {},
   "cell_type": "markdown",
   "source": "# Import Libraries",
   "id": "35a39cc1e86c9d46"
  },
  {
   "cell_type": "code",
   "id": "initial_id",
   "metadata": {
    "collapsed": true,
    "ExecuteTime": {
     "end_time": "2025-06-26T16:46:47.789606Z",
     "start_time": "2025-06-26T16:46:46.356564Z"
    }
   },
   "source": [
    "import numpy as np\n",
    "import matplotlib.pyplot as plt\n",
    "from sklearn import datasets\n",
    "from sklearn.svm import SVC\n",
    "from sklearn.model_selection import StratifiedKFold\n",
    "from sklearn.semi_supervised import SelfTrainingClassifier\n",
    "from sklearn.metrics import accuracy_score\n",
    "from sklearn.utils import shuffle"
   ],
   "outputs": [],
   "execution_count": 1
  },
  {
   "metadata": {},
   "cell_type": "markdown",
   "source": "# Load Data",
   "id": "767c7e9b80e353b1"
  },
  {
   "metadata": {
    "ExecuteTime": {
     "end_time": "2025-06-26T16:53:47.961136Z",
     "start_time": "2025-06-26T16:53:47.943787Z"
    }
   },
   "cell_type": "code",
   "source": [
    "n_splits = 3\n",
    "\n",
    "X, y = datasets.load_breast_cancer(return_X_y=True)\n",
    "X, y = shuffle(X, y, random_state=42)\n",
    "y_true = y.copy()\n",
    "y[50:] = -1\n",
    "total_samples = y.shape[0]"
   ],
   "id": "798833878eaee7a",
   "outputs": [],
   "execution_count": 7
  },
  {
   "metadata": {},
   "cell_type": "markdown",
   "source": "The **breast_cancer** dataset is loaded and shuffled. We then copy the true labels to **y_true**, and remove all labels except for the first 50 samples from **y**. This will be used to simulate a semi-supervised learning scenario.",
   "id": "4f6c5c1cf6f73fc1"
  },
  {
   "metadata": {},
   "cell_type": "markdown",
   "source": "# Define Classifier",
   "id": "43fa5beab6ac288d"
  },
  {
   "metadata": {
    "ExecuteTime": {
     "end_time": "2025-06-26T16:49:56.232841Z",
     "start_time": "2025-06-26T16:49:56.226448Z"
    }
   },
   "cell_type": "code",
   "source": "base_classifier = SVC(probability=True, gamma=0.001, random_state=42)",
   "id": "acbd159eb59215d6",
   "outputs": [],
   "execution_count": 3
  },
  {
   "metadata": {},
   "cell_type": "markdown",
   "source": "We define our base classifier as a Support Vector Machine (SVM) with a low gamma value of 0.001.",
   "id": "747273aa91bcf4d1"
  },
  {
   "metadata": {},
   "cell_type": "markdown",
   "source": "# Define Threshold Values",
   "id": "7ca76d150371cc0b"
  },
  {
   "metadata": {
    "ExecuteTime": {
     "end_time": "2025-06-26T16:52:01.756330Z",
     "start_time": "2025-06-26T16:52:01.744516Z"
    }
   },
   "cell_type": "code",
   "source": [
    "x_values = np.arange(0.4, 1.05, 0.05)\n",
    "x_values = np.append(x_values, 0.99999)\n",
    "x_values"
   ],
   "id": "bab8ff987305bca7",
   "outputs": [
    {
     "data": {
      "text/plain": [
       "array([0.4    , 0.45   , 0.5    , 0.55   , 0.6    , 0.65   , 0.7    ,\n",
       "       0.75   , 0.8    , 0.85   , 0.9    , 0.95   , 1.     , 0.99999])"
      ]
     },
     "execution_count": 6,
     "metadata": {},
     "output_type": "execute_result"
    }
   ],
   "execution_count": 6
  },
  {
   "metadata": {},
   "cell_type": "markdown",
   "source": "We define an array of threshold values ranging from 0.4 to 1, with steps of 0.05. We then append a very high threshold value of 0.99999 to ensure that we include a threshold value that will not result in any self-labeled samples.",
   "id": "a29410877be1d93"
  },
  {
   "metadata": {},
   "cell_type": "markdown",
   "source": "# Define Arrays for Results",
   "id": "b3720e46dc2d98c0"
  },
  {
   "metadata": {
    "ExecuteTime": {
     "end_time": "2025-06-26T16:53:51.694193Z",
     "start_time": "2025-06-26T16:53:51.691845Z"
    }
   },
   "cell_type": "code",
   "source": [
    "scores = np.empty((x_values.shape[0], n_splits))\n",
    "amount_labeled = np.empty((x_values.shape[0], n_splits))\n",
    "amount_iterations = np.empty((x_values.shape[0], n_splits))"
   ],
   "id": "6692fdc5c4685cfc",
   "outputs": [],
   "execution_count": 8
  },
  {
   "metadata": {},
   "cell_type": "markdown",
   "source": "# Self-training with Varying Threshold",
   "id": "7a63ee6184b96132"
  },
  {
   "metadata": {
    "ExecuteTime": {
     "end_time": "2025-06-26T16:58:38.975721Z",
     "start_time": "2025-06-26T16:58:37.379170Z"
    }
   },
   "cell_type": "code",
   "source": [
    "for i, threshold in enumerate(x_values):\n",
    "    self_training_clf = SelfTrainingClassifier(base_classifier, threshold=threshold)\n",
    "\n",
    "    skfolds = StratifiedKFold(n_splits=n_splits)\n",
    "    for fold, (train_index, test_index) in enumerate(skfolds.split(X, y)):\n",
    "        X_train = X[train_index]\n",
    "        y_train = y[train_index]\n",
    "        X_test = X[test_index]\n",
    "        y_test = y[test_index]\n",
    "        y_test_true = y_true[test_index]\n",
    "\n",
    "        self_training_clf.fit(X_train, y_train)\n",
    "\n",
    "        amount_labeled[i, fold] = (\n",
    "            total_samples\n",
    "            - np.unique(self_training_clf.labeled_iter_, return_counts=True)[1][0]\n",
    "        )\n",
    "\n",
    "        amount_iterations[i, fold] = np.max(self_training_clf.labeled_iter_)\n",
    "\n",
    "        y_pred = self_training_clf.predict(X_test)\n",
    "        scores[i, fold] = accuracy_score(y_test_true, y_pred)"
   ],
   "id": "4a27aaced3e5d7bb",
   "outputs": [],
   "execution_count": 10
  },
  {
   "metadata": {},
   "cell_type": "markdown",
   "source": "We perform self-training with varying thresholds, using our base classifier and the **SelfTrainingClassifier** class from scikit-learn. We use stratified k-fold cross-validation to split our data into train and test sets. We then fit the self-training classifier on the training set, and calculate the accuracy of the classifier on the test set. We also store the amount of labeled samples and the iteration number for each fold.",
   "id": "70ae9471c6647b94"
  },
  {
   "metadata": {},
   "cell_type": "markdown",
   "source": "# Visualize Results",
   "id": "58f36b52d7e93edf"
  },
  {
   "metadata": {
    "ExecuteTime": {
     "end_time": "2025-06-26T16:59:36.102269Z",
     "start_time": "2025-06-26T16:59:35.926024Z"
    }
   },
   "cell_type": "code",
   "source": [
    "ax1 = plt.subplot(211)\n",
    "ax1.errorbar(\n",
    "    x_values, scores.mean(axis=1), yerr=scores.std(axis=1), capsize=2, color=\"b\"\n",
    ")\n",
    "ax1.set_ylabel(\"Accuracy\", color=\"b\")\n",
    "ax1.tick_params(\"y\", colors=\"b\")\n",
    "\n",
    "ax2 = ax1.twinx()\n",
    "ax2.errorbar(\n",
    "    x_values,\n",
    "    amount_labeled.mean(axis=1),\n",
    "    yerr=amount_labeled.std(axis=1),\n",
    "    capsize=2,\n",
    "    color=\"g\",\n",
    ")\n",
    "ax2.set_ylim(bottom=0)\n",
    "ax2.set_ylabel(\"Amount of labeled samples\", color=\"g\")\n",
    "ax2.tick_params(\"y\", colors=\"g\")\n",
    "\n",
    "ax3 = plt.subplot(212, sharex=ax1)\n",
    "ax3.errorbar(\n",
    "    x_values,\n",
    "    amount_iterations.mean(axis=1),\n",
    "    yerr=amount_iterations.std(axis=1),\n",
    "    capsize=2,\n",
    "    color=\"b\",\n",
    ")\n",
    "ax3.set_ylim(bottom=0)\n",
    "ax3.set_ylabel(\"Amount of iterations\")\n",
    "ax3.set_xlabel(\"Threshold\")\n",
    "\n",
    "plt.show()"
   ],
   "id": "ce4e33ee592ed8d3",
   "outputs": [
    {
     "data": {
      "text/plain": [
       "<Figure size 640x480 with 3 Axes>"
      ],
      "image/png": "[encoded data removed]"
     },
     "metadata": {},
     "output_type": "display_data"
    }
   ],
   "execution_count": 11
  },
  {
   "metadata": {},
   "cell_type": "markdown",
   "source": "We plot the results of our experiment using Matplotlib. The upper graph shows the amount of labeled samples that the classifier has available by the end of fit, and the accuracy of the classifier. The lower graph shows the last iteration in which a sample was labeled.",
   "id": "eeadcb30b3fa664"
  },
  {
   "metadata": {},
   "cell_type": "markdown",
   "source": "# Summary",
   "id": "3bd5359463a9249c"
  },
  {
   "metadata": {},
   "cell_type": "markdown",
   "source": "In this lab, we learned how to perform self-training with varying threshold values using scikit-learn. We saw that the optimal threshold value lies in between very low and very high thresholds, and that choosing an appropriate threshold value can result in significant improvements in accuracy.",
   "id": "87f6cc313d3e57cd"
  },
  {
   "metadata": {},
   "cell_type": "code",
   "outputs": [],
   "execution_count": null,
   "source": "",
   "id": "df73d8d577093afb"
  }
 ],
 "metadata": {
  "kernelspec": {
   "display_name": "Python 3",
   "language": "python",
   "name": "python3"
  },
  "language_info": {
   "codemirror_mode": {
    "name": "ipython",
    "version": 2
   },
   "file_extension": ".py",
   "mimetype": "text/x-python",
   "name": "python",
   "nbconvert_exporter": "python",
   "pygments_lexer": "ipython2",
   "version": "2.7.6"
  }
 },
 "nbformat": 4,
 "nbformat_minor": 5
}
